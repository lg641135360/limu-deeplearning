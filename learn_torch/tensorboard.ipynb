{
 "cells": [
  {
   "cell_type": "markdown",
   "metadata": {},
   "source": [
    "## Tensorboard\n",
    "随时查看当前训练情况（loss曲线等各种指标正常不）"
   ]
  },
  {
   "cell_type": "markdown",
   "metadata": {},
   "source": []
  }
 ],
 "metadata": {
  "kernelspec": {
   "display_name": "Python 3.9.12 ('torch11')",
   "language": "python",
   "name": "python3"
  },
  "language_info": {
   "name": "python",
   "version": "3.9.12"
  },
  "orig_nbformat": 4,
  "vscode": {
   "interpreter": {
    "hash": "339bc8e327a29e7530a3afca55f49aa9b2fd907b59ea34c809fc650ec7e7b773"
   }
  }
 },
 "nbformat": 4,
 "nbformat_minor": 2
}
