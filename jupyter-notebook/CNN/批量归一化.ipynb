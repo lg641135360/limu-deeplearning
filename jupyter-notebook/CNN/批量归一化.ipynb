{
 "cells": [
  {
   "cell_type": "markdown",
   "id": "801d247d-d22b-4416-9db4-b6a9fe935433",
   "metadata": {},
   "source": [
    "#### 批量归一化\n",
    "从零实现"
   ]
  },
  {
   "cell_type": "code",
   "execution_count": 2,
   "id": "8233fb67-68ad-4e6c-8ec8-d98a264bca69",
   "metadata": {},
   "outputs": [],
   "source": [
    "import torch\n",
    "from torch import nn\n",
    "from d2l import torch as d2l\n",
    "\n",
    "def batch_norm(X, gamma, beta, moving_mean, moving_var, eps, momentum):\n",
    "    if not torch.is_grad_enabled():\n",
    "        X_hat = (X - moving_mean) / torch.sqrt(moving_var + eps)\n",
    "    else:\n",
    "        assert len(X.shape) in (2, 4)\n",
    "        if len(X.shape) == 2:\n",
    "            mean = X.mean(dim=0)\n",
    "            var = ((X - mean)**2).mean(dim=0)\n",
    "        else:\n",
    "            mean = X.mean(dim=(0, 2, 3), keepdim=True)\n",
    "            var = ((X - mean)**2).mean(dim=(0, 2, 3), keepdim=True)\n",
    "        X_hat = (X - mean) / torch.sqrt(var + eps)\n",
    "        moving_mean = momentum * moving_mean + (1.0 - momentum) * mean\n",
    "        moving_var = momentum * moving_var + (1.0 - momentum) * var\n",
    "    Y = gamma * X_hat + beta\n",
    "    return Y, moving_mean.data, moving_var.data"
   ]
  },
  {
   "cell_type": "markdown",
   "id": "633d1b97-3477-4349-a306-0a082e881e02",
   "metadata": {},
   "source": [
    "#### 创建一个正确的 BatchNorm 图层"
   ]
  },
  {
   "cell_type": "code",
   "execution_count": 3,
   "id": "2a972988-d063-4073-8dd1-4c3768891cdc",
   "metadata": {},
   "outputs": [],
   "source": [
    "class BatchNorm(nn.Module):\n",
    "    def __init__(self, num_features, num_dims):\n",
    "        super().__init__()\n",
    "        if num_dims == 2:\n",
    "            shape = (1, num_features)\n",
    "        else:\n",
    "            shape = (1, num_features, 1, 1)\n",
    "        self.gamma = nn.Parameter(torch.ones(shape))\n",
    "        self.beta = nn.Parameter(torch.zeros(shape))\n",
    "        self.moving_mean = torch.zeros(shape)\n",
    "        self.moving_var = torch.ones(shape)\n",
    "\n",
    "    def forward(self, X):\n",
    "        if self.moving_mean.device != X.device:\n",
    "            self.moving_mean = self.moving_mean.to(X.device)\n",
    "            self.moving_var = self.moving_var.to(X.device)\n",
    "        Y, self.moving_mean, self.moving_var = batch_norm(\n",
    "            X, self.gamma, self.beta, self.moving_mean, self.moving_var,\n",
    "            eps=1e-5, momentum=0.9)\n",
    "        return Y"
   ]
  },
  {
   "cell_type": "markdown",
   "id": "0856bb43-ef94-4d8f-bbb2-797bd0b5d826",
   "metadata": {},
   "source": [
    "#### 应用BatchNorm 于LeNet模型"
   ]
  },
  {
   "cell_type": "code",
   "execution_count": 4,
   "id": "9de56834-40bb-4e36-90a1-792e7a6bf700",
   "metadata": {},
   "outputs": [],
   "source": [
    "net = nn.Sequential(nn.Conv2d(1, 6, kernel_size=5), BatchNorm(6, num_dims=4),\n",
    "                    nn.Sigmoid(), nn.MaxPool2d(kernel_size=2, stride=2),\n",
    "                    nn.Conv2d(6, 16,\n",
    "                              kernel_size=5), BatchNorm(16, num_dims=4),\n",
    "                    nn.Sigmoid(), nn.MaxPool2d(kernel_size=2, stride=2),\n",
    "                    nn.Flatten(), nn.Linear(16 * 4 * 4, 120),\n",
    "                    BatchNorm(120, num_dims=2), nn.Sigmoid(),\n",
    "                    nn.Linear(120, 84), BatchNorm(84, num_dims=2),\n",
    "                    nn.Sigmoid(), nn.Linear(84, 10))"
   ]
  },
  {
   "cell_type": "code",
   "execution_count": 5,
   "id": "d9b4d193-418a-467f-b56a-47320800a9be",
   "metadata": {},
   "outputs": [],
   "source": [
    "#### 在Fashion-MNIST数据集上训练网络"
   ]
  },
  {
   "cell_type": "code",
   "execution_count": 6,
   "id": "7ee65105-cce8-4a5e-b86c-0943c03f1e6e",
   "metadata": {},
   "outputs": [
    {
     "name": "stdout",
     "output_type": "stream",
     "text": [
      "loss 0.246, train acc 0.908, test acc 0.874\n",
      "48070.9 examples/sec on cuda:0\n"
     ]
    }
   ],
   "source": [
    "lr, num_epochs, batch_size = 1.0, 10, 256\n",
    "train_iter, test_iter = d2l.load_data_fashion_mnist(batch_size)\n",
    "d2l.train_ch6(net, train_iter, test_iter, num_epochs, lr, d2l.try_gpu())"
   ]
  },
  {
   "cell_type": "markdown",
   "id": "af43e992-3bfd-402f-90f2-265c77b7e5e7",
   "metadata": {},
   "source": [
    "#### 拉伸参数 gamma 和偏移参数 beta"
   ]
  },
  {
   "cell_type": "code",
   "execution_count": 7,
   "id": "f6e56bc8-d87b-4bbd-84a8-7f978ca83d70",
   "metadata": {},
   "outputs": [
    {
     "data": {
      "text/plain": [
       "(tensor([1.5528, 1.4211, 2.1260, 1.7368, 1.8801, 2.0094], device='cuda:0',\n",
       "        grad_fn=<ViewBackward>),\n",
       " tensor([ 0.2582, -1.4432, -0.1195,  1.6344, -2.2822,  0.1744], device='cuda:0',\n",
       "        grad_fn=<ViewBackward>))"
      ]
     },
     "execution_count": 7,
     "metadata": {},
     "output_type": "execute_result"
    }
   ],
   "source": [
    "net[1].gamma.reshape((-1,)), net[1].beta.reshape((-1,))"
   ]
  },
  {
   "cell_type": "markdown",
   "id": "2c53e86b-37c6-47f1-8137-f9b44c429265",
   "metadata": {},
   "source": [
    "#### 简明实现"
   ]
  },
  {
   "cell_type": "code",
   "execution_count": 8,
   "id": "88082a6f-c22d-414e-80d7-35300845065f",
   "metadata": {},
   "outputs": [],
   "source": [
    "net = nn.Sequential(nn.Conv2d(1, 6, kernel_size=5), nn.BatchNorm2d(6),\n",
    "                    nn.Sigmoid(), nn.MaxPool2d(kernel_size=2, stride=2),\n",
    "                    nn.Conv2d(6, 16, kernel_size=5), nn.BatchNorm2d(16),\n",
    "                    nn.Sigmoid(), nn.MaxPool2d(kernel_size=2, stride=2),\n",
    "                    nn.Flatten(), nn.Linear(256, 120), nn.BatchNorm1d(120),\n",
    "                    nn.Sigmoid(), nn.Linear(120, 84), nn.BatchNorm1d(84),\n",
    "                    nn.Sigmoid(), nn.Linear(84, 10))"
   ]
  },
  {
   "cell_type": "markdown",
   "id": "63570163-aff6-4a6e-b9a8-c6dac7ff62a4",
   "metadata": {},
   "source": [
    "#### 使用相同超参数来训练模型"
   ]
  },
  {
   "cell_type": "code",
   "execution_count": 9,
   "id": "124b4a2b-d29f-4681-ab3a-e011bb90fc31",
   "metadata": {},
   "outputs": [
    {
     "name": "stdout",
     "output_type": "stream",
     "text": [
      "loss 0.250, train acc 0.908, test acc 0.877\n",
      "73453.1 examples/sec on cuda:0\n"
     ]
    }
   ],
   "source": [
    "d2l.train_ch6(net, train_iter, test_iter, num_epochs, lr, d2l.try_gpu())"
   ]
  }
 ],
 "metadata": {
  "kernelspec": {
   "display_name": "d2l-zh",
   "language": "python",
   "name": "d2l-zh"
  },
  "language_info": {
   "codemirror_mode": {
    "name": "ipython",
    "version": 3
   },
   "file_extension": ".py",
   "mimetype": "text/x-python",
   "name": "python",
   "nbconvert_exporter": "python",
   "pygments_lexer": "ipython3",
   "version": "3.8.10"
  }
 },
 "nbformat": 4,
 "nbformat_minor": 5
}
