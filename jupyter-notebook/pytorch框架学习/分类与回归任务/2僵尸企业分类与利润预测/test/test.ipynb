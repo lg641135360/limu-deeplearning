{
 "cells": [
  {
   "cell_type": "code",
   "execution_count": 3,
   "metadata": {
    "collapsed": true
   },
   "outputs": [
    {
     "name": "stdout",
     "output_type": "stream",
     "text": [
      "权重: [[-5.13404046e-06 -2.21627853e-07 -5.12871755e-07 -7.57155032e-08\n",
      "   4.50797652e-07  7.38395236e-09 -1.14243062e-05 -6.15238593e-07\n",
      "   9.51141707e-07  8.39882945e-08  6.23687417e-06  1.80674392e-06\n",
      "  -2.19244590e-06  2.73430436e-06  4.03040674e-07  7.01945546e-06\n",
      "  -1.22836312e-04 -4.49632383e-06  3.40018249e-06  2.82781614e-07\n",
      "   5.04052475e-06  2.12019332e-07 -3.95861950e-06 -1.84674445e-07\n",
      "  -5.14417004e-07 -2.15324513e-08  6.03347489e-06  7.16851097e-06\n",
      "   4.47685665e-07  1.07644509e-06  1.15568121e-06  7.41604597e-06\n",
      "  -9.32143594e-05  4.89640812e-06  1.63413782e-06  1.61024269e-07\n",
      "   4.70855643e-06  1.72149996e-07 -7.05884258e-07 -9.34436503e-08\n",
      "   3.18059684e-07  1.63626070e-08  5.96537175e-06  5.48243229e-06\n",
      "   2.84136493e-06  3.95374715e-06 -1.02950463e-06  1.19966336e-06\n",
      "  -9.71189299e-05  6.39927124e-06  2.39159414e-05  2.30724294e-05\n",
      "   4.07724431e-08  3.56631073e-07  1.80230721e-07  9.01211310e-09\n",
      "   3.71108971e-09  4.28980362e-09  4.19830341e-09]]\n",
      "偏置: [1.18993585e-08]\n",
      "0.9666790766939687\n"
     ]
    },
    {
     "name": "stderr",
     "output_type": "stream",
     "text": [
      "c:\\users\\rikoo\\dev\\env\\anaconda3\\envs\\py36\\lib\\site-packages\\sklearn\\linear_model\\_logistic.py:765: ConvergenceWarning: lbfgs failed to converge (status=1):\n",
      "STOP: TOTAL NO. of ITERATIONS REACHED LIMIT.\n",
      "\n",
      "Increase the number of iterations (max_iter) or scale the data as shown in:\n",
      "    https://scikit-learn.org/stable/modules/preprocessing.html\n",
      "Please also refer to the documentation for alternative solver options:\n",
      "    https://scikit-learn.org/stable/modules/linear_model.html#logistic-regression\n",
      "  extra_warning_msg=_LOGISTIC_SOLVER_CONVERGENCE_MSG)\n"
     ]
    }
   ],
   "source": [
    "import pandas as pd\n",
    "import numpy as np\n",
    "\n",
    "# 1. 数据导入\n",
    "train = pd.read_csv('tables/train.csv',engine='python',encoding='utf8')\n",
    "test = pd.read_csv('tables/test.csv',engine='python',encoding='utf8')\n",
    "\n",
    "# 2. 获取训练数据和标签\n",
    "X_train_data = train.drop(columns=['flag'])\n",
    "y_train_data = train['flag']\n",
    "\n",
    "# 数据切分 已经分好了\n",
    "# 数据标准化\n",
    "# from sklearn.preprocessing import StandardScaler\n",
    "# sc = StandardScaler()\n",
    "# ## 估算训练数据中的mu和sigma\n",
    "# sc.fit(X_train_data)\n",
    "# ## 使用训练数据中的mu和sigma对数据进行标准化\n",
    "# X_train_std = sc.transform(X_train_data)\n",
    "# X_test_std = sc.transform(test)\n",
    "\n",
    "#### 逻辑回归算法实现二分类\n",
    "from sklearn.linear_model import LogisticRegression\n",
    "from sklearn.model_selection import train_test_split\n",
    "from sklearn.metrics import accuracy_score\n",
    "X_train, X_test, y_train, y_test = train_test_split(X_train_data,y_train_data,test_size = 0.2, random_state = 0)\n",
    "y_test = pd.Series(y_test)\n",
    "\n",
    "lr = LogisticRegression()\n",
    "lr.fit(X_train,y_train)\n",
    "y_pred = lr.predict(X_test)\n",
    "ID = test['ID']\n",
    "print('权重:',lr.coef_)\n",
    "print('偏置:',lr.intercept_)\n",
    "print(accuracy_score(y_test, y_pred))\n",
    "\n"
   ]
  }
 ],
 "metadata": {
  "kernelspec": {
   "display_name": "Python 3",
   "language": "python",
   "name": "python3"
  },
  "language_info": {
   "codemirror_mode": {
    "name": "ipython",
    "version": 2
   },
   "file_extension": ".py",
   "mimetype": "text/x-python",
   "name": "python",
   "nbconvert_exporter": "python",
   "pygments_lexer": "ipython2",
   "version": "2.7.6"
  }
 },
 "nbformat": 4,
 "nbformat_minor": 0
}