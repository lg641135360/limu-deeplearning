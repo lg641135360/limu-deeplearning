{
 "cells": [
  {
   "cell_type": "markdown",
   "source": [
    "#### 训练与预测过程"
   ],
   "metadata": {
    "collapsed": false
   }
  },
  {
   "cell_type": "code",
   "execution_count": 4,
   "outputs": [
    {
     "name": "stdout",
     "output_type": "stream",
     "text": [
      "权重: [[-3.15886761e-06 -2.93236241e-07 -2.13675604e-06 -2.17683418e-07\n",
      "  -1.34502514e-06 -7.37686244e-08 -2.50464052e-06 -4.41424240e-08\n",
      "   1.85728861e-07  3.62006184e-08  8.64027813e-06  7.96550508e-06\n",
      "  -2.15781030e-06  1.44022301e-06  1.84212660e-07  2.63752530e-06\n",
      "  -9.63872870e-05  3.55389270e-07  2.69174701e-06  2.15061569e-07\n",
      "   6.01076785e-06  2.52666246e-07  5.58759860e-07  8.45622765e-08\n",
      "  -3.38980633e-07 -1.25584145e-08  8.42355638e-06  2.37183312e-06\n",
      "   4.54144319e-06  3.05946060e-06 -2.05066514e-08  1.28290970e-06\n",
      "  -5.99721925e-05  7.42558459e-06  2.36326751e-06  2.34222621e-07\n",
      "   8.98250974e-07  2.56884171e-08  1.92227158e-07  1.08145392e-07\n",
      "  -5.22414812e-07 -3.75244011e-08  8.44709103e-06  4.31949295e-06\n",
      "   1.59163221e-06  3.68138645e-06 -1.22575757e-06  4.09676083e-08\n",
      "  -5.83469414e-05  4.87133348e-06  3.37274062e-05  3.21339796e-05\n",
      "   5.76701081e-08  4.98117883e-07  2.53234377e-07  1.26851241e-08\n",
      "   5.44239509e-09  6.21605660e-09  5.95005149e-09]]\n",
      "偏置: [1.67794655e-08]\n",
      "预测值 [1 1 1 ... 0 0 0]\n"
     ]
    },
    {
     "name": "stderr",
     "output_type": "stream",
     "text": [
      "c:\\users\\rikoo\\dev\\env\\anaconda3\\envs\\py36\\lib\\site-packages\\sklearn\\linear_model\\_logistic.py:765: ConvergenceWarning: lbfgs failed to converge (status=1):\n",
      "STOP: TOTAL NO. of ITERATIONS REACHED LIMIT.\n",
      "\n",
      "Increase the number of iterations (max_iter) or scale the data as shown in:\n",
      "    https://scikit-learn.org/stable/modules/preprocessing.html\n",
      "Please also refer to the documentation for alternative solver options:\n",
      "    https://scikit-learn.org/stable/modules/linear_model.html#logistic-regression\n",
      "  extra_warning_msg=_LOGISTIC_SOLVER_CONVERGENCE_MSG)\n"
     ]
    }
   ],
   "source": [
    "import pandas as pd\n",
    "import numpy as np\n",
    "\n",
    "# 1. 数据导入\n",
    "train = pd.read_csv('tables/train.csv',engine='python',encoding='utf8')\n",
    "test = pd.read_csv('tables/test.csv',engine='python',encoding='utf8')\n",
    "\n",
    "# 2. 获取训练数据和标签\n",
    "X_train_data = train.drop(columns=['flag'])\n",
    "y_train_data = train['flag']\n",
    "\n",
    "#### 逻辑回归算法实现二分类\n",
    "from sklearn.linear_model import LogisticRegression\n",
    "\n",
    "lr = LogisticRegression()\n",
    "lr.fit(X_train_data,y_train_data)\n",
    "y_hat = lr.predict(test)\n",
    "ID = test['ID']\n",
    "print('权重:',lr.coef_)\n",
    "print('偏置:',lr.intercept_)\n",
    "# print('真实值:',)\n",
    "print('预测值',y_hat)\n",
    "dataframe = pd.DataFrame({'ID':ID,'flag':y_hat})\n",
    "dataframe.to_csv('result.txt',index=False,sep=',')"
   ],
   "metadata": {
    "collapsed": false,
    "pycharm": {
     "name": "#%%\n"
    }
   }
  }
 ],
 "metadata": {
  "kernelspec": {
   "display_name": "Python 3",
   "language": "python",
   "name": "python3"
  },
  "language_info": {
   "codemirror_mode": {
    "name": "ipython",
    "version": 2
   },
   "file_extension": ".py",
   "mimetype": "text/x-python",
   "name": "python",
   "nbconvert_exporter": "python",
   "pygments_lexer": "ipython2",
   "version": "2.7.6"
  }
 },
 "nbformat": 4,
 "nbformat_minor": 0
}