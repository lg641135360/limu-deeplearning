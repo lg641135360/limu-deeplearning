{
 "cells": [
  {
   "cell_type": "markdown",
   "source": [
    "### 数据预处理\n",
    "1. 训练数据加载"
   ],
   "metadata": {
    "collapsed": false
   }
  },
  {
   "cell_type": "code",
   "execution_count": 9,
   "outputs": [],
   "source": [
    "import pandas as pd\n",
    "import numpy as np\n",
    "# 这里的编码类型可以用sublime打开查看左下角\n",
    "base_train = pd.read_csv('tables/base-train.csv',engine='python',encoding='gb2312')\n",
    "knowledge_train = pd.read_csv('tables/knowledge-train.csv',engine='python',encoding='utf8')\n",
    "money_train = pd.read_csv('tables/money-train.csv',engine='python',encoding='utf8')\n",
    "year_train = pd.read_csv('tables/year-train.csv',engine='python',encoding='gb2312')"
   ],
   "metadata": {
    "collapsed": false,
    "pycharm": {
     "name": "#%%\n"
    }
   }
  },
  {
   "cell_type": "markdown",
   "source": [
    "2. 处理base_train数据\n",
    "\n",
    "    2.1 将中文特征编码\n",
    "\n",
    "    2.2 去除无关信息\n",
    "\n",
    "    2.3 缺失值处理(平均值)"
   ],
   "metadata": {
    "collapsed": false
   }
  },
  {
   "cell_type": "code",
   "execution_count": 10,
   "outputs": [],
   "source": [
    "map_industry = {'零售业':1,'服务业':2,'工业':3,'商业服务业':4,'社区服务':5,'交通运输业':6}\n",
    "map_type_enterprise = {'有限责任公司':10,'合伙企业':20,'股份有限公司':30,'农民专业合作社':40,'集体所有制企业':50}\n",
    "map_type_controller = {'自然人':10,'企业法人':20}\n",
    "# 2.1 给中文编码\n",
    "base_train['行业'] = base_train['行业'].map(map_industry)\n",
    "base_train['企业类型'] = base_train['企业类型'].map(map_type_enterprise)\n",
    "base_train['控制人类型'] = base_train['控制人类型'].map(map_type_controller)\n",
    "# 2.2 去除无关信息\n",
    "base_train_data = base_train.drop(columns=['区域'])\n",
    "# 2.3 缺失值处理（平均值）\n",
    "for column in list(base_train_data.columns[base_train_data.isnull().sum() > 0]):\n",
    "    a = base_train_data[column].mean()\n",
    "    base_train_data[column].fillna(a,inplace=True)"
   ],
   "metadata": {
    "collapsed": false,
    "pycharm": {
     "name": "#%%\n"
    }
   }
  },
  {
   "cell_type": "markdown",
   "source": [
    "3. 处理knowledge_train数据\n",
    "\n",
    "    3.1 缺失值处理(01数据类型，round四舍五入取值即可)\n",
    "4. 处理money_train和year_train数据\n",
    "\n",
    "    4.1 根据ID和year两个属性合并两个数据集\n",
    "\n",
    "    4.2 提取15、16和17的数据\n",
    "\n",
    "    4.3 将15、16和17年的数据合并成一张表"
   ],
   "metadata": {
    "collapsed": false
   }
  },
  {
   "cell_type": "code",
   "execution_count": 11,
   "outputs": [],
   "source": [
    "# 3.1 缺失值处理（平均数）\n",
    "for column in list(knowledge_train.columns[knowledge_train.isnull().sum() > 0]):\n",
    "    a = round(knowledge_train[column].mean())\n",
    "    knowledge_train[column].fillna(a,inplace=True)\n",
    "# 4.1 根据ID和year属性合并两个数据集\n",
    "money_year_train = pd.merge(money_train,year_train,on=['ID','year'],how='outer')\n",
    "# 4.2 提取15、16和17年的数据\n",
    "money_year_train_15 = money_year_train.loc[money_year_train['year']==2015].add_suffix('_15')\n",
    "money_year_train_15.rename(columns={'ID_15':'ID','year_15':'year'},inplace=True)\n",
    "money_year_train_16 = money_year_train.loc[money_year_train['year']==2016].add_suffix('_16')\n",
    "money_year_train_16.rename(columns={'ID_16':'ID','year_16':'year'},inplace=True)\n",
    "money_year_train_17 = money_year_train.loc[money_year_train['year']==2017].add_suffix('_17')\n",
    "money_year_train_17.rename(columns={'ID_17':'ID','year_17':'year'},inplace=True)\n",
    "# 4.3 合并3年的数据\n",
    "money_year_train_1516=pd.merge(money_year_train_15,money_year_train_16,on='ID',how='outer')\n",
    "money_year_train_151617=pd.merge(money_year_train_1516,money_year_train_17,on='ID',how='outer')"
   ],
   "metadata": {
    "collapsed": false,
    "pycharm": {
     "name": "#%%\n"
    }
   }
  },
  {
   "cell_type": "markdown",
   "source": [
    "5. 整合所有的表\n",
    "\n",
    "    5.1 将base和knowledge表连接起来(采用内连接)\n",
    "\n",
    "    5.2 将所有表连接\n",
    "\n",
    "    5.3 去除多余的属性（year_x,year_y,year）\n",
    "\n",
    "    5.4 填充缺失值（平均值）"
   ],
   "metadata": {
    "collapsed": false
   }
  },
  {
   "cell_type": "code",
   "source": [
    "# 5.1 将base和knowledge表连接起来(采用外连接)\n",
    "base_knowledge_train = pd.merge(base_train_data,knowledge_train,on='ID',how='outer')\n",
    "# 5.2 将所有表连接\n",
    "train_data = pd.merge(money_year_train_151617,base_knowledge_train,on='ID',how='outer')\n",
    "# 5.3 去除多余的属性（year_x,year_y,year）\n",
    "train_data = train_data.drop(columns=['year_x','year_y','year'])\n",
    "# 5.4 填充缺失值（平均值）\n",
    "for column in list(train_data.columns[train_data.isnull().sum() > 0]):\n",
    "    a = int(train_data[column].mean())\n",
    "    train_data[column].fillna(a,inplace=True)\n",
    "# 最终训练数据\n",
    "train_data.to_csv('tables/train.csv')"
   ],
   "metadata": {
    "collapsed": false,
    "pycharm": {
     "name": "#%%\n"
    }
   },
   "execution_count": 12,
   "outputs": []
  }
 ],
 "metadata": {
  "kernelspec": {
   "display_name": "Python 3",
   "language": "python",
   "name": "python3"
  },
  "language_info": {
   "codemirror_mode": {
    "name": "ipython",
    "version": 2
   },
   "file_extension": ".py",
   "mimetype": "text/x-python",
   "name": "python",
   "nbconvert_exporter": "python",
   "pygments_lexer": "ipython2",
   "version": "2.7.6"
  }
 },
 "nbformat": 4,
 "nbformat_minor": 0
}