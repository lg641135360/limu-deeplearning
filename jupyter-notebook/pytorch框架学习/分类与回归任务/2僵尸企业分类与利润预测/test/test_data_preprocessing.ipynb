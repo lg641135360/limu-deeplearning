{
 "cells": [
  {
   "cell_type": "markdown",
   "metadata": {
    "collapsed": true,
    "pycharm": {
     "name": "#%% md\n"
    }
   },
   "source": [
    "### 数据预处理\n",
    "1. 测试数据加载"
   ]
  },
  {
   "cell_type": "code",
   "execution_count": 59,
   "outputs": [],
   "source": [
    "import pandas as pd\n",
    "import numpy as np\n",
    "# 这里的编码类型可以用sublime打开查看左下角\n",
    "base_test = pd.read_csv('tables/base-test.csv',engine='python',encoding='utf8')\n",
    "knowledge_test = pd.read_csv('tables/knowledge-test.csv',engine='python',encoding='utf8')\n",
    "money_test = pd.read_csv('tables/money-test.csv',engine='python',encoding='utf8')\n",
    "year_test = pd.read_csv('tables/year-test.csv',engine='python',encoding='gb2312')"
   ],
   "metadata": {
    "collapsed": false,
    "pycharm": {
     "name": "#%%\n"
    }
   }
  },
  {
   "cell_type": "markdown",
   "source": [
    "2. 处理base_test数据\n",
    "\n",
    "    2.1 将中文特征编码\n",
    "\n",
    "    2.2 去除无关信息\n",
    "\n",
    "    2.3 缺失值处理(平均值)"
   ],
   "metadata": {
    "collapsed": false
   }
  },
  {
   "cell_type": "code",
   "execution_count": 60,
   "outputs": [],
   "source": [
    "map_industry = {'零售业':1,'服务业':2,'工业':3,'商业服务业':4,'社区服务':5,'交通运输业':6}\n",
    "map_type_enterprise = {'有限责任公司':10,'合伙企业':20,'股份有限公司':30,'农民专业合作社':40,'集体所有制企业':50}\n",
    "map_type_controller = {'自然人':10,'企业法人':20}\n",
    "# 2.1 给中文编码\n",
    "base_test['行业'] = base_test['行业'].map(map_industry)\n",
    "base_test['企业类型'] = base_test['企业类型'].map(map_type_enterprise)\n",
    "base_test['控制人类型'] = base_test['控制人类型'].map(map_type_controller)\n",
    "# 2.2 去除无关信息\n",
    "base_test_data = base_test.drop(columns=['区域'])\n",
    "# 2.3 缺失值处理（平均值）\n",
    "for column in list(base_test_data.columns[base_test_data.isnull().sum() > 0]):\n",
    "    a = base_test_data[column].mean()\n",
    "    base_test_data[column].fillna(a,inplace=True)"
   ],
   "metadata": {
    "collapsed": false,
    "pycharm": {
     "name": "#%%\n"
    }
   }
  },
  {
   "cell_type": "markdown",
   "source": [
    "3. 处理knowledge_test数据\n",
    "\n",
    "    3.1 缺失值处理(01数据类型，round四舍五入取值即可)\n",
    "4. 处理money_test和year_test数据\n",
    "\n",
    "    4.1 根据ID和year两个属性合并两个数据集\n",
    "\n",
    "    4.2 提取15、16和17的数据\n",
    "\n",
    "    4.3 将15、16和17年的数据合并成一张表"
   ],
   "metadata": {
    "collapsed": false
   }
  },
  {
   "cell_type": "code",
   "execution_count": 61,
   "outputs": [],
   "source": [
    "# 3.1 缺失值处理（平均数）\n",
    "for column in list(knowledge_test.columns[knowledge_test.isnull().sum() > 0]):\n",
    "    a = round(knowledge_test[column].mean())\n",
    "    knowledge_test[column].fillna(a,inplace=True)\n",
    "# 4.1 根据ID和year属性合并两个数据集\n",
    "money_year_test = pd.merge(money_test,year_test,on=['ID','year'],how='outer')\n",
    "# 4.2 提取15、16和17年的数据\n",
    "money_year_test_15 = money_year_test.loc[money_year_test['year']==2015].add_suffix('_15')\n",
    "money_year_test_15.rename(columns={'ID_15':'ID','year_15':'year'},inplace=True)\n",
    "money_year_test_16 = money_year_test.loc[money_year_test['year']==2016].add_suffix('_16')\n",
    "money_year_test_16.rename(columns={'ID_16':'ID','year_16':'year'},inplace=True)\n",
    "money_year_test_17 = money_year_test.loc[money_year_test['year']==2017].add_suffix('_17')\n",
    "money_year_test_17.rename(columns={'ID_17':'ID','year_17':'year'},inplace=True)\n",
    "# 4.3 合并3年的数据\n",
    "money_year_test_1516=pd.merge(money_year_test_15,money_year_test_16,on='ID',how='outer')\n",
    "money_year_test_151617=pd.merge(money_year_test_1516,money_year_test_17,on='ID',how='outer')"
   ],
   "metadata": {
    "collapsed": false,
    "pycharm": {
     "name": "#%%\n"
    }
   }
  },
  {
   "cell_type": "markdown",
   "source": [
    "5. 整合所有的表\n",
    "\n",
    "    5.1 将base和knowledge表连接起来(采用内连接 x)\n",
    "\n",
    "    5.2 将所有表连接\n",
    "\n",
    "    5.3 去除多余的属性（year_x,year_y,year）\n",
    "\n",
    "    5.4 填充缺失值（平均值）"
   ],
   "metadata": {
    "collapsed": false
   }
  },
  {
   "cell_type": "code",
   "execution_count": 62,
   "outputs": [],
   "source": [
    "# 5.1 将base和knowledge表连接起来(采用内连接)\n",
    "base_knowledge_test = pd.merge(base_test_data,knowledge_test,on='ID',how='outer')\n",
    "# 5.2 将所有表连接\n",
    "test_data = pd.merge(money_year_test_151617,base_knowledge_test,on='ID',how='outer')\n",
    "# 5.3 去除多余的属性（year_x,year_y,year）"
   ],
   "metadata": {
    "collapsed": false,
    "pycharm": {
     "name": "#%%\n"
    }
   }
  },
  {
   "cell_type": "code",
   "execution_count": 63,
   "outputs": [
    {
     "name": "stdout",
     "output_type": "stream",
     "text": [
      "<class 'pandas.core.frame.DataFrame'>\n",
      "Int64Index: 7132 entries, 0 to 7131\n",
      "Data columns (total 61 columns):\n",
      " #   Column          Non-Null Count  Dtype  \n",
      "---  ------          --------------  -----  \n",
      " 0   ID              7132 non-null   int64  \n",
      " 1   year_x          7131 non-null   float64\n",
      " 2   债权融资额度_15       6977 non-null   float64\n",
      " 3   债权融资成本_15       6986 non-null   float64\n",
      " 4   股权融资额度_15       6967 non-null   float64\n",
      " 5   股权融资成本_15       6973 non-null   float64\n",
      " 6   内部融资和贸易融资额度_15  6973 non-null   float64\n",
      " 7   内部融资和贸易融资成本_15  6979 non-null   float64\n",
      " 8   项目融资和政策融资额度_15  6980 non-null   float64\n",
      " 9   项目融资和政策融资成本_15  6967 non-null   float64\n",
      " 10  从业人数_15         6983 non-null   float64\n",
      " 11  资产总额_15         6978 non-null   float64\n",
      " 12  负债总额_15         6991 non-null   float64\n",
      " 13  营业总收入_15        6979 non-null   float64\n",
      " 14  主营业务收入_15       6979 non-null   float64\n",
      " 15  利润总额_15         7001 non-null   float64\n",
      " 16  纳税总额_15         6997 non-null   float64\n",
      " 17  所有者权益合计_15      6985 non-null   float64\n",
      " 18  year_y          7132 non-null   float64\n",
      " 19  债权融资额度_16       6992 non-null   float64\n",
      " 20  债权融资成本_16       6998 non-null   float64\n",
      " 21  股权融资额度_16       7003 non-null   float64\n",
      " 22  股权融资成本_16       6999 non-null   float64\n",
      " 23  内部融资和贸易融资额度_16  7004 non-null   float64\n",
      " 24  内部融资和贸易融资成本_16  6990 non-null   float64\n",
      " 25  项目融资和政策融资额度_16  6972 non-null   float64\n",
      " 26  项目融资和政策融资成本_16  6983 non-null   float64\n",
      " 27  从业人数_16         6990 non-null   float64\n",
      " 28  资产总额_16         6983 non-null   float64\n",
      " 29  负债总额_16         7001 non-null   float64\n",
      " 30  营业总收入_16        6994 non-null   float64\n",
      " 31  主营业务收入_16       6992 non-null   float64\n",
      " 32  利润总额_16         6991 non-null   float64\n",
      " 33  纳税总额_16         6994 non-null   float64\n",
      " 34  所有者权益合计_16      6973 non-null   float64\n",
      " 35  year            7132 non-null   float64\n",
      " 36  债权融资额度_17       6980 non-null   float64\n",
      " 37  债权融资成本_17       6978 non-null   float64\n",
      " 38  股权融资额度_17       6992 non-null   float64\n",
      " 39  股权融资成本_17       6987 non-null   float64\n",
      " 40  内部融资和贸易融资额度_17  6997 non-null   float64\n",
      " 41  内部融资和贸易融资成本_17  6989 non-null   float64\n",
      " 42  项目融资和政策融资额度_17  6992 non-null   float64\n",
      " 43  项目融资和政策融资成本_17  6991 non-null   float64\n",
      " 44  从业人数_17         6999 non-null   float64\n",
      " 45  资产总额_17         7004 non-null   float64\n",
      " 46  负债总额_17         7007 non-null   float64\n",
      " 47  营业总收入_17        7003 non-null   float64\n",
      " 48  主营业务收入_17       7005 non-null   float64\n",
      " 49  利润总额_17         7009 non-null   float64\n",
      " 50  纳税总额_17         6998 non-null   float64\n",
      " 51  所有者权益合计_17      7003 non-null   float64\n",
      " 52  注册时间            7132 non-null   float64\n",
      " 53  注册资本            7132 non-null   float64\n",
      " 54  行业              7132 non-null   float64\n",
      " 55  企业类型            7132 non-null   float64\n",
      " 56  控制人类型           7132 non-null   float64\n",
      " 57  控制人持股比例         7132 non-null   float64\n",
      " 58  专利              7132 non-null   float64\n",
      " 59  商标              7132 non-null   float64\n",
      " 60  著作权             7132 non-null   float64\n",
      "dtypes: float64(60), int64(1)\n",
      "memory usage: 3.4 MB\n"
     ]
    }
   ],
   "source": [
    "test_data.info()\n",
    "test_data = test_data.drop(columns=['year_x','year_y','year'])\n",
    "# 5.4 填充缺失值（平均值）\n",
    "for column in list(test_data.columns[test_data.isnull().sum() > 0]):\n",
    "    a = int(test_data[column].mean())\n",
    "    test_data[column].fillna(a,inplace=True)\n",
    "# 最终训练数据\n",
    "test_data.to_csv('tables/test.csv')"
   ],
   "metadata": {
    "collapsed": false,
    "pycharm": {
     "name": "#%%\n"
    }
   }
  }
 ],
 "metadata": {
  "kernelspec": {
   "display_name": "Python 3",
   "language": "python",
   "name": "python3"
  },
  "language_info": {
   "codemirror_mode": {
    "name": "ipython",
    "version": 2
   },
   "file_extension": ".py",
   "mimetype": "text/x-python",
   "name": "python",
   "nbconvert_exporter": "python",
   "pygments_lexer": "ipython2",
   "version": "2.7.6"
  }
 },
 "nbformat": 4,
 "nbformat_minor": 0
}