{
 "cells": [
  {
   "cell_type": "markdown",
   "source": [
    "### 数据预处理"
   ],
   "metadata": {
    "collapsed": false
   }
  },
  {
   "cell_type": "code",
   "execution_count": 835,
   "outputs": [],
   "source": [
    "import pandas as pd\n",
    "import numpy as np\n",
    "import seaborn as sns\n",
    "import scipy.stats as st\n",
    "\n",
    "# 这里的编码类型可以用sublime打开查看左下角\n",
    "base_train = pd.read_csv('tables/base-train.csv',engine='python',encoding='gb2312')\n",
    "knowledge_train = pd.read_csv('tables/knowledge-train.csv',engine='python',encoding='utf8')\n",
    "money_train = pd.read_csv('tables/money-train.csv',engine='python',encoding='utf8')\n",
    "year_train = pd.read_csv('tables/year-train.csv',engine='python',encoding='gb2312')"
   ],
   "metadata": {
    "collapsed": false,
    "pycharm": {
     "name": "#%%\n"
    }
   }
  },
  {
   "cell_type": "markdown",
   "source": [
    "    1. base_train表数据处理"
   ],
   "metadata": {
    "collapsed": false
   }
  },
  {
   "cell_type": "code",
   "execution_count": 836,
   "outputs": [
    {
     "data": {
      "text/plain": "        ID    注册时间    注册资本     行业  区域     企业类型 控制人类型  控制人持股比例  flag\n0  5986361  2014.0  7090.0    服务业  湖北   有限责任公司   自然人     0.93     0\n1  5991749  2007.0  5940.0    零售业  湖南     合伙企业  企业法人     0.57     0\n2  5998154  2002.0  9720.0     工业  福建     合伙企业   自然人     0.74     0\n3  5984390  2000.0  4800.0  商业服务业  山东   股份有限公司   NaN     0.90     0\n4  5980535  2004.0  4530.0    零售业  广东  农民专业合作社   自然人     0.95     0",
      "text/html": "<div>\n<style scoped>\n    .dataframe tbody tr th:only-of-type {\n        vertical-align: middle;\n    }\n\n    .dataframe tbody tr th {\n        vertical-align: top;\n    }\n\n    .dataframe thead th {\n        text-align: right;\n    }\n</style>\n<table border=\"1\" class=\"dataframe\">\n  <thead>\n    <tr style=\"text-align: right;\">\n      <th></th>\n      <th>ID</th>\n      <th>注册时间</th>\n      <th>注册资本</th>\n      <th>行业</th>\n      <th>区域</th>\n      <th>企业类型</th>\n      <th>控制人类型</th>\n      <th>控制人持股比例</th>\n      <th>flag</th>\n    </tr>\n  </thead>\n  <tbody>\n    <tr>\n      <th>0</th>\n      <td>5986361</td>\n      <td>2014.0</td>\n      <td>7090.0</td>\n      <td>服务业</td>\n      <td>湖北</td>\n      <td>有限责任公司</td>\n      <td>自然人</td>\n      <td>0.93</td>\n      <td>0</td>\n    </tr>\n    <tr>\n      <th>1</th>\n      <td>5991749</td>\n      <td>2007.0</td>\n      <td>5940.0</td>\n      <td>零售业</td>\n      <td>湖南</td>\n      <td>合伙企业</td>\n      <td>企业法人</td>\n      <td>0.57</td>\n      <td>0</td>\n    </tr>\n    <tr>\n      <th>2</th>\n      <td>5998154</td>\n      <td>2002.0</td>\n      <td>9720.0</td>\n      <td>工业</td>\n      <td>福建</td>\n      <td>合伙企业</td>\n      <td>自然人</td>\n      <td>0.74</td>\n      <td>0</td>\n    </tr>\n    <tr>\n      <th>3</th>\n      <td>5984390</td>\n      <td>2000.0</td>\n      <td>4800.0</td>\n      <td>商业服务业</td>\n      <td>山东</td>\n      <td>股份有限公司</td>\n      <td>NaN</td>\n      <td>0.90</td>\n      <td>0</td>\n    </tr>\n    <tr>\n      <th>4</th>\n      <td>5980535</td>\n      <td>2004.0</td>\n      <td>4530.0</td>\n      <td>零售业</td>\n      <td>广东</td>\n      <td>农民专业合作社</td>\n      <td>自然人</td>\n      <td>0.95</td>\n      <td>0</td>\n    </tr>\n  </tbody>\n</table>\n</div>"
     },
     "execution_count": 836,
     "metadata": {},
     "output_type": "execute_result"
    }
   ],
   "source": [
    "# 1.1 查看具体数据与结构\n",
    "# 看一哈具体数据\n",
    "base_train.head()"
   ],
   "metadata": {
    "collapsed": false,
    "pycharm": {
     "name": "#%%\n"
    }
   }
  },
  {
   "cell_type": "code",
   "execution_count": 837,
   "outputs": [
    {
     "name": "stdout",
     "output_type": "stream",
     "text": [
      "<class 'pandas.core.frame.DataFrame'>\n",
      "RangeIndex: 28519 entries, 0 to 28518\n",
      "Data columns (total 9 columns):\n",
      " #   Column   Non-Null Count  Dtype  \n",
      "---  ------   --------------  -----  \n",
      " 0   ID       28519 non-null  int64  \n",
      " 1   注册时间     28230 non-null  float64\n",
      " 2   注册资本     28220 non-null  float64\n",
      " 3   行业       28265 non-null  object \n",
      " 4   区域       28241 non-null  object \n",
      " 5   企业类型     28227 non-null  object \n",
      " 6   控制人类型    28226 non-null  object \n",
      " 7   控制人持股比例  28223 non-null  float64\n",
      " 8   flag     28519 non-null  int64  \n",
      "dtypes: float64(3), int64(2), object(4)\n",
      "memory usage: 2.0+ MB\n"
     ]
    }
   ],
   "source": [
    "# 表的结构\n",
    "base_train.info()"
   ],
   "metadata": {
    "collapsed": false,
    "pycharm": {
     "name": "#%%\n"
    }
   }
  },
  {
   "cell_type": "markdown",
   "source": [
    "    1.2 分析数值特征，处理缺失数据\n",
    "        1.2.1 注册时间\n",
    "        1.2.2 注册资本\n",
    "        1.2.3 控制人持股比例\n",
    "        1.2.4 处理行业缺失值。区域、企业类型、控制人类型都可以同样处理，都替换为未知\n",
    "        1.2.5 删掉几个不重要的列"
   ],
   "metadata": {
    "collapsed": false
   }
  },
  {
   "cell_type": "code",
   "execution_count": 838,
   "outputs": [
    {
     "data": {
      "text/plain": "            ID  注册时间    注册资本     行业   区域     企业类型 控制人类型  控制人持股比例  flag\n42     5984431   NaN  4280.0  商业服务业   福建  农民专业合作社   自然人     0.61     0\n107    5999342   NaN  9320.0  交通运输业  NaN     合伙企业  企业法人     0.96     0\n181    5989724   NaN   990.0  商业服务业   江西  农民专业合作社  企业法人     0.57     0\n190    5993825   NaN  2790.0   社区服务   福建  集体所有制企业   自然人     0.66     0\n250    5995399   NaN   110.0    服务业   湖北  农民专业合作社  企业法人     0.55     0\n...        ...   ...     ...    ...  ...      ...   ...      ...   ...\n27997  2406538   NaN  6930.0  交通运输业   福建  集体所有制企业   自然人     0.95     1\n28150   495971   NaN  1540.0     工业   湖南   有限责任公司   自然人     0.53     1\n28274  2005897   NaN  6440.0   社区服务   江西     合伙企业  企业法人     0.73     1\n28309  1938470   NaN  1540.0  交通运输业   山东  集体所有制企业  企业法人     0.96     1\n28513  2387300   NaN  5050.0     工业   湖北     合伙企业   自然人     0.82     1\n\n[289 rows x 9 columns]",
      "text/html": "<div>\n<style scoped>\n    .dataframe tbody tr th:only-of-type {\n        vertical-align: middle;\n    }\n\n    .dataframe tbody tr th {\n        vertical-align: top;\n    }\n\n    .dataframe thead th {\n        text-align: right;\n    }\n</style>\n<table border=\"1\" class=\"dataframe\">\n  <thead>\n    <tr style=\"text-align: right;\">\n      <th></th>\n      <th>ID</th>\n      <th>注册时间</th>\n      <th>注册资本</th>\n      <th>行业</th>\n      <th>区域</th>\n      <th>企业类型</th>\n      <th>控制人类型</th>\n      <th>控制人持股比例</th>\n      <th>flag</th>\n    </tr>\n  </thead>\n  <tbody>\n    <tr>\n      <th>42</th>\n      <td>5984431</td>\n      <td>NaN</td>\n      <td>4280.0</td>\n      <td>商业服务业</td>\n      <td>福建</td>\n      <td>农民专业合作社</td>\n      <td>自然人</td>\n      <td>0.61</td>\n      <td>0</td>\n    </tr>\n    <tr>\n      <th>107</th>\n      <td>5999342</td>\n      <td>NaN</td>\n      <td>9320.0</td>\n      <td>交通运输业</td>\n      <td>NaN</td>\n      <td>合伙企业</td>\n      <td>企业法人</td>\n      <td>0.96</td>\n      <td>0</td>\n    </tr>\n    <tr>\n      <th>181</th>\n      <td>5989724</td>\n      <td>NaN</td>\n      <td>990.0</td>\n      <td>商业服务业</td>\n      <td>江西</td>\n      <td>农民专业合作社</td>\n      <td>企业法人</td>\n      <td>0.57</td>\n      <td>0</td>\n    </tr>\n    <tr>\n      <th>190</th>\n      <td>5993825</td>\n      <td>NaN</td>\n      <td>2790.0</td>\n      <td>社区服务</td>\n      <td>福建</td>\n      <td>集体所有制企业</td>\n      <td>自然人</td>\n      <td>0.66</td>\n      <td>0</td>\n    </tr>\n    <tr>\n      <th>250</th>\n      <td>5995399</td>\n      <td>NaN</td>\n      <td>110.0</td>\n      <td>服务业</td>\n      <td>湖北</td>\n      <td>农民专业合作社</td>\n      <td>企业法人</td>\n      <td>0.55</td>\n      <td>0</td>\n    </tr>\n    <tr>\n      <th>...</th>\n      <td>...</td>\n      <td>...</td>\n      <td>...</td>\n      <td>...</td>\n      <td>...</td>\n      <td>...</td>\n      <td>...</td>\n      <td>...</td>\n      <td>...</td>\n    </tr>\n    <tr>\n      <th>27997</th>\n      <td>2406538</td>\n      <td>NaN</td>\n      <td>6930.0</td>\n      <td>交通运输业</td>\n      <td>福建</td>\n      <td>集体所有制企业</td>\n      <td>自然人</td>\n      <td>0.95</td>\n      <td>1</td>\n    </tr>\n    <tr>\n      <th>28150</th>\n      <td>495971</td>\n      <td>NaN</td>\n      <td>1540.0</td>\n      <td>工业</td>\n      <td>湖南</td>\n      <td>有限责任公司</td>\n      <td>自然人</td>\n      <td>0.53</td>\n      <td>1</td>\n    </tr>\n    <tr>\n      <th>28274</th>\n      <td>2005897</td>\n      <td>NaN</td>\n      <td>6440.0</td>\n      <td>社区服务</td>\n      <td>江西</td>\n      <td>合伙企业</td>\n      <td>企业法人</td>\n      <td>0.73</td>\n      <td>1</td>\n    </tr>\n    <tr>\n      <th>28309</th>\n      <td>1938470</td>\n      <td>NaN</td>\n      <td>1540.0</td>\n      <td>交通运输业</td>\n      <td>山东</td>\n      <td>集体所有制企业</td>\n      <td>企业法人</td>\n      <td>0.96</td>\n      <td>1</td>\n    </tr>\n    <tr>\n      <th>28513</th>\n      <td>2387300</td>\n      <td>NaN</td>\n      <td>5050.0</td>\n      <td>工业</td>\n      <td>湖北</td>\n      <td>合伙企业</td>\n      <td>自然人</td>\n      <td>0.82</td>\n      <td>1</td>\n    </tr>\n  </tbody>\n</table>\n<p>289 rows × 9 columns</p>\n</div>"
     },
     "execution_count": 838,
     "metadata": {},
     "output_type": "execute_result"
    }
   ],
   "source": [
    "# 1.2.1 注册时间\n",
    "# 注册时间有缺失，有188行缺失，占比比较小\n",
    "base_train.loc[base_train['注册时间'].isna()]"
   ],
   "metadata": {
    "collapsed": false,
    "pycharm": {
     "name": "#%%\n"
    }
   }
  },
  {
   "cell_type": "code",
   "execution_count": 839,
   "outputs": [],
   "source": [
    "# 删除这些行即可\n",
    "base_train.dropna(subset=['注册时间'],inplace=True)"
   ],
   "metadata": {
    "collapsed": false,
    "pycharm": {
     "name": "#%%\n"
    }
   }
  },
  {
   "cell_type": "code",
   "execution_count": 840,
   "outputs": [],
   "source": [
    "# 虽然有缺失，但是不能直接删除这个列，而是计算一下公司的营业年份，用2017减去。首先要删除注册时间有缺失的行\n",
    "注册时间 = base_train['注册时间'].apply(lambda x:2017-x)\n",
    "base_train['注册时间']=注册时间"
   ],
   "metadata": {
    "collapsed": false,
    "pycharm": {
     "name": "#%%\n"
    }
   }
  },
  {
   "cell_type": "code",
   "execution_count": 841,
   "outputs": [
    {
     "data": {
      "text/plain": "            ID  注册时间  注册资本     行业  区域    企业类型 控制人类型  控制人持股比例  flag\n9      5980529   7.0   NaN     工业  广西    合伙企业   自然人     0.52     0\n225    5979358  17.0   NaN    服务业  广东  股份有限公司   自然人     0.53     0\n337    5983458  13.0   NaN     工业  湖南  有限责任公司   自然人     0.91     0\n378    5999024   5.0   NaN  商业服务业  江西  有限责任公司   自然人     0.70     0\n402    5992211  10.0   NaN    服务业  江西    合伙企业   自然人     0.69     0\n...        ...   ...   ...    ...  ..     ...   ...      ...   ...\n28261   706957  11.0   NaN    零售业  江西    合伙企业  企业法人     0.68     1\n28293   116880  11.0   NaN   社区服务  湖南    合伙企业  企业法人     0.92     1\n28334  2690706   7.0   NaN    零售业  福建    合伙企业  企业法人     0.56     1\n28352  2341520   3.0   NaN    服务业  福建  有限责任公司   自然人     0.91     1\n28454  2844546  11.0   NaN     工业  江西  股份有限公司  企业法人     0.97     1\n\n[297 rows x 9 columns]",
      "text/html": "<div>\n<style scoped>\n    .dataframe tbody tr th:only-of-type {\n        vertical-align: middle;\n    }\n\n    .dataframe tbody tr th {\n        vertical-align: top;\n    }\n\n    .dataframe thead th {\n        text-align: right;\n    }\n</style>\n<table border=\"1\" class=\"dataframe\">\n  <thead>\n    <tr style=\"text-align: right;\">\n      <th></th>\n      <th>ID</th>\n      <th>注册时间</th>\n      <th>注册资本</th>\n      <th>行业</th>\n      <th>区域</th>\n      <th>企业类型</th>\n      <th>控制人类型</th>\n      <th>控制人持股比例</th>\n      <th>flag</th>\n    </tr>\n  </thead>\n  <tbody>\n    <tr>\n      <th>9</th>\n      <td>5980529</td>\n      <td>7.0</td>\n      <td>NaN</td>\n      <td>工业</td>\n      <td>广西</td>\n      <td>合伙企业</td>\n      <td>自然人</td>\n      <td>0.52</td>\n      <td>0</td>\n    </tr>\n    <tr>\n      <th>225</th>\n      <td>5979358</td>\n      <td>17.0</td>\n      <td>NaN</td>\n      <td>服务业</td>\n      <td>广东</td>\n      <td>股份有限公司</td>\n      <td>自然人</td>\n      <td>0.53</td>\n      <td>0</td>\n    </tr>\n    <tr>\n      <th>337</th>\n      <td>5983458</td>\n      <td>13.0</td>\n      <td>NaN</td>\n      <td>工业</td>\n      <td>湖南</td>\n      <td>有限责任公司</td>\n      <td>自然人</td>\n      <td>0.91</td>\n      <td>0</td>\n    </tr>\n    <tr>\n      <th>378</th>\n      <td>5999024</td>\n      <td>5.0</td>\n      <td>NaN</td>\n      <td>商业服务业</td>\n      <td>江西</td>\n      <td>有限责任公司</td>\n      <td>自然人</td>\n      <td>0.70</td>\n      <td>0</td>\n    </tr>\n    <tr>\n      <th>402</th>\n      <td>5992211</td>\n      <td>10.0</td>\n      <td>NaN</td>\n      <td>服务业</td>\n      <td>江西</td>\n      <td>合伙企业</td>\n      <td>自然人</td>\n      <td>0.69</td>\n      <td>0</td>\n    </tr>\n    <tr>\n      <th>...</th>\n      <td>...</td>\n      <td>...</td>\n      <td>...</td>\n      <td>...</td>\n      <td>...</td>\n      <td>...</td>\n      <td>...</td>\n      <td>...</td>\n      <td>...</td>\n    </tr>\n    <tr>\n      <th>28261</th>\n      <td>706957</td>\n      <td>11.0</td>\n      <td>NaN</td>\n      <td>零售业</td>\n      <td>江西</td>\n      <td>合伙企业</td>\n      <td>企业法人</td>\n      <td>0.68</td>\n      <td>1</td>\n    </tr>\n    <tr>\n      <th>28293</th>\n      <td>116880</td>\n      <td>11.0</td>\n      <td>NaN</td>\n      <td>社区服务</td>\n      <td>湖南</td>\n      <td>合伙企业</td>\n      <td>企业法人</td>\n      <td>0.92</td>\n      <td>1</td>\n    </tr>\n    <tr>\n      <th>28334</th>\n      <td>2690706</td>\n      <td>7.0</td>\n      <td>NaN</td>\n      <td>零售业</td>\n      <td>福建</td>\n      <td>合伙企业</td>\n      <td>企业法人</td>\n      <td>0.56</td>\n      <td>1</td>\n    </tr>\n    <tr>\n      <th>28352</th>\n      <td>2341520</td>\n      <td>3.0</td>\n      <td>NaN</td>\n      <td>服务业</td>\n      <td>福建</td>\n      <td>有限责任公司</td>\n      <td>自然人</td>\n      <td>0.91</td>\n      <td>1</td>\n    </tr>\n    <tr>\n      <th>28454</th>\n      <td>2844546</td>\n      <td>11.0</td>\n      <td>NaN</td>\n      <td>工业</td>\n      <td>江西</td>\n      <td>股份有限公司</td>\n      <td>企业法人</td>\n      <td>0.97</td>\n      <td>1</td>\n    </tr>\n  </tbody>\n</table>\n<p>297 rows × 9 columns</p>\n</div>"
     },
     "execution_count": 841,
     "metadata": {},
     "output_type": "execute_result"
    }
   ],
   "source": [
    "# 1.2.2 注册资本\n",
    "\n",
    "base_train.loc[base_train['注册资本'].isna()]"
   ],
   "metadata": {
    "collapsed": false,
    "pycharm": {
     "name": "#%%\n"
    }
   }
  },
  {
   "cell_type": "code",
   "execution_count": 842,
   "outputs": [
    {
     "name": "stderr",
     "output_type": "stream",
     "text": [
      "c:\\users\\rikoo\\dev\\env\\anaconda3\\envs\\py36\\lib\\site-packages\\seaborn\\distributions.py:2557: FutureWarning: `distplot` is a deprecated function and will be removed in a future version. Please adapt your code to use either `displot` (a figure-level function with similar flexibility) or `histplot` (an axes-level function for histograms).\n",
      "  warnings.warn(msg, FutureWarning)\n"
     ]
    },
    {
     "data": {
      "text/plain": "<AxesSubplot:xlabel='注册资本', ylabel='Density'>"
     },
     "execution_count": 842,
     "metadata": {},
     "output_type": "execute_result"
    },
    {
     "name": "stderr",
     "output_type": "stream",
     "text": [
      "c:\\users\\rikoo\\dev\\env\\anaconda3\\envs\\py36\\lib\\site-packages\\matplotlib\\backends\\backend_agg.py:238: RuntimeWarning: Glyph 27880 missing from current font.\n",
      "  font.set_text(s, 0.0, flags=flags)\n",
      "c:\\users\\rikoo\\dev\\env\\anaconda3\\envs\\py36\\lib\\site-packages\\matplotlib\\backends\\backend_agg.py:238: RuntimeWarning: Glyph 20876 missing from current font.\n",
      "  font.set_text(s, 0.0, flags=flags)\n",
      "c:\\users\\rikoo\\dev\\env\\anaconda3\\envs\\py36\\lib\\site-packages\\matplotlib\\backends\\backend_agg.py:238: RuntimeWarning: Glyph 36164 missing from current font.\n",
      "  font.set_text(s, 0.0, flags=flags)\n",
      "c:\\users\\rikoo\\dev\\env\\anaconda3\\envs\\py36\\lib\\site-packages\\matplotlib\\backends\\backend_agg.py:238: RuntimeWarning: Glyph 26412 missing from current font.\n",
      "  font.set_text(s, 0.0, flags=flags)\n",
      "c:\\users\\rikoo\\dev\\env\\anaconda3\\envs\\py36\\lib\\site-packages\\matplotlib\\backends\\backend_agg.py:201: RuntimeWarning: Glyph 27880 missing from current font.\n",
      "  font.set_text(s, 0, flags=flags)\n",
      "c:\\users\\rikoo\\dev\\env\\anaconda3\\envs\\py36\\lib\\site-packages\\matplotlib\\backends\\backend_agg.py:201: RuntimeWarning: Glyph 20876 missing from current font.\n",
      "  font.set_text(s, 0, flags=flags)\n",
      "c:\\users\\rikoo\\dev\\env\\anaconda3\\envs\\py36\\lib\\site-packages\\matplotlib\\backends\\backend_agg.py:201: RuntimeWarning: Glyph 36164 missing from current font.\n",
      "  font.set_text(s, 0, flags=flags)\n",
      "c:\\users\\rikoo\\dev\\env\\anaconda3\\envs\\py36\\lib\\site-packages\\matplotlib\\backends\\backend_agg.py:201: RuntimeWarning: Glyph 26412 missing from current font.\n",
      "  font.set_text(s, 0, flags=flags)\n"
     ]
    },
    {
     "data": {
      "text/plain": "<Figure size 432x288 with 1 Axes>",
      "image/png": "[encoded data removed]"
     },
     "metadata": {
      "needs_background": "light"
     },
     "output_type": "display_data"
    }
   ],
   "source": [
    "# 注册资本的分布\n",
    "sns.distplot(base_train['注册资本'],fit=st.norm)"
   ],
   "metadata": {
    "collapsed": false,
    "pycharm": {
     "name": "#%%\n"
    }
   }
  },
  {
   "cell_type": "code",
   "execution_count": 843,
   "outputs": [],
   "source": [
    "# 直接平均值填充\n",
    "mean = base_train['注册资本'].mean()\n",
    "base_train['注册资本'].fillna(mean,inplace=True)"
   ],
   "metadata": {
    "collapsed": false,
    "pycharm": {
     "name": "#%%\n"
    }
   }
  },
  {
   "cell_type": "code",
   "execution_count": 844,
   "outputs": [
    {
     "data": {
      "text/plain": "            ID  注册时间    注册资本     行业  区域     企业类型 控制人类型  控制人持股比例  flag\n193    5981372   7.0  4840.0    零售业  湖北     合伙企业   NaN      NaN     0\n213    5987510   7.0  3270.0   社区服务  湖北  农民专业合作社   自然人      NaN     0\n421    5995874  15.0  6850.0  商业服务业  湖南   有限责任公司   自然人      NaN     0\n466    5993031   4.0  9990.0    服务业  江西   有限责任公司  企业法人      NaN     0\n490    5992933  12.0  3860.0    服务业  广东     合伙企业  企业法人      NaN     0\n...        ...   ...     ...    ...  ..      ...   ...      ...   ...\n28431  3249650  17.0  3570.0  商业服务业  山东  农民专业合作社  企业法人      NaN     1\n28435  2085215   5.0  1180.0     工业  山东   有限责任公司   自然人      NaN     1\n28469  1609359   8.0   500.0    服务业  湖南  集体所有制企业   自然人      NaN     1\n28476  1832615   5.0  1310.0    零售业  广西  集体所有制企业  企业法人      NaN     1\n28498  3353990   8.0  2950.0   社区服务  广西     合伙企业  企业法人      NaN     1\n\n[292 rows x 9 columns]",
      "text/html": "<div>\n<style scoped>\n    .dataframe tbody tr th:only-of-type {\n        vertical-align: middle;\n    }\n\n    .dataframe tbody tr th {\n        vertical-align: top;\n    }\n\n    .dataframe thead th {\n        text-align: right;\n    }\n</style>\n<table border=\"1\" class=\"dataframe\">\n  <thead>\n    <tr style=\"text-align: right;\">\n      <th></th>\n      <th>ID</th>\n      <th>注册时间</th>\n      <th>注册资本</th>\n      <th>行业</th>\n      <th>区域</th>\n      <th>企业类型</th>\n      <th>控制人类型</th>\n      <th>控制人持股比例</th>\n      <th>flag</th>\n    </tr>\n  </thead>\n  <tbody>\n    <tr>\n      <th>193</th>\n      <td>5981372</td>\n      <td>7.0</td>\n      <td>4840.0</td>\n      <td>零售业</td>\n      <td>湖北</td>\n      <td>合伙企业</td>\n      <td>NaN</td>\n      <td>NaN</td>\n      <td>0</td>\n    </tr>\n    <tr>\n      <th>213</th>\n      <td>5987510</td>\n      <td>7.0</td>\n      <td>3270.0</td>\n      <td>社区服务</td>\n      <td>湖北</td>\n      <td>农民专业合作社</td>\n      <td>自然人</td>\n      <td>NaN</td>\n      <td>0</td>\n    </tr>\n    <tr>\n      <th>421</th>\n      <td>5995874</td>\n      <td>15.0</td>\n      <td>6850.0</td>\n      <td>商业服务业</td>\n      <td>湖南</td>\n      <td>有限责任公司</td>\n      <td>自然人</td>\n      <td>NaN</td>\n      <td>0</td>\n    </tr>\n    <tr>\n      <th>466</th>\n      <td>5993031</td>\n      <td>4.0</td>\n      <td>9990.0</td>\n      <td>服务业</td>\n      <td>江西</td>\n      <td>有限责任公司</td>\n      <td>企业法人</td>\n      <td>NaN</td>\n      <td>0</td>\n    </tr>\n    <tr>\n      <th>490</th>\n      <td>5992933</td>\n      <td>12.0</td>\n      <td>3860.0</td>\n      <td>服务业</td>\n      <td>广东</td>\n      <td>合伙企业</td>\n      <td>企业法人</td>\n      <td>NaN</td>\n      <td>0</td>\n    </tr>\n    <tr>\n      <th>...</th>\n      <td>...</td>\n      <td>...</td>\n      <td>...</td>\n      <td>...</td>\n      <td>...</td>\n      <td>...</td>\n      <td>...</td>\n      <td>...</td>\n      <td>...</td>\n    </tr>\n    <tr>\n      <th>28431</th>\n      <td>3249650</td>\n      <td>17.0</td>\n      <td>3570.0</td>\n      <td>商业服务业</td>\n      <td>山东</td>\n      <td>农民专业合作社</td>\n      <td>企业法人</td>\n      <td>NaN</td>\n      <td>1</td>\n    </tr>\n    <tr>\n      <th>28435</th>\n      <td>2085215</td>\n      <td>5.0</td>\n      <td>1180.0</td>\n      <td>工业</td>\n      <td>山东</td>\n      <td>有限责任公司</td>\n      <td>自然人</td>\n      <td>NaN</td>\n      <td>1</td>\n    </tr>\n    <tr>\n      <th>28469</th>\n      <td>1609359</td>\n      <td>8.0</td>\n      <td>500.0</td>\n      <td>服务业</td>\n      <td>湖南</td>\n      <td>集体所有制企业</td>\n      <td>自然人</td>\n      <td>NaN</td>\n      <td>1</td>\n    </tr>\n    <tr>\n      <th>28476</th>\n      <td>1832615</td>\n      <td>5.0</td>\n      <td>1310.0</td>\n      <td>零售业</td>\n      <td>广西</td>\n      <td>集体所有制企业</td>\n      <td>企业法人</td>\n      <td>NaN</td>\n      <td>1</td>\n    </tr>\n    <tr>\n      <th>28498</th>\n      <td>3353990</td>\n      <td>8.0</td>\n      <td>2950.0</td>\n      <td>社区服务</td>\n      <td>广西</td>\n      <td>合伙企业</td>\n      <td>企业法人</td>\n      <td>NaN</td>\n      <td>1</td>\n    </tr>\n  </tbody>\n</table>\n<p>292 rows × 9 columns</p>\n</div>"
     },
     "execution_count": 844,
     "metadata": {},
     "output_type": "execute_result"
    }
   ],
   "source": [
    "# 1.2.3 控制人持股比例\n",
    "base_train.loc[base_train['控制人持股比例'].isna()]"
   ],
   "metadata": {
    "collapsed": false,
    "pycharm": {
     "name": "#%%\n"
    }
   }
  },
  {
   "cell_type": "code",
   "execution_count": 845,
   "outputs": [
    {
     "name": "stderr",
     "output_type": "stream",
     "text": [
      "c:\\users\\rikoo\\dev\\env\\anaconda3\\envs\\py36\\lib\\site-packages\\seaborn\\distributions.py:2557: FutureWarning: `distplot` is a deprecated function and will be removed in a future version. Please adapt your code to use either `displot` (a figure-level function with similar flexibility) or `histplot` (an axes-level function for histograms).\n",
      "  warnings.warn(msg, FutureWarning)\n"
     ]
    },
    {
     "data": {
      "text/plain": "<AxesSubplot:xlabel='控制人持股比例', ylabel='Density'>"
     },
     "execution_count": 845,
     "metadata": {},
     "output_type": "execute_result"
    },
    {
     "name": "stderr",
     "output_type": "stream",
     "text": [
      "c:\\users\\rikoo\\dev\\env\\anaconda3\\envs\\py36\\lib\\site-packages\\matplotlib\\backends\\backend_agg.py:238: RuntimeWarning: Glyph 25511 missing from current font.\n",
      "  font.set_text(s, 0.0, flags=flags)\n",
      "c:\\users\\rikoo\\dev\\env\\anaconda3\\envs\\py36\\lib\\site-packages\\matplotlib\\backends\\backend_agg.py:238: RuntimeWarning: Glyph 21046 missing from current font.\n",
      "  font.set_text(s, 0.0, flags=flags)\n",
      "c:\\users\\rikoo\\dev\\env\\anaconda3\\envs\\py36\\lib\\site-packages\\matplotlib\\backends\\backend_agg.py:238: RuntimeWarning: Glyph 20154 missing from current font.\n",
      "  font.set_text(s, 0.0, flags=flags)\n",
      "c:\\users\\rikoo\\dev\\env\\anaconda3\\envs\\py36\\lib\\site-packages\\matplotlib\\backends\\backend_agg.py:238: RuntimeWarning: Glyph 25345 missing from current font.\n",
      "  font.set_text(s, 0.0, flags=flags)\n",
      "c:\\users\\rikoo\\dev\\env\\anaconda3\\envs\\py36\\lib\\site-packages\\matplotlib\\backends\\backend_agg.py:238: RuntimeWarning: Glyph 32929 missing from current font.\n",
      "  font.set_text(s, 0.0, flags=flags)\n",
      "c:\\users\\rikoo\\dev\\env\\anaconda3\\envs\\py36\\lib\\site-packages\\matplotlib\\backends\\backend_agg.py:238: RuntimeWarning: Glyph 27604 missing from current font.\n",
      "  font.set_text(s, 0.0, flags=flags)\n",
      "c:\\users\\rikoo\\dev\\env\\anaconda3\\envs\\py36\\lib\\site-packages\\matplotlib\\backends\\backend_agg.py:238: RuntimeWarning: Glyph 20363 missing from current font.\n",
      "  font.set_text(s, 0.0, flags=flags)\n",
      "c:\\users\\rikoo\\dev\\env\\anaconda3\\envs\\py36\\lib\\site-packages\\matplotlib\\backends\\backend_agg.py:201: RuntimeWarning: Glyph 25511 missing from current font.\n",
      "  font.set_text(s, 0, flags=flags)\n",
      "c:\\users\\rikoo\\dev\\env\\anaconda3\\envs\\py36\\lib\\site-packages\\matplotlib\\backends\\backend_agg.py:201: RuntimeWarning: Glyph 21046 missing from current font.\n",
      "  font.set_text(s, 0, flags=flags)\n",
      "c:\\users\\rikoo\\dev\\env\\anaconda3\\envs\\py36\\lib\\site-packages\\matplotlib\\backends\\backend_agg.py:201: RuntimeWarning: Glyph 20154 missing from current font.\n",
      "  font.set_text(s, 0, flags=flags)\n",
      "c:\\users\\rikoo\\dev\\env\\anaconda3\\envs\\py36\\lib\\site-packages\\matplotlib\\backends\\backend_agg.py:201: RuntimeWarning: Glyph 25345 missing from current font.\n",
      "  font.set_text(s, 0, flags=flags)\n",
      "c:\\users\\rikoo\\dev\\env\\anaconda3\\envs\\py36\\lib\\site-packages\\matplotlib\\backends\\backend_agg.py:201: RuntimeWarning: Glyph 32929 missing from current font.\n",
      "  font.set_text(s, 0, flags=flags)\n",
      "c:\\users\\rikoo\\dev\\env\\anaconda3\\envs\\py36\\lib\\site-packages\\matplotlib\\backends\\backend_agg.py:201: RuntimeWarning: Glyph 27604 missing from current font.\n",
      "  font.set_text(s, 0, flags=flags)\n",
      "c:\\users\\rikoo\\dev\\env\\anaconda3\\envs\\py36\\lib\\site-packages\\matplotlib\\backends\\backend_agg.py:201: RuntimeWarning: Glyph 20363 missing from current font.\n",
      "  font.set_text(s, 0, flags=flags)\n"
     ]
    },
    {
     "data": {
      "text/plain": "<Figure size 432x288 with 1 Axes>",
      "image/png": "[encoded data removed]"
     },
     "metadata": {
      "needs_background": "light"
     },
     "output_type": "display_data"
    }
   ],
   "source": [
    "sns.distplot(base_train['控制人持股比例'])"
   ],
   "metadata": {
    "collapsed": false,
    "pycharm": {
     "name": "#%%\n"
    }
   }
  },
  {
   "cell_type": "code",
   "execution_count": 846,
   "outputs": [],
   "source": [
    "# 将缺失值替换为平均值\n",
    "base_train['控制人持股比例'].fillna(base_train['控制人持股比例'].mean(),inplace=True)\n",
    "\n",
    "\n",
    "\n",
    "# 1.2.4 处理行业缺失值。区域、企业类型、控制人类型都可以同样处理，都替换为未知"
   ],
   "metadata": {
    "collapsed": false,
    "pycharm": {
     "name": "#%%\n"
    }
   }
  },
  {
   "cell_type": "code",
   "execution_count": 847,
   "outputs": [],
   "source": [
    "base_train['行业'].fillna('未知',inplace=True)"
   ],
   "metadata": {
    "collapsed": false,
    "pycharm": {
     "name": "#%%\n"
    }
   }
  },
  {
   "cell_type": "code",
   "execution_count": 848,
   "outputs": [],
   "source": [
    "# 其他缺失值也这样处理\n",
    "base_train['区域'].fillna('未知',inplace=True)"
   ],
   "metadata": {
    "collapsed": false,
    "pycharm": {
     "name": "#%%\n"
    }
   }
  },
  {
   "cell_type": "code",
   "execution_count": 849,
   "outputs": [],
   "source": [
    "base_train['企业类型'].fillna('未知',inplace=True)"
   ],
   "metadata": {
    "collapsed": false,
    "pycharm": {
     "name": "#%%\n"
    }
   }
  },
  {
   "cell_type": "code",
   "execution_count": 850,
   "outputs": [],
   "source": [
    "base_train['控制人类型'].fillna('未知',inplace=True)"
   ],
   "metadata": {
    "collapsed": false,
    "pycharm": {
     "name": "#%%\n"
    }
   }
  },
  {
   "cell_type": "code",
   "execution_count": 851,
   "outputs": [],
   "source": [
    "map_industry = {'零售业':1,'服务业':2,'工业':3,'商业服务业':4,'社区服务':5,'交通运输业':6,'未知':7}\n",
    "map_type_enterprise = {'有限责任公司':10,'合伙企业':20,'股份有限公司':30,'农民专业合作社':40,'集体所有制企业':50,'未知':60}\n",
    "map_type_controller = {'自然人':10,'企业法人':20,'未知':30}\n",
    "# 2.1 给中文编码\n",
    "base_train['行业'] = base_train['行业'].map(map_industry)\n",
    "base_train['企业类型'] = base_train['企业类型'].map(map_type_enterprise)\n",
    "base_train['控制人类型'] = base_train['控制人类型'].map(map_type_controller)\n",
    "# 2.2 去除无关信息\n",
    "base_train = base_train.drop(columns=['区域'])"
   ],
   "metadata": {
    "collapsed": false,
    "pycharm": {
     "name": "#%%\n"
    }
   }
  },
  {
   "cell_type": "code",
   "execution_count": 852,
   "outputs": [],
   "source": [
    "# base_train.replace('未知',1)"
   ],
   "metadata": {
    "collapsed": false,
    "pycharm": {
     "name": "#%%\n"
    }
   }
  },
  {
   "cell_type": "code",
   "execution_count": 853,
   "outputs": [
    {
     "name": "stdout",
     "output_type": "stream",
     "text": [
      "<class 'pandas.core.frame.DataFrame'>\n",
      "Int64Index: 28230 entries, 0 to 28518\n",
      "Data columns (total 8 columns):\n",
      " #   Column   Non-Null Count  Dtype  \n",
      "---  ------   --------------  -----  \n",
      " 0   ID       28230 non-null  int64  \n",
      " 1   注册时间     28230 non-null  float64\n",
      " 2   注册资本     28230 non-null  float64\n",
      " 3   行业       28230 non-null  int64  \n",
      " 4   企业类型     28230 non-null  int64  \n",
      " 5   控制人类型    28230 non-null  int64  \n",
      " 6   控制人持股比例  28230 non-null  float64\n",
      " 7   flag     28230 non-null  int64  \n",
      "dtypes: float64(3), int64(5)\n",
      "memory usage: 1.9 MB\n"
     ]
    }
   ],
   "source": [
    "base_train.info()"
   ],
   "metadata": {
    "collapsed": false,
    "pycharm": {
     "name": "#%%\n"
    }
   }
  },
  {
   "cell_type": "code",
   "execution_count": 854,
   "outputs": [],
   "source": [
    "# 1.2.5 删掉几个不重要的列\n",
    "\n",
    "base_train.rename({'注册时间':'营业时长'},inplace=True)"
   ],
   "metadata": {
    "collapsed": false,
    "pycharm": {
     "name": "#%%\n"
    }
   }
  },
  {
   "cell_type": "code",
   "execution_count": 855,
   "outputs": [],
   "source": [
    "# base_train.drop(columns=['行业','区域','企业类型','控制人类型'],inplace=True)"
   ],
   "metadata": {
    "collapsed": false,
    "pycharm": {
     "name": "#%%\n"
    }
   }
  },
  {
   "cell_type": "code",
   "execution_count": 856,
   "outputs": [
    {
     "data": {
      "text/plain": "            ID  注册时间    注册资本  行业  企业类型  控制人类型  控制人持股比例  flag\n0      5986361   3.0  7090.0   2    10     10     0.93     0\n1      5991749  10.0  5940.0   1    20     20     0.57     0\n2      5998154  15.0  9720.0   3    20     10     0.74     0\n3      5984390  17.0  4800.0   4    30     30     0.90     0\n4      5980535  13.0  4530.0   1    40     10     0.95     0\n...        ...   ...     ...  ..   ...    ...      ...   ...\n28514  2253874   5.0   110.0   3    30     10     0.89     1\n28515  2823789  17.0  3110.0   2    30     10     0.64     1\n28516  1680634  14.0  1030.0   2    40     20     0.55     1\n28517   101731  13.0  5260.0   1    50     10     0.62     1\n28518  2026324   6.0   140.0   5    40     10     0.73     1\n\n[28230 rows x 8 columns]",
      "text/html": "<div>\n<style scoped>\n    .dataframe tbody tr th:only-of-type {\n        vertical-align: middle;\n    }\n\n    .dataframe tbody tr th {\n        vertical-align: top;\n    }\n\n    .dataframe thead th {\n        text-align: right;\n    }\n</style>\n<table border=\"1\" class=\"dataframe\">\n  <thead>\n    <tr style=\"text-align: right;\">\n      <th></th>\n      <th>ID</th>\n      <th>注册时间</th>\n      <th>注册资本</th>\n      <th>行业</th>\n      <th>企业类型</th>\n      <th>控制人类型</th>\n      <th>控制人持股比例</th>\n      <th>flag</th>\n    </tr>\n  </thead>\n  <tbody>\n    <tr>\n      <th>0</th>\n      <td>5986361</td>\n      <td>3.0</td>\n      <td>7090.0</td>\n      <td>2</td>\n      <td>10</td>\n      <td>10</td>\n      <td>0.93</td>\n      <td>0</td>\n    </tr>\n    <tr>\n      <th>1</th>\n      <td>5991749</td>\n      <td>10.0</td>\n      <td>5940.0</td>\n      <td>1</td>\n      <td>20</td>\n      <td>20</td>\n      <td>0.57</td>\n      <td>0</td>\n    </tr>\n    <tr>\n      <th>2</th>\n      <td>5998154</td>\n      <td>15.0</td>\n      <td>9720.0</td>\n      <td>3</td>\n      <td>20</td>\n      <td>10</td>\n      <td>0.74</td>\n      <td>0</td>\n    </tr>\n    <tr>\n      <th>3</th>\n      <td>5984390</td>\n      <td>17.0</td>\n      <td>4800.0</td>\n      <td>4</td>\n      <td>30</td>\n      <td>30</td>\n      <td>0.90</td>\n      <td>0</td>\n    </tr>\n    <tr>\n      <th>4</th>\n      <td>5980535</td>\n      <td>13.0</td>\n      <td>4530.0</td>\n      <td>1</td>\n      <td>40</td>\n      <td>10</td>\n      <td>0.95</td>\n      <td>0</td>\n    </tr>\n    <tr>\n      <th>...</th>\n      <td>...</td>\n      <td>...</td>\n      <td>...</td>\n      <td>...</td>\n      <td>...</td>\n      <td>...</td>\n      <td>...</td>\n      <td>...</td>\n    </tr>\n    <tr>\n      <th>28514</th>\n      <td>2253874</td>\n      <td>5.0</td>\n      <td>110.0</td>\n      <td>3</td>\n      <td>30</td>\n      <td>10</td>\n      <td>0.89</td>\n      <td>1</td>\n    </tr>\n    <tr>\n      <th>28515</th>\n      <td>2823789</td>\n      <td>17.0</td>\n      <td>3110.0</td>\n      <td>2</td>\n      <td>30</td>\n      <td>10</td>\n      <td>0.64</td>\n      <td>1</td>\n    </tr>\n    <tr>\n      <th>28516</th>\n      <td>1680634</td>\n      <td>14.0</td>\n      <td>1030.0</td>\n      <td>2</td>\n      <td>40</td>\n      <td>20</td>\n      <td>0.55</td>\n      <td>1</td>\n    </tr>\n    <tr>\n      <th>28517</th>\n      <td>101731</td>\n      <td>13.0</td>\n      <td>5260.0</td>\n      <td>1</td>\n      <td>50</td>\n      <td>10</td>\n      <td>0.62</td>\n      <td>1</td>\n    </tr>\n    <tr>\n      <th>28518</th>\n      <td>2026324</td>\n      <td>6.0</td>\n      <td>140.0</td>\n      <td>5</td>\n      <td>40</td>\n      <td>10</td>\n      <td>0.73</td>\n      <td>1</td>\n    </tr>\n  </tbody>\n</table>\n<p>28230 rows × 8 columns</p>\n</div>"
     },
     "execution_count": 856,
     "metadata": {},
     "output_type": "execute_result"
    }
   ],
   "source": [
    "base_train"
   ],
   "metadata": {
    "collapsed": false,
    "pycharm": {
     "name": "#%%\n"
    }
   }
  },
  {
   "cell_type": "markdown",
   "source": [
    "2. knowledge_train表数据处理\n",
    "\n",
    "    2.1 三列都合并为知识产权统计一列，看作评价的权重\n",
    "    2.2 合并到base_train表中\n"
   ],
   "metadata": {
    "collapsed": false
   }
  },
  {
   "cell_type": "code",
   "execution_count": 857,
   "outputs": [
    {
     "data": {
      "text/plain": "     ID   专利   商标  著作权\n0    28  0.0  1.0  1.0\n1   230  0.0  0.0  0.0\n2   693  0.0  0.0  0.0\n3   990  0.0  0.0  0.0\n4  1274  0.0  0.0  0.0",
      "text/html": "<div>\n<style scoped>\n    .dataframe tbody tr th:only-of-type {\n        vertical-align: middle;\n    }\n\n    .dataframe tbody tr th {\n        vertical-align: top;\n    }\n\n    .dataframe thead th {\n        text-align: right;\n    }\n</style>\n<table border=\"1\" class=\"dataframe\">\n  <thead>\n    <tr style=\"text-align: right;\">\n      <th></th>\n      <th>ID</th>\n      <th>专利</th>\n      <th>商标</th>\n      <th>著作权</th>\n    </tr>\n  </thead>\n  <tbody>\n    <tr>\n      <th>0</th>\n      <td>28</td>\n      <td>0.0</td>\n      <td>1.0</td>\n      <td>1.0</td>\n    </tr>\n    <tr>\n      <th>1</th>\n      <td>230</td>\n      <td>0.0</td>\n      <td>0.0</td>\n      <td>0.0</td>\n    </tr>\n    <tr>\n      <th>2</th>\n      <td>693</td>\n      <td>0.0</td>\n      <td>0.0</td>\n      <td>0.0</td>\n    </tr>\n    <tr>\n      <th>3</th>\n      <td>990</td>\n      <td>0.0</td>\n      <td>0.0</td>\n      <td>0.0</td>\n    </tr>\n    <tr>\n      <th>4</th>\n      <td>1274</td>\n      <td>0.0</td>\n      <td>0.0</td>\n      <td>0.0</td>\n    </tr>\n  </tbody>\n</table>\n</div>"
     },
     "execution_count": 857,
     "metadata": {},
     "output_type": "execute_result"
    }
   ],
   "source": [
    "knowledge_train.head()"
   ],
   "metadata": {
    "collapsed": false,
    "pycharm": {
     "name": "#%%\n"
    }
   }
  },
  {
   "cell_type": "code",
   "execution_count": 858,
   "outputs": [
    {
     "name": "stdout",
     "output_type": "stream",
     "text": [
      "<class 'pandas.core.frame.DataFrame'>\n",
      "RangeIndex: 28519 entries, 0 to 28518\n",
      "Data columns (total 4 columns):\n",
      " #   Column  Non-Null Count  Dtype  \n",
      "---  ------  --------------  -----  \n",
      " 0   ID      28519 non-null  int64  \n",
      " 1   专利      28233 non-null  float64\n",
      " 2   商标      28216 non-null  float64\n",
      " 3   著作权     28237 non-null  float64\n",
      "dtypes: float64(3), int64(1)\n",
      "memory usage: 891.3 KB\n"
     ]
    }
   ],
   "source": [
    "knowledge_train.info()"
   ],
   "metadata": {
    "collapsed": false,
    "pycharm": {
     "name": "#%%\n"
    }
   }
  },
  {
   "cell_type": "code",
   "execution_count": 859,
   "outputs": [],
   "source": [
    "# 缺失值全用0填充\n",
    "knowledge_train.fillna(0,inplace=True)"
   ],
   "metadata": {
    "collapsed": false,
    "pycharm": {
     "name": "#%%\n"
    }
   }
  },
  {
   "cell_type": "code",
   "execution_count": 860,
   "outputs": [],
   "source": [
    "知识产权 = knowledge_train[knowledge_train.columns[1:4]].sum(1)\n",
    "knowledge_train.drop(columns=['专利','商标', '著作权'],inplace=True)"
   ],
   "metadata": {
    "collapsed": false,
    "pycharm": {
     "name": "#%%\n"
    }
   }
  },
  {
   "cell_type": "code",
   "execution_count": 861,
   "outputs": [],
   "source": [
    "knowledge_train = pd.concat([knowledge_train,知识产权],axis=1)"
   ],
   "metadata": {
    "collapsed": false,
    "pycharm": {
     "name": "#%%\n"
    }
   }
  },
  {
   "cell_type": "code",
   "execution_count": 862,
   "outputs": [
    {
     "data": {
      "text/plain": "            ID    0\n0           28  2.0\n1          230  0.0\n2          693  0.0\n3          990  0.0\n4         1274  0.0\n...        ...  ...\n28514  5999994  0.0\n28515  5999995  2.0\n28516  5999997  2.0\n28517  5999999  3.0\n28518  6000000  0.0\n\n[28519 rows x 2 columns]",
      "text/html": "<div>\n<style scoped>\n    .dataframe tbody tr th:only-of-type {\n        vertical-align: middle;\n    }\n\n    .dataframe tbody tr th {\n        vertical-align: top;\n    }\n\n    .dataframe thead th {\n        text-align: right;\n    }\n</style>\n<table border=\"1\" class=\"dataframe\">\n  <thead>\n    <tr style=\"text-align: right;\">\n      <th></th>\n      <th>ID</th>\n      <th>0</th>\n    </tr>\n  </thead>\n  <tbody>\n    <tr>\n      <th>0</th>\n      <td>28</td>\n      <td>2.0</td>\n    </tr>\n    <tr>\n      <th>1</th>\n      <td>230</td>\n      <td>0.0</td>\n    </tr>\n    <tr>\n      <th>2</th>\n      <td>693</td>\n      <td>0.0</td>\n    </tr>\n    <tr>\n      <th>3</th>\n      <td>990</td>\n      <td>0.0</td>\n    </tr>\n    <tr>\n      <th>4</th>\n      <td>1274</td>\n      <td>0.0</td>\n    </tr>\n    <tr>\n      <th>...</th>\n      <td>...</td>\n      <td>...</td>\n    </tr>\n    <tr>\n      <th>28514</th>\n      <td>5999994</td>\n      <td>0.0</td>\n    </tr>\n    <tr>\n      <th>28515</th>\n      <td>5999995</td>\n      <td>2.0</td>\n    </tr>\n    <tr>\n      <th>28516</th>\n      <td>5999997</td>\n      <td>2.0</td>\n    </tr>\n    <tr>\n      <th>28517</th>\n      <td>5999999</td>\n      <td>3.0</td>\n    </tr>\n    <tr>\n      <th>28518</th>\n      <td>6000000</td>\n      <td>0.0</td>\n    </tr>\n  </tbody>\n</table>\n<p>28519 rows × 2 columns</p>\n</div>"
     },
     "execution_count": 862,
     "metadata": {},
     "output_type": "execute_result"
    }
   ],
   "source": [
    "# 连接之后没有列名\n",
    "knowledge_train"
   ],
   "metadata": {
    "collapsed": false,
    "pycharm": {
     "name": "#%%\n"
    }
   }
  },
  {
   "cell_type": "code",
   "execution_count": 863,
   "outputs": [
    {
     "data": {
      "text/plain": "            ID  知识产权\n0           28   2.0\n1          230   0.0\n2          693   0.0\n3          990   0.0\n4         1274   0.0\n...        ...   ...\n28514  5999994   0.0\n28515  5999995   2.0\n28516  5999997   2.0\n28517  5999999   3.0\n28518  6000000   0.0\n\n[28519 rows x 2 columns]",
      "text/html": "<div>\n<style scoped>\n    .dataframe tbody tr th:only-of-type {\n        vertical-align: middle;\n    }\n\n    .dataframe tbody tr th {\n        vertical-align: top;\n    }\n\n    .dataframe thead th {\n        text-align: right;\n    }\n</style>\n<table border=\"1\" class=\"dataframe\">\n  <thead>\n    <tr style=\"text-align: right;\">\n      <th></th>\n      <th>ID</th>\n      <th>知识产权</th>\n    </tr>\n  </thead>\n  <tbody>\n    <tr>\n      <th>0</th>\n      <td>28</td>\n      <td>2.0</td>\n    </tr>\n    <tr>\n      <th>1</th>\n      <td>230</td>\n      <td>0.0</td>\n    </tr>\n    <tr>\n      <th>2</th>\n      <td>693</td>\n      <td>0.0</td>\n    </tr>\n    <tr>\n      <th>3</th>\n      <td>990</td>\n      <td>0.0</td>\n    </tr>\n    <tr>\n      <th>4</th>\n      <td>1274</td>\n      <td>0.0</td>\n    </tr>\n    <tr>\n      <th>...</th>\n      <td>...</td>\n      <td>...</td>\n    </tr>\n    <tr>\n      <th>28514</th>\n      <td>5999994</td>\n      <td>0.0</td>\n    </tr>\n    <tr>\n      <th>28515</th>\n      <td>5999995</td>\n      <td>2.0</td>\n    </tr>\n    <tr>\n      <th>28516</th>\n      <td>5999997</td>\n      <td>2.0</td>\n    </tr>\n    <tr>\n      <th>28517</th>\n      <td>5999999</td>\n      <td>3.0</td>\n    </tr>\n    <tr>\n      <th>28518</th>\n      <td>6000000</td>\n      <td>0.0</td>\n    </tr>\n  </tbody>\n</table>\n<p>28519 rows × 2 columns</p>\n</div>"
     },
     "execution_count": 863,
     "metadata": {},
     "output_type": "execute_result"
    }
   ],
   "source": [
    "knowledge_train.rename(columns={0:'知识产权'},inplace=True)\n",
    "knowledge_train"
   ],
   "metadata": {
    "collapsed": false,
    "pycharm": {
     "name": "#%%\n"
    }
   }
  },
  {
   "cell_type": "code",
   "execution_count": 864,
   "outputs": [],
   "source": [
    "# 最后合并一下\n",
    "base_train = base_train.merge(knowledge_train,on='ID',how='left')"
   ],
   "metadata": {
    "collapsed": false,
    "pycharm": {
     "name": "#%%\n"
    }
   }
  },
  {
   "cell_type": "code",
   "execution_count": 865,
   "outputs": [
    {
     "name": "stdout",
     "output_type": "stream",
     "text": [
      "<class 'pandas.core.frame.DataFrame'>\n",
      "Int64Index: 28230 entries, 0 to 28229\n",
      "Data columns (total 9 columns):\n",
      " #   Column   Non-Null Count  Dtype  \n",
      "---  ------   --------------  -----  \n",
      " 0   ID       28230 non-null  int64  \n",
      " 1   注册时间     28230 non-null  float64\n",
      " 2   注册资本     28230 non-null  float64\n",
      " 3   行业       28230 non-null  int64  \n",
      " 4   企业类型     28230 non-null  int64  \n",
      " 5   控制人类型    28230 non-null  int64  \n",
      " 6   控制人持股比例  28230 non-null  float64\n",
      " 7   flag     28230 non-null  int64  \n",
      " 8   知识产权     28230 non-null  float64\n",
      "dtypes: float64(4), int64(5)\n",
      "memory usage: 2.2 MB\n"
     ]
    }
   ],
   "source": [
    "base_train.info()"
   ],
   "metadata": {
    "collapsed": false,
    "pycharm": {
     "name": "#%%\n"
    }
   }
  },
  {
   "cell_type": "markdown",
   "source": [
    "3. money_train表数据处理\n",
    "\n",
    "    3.1 查看数据与结构\n",
    "\n",
    "    3.2 缺失值处理（直接删除该行）\n",
    "\n",
    "    3.3 特征融合\n",
    "\n",
    "    3.4 处理3年财报信息\n",
    "\n",
    "    3.5 合并到base_train中"
   ],
   "metadata": {
    "collapsed": false
   }
  },
  {
   "cell_type": "code",
   "execution_count": 866,
   "outputs": [
    {
     "data": {
      "text/plain": "     ID    year  债权融资额度  债权融资成本   股权融资额度   股权融资成本  内部融资和贸易融资额度  内部融资和贸易融资成本  \\\n0    28  2015.0     0.0     0.0      0.0    0.000      21648.0      1298.88   \n1   230  2015.0     0.0     0.0      0.0    0.000          0.0         0.00   \n2   693  2015.0     0.0     0.0      0.0    0.000          0.0         0.00   \n3   990     NaN     0.0     0.0      0.0    0.000          0.0         0.00   \n4  1274  2015.0     0.0     0.0  11085.2  443.408          0.0         0.00   \n\n   项目融资和政策融资额度  项目融资和政策融资成本  \n0          0.0        0.000  \n1        470.4       28.224  \n2       5350.4      321.024  \n3        675.2       40.512  \n4          NaN        0.000  ",
      "text/html": "<div>\n<style scoped>\n    .dataframe tbody tr th:only-of-type {\n        vertical-align: middle;\n    }\n\n    .dataframe tbody tr th {\n        vertical-align: top;\n    }\n\n    .dataframe thead th {\n        text-align: right;\n    }\n</style>\n<table border=\"1\" class=\"dataframe\">\n  <thead>\n    <tr style=\"text-align: right;\">\n      <th></th>\n      <th>ID</th>\n      <th>year</th>\n      <th>债权融资额度</th>\n      <th>债权融资成本</th>\n      <th>股权融资额度</th>\n      <th>股权融资成本</th>\n      <th>内部融资和贸易融资额度</th>\n      <th>内部融资和贸易融资成本</th>\n      <th>项目融资和政策融资额度</th>\n      <th>项目融资和政策融资成本</th>\n    </tr>\n  </thead>\n  <tbody>\n    <tr>\n      <th>0</th>\n      <td>28</td>\n      <td>2015.0</td>\n      <td>0.0</td>\n      <td>0.0</td>\n      <td>0.0</td>\n      <td>0.000</td>\n      <td>21648.0</td>\n      <td>1298.88</td>\n      <td>0.0</td>\n      <td>0.000</td>\n    </tr>\n    <tr>\n      <th>1</th>\n      <td>230</td>\n      <td>2015.0</td>\n      <td>0.0</td>\n      <td>0.0</td>\n      <td>0.0</td>\n      <td>0.000</td>\n      <td>0.0</td>\n      <td>0.00</td>\n      <td>470.4</td>\n      <td>28.224</td>\n    </tr>\n    <tr>\n      <th>2</th>\n      <td>693</td>\n      <td>2015.0</td>\n      <td>0.0</td>\n      <td>0.0</td>\n      <td>0.0</td>\n      <td>0.000</td>\n      <td>0.0</td>\n      <td>0.00</td>\n      <td>5350.4</td>\n      <td>321.024</td>\n    </tr>\n    <tr>\n      <th>3</th>\n      <td>990</td>\n      <td>NaN</td>\n      <td>0.0</td>\n      <td>0.0</td>\n      <td>0.0</td>\n      <td>0.000</td>\n      <td>0.0</td>\n      <td>0.00</td>\n      <td>675.2</td>\n      <td>40.512</td>\n    </tr>\n    <tr>\n      <th>4</th>\n      <td>1274</td>\n      <td>2015.0</td>\n      <td>0.0</td>\n      <td>0.0</td>\n      <td>11085.2</td>\n      <td>443.408</td>\n      <td>0.0</td>\n      <td>0.00</td>\n      <td>NaN</td>\n      <td>0.000</td>\n    </tr>\n  </tbody>\n</table>\n</div>"
     },
     "execution_count": 866,
     "metadata": {},
     "output_type": "execute_result"
    }
   ],
   "source": [
    "# 3.1 查看数据与结构\n",
    "money_train.head()"
   ],
   "metadata": {
    "collapsed": false,
    "pycharm": {
     "name": "#%%\n"
    }
   }
  },
  {
   "cell_type": "code",
   "execution_count": 867,
   "outputs": [
    {
     "name": "stdout",
     "output_type": "stream",
     "text": [
      "<class 'pandas.core.frame.DataFrame'>\n",
      "RangeIndex: 85548 entries, 0 to 85547\n",
      "Data columns (total 10 columns):\n",
      " #   Column       Non-Null Count  Dtype  \n",
      "---  ------       --------------  -----  \n",
      " 0   ID           85548 non-null  int64  \n",
      " 1   year         84703 non-null  float64\n",
      " 2   债权融资额度       84739 non-null  float64\n",
      " 3   债权融资成本       84667 non-null  float64\n",
      " 4   股权融资额度       84699 non-null  float64\n",
      " 5   股权融资成本       84672 non-null  float64\n",
      " 6   内部融资和贸易融资额度  84740 non-null  float64\n",
      " 7   内部融资和贸易融资成本  84720 non-null  float64\n",
      " 8   项目融资和政策融资额度  84686 non-null  float64\n",
      " 9   项目融资和政策融资成本  84695 non-null  float64\n",
      "dtypes: float64(9), int64(1)\n",
      "memory usage: 6.5 MB\n"
     ]
    }
   ],
   "source": [
    "money_train.info()"
   ],
   "metadata": {
    "collapsed": false,
    "pycharm": {
     "name": "#%%\n"
    }
   }
  },
  {
   "cell_type": "code",
   "execution_count": 868,
   "outputs": [],
   "source": [
    "# 3.2 有缺失值的直接删除该行即可\n",
    "money_train.dropna(how='any',inplace=True)"
   ],
   "metadata": {
    "collapsed": false,
    "pycharm": {
     "name": "#%%\n"
    }
   }
  },
  {
   "cell_type": "code",
   "execution_count": 869,
   "outputs": [
    {
     "data": {
      "text/plain": "            ID    year   债权融资额度   债权融资成本  股权融资额度  股权融资成本  内部融资和贸易融资额度  \\\n0           28  2015.0      0.0     0.00     0.0     0.0      21648.0   \n1          230  2015.0      0.0     0.00     0.0     0.0          0.0   \n2          693  2015.0      0.0     0.00     0.0     0.0          0.0   \n5         1560  2015.0      0.0     0.00  5880.0   235.2          0.0   \n6         3261  2015.0      0.0     0.00     0.0     0.0          0.0   \n...        ...     ...      ...      ...     ...     ...          ...   \n85542  5999992  2017.0      0.0     0.00     0.0     0.0       4989.6   \n85543  5999993  2017.0      0.0     0.00     0.0     0.0          0.0   \n85545  5999995  2017.0  82025.0  6562.00     0.0     0.0          0.0   \n85546  5999997  2017.0  14448.0  1155.84     0.0     0.0          0.0   \n85547  5999999  2017.0      0.0     0.00     0.0     0.0          0.0   \n\n       内部融资和贸易融资成本  项目融资和政策融资额度  项目融资和政策融资成本  \n0         1298.880          0.0        0.000  \n1            0.000        470.4       28.224  \n2            0.000       5350.4      321.024  \n5            0.000          0.0        0.000  \n6            0.000      16680.0     1000.800  \n...            ...          ...          ...  \n85542      299.376          0.0        0.000  \n85543        0.000       1806.0      108.360  \n85545        0.000          0.0        0.000  \n85546        0.000          0.0        0.000  \n85547        0.000        821.7       49.302  \n\n[78235 rows x 10 columns]",
      "text/html": "<div>\n<style scoped>\n    .dataframe tbody tr th:only-of-type {\n        vertical-align: middle;\n    }\n\n    .dataframe tbody tr th {\n        vertical-align: top;\n    }\n\n    .dataframe thead th {\n        text-align: right;\n    }\n</style>\n<table border=\"1\" class=\"dataframe\">\n  <thead>\n    <tr style=\"text-align: right;\">\n      <th></th>\n      <th>ID</th>\n      <th>year</th>\n      <th>债权融资额度</th>\n      <th>债权融资成本</th>\n      <th>股权融资额度</th>\n      <th>股权融资成本</th>\n      <th>内部融资和贸易融资额度</th>\n      <th>内部融资和贸易融资成本</th>\n      <th>项目融资和政策融资额度</th>\n      <th>项目融资和政策融资成本</th>\n    </tr>\n  </thead>\n  <tbody>\n    <tr>\n      <th>0</th>\n      <td>28</td>\n      <td>2015.0</td>\n      <td>0.0</td>\n      <td>0.00</td>\n      <td>0.0</td>\n      <td>0.0</td>\n      <td>21648.0</td>\n      <td>1298.880</td>\n      <td>0.0</td>\n      <td>0.000</td>\n    </tr>\n    <tr>\n      <th>1</th>\n      <td>230</td>\n      <td>2015.0</td>\n      <td>0.0</td>\n      <td>0.00</td>\n      <td>0.0</td>\n      <td>0.0</td>\n      <td>0.0</td>\n      <td>0.000</td>\n      <td>470.4</td>\n      <td>28.224</td>\n    </tr>\n    <tr>\n      <th>2</th>\n      <td>693</td>\n      <td>2015.0</td>\n      <td>0.0</td>\n      <td>0.00</td>\n      <td>0.0</td>\n      <td>0.0</td>\n      <td>0.0</td>\n      <td>0.000</td>\n      <td>5350.4</td>\n      <td>321.024</td>\n    </tr>\n    <tr>\n      <th>5</th>\n      <td>1560</td>\n      <td>2015.0</td>\n      <td>0.0</td>\n      <td>0.00</td>\n      <td>5880.0</td>\n      <td>235.2</td>\n      <td>0.0</td>\n      <td>0.000</td>\n      <td>0.0</td>\n      <td>0.000</td>\n    </tr>\n    <tr>\n      <th>6</th>\n      <td>3261</td>\n      <td>2015.0</td>\n      <td>0.0</td>\n      <td>0.00</td>\n      <td>0.0</td>\n      <td>0.0</td>\n      <td>0.0</td>\n      <td>0.000</td>\n      <td>16680.0</td>\n      <td>1000.800</td>\n    </tr>\n    <tr>\n      <th>...</th>\n      <td>...</td>\n      <td>...</td>\n      <td>...</td>\n      <td>...</td>\n      <td>...</td>\n      <td>...</td>\n      <td>...</td>\n      <td>...</td>\n      <td>...</td>\n      <td>...</td>\n    </tr>\n    <tr>\n      <th>85542</th>\n      <td>5999992</td>\n      <td>2017.0</td>\n      <td>0.0</td>\n      <td>0.00</td>\n      <td>0.0</td>\n      <td>0.0</td>\n      <td>4989.6</td>\n      <td>299.376</td>\n      <td>0.0</td>\n      <td>0.000</td>\n    </tr>\n    <tr>\n      <th>85543</th>\n      <td>5999993</td>\n      <td>2017.0</td>\n      <td>0.0</td>\n      <td>0.00</td>\n      <td>0.0</td>\n      <td>0.0</td>\n      <td>0.0</td>\n      <td>0.000</td>\n      <td>1806.0</td>\n      <td>108.360</td>\n    </tr>\n    <tr>\n      <th>85545</th>\n      <td>5999995</td>\n      <td>2017.0</td>\n      <td>82025.0</td>\n      <td>6562.00</td>\n      <td>0.0</td>\n      <td>0.0</td>\n      <td>0.0</td>\n      <td>0.000</td>\n      <td>0.0</td>\n      <td>0.000</td>\n    </tr>\n    <tr>\n      <th>85546</th>\n      <td>5999997</td>\n      <td>2017.0</td>\n      <td>14448.0</td>\n      <td>1155.84</td>\n      <td>0.0</td>\n      <td>0.0</td>\n      <td>0.0</td>\n      <td>0.000</td>\n      <td>0.0</td>\n      <td>0.000</td>\n    </tr>\n    <tr>\n      <th>85547</th>\n      <td>5999999</td>\n      <td>2017.0</td>\n      <td>0.0</td>\n      <td>0.00</td>\n      <td>0.0</td>\n      <td>0.0</td>\n      <td>0.0</td>\n      <td>0.000</td>\n      <td>821.7</td>\n      <td>49.302</td>\n    </tr>\n  </tbody>\n</table>\n<p>78235 rows × 10 columns</p>\n</div>"
     },
     "execution_count": 869,
     "metadata": {},
     "output_type": "execute_result"
    }
   ],
   "source": [
    "money_train"
   ],
   "metadata": {
    "collapsed": false,
    "pycharm": {
     "name": "#%%\n"
    }
   }
  },
  {
   "cell_type": "code",
   "execution_count": 870,
   "outputs": [],
   "source": [
    "# 3.3 特征融合\n",
    "融资额度 = money_train[['债权融资额度','股权融资额度','内部融资和贸易融资额度','项目融资和政策融资额度']].sum(1)\n",
    "融资成本 = money_train[['债权融资成本','股权融资成本','内部融资和贸易融资成本','项目融资和政策融资成本']].sum(1)"
   ],
   "metadata": {
    "collapsed": false,
    "pycharm": {
     "name": "#%%\n"
    }
   }
  },
  {
   "cell_type": "code",
   "execution_count": 871,
   "outputs": [],
   "source": [
    "# 将融资情况汇总\n",
    "融资情况=融资额度-融资成本\n",
    "融资情况=pd.DataFrame({'融资情况':融资情况})\n",
    "money_train = pd.concat([money_train,融资情况],axis=1)"
   ],
   "metadata": {
    "collapsed": false,
    "pycharm": {
     "name": "#%%\n"
    }
   }
  },
  {
   "cell_type": "code",
   "execution_count": 872,
   "outputs": [],
   "source": [
    "# 只需要保留融和后的信息即可\n",
    "money_train.drop(columns=['债权融资额度','股权融资额度','内部融资和贸易融资额度','项目融资和政策融资额度','债权融资成本','股权融资成本','内部融资和贸易融资成本','项目融资和政策融资成本'],\n",
    "                 inplace=True)"
   ],
   "metadata": {
    "collapsed": false,
    "pycharm": {
     "name": "#%%\n"
    }
   }
  },
  {
   "cell_type": "code",
   "execution_count": 873,
   "outputs": [
    {
     "name": "stderr",
     "output_type": "stream",
     "text": [
      "c:\\users\\rikoo\\dev\\env\\anaconda3\\envs\\py36\\lib\\site-packages\\pandas\\core\\frame.py:4308: SettingWithCopyWarning: \n",
      "A value is trying to be set on a copy of a slice from a DataFrame\n",
      "\n",
      "See the caveats in the documentation: https://pandas.pydata.org/pandas-docs/stable/user_guide/indexing.html#returning-a-view-versus-a-copy\n",
      "  errors=errors,\n",
      "c:\\users\\rikoo\\dev\\env\\anaconda3\\envs\\py36\\lib\\site-packages\\pandas\\core\\frame.py:4174: SettingWithCopyWarning: \n",
      "A value is trying to be set on a copy of a slice from a DataFrame\n",
      "\n",
      "See the caveats in the documentation: https://pandas.pydata.org/pandas-docs/stable/user_guide/indexing.html#returning-a-view-versus-a-copy\n",
      "  errors=errors,\n",
      "c:\\users\\rikoo\\dev\\env\\anaconda3\\envs\\py36\\lib\\site-packages\\pandas\\core\\frame.py:4308: SettingWithCopyWarning: \n",
      "A value is trying to be set on a copy of a slice from a DataFrame\n",
      "\n",
      "See the caveats in the documentation: https://pandas.pydata.org/pandas-docs/stable/user_guide/indexing.html#returning-a-view-versus-a-copy\n",
      "  errors=errors,\n",
      "c:\\users\\rikoo\\dev\\env\\anaconda3\\envs\\py36\\lib\\site-packages\\pandas\\core\\frame.py:4174: SettingWithCopyWarning: \n",
      "A value is trying to be set on a copy of a slice from a DataFrame\n",
      "\n",
      "See the caveats in the documentation: https://pandas.pydata.org/pandas-docs/stable/user_guide/indexing.html#returning-a-view-versus-a-copy\n",
      "  errors=errors,\n",
      "c:\\users\\rikoo\\dev\\env\\anaconda3\\envs\\py36\\lib\\site-packages\\pandas\\core\\frame.py:4308: SettingWithCopyWarning: \n",
      "A value is trying to be set on a copy of a slice from a DataFrame\n",
      "\n",
      "See the caveats in the documentation: https://pandas.pydata.org/pandas-docs/stable/user_guide/indexing.html#returning-a-view-versus-a-copy\n",
      "  errors=errors,\n",
      "c:\\users\\rikoo\\dev\\env\\anaconda3\\envs\\py36\\lib\\site-packages\\pandas\\core\\frame.py:4174: SettingWithCopyWarning: \n",
      "A value is trying to be set on a copy of a slice from a DataFrame\n",
      "\n",
      "See the caveats in the documentation: https://pandas.pydata.org/pandas-docs/stable/user_guide/indexing.html#returning-a-view-versus-a-copy\n",
      "  errors=errors,\n"
     ]
    }
   ],
   "source": [
    "# 3.4 处理15年财报信息\n",
    "# 取出信息\n",
    "money_2015 = money_train.iloc[(money_train['year']==2015).values]\n",
    "# 改名\n",
    "money_2015.rename(columns={\n",
    "    '融资情况':'融资情况_2015'\n",
    "},inplace=True)\n",
    "# 年份列不再需要\n",
    "money_2015.drop(columns=['year'],inplace=True)\n",
    "money_2015.head()\n",
    "money_2016 = money_train.iloc[(money_train['year']==2016).values]\n",
    "money_2016.rename(columns={\n",
    "    '融资情况':'融资情况_2016'\n",
    "},inplace=True)\n",
    "money_2016.drop(columns=['year'],inplace=True)\n",
    "money_2017 = money_train.iloc[(money_train['year']==2017).values]\n",
    "money_2017.rename(columns={\n",
    "    '融资情况':'融资情况_2017'\n",
    "},inplace=True)\n",
    "money_2017.drop(columns=['year'],inplace=True)"
   ],
   "metadata": {
    "collapsed": false,
    "pycharm": {
     "name": "#%%\n"
    }
   }
  },
  {
   "cell_type": "code",
   "execution_count": 874,
   "outputs": [
    {
     "data": {
      "text/plain": "            ID  注册时间    注册资本  行业  企业类型  控制人类型  控制人持股比例  flag  知识产权  融资情况_2015  \\\n2      5998154  15.0  9720.0   3    20     10     0.74     0   2.0        NaN   \n3      5984390  17.0  4800.0   4    30     30     0.90     0   0.0   20459.52   \n11     5991019   9.0  9830.0   1    50     20     0.67     0   0.0        NaN   \n12     5995295   3.0  5530.0   3    40     20     0.85     0   3.0        NaN   \n33     5985584   7.0  2220.0   5    20     20     0.78     0   2.0        NaN   \n...        ...   ...     ...  ..   ...    ...      ...   ...   ...        ...   \n28205  3360683  14.0  3160.0   3    10     20     0.70     1   1.0        NaN   \n28207   913371   5.0  7530.0   3    20     10     0.97     1   2.0    4246.92   \n28211  2085902  15.0  6630.0   2    20     20     0.59     1   2.0        NaN   \n28219   521096  10.0  4150.0   3    50     20     0.55     1   0.0   15272.00   \n28222  2406850  17.0  9450.0   4    20     20     0.69     1   0.0    3997.35   \n\n        融资情况_2016  融资情况_2017  \n2       1045.0944  139968.00  \n3             NaN   46022.40  \n11       905.9328   12739.68  \n12      4070.0800    7631.40  \n33      3130.2000    7148.40  \n...           ...        ...  \n28205  28961.4000        NaN  \n28207   4246.9200        NaN  \n28211   7128.5760   27448.20  \n28219         NaN    1170.30  \n28222  89540.6400        NaN  \n\n[6665 rows x 12 columns]",
      "text/html": "<div>\n<style scoped>\n    .dataframe tbody tr th:only-of-type {\n        vertical-align: middle;\n    }\n\n    .dataframe tbody tr th {\n        vertical-align: top;\n    }\n\n    .dataframe thead th {\n        text-align: right;\n    }\n</style>\n<table border=\"1\" class=\"dataframe\">\n  <thead>\n    <tr style=\"text-align: right;\">\n      <th></th>\n      <th>ID</th>\n      <th>注册时间</th>\n      <th>注册资本</th>\n      <th>行业</th>\n      <th>企业类型</th>\n      <th>控制人类型</th>\n      <th>控制人持股比例</th>\n      <th>flag</th>\n      <th>知识产权</th>\n      <th>融资情况_2015</th>\n      <th>融资情况_2016</th>\n      <th>融资情况_2017</th>\n    </tr>\n  </thead>\n  <tbody>\n    <tr>\n      <th>2</th>\n      <td>5998154</td>\n      <td>15.0</td>\n      <td>9720.0</td>\n      <td>3</td>\n      <td>20</td>\n      <td>10</td>\n      <td>0.74</td>\n      <td>0</td>\n      <td>2.0</td>\n      <td>NaN</td>\n      <td>1045.0944</td>\n      <td>139968.00</td>\n    </tr>\n    <tr>\n      <th>3</th>\n      <td>5984390</td>\n      <td>17.0</td>\n      <td>4800.0</td>\n      <td>4</td>\n      <td>30</td>\n      <td>30</td>\n      <td>0.90</td>\n      <td>0</td>\n      <td>0.0</td>\n      <td>20459.52</td>\n      <td>NaN</td>\n      <td>46022.40</td>\n    </tr>\n    <tr>\n      <th>11</th>\n      <td>5991019</td>\n      <td>9.0</td>\n      <td>9830.0</td>\n      <td>1</td>\n      <td>50</td>\n      <td>20</td>\n      <td>0.67</td>\n      <td>0</td>\n      <td>0.0</td>\n      <td>NaN</td>\n      <td>905.9328</td>\n      <td>12739.68</td>\n    </tr>\n    <tr>\n      <th>12</th>\n      <td>5995295</td>\n      <td>3.0</td>\n      <td>5530.0</td>\n      <td>3</td>\n      <td>40</td>\n      <td>20</td>\n      <td>0.85</td>\n      <td>0</td>\n      <td>3.0</td>\n      <td>NaN</td>\n      <td>4070.0800</td>\n      <td>7631.40</td>\n    </tr>\n    <tr>\n      <th>33</th>\n      <td>5985584</td>\n      <td>7.0</td>\n      <td>2220.0</td>\n      <td>5</td>\n      <td>20</td>\n      <td>20</td>\n      <td>0.78</td>\n      <td>0</td>\n      <td>2.0</td>\n      <td>NaN</td>\n      <td>3130.2000</td>\n      <td>7148.40</td>\n    </tr>\n    <tr>\n      <th>...</th>\n      <td>...</td>\n      <td>...</td>\n      <td>...</td>\n      <td>...</td>\n      <td>...</td>\n      <td>...</td>\n      <td>...</td>\n      <td>...</td>\n      <td>...</td>\n      <td>...</td>\n      <td>...</td>\n      <td>...</td>\n    </tr>\n    <tr>\n      <th>28205</th>\n      <td>3360683</td>\n      <td>14.0</td>\n      <td>3160.0</td>\n      <td>3</td>\n      <td>10</td>\n      <td>20</td>\n      <td>0.70</td>\n      <td>1</td>\n      <td>1.0</td>\n      <td>NaN</td>\n      <td>28961.4000</td>\n      <td>NaN</td>\n    </tr>\n    <tr>\n      <th>28207</th>\n      <td>913371</td>\n      <td>5.0</td>\n      <td>7530.0</td>\n      <td>3</td>\n      <td>20</td>\n      <td>10</td>\n      <td>0.97</td>\n      <td>1</td>\n      <td>2.0</td>\n      <td>4246.92</td>\n      <td>4246.9200</td>\n      <td>NaN</td>\n    </tr>\n    <tr>\n      <th>28211</th>\n      <td>2085902</td>\n      <td>15.0</td>\n      <td>6630.0</td>\n      <td>2</td>\n      <td>20</td>\n      <td>20</td>\n      <td>0.59</td>\n      <td>1</td>\n      <td>2.0</td>\n      <td>NaN</td>\n      <td>7128.5760</td>\n      <td>27448.20</td>\n    </tr>\n    <tr>\n      <th>28219</th>\n      <td>521096</td>\n      <td>10.0</td>\n      <td>4150.0</td>\n      <td>3</td>\n      <td>50</td>\n      <td>20</td>\n      <td>0.55</td>\n      <td>1</td>\n      <td>0.0</td>\n      <td>15272.00</td>\n      <td>NaN</td>\n      <td>1170.30</td>\n    </tr>\n    <tr>\n      <th>28222</th>\n      <td>2406850</td>\n      <td>17.0</td>\n      <td>9450.0</td>\n      <td>4</td>\n      <td>20</td>\n      <td>20</td>\n      <td>0.69</td>\n      <td>1</td>\n      <td>0.0</td>\n      <td>3997.35</td>\n      <td>89540.6400</td>\n      <td>NaN</td>\n    </tr>\n  </tbody>\n</table>\n<p>6665 rows × 12 columns</p>\n</div>"
     },
     "execution_count": 874,
     "metadata": {},
     "output_type": "execute_result"
    }
   ],
   "source": [
    "# 3.5 合并到base_train表中\n",
    "base_train = base_train.merge(money_2015,on='ID',how='left')\n",
    "base_train = base_train.merge(money_2016,on='ID',how='left')\n",
    "base_train = base_train.merge(money_2017,on='ID',how='left')\n",
    "# 居然有4033行都有缺失数据，也就是可能有些公司的某一年融资情况为空\n",
    "base_train.loc[base_train.isna().any(1)]"
   ],
   "metadata": {
    "collapsed": false,
    "pycharm": {
     "name": "#%%\n"
    }
   }
  },
  {
   "cell_type": "code",
   "execution_count": 875,
   "outputs": [],
   "source": [
    "# 直接用0填充\n",
    "base_train.fillna(0,inplace=True)"
   ],
   "metadata": {
    "collapsed": false,
    "pycharm": {
     "name": "#%%\n"
    }
   }
  },
  {
   "cell_type": "code",
   "execution_count": 876,
   "outputs": [
    {
     "data": {
      "text/plain": "Empty DataFrame\nColumns: [ID, 注册时间, 注册资本, 行业, 企业类型, 控制人类型, 控制人持股比例, flag, 知识产权, 融资情况_2015, 融资情况_2016, 融资情况_2017]\nIndex: []",
      "text/html": "<div>\n<style scoped>\n    .dataframe tbody tr th:only-of-type {\n        vertical-align: middle;\n    }\n\n    .dataframe tbody tr th {\n        vertical-align: top;\n    }\n\n    .dataframe thead th {\n        text-align: right;\n    }\n</style>\n<table border=\"1\" class=\"dataframe\">\n  <thead>\n    <tr style=\"text-align: right;\">\n      <th></th>\n      <th>ID</th>\n      <th>注册时间</th>\n      <th>注册资本</th>\n      <th>行业</th>\n      <th>企业类型</th>\n      <th>控制人类型</th>\n      <th>控制人持股比例</th>\n      <th>flag</th>\n      <th>知识产权</th>\n      <th>融资情况_2015</th>\n      <th>融资情况_2016</th>\n      <th>融资情况_2017</th>\n    </tr>\n  </thead>\n  <tbody>\n  </tbody>\n</table>\n</div>"
     },
     "execution_count": 876,
     "metadata": {},
     "output_type": "execute_result"
    }
   ],
   "source": [
    "base_train.loc[base_train.isna().any(1)]"
   ],
   "metadata": {
    "collapsed": false,
    "pycharm": {
     "name": "#%%\n"
    }
   }
  },
  {
   "cell_type": "markdown",
   "source": [
    "4 year_train表数据处理"
   ],
   "metadata": {
    "collapsed": false
   }
  },
  {
   "cell_type": "code",
   "execution_count": 877,
   "outputs": [
    {
     "data": {
      "text/plain": "     ID    year   从业人数      资产总额      负债总额     营业总收入    主营业务收入      利润总额  \\\n0    28  2015.0  794.0   16400.0   28700.0   72160.0   28864.0    7216.0   \n1   230  2015.0  485.0   23520.0   10080.0  115248.0   57624.0   57624.0   \n2   693  2015.0  534.0  133760.0  125400.0  655424.0  262169.6  196627.2   \n3   990  2015.0  863.0   33760.0   25320.0  145168.0   58067.2   14516.8   \n4  1274  2015.0  254.0   74900.0  104325.0  277130.0  110852.0   55426.0   \n\n   纳税总额  所有者权益合计  \n0   0.0 -12300.0  \n1   0.0  13440.0  \n2   0.0   8360.0  \n3   0.0   8440.0  \n4   0.0 -29425.0  ",
      "text/html": "<div>\n<style scoped>\n    .dataframe tbody tr th:only-of-type {\n        vertical-align: middle;\n    }\n\n    .dataframe tbody tr th {\n        vertical-align: top;\n    }\n\n    .dataframe thead th {\n        text-align: right;\n    }\n</style>\n<table border=\"1\" class=\"dataframe\">\n  <thead>\n    <tr style=\"text-align: right;\">\n      <th></th>\n      <th>ID</th>\n      <th>year</th>\n      <th>从业人数</th>\n      <th>资产总额</th>\n      <th>负债总额</th>\n      <th>营业总收入</th>\n      <th>主营业务收入</th>\n      <th>利润总额</th>\n      <th>纳税总额</th>\n      <th>所有者权益合计</th>\n    </tr>\n  </thead>\n  <tbody>\n    <tr>\n      <th>0</th>\n      <td>28</td>\n      <td>2015.0</td>\n      <td>794.0</td>\n      <td>16400.0</td>\n      <td>28700.0</td>\n      <td>72160.0</td>\n      <td>28864.0</td>\n      <td>7216.0</td>\n      <td>0.0</td>\n      <td>-12300.0</td>\n    </tr>\n    <tr>\n      <th>1</th>\n      <td>230</td>\n      <td>2015.0</td>\n      <td>485.0</td>\n      <td>23520.0</td>\n      <td>10080.0</td>\n      <td>115248.0</td>\n      <td>57624.0</td>\n      <td>57624.0</td>\n      <td>0.0</td>\n      <td>13440.0</td>\n    </tr>\n    <tr>\n      <th>2</th>\n      <td>693</td>\n      <td>2015.0</td>\n      <td>534.0</td>\n      <td>133760.0</td>\n      <td>125400.0</td>\n      <td>655424.0</td>\n      <td>262169.6</td>\n      <td>196627.2</td>\n      <td>0.0</td>\n      <td>8360.0</td>\n    </tr>\n    <tr>\n      <th>3</th>\n      <td>990</td>\n      <td>2015.0</td>\n      <td>863.0</td>\n      <td>33760.0</td>\n      <td>25320.0</td>\n      <td>145168.0</td>\n      <td>58067.2</td>\n      <td>14516.8</td>\n      <td>0.0</td>\n      <td>8440.0</td>\n    </tr>\n    <tr>\n      <th>4</th>\n      <td>1274</td>\n      <td>2015.0</td>\n      <td>254.0</td>\n      <td>74900.0</td>\n      <td>104325.0</td>\n      <td>277130.0</td>\n      <td>110852.0</td>\n      <td>55426.0</td>\n      <td>0.0</td>\n      <td>-29425.0</td>\n    </tr>\n  </tbody>\n</table>\n</div>"
     },
     "execution_count": 877,
     "metadata": {},
     "output_type": "execute_result"
    }
   ],
   "source": [
    "year_train.head()"
   ],
   "metadata": {
    "collapsed": false,
    "pycharm": {
     "name": "#%%\n"
    }
   }
  },
  {
   "cell_type": "markdown",
   "source": [
    "2015年"
   ],
   "metadata": {
    "collapsed": false
   }
  },
  {
   "cell_type": "code",
   "execution_count": 878,
   "outputs": [],
   "source": [
    "year_2015 = year_train.iloc[(year_train['year']==2015).values]"
   ],
   "metadata": {
    "collapsed": false,
    "pycharm": {
     "name": "#%%\n"
    }
   }
  },
  {
   "cell_type": "code",
   "execution_count": 879,
   "outputs": [
    {
     "name": "stderr",
     "output_type": "stream",
     "text": [
      "c:\\users\\rikoo\\dev\\env\\anaconda3\\envs\\py36\\lib\\site-packages\\pandas\\core\\frame.py:4308: SettingWithCopyWarning: \n",
      "A value is trying to be set on a copy of a slice from a DataFrame\n",
      "\n",
      "See the caveats in the documentation: https://pandas.pydata.org/pandas-docs/stable/user_guide/indexing.html#returning-a-view-versus-a-copy\n",
      "  errors=errors,\n"
     ]
    }
   ],
   "source": [
    "year_2015.rename(columns={\n",
    "    '从业人数':'从业人数_2015',\n",
    "    '资产总额':'资产总额_2015',\n",
    "    '负债总额':'负债总额_2015',\n",
    "    '主营业务收入':'主营业务收入_2015',\n",
    "    '净利润':'净利润_2015',\n",
    "    '所有者权益合计':'所有者权益合计_2015'\n",
    "},inplace=True)"
   ],
   "metadata": {
    "collapsed": false,
    "pycharm": {
     "name": "#%%\n"
    }
   }
  },
  {
   "cell_type": "code",
   "execution_count": 880,
   "outputs": [
    {
     "name": "stderr",
     "output_type": "stream",
     "text": [
      "c:\\users\\rikoo\\dev\\env\\anaconda3\\envs\\py36\\lib\\site-packages\\pandas\\core\\frame.py:4174: SettingWithCopyWarning: \n",
      "A value is trying to be set on a copy of a slice from a DataFrame\n",
      "\n",
      "See the caveats in the documentation: https://pandas.pydata.org/pandas-docs/stable/user_guide/indexing.html#returning-a-view-versus-a-copy\n",
      "  errors=errors,\n"
     ]
    }
   ],
   "source": [
    "year_2015.drop(columns=['year','纳税总额','利润总额','营业总收入'],inplace=True)"
   ],
   "metadata": {
    "collapsed": false,
    "pycharm": {
     "name": "#%%\n"
    }
   }
  },
  {
   "cell_type": "code",
   "execution_count": 881,
   "outputs": [
    {
     "data": {
      "text/plain": "     ID  从业人数_2015  资产总额_2015  负债总额_2015  主营业务收入_2015  所有者权益合计_2015\n0    28      794.0    16400.0    28700.0      28864.0      -12300.0\n1   230      485.0    23520.0    10080.0      57624.0       13440.0\n2   693      534.0   133760.0   125400.0     262169.6        8360.0\n3   990      863.0    33760.0    25320.0      58067.2        8440.0\n4  1274      254.0    74900.0   104325.0     110852.0      -29425.0",
      "text/html": "<div>\n<style scoped>\n    .dataframe tbody tr th:only-of-type {\n        vertical-align: middle;\n    }\n\n    .dataframe tbody tr th {\n        vertical-align: top;\n    }\n\n    .dataframe thead th {\n        text-align: right;\n    }\n</style>\n<table border=\"1\" class=\"dataframe\">\n  <thead>\n    <tr style=\"text-align: right;\">\n      <th></th>\n      <th>ID</th>\n      <th>从业人数_2015</th>\n      <th>资产总额_2015</th>\n      <th>负债总额_2015</th>\n      <th>主营业务收入_2015</th>\n      <th>所有者权益合计_2015</th>\n    </tr>\n  </thead>\n  <tbody>\n    <tr>\n      <th>0</th>\n      <td>28</td>\n      <td>794.0</td>\n      <td>16400.0</td>\n      <td>28700.0</td>\n      <td>28864.0</td>\n      <td>-12300.0</td>\n    </tr>\n    <tr>\n      <th>1</th>\n      <td>230</td>\n      <td>485.0</td>\n      <td>23520.0</td>\n      <td>10080.0</td>\n      <td>57624.0</td>\n      <td>13440.0</td>\n    </tr>\n    <tr>\n      <th>2</th>\n      <td>693</td>\n      <td>534.0</td>\n      <td>133760.0</td>\n      <td>125400.0</td>\n      <td>262169.6</td>\n      <td>8360.0</td>\n    </tr>\n    <tr>\n      <th>3</th>\n      <td>990</td>\n      <td>863.0</td>\n      <td>33760.0</td>\n      <td>25320.0</td>\n      <td>58067.2</td>\n      <td>8440.0</td>\n    </tr>\n    <tr>\n      <th>4</th>\n      <td>1274</td>\n      <td>254.0</td>\n      <td>74900.0</td>\n      <td>104325.0</td>\n      <td>110852.0</td>\n      <td>-29425.0</td>\n    </tr>\n  </tbody>\n</table>\n</div>"
     },
     "execution_count": 881,
     "metadata": {},
     "output_type": "execute_result"
    }
   ],
   "source": [
    "year_2015.head()"
   ],
   "metadata": {
    "collapsed": false,
    "pycharm": {
     "name": "#%%\n"
    }
   }
  },
  {
   "cell_type": "markdown",
   "source": [
    "2016年"
   ],
   "metadata": {
    "collapsed": false
   }
  },
  {
   "cell_type": "code",
   "execution_count": 882,
   "outputs": [],
   "source": [
    "year_2016 = year_train.iloc[(year_train['year']==2016).values]"
   ],
   "metadata": {
    "collapsed": false,
    "pycharm": {
     "name": "#%%\n"
    }
   }
  },
  {
   "cell_type": "code",
   "execution_count": 883,
   "outputs": [
    {
     "name": "stderr",
     "output_type": "stream",
     "text": [
      "c:\\users\\rikoo\\dev\\env\\anaconda3\\envs\\py36\\lib\\site-packages\\pandas\\core\\frame.py:4308: SettingWithCopyWarning: \n",
      "A value is trying to be set on a copy of a slice from a DataFrame\n",
      "\n",
      "See the caveats in the documentation: https://pandas.pydata.org/pandas-docs/stable/user_guide/indexing.html#returning-a-view-versus-a-copy\n",
      "  errors=errors,\n"
     ]
    }
   ],
   "source": [
    "year_2016.rename(columns={\n",
    "    '从业人数':'从业人数_2016',\n",
    "    '资产总额':'资产总额_2016',\n",
    "    '负债总额':'负债总额_2016',\n",
    "    '主营业务收入':'主营业务收入_2016',\n",
    "    '净利润':'净利润_2016',\n",
    "    '所有者权益合计':'所有者权益合计_2016'\n",
    "},inplace=True)"
   ],
   "metadata": {
    "collapsed": false,
    "pycharm": {
     "name": "#%%\n"
    }
   }
  },
  {
   "cell_type": "code",
   "execution_count": 884,
   "outputs": [
    {
     "name": "stderr",
     "output_type": "stream",
     "text": [
      "c:\\users\\rikoo\\dev\\env\\anaconda3\\envs\\py36\\lib\\site-packages\\pandas\\core\\frame.py:4174: SettingWithCopyWarning: \n",
      "A value is trying to be set on a copy of a slice from a DataFrame\n",
      "\n",
      "See the caveats in the documentation: https://pandas.pydata.org/pandas-docs/stable/user_guide/indexing.html#returning-a-view-versus-a-copy\n",
      "  errors=errors,\n"
     ]
    }
   ],
   "source": [
    "year_2016.drop(columns=['year','纳税总额','利润总额','营业总收入'],inplace=True)"
   ],
   "metadata": {
    "collapsed": false,
    "pycharm": {
     "name": "#%%\n"
    }
   }
  },
  {
   "cell_type": "code",
   "execution_count": 885,
   "outputs": [
    {
     "data": {
      "text/plain": "       ID  从业人数_2016  资产总额_2016  负债总额_2016  主营业务收入_2016  所有者权益合计_2016\n108    28      396.0    73800.0    71750.0     173430.0        2050.0\n109   230      365.0    53760.0    50400.0     124723.2        3360.0\n110   693      366.0    41800.0    66880.0      91960.0      -25080.0\n112  1274      122.0   321000.0   315650.0     179760.0        5350.0\n113  1560      143.0   224000.0   325500.0     280000.0     -101500.0",
      "text/html": "<div>\n<style scoped>\n    .dataframe tbody tr th:only-of-type {\n        vertical-align: middle;\n    }\n\n    .dataframe tbody tr th {\n        vertical-align: top;\n    }\n\n    .dataframe thead th {\n        text-align: right;\n    }\n</style>\n<table border=\"1\" class=\"dataframe\">\n  <thead>\n    <tr style=\"text-align: right;\">\n      <th></th>\n      <th>ID</th>\n      <th>从业人数_2016</th>\n      <th>资产总额_2016</th>\n      <th>负债总额_2016</th>\n      <th>主营业务收入_2016</th>\n      <th>所有者权益合计_2016</th>\n    </tr>\n  </thead>\n  <tbody>\n    <tr>\n      <th>108</th>\n      <td>28</td>\n      <td>396.0</td>\n      <td>73800.0</td>\n      <td>71750.0</td>\n      <td>173430.0</td>\n      <td>2050.0</td>\n    </tr>\n    <tr>\n      <th>109</th>\n      <td>230</td>\n      <td>365.0</td>\n      <td>53760.0</td>\n      <td>50400.0</td>\n      <td>124723.2</td>\n      <td>3360.0</td>\n    </tr>\n    <tr>\n      <th>110</th>\n      <td>693</td>\n      <td>366.0</td>\n      <td>41800.0</td>\n      <td>66880.0</td>\n      <td>91960.0</td>\n      <td>-25080.0</td>\n    </tr>\n    <tr>\n      <th>112</th>\n      <td>1274</td>\n      <td>122.0</td>\n      <td>321000.0</td>\n      <td>315650.0</td>\n      <td>179760.0</td>\n      <td>5350.0</td>\n    </tr>\n    <tr>\n      <th>113</th>\n      <td>1560</td>\n      <td>143.0</td>\n      <td>224000.0</td>\n      <td>325500.0</td>\n      <td>280000.0</td>\n      <td>-101500.0</td>\n    </tr>\n  </tbody>\n</table>\n</div>"
     },
     "execution_count": 885,
     "metadata": {},
     "output_type": "execute_result"
    }
   ],
   "source": [
    "year_2016.head()"
   ],
   "metadata": {
    "collapsed": false,
    "pycharm": {
     "name": "#%%\n"
    }
   }
  },
  {
   "cell_type": "markdown",
   "source": [
    "2017年"
   ],
   "metadata": {
    "collapsed": false
   }
  },
  {
   "cell_type": "code",
   "execution_count": 886,
   "outputs": [],
   "source": [
    "year_2017 = year_train.iloc[(year_train['year']==2017).values]"
   ],
   "metadata": {
    "collapsed": false,
    "pycharm": {
     "name": "#%%\n"
    }
   }
  },
  {
   "cell_type": "code",
   "execution_count": 887,
   "outputs": [
    {
     "name": "stderr",
     "output_type": "stream",
     "text": [
      "c:\\users\\rikoo\\dev\\env\\anaconda3\\envs\\py36\\lib\\site-packages\\pandas\\core\\frame.py:4308: SettingWithCopyWarning: \n",
      "A value is trying to be set on a copy of a slice from a DataFrame\n",
      "\n",
      "See the caveats in the documentation: https://pandas.pydata.org/pandas-docs/stable/user_guide/indexing.html#returning-a-view-versus-a-copy\n",
      "  errors=errors,\n"
     ]
    }
   ],
   "source": [
    "year_2017.rename(columns={\n",
    "    '从业人数':'从业人数_2017',\n",
    "    '资产总额':'资产总额_2017',\n",
    "    '负债总额':'负债总额_2017',\n",
    "    '主营业务收入':'主营业务收入_2017',\n",
    "    '净利润':'净利润_2017',\n",
    "    '所有者权益合计':'所有者权益合计_2017'\n",
    "},inplace=True)"
   ],
   "metadata": {
    "collapsed": false,
    "pycharm": {
     "name": "#%%\n"
    }
   }
  },
  {
   "cell_type": "code",
   "execution_count": 888,
   "outputs": [
    {
     "name": "stderr",
     "output_type": "stream",
     "text": [
      "c:\\users\\rikoo\\dev\\env\\anaconda3\\envs\\py36\\lib\\site-packages\\pandas\\core\\frame.py:4174: SettingWithCopyWarning: \n",
      "A value is trying to be set on a copy of a slice from a DataFrame\n",
      "\n",
      "See the caveats in the documentation: https://pandas.pydata.org/pandas-docs/stable/user_guide/indexing.html#returning-a-view-versus-a-copy\n",
      "  errors=errors,\n"
     ]
    }
   ],
   "source": [
    "year_2017.drop(columns=['year','纳税总额','利润总额','营业总收入'],inplace=True)\n",
    "#"
   ],
   "metadata": {
    "collapsed": false,
    "pycharm": {
     "name": "#%%\n"
    }
   }
  },
  {
   "cell_type": "code",
   "execution_count": 889,
   "outputs": [
    {
     "data": {
      "text/plain": "       ID  从业人数_2017  资产总额_2017  负债总额_2017  主营业务收入_2017  所有者权益合计_2017\n216    28      393.0    82000.0   159900.0     103320.0      -77900.0\n217   230      592.0   151200.0   221760.0      15120.0      -70560.0\n218   693      760.0   100320.0    45980.0     128409.6       54340.0\n219   990      880.0    75960.0   101280.0     260542.8      -25320.0\n220  1274      666.0   428000.0   633975.0     928760.0     -205975.0",
      "text/html": "<div>\n<style scoped>\n    .dataframe tbody tr th:only-of-type {\n        vertical-align: middle;\n    }\n\n    .dataframe tbody tr th {\n        vertical-align: top;\n    }\n\n    .dataframe thead th {\n        text-align: right;\n    }\n</style>\n<table border=\"1\" class=\"dataframe\">\n  <thead>\n    <tr style=\"text-align: right;\">\n      <th></th>\n      <th>ID</th>\n      <th>从业人数_2017</th>\n      <th>资产总额_2017</th>\n      <th>负债总额_2017</th>\n      <th>主营业务收入_2017</th>\n      <th>所有者权益合计_2017</th>\n    </tr>\n  </thead>\n  <tbody>\n    <tr>\n      <th>216</th>\n      <td>28</td>\n      <td>393.0</td>\n      <td>82000.0</td>\n      <td>159900.0</td>\n      <td>103320.0</td>\n      <td>-77900.0</td>\n    </tr>\n    <tr>\n      <th>217</th>\n      <td>230</td>\n      <td>592.0</td>\n      <td>151200.0</td>\n      <td>221760.0</td>\n      <td>15120.0</td>\n      <td>-70560.0</td>\n    </tr>\n    <tr>\n      <th>218</th>\n      <td>693</td>\n      <td>760.0</td>\n      <td>100320.0</td>\n      <td>45980.0</td>\n      <td>128409.6</td>\n      <td>54340.0</td>\n    </tr>\n    <tr>\n      <th>219</th>\n      <td>990</td>\n      <td>880.0</td>\n      <td>75960.0</td>\n      <td>101280.0</td>\n      <td>260542.8</td>\n      <td>-25320.0</td>\n    </tr>\n    <tr>\n      <th>220</th>\n      <td>1274</td>\n      <td>666.0</td>\n      <td>428000.0</td>\n      <td>633975.0</td>\n      <td>928760.0</td>\n      <td>-205975.0</td>\n    </tr>\n  </tbody>\n</table>\n</div>"
     },
     "execution_count": 889,
     "metadata": {},
     "output_type": "execute_result"
    }
   ],
   "source": [
    "year_2017.head()"
   ],
   "metadata": {
    "collapsed": false,
    "pycharm": {
     "name": "#%%\n"
    }
   }
  },
  {
   "cell_type": "code",
   "execution_count": 890,
   "outputs": [],
   "source": [
    "base_train = base_train.merge(year_2015,on='ID',how='left')"
   ],
   "metadata": {
    "collapsed": false,
    "pycharm": {
     "name": "#%%\n"
    }
   }
  },
  {
   "cell_type": "code",
   "execution_count": 891,
   "outputs": [],
   "source": [
    "base_train = base_train.merge(year_2016,on='ID',how='left')"
   ],
   "metadata": {
    "collapsed": false,
    "pycharm": {
     "name": "#%%\n"
    }
   }
  },
  {
   "cell_type": "code",
   "execution_count": 892,
   "outputs": [],
   "source": [
    "# base_train = base_train.merge(year_2017,on='ID',how='left')"
   ],
   "metadata": {
    "collapsed": false,
    "pycharm": {
     "name": "#%%\n"
    }
   }
  },
  {
   "cell_type": "code",
   "execution_count": 893,
   "outputs": [
    {
     "data": {
      "text/plain": "            ID  注册时间    注册资本  行业  企业类型  控制人类型  控制人持股比例  flag  知识产权  \\\n1      5991749  10.0  5940.0   1    20     20     0.57     0   2.0   \n13     5993169  14.0  4310.0   6    20     10     0.99     0   2.0   \n22     5986659   8.0  6390.0   1    10     10     0.71     0   2.0   \n32     5989534  11.0  9830.0   2    40     30     0.92     0   1.0   \n43     5986159  11.0  5450.0   6    10     30     0.75     0   0.0   \n...        ...   ...     ...  ..   ...    ...      ...   ...   ...   \n28205  3360683  14.0  3160.0   3    10     20     0.70     1   1.0   \n28211  2085902  15.0  6630.0   2    20     20     0.59     1   2.0   \n28212     7706  10.0   580.0   4    30     10     0.93     1   0.0   \n28213  1824305  11.0  9930.0   1    40     20     0.67     1   0.0   \n28228   101731  13.0  5260.0   1    50     10     0.62     1   2.0   \n\n         融资情况_2015  ...  从业人数_2015  资产总额_2015  负债总额_2015  主营业务收入_2015  \\\n1       43338.2400  ...      194.0        NaN   463320.0     316008.0   \n13       9723.3600  ...        NaN   258600.0   127145.0     331008.0   \n22       4324.7520  ...      208.0   153360.0   146970.0          NaN   \n32     208081.4400  ...        NaN   442350.0   865040.0     867006.0   \n43       4149.6300  ...      729.0   147150.0   212550.0      66217.5   \n...            ...  ...        ...        ...        ...          ...   \n28205       0.0000  ...      363.0   151680.0   222780.0     182016.0   \n28211       0.0000  ...      763.0   172380.0   331500.0     320626.8   \n28212     988.8768  ...      253.0     4640.0     4060.0      12017.6   \n28213   71038.4256  ...      596.0   268110.0   258180.0     739983.6   \n28228   33327.3600  ...      916.0   231440.0   226180.0          NaN   \n\n       所有者权益合计_2015  从业人数_2016  资产总额_2016  负债总额_2016  主营业务收入_2016  \\\n1         -225720.0      903.0   213840.0   103950.0      12830.4   \n13         131455.0      899.0   112060.0   107750.0     112060.0   \n22           6390.0      516.0   134190.0   191700.0     161028.0   \n32        -422690.0      195.0   196600.0   186770.0     487568.0   \n43         -65400.0        NaN        NaN        NaN          NaN   \n...             ...        ...        ...        ...          ...   \n28205      -71100.0        NaN        NaN        NaN          NaN   \n28211     -159120.0        NaN   371280.0   729300.0     129948.0   \n28212         580.0        NaN     5220.0     9280.0      16808.4   \n28213        9930.0      183.0   297900.0   431955.0     166824.0   \n28228        5260.0       66.0    63120.0   115720.0     176736.0   \n\n       所有者权益合计_2016  \n1          109890.0  \n13           4310.0  \n22         -57510.0  \n32           9830.0  \n43              NaN  \n...             ...  \n28205           NaN  \n28211     -358020.0  \n28212       -4060.0  \n28213           NaN  \n28228      -52600.0  \n\n[3236 rows x 22 columns]",
      "text/html": "<div>\n<style scoped>\n    .dataframe tbody tr th:only-of-type {\n        vertical-align: middle;\n    }\n\n    .dataframe tbody tr th {\n        vertical-align: top;\n    }\n\n    .dataframe thead th {\n        text-align: right;\n    }\n</style>\n<table border=\"1\" class=\"dataframe\">\n  <thead>\n    <tr style=\"text-align: right;\">\n      <th></th>\n      <th>ID</th>\n      <th>注册时间</th>\n      <th>注册资本</th>\n      <th>行业</th>\n      <th>企业类型</th>\n      <th>控制人类型</th>\n      <th>控制人持股比例</th>\n      <th>flag</th>\n      <th>知识产权</th>\n      <th>融资情况_2015</th>\n      <th>...</th>\n      <th>从业人数_2015</th>\n      <th>资产总额_2015</th>\n      <th>负债总额_2015</th>\n      <th>主营业务收入_2015</th>\n      <th>所有者权益合计_2015</th>\n      <th>从业人数_2016</th>\n      <th>资产总额_2016</th>\n      <th>负债总额_2016</th>\n      <th>主营业务收入_2016</th>\n      <th>所有者权益合计_2016</th>\n    </tr>\n  </thead>\n  <tbody>\n    <tr>\n      <th>1</th>\n      <td>5991749</td>\n      <td>10.0</td>\n      <td>5940.0</td>\n      <td>1</td>\n      <td>20</td>\n      <td>20</td>\n      <td>0.57</td>\n      <td>0</td>\n      <td>2.0</td>\n      <td>43338.2400</td>\n      <td>...</td>\n      <td>194.0</td>\n      <td>NaN</td>\n      <td>463320.0</td>\n      <td>316008.0</td>\n      <td>-225720.0</td>\n      <td>903.0</td>\n      <td>213840.0</td>\n      <td>103950.0</td>\n      <td>12830.4</td>\n      <td>109890.0</td>\n    </tr>\n    <tr>\n      <th>13</th>\n      <td>5993169</td>\n      <td>14.0</td>\n      <td>4310.0</td>\n      <td>6</td>\n      <td>20</td>\n      <td>10</td>\n      <td>0.99</td>\n      <td>0</td>\n      <td>2.0</td>\n      <td>9723.3600</td>\n      <td>...</td>\n      <td>NaN</td>\n      <td>258600.0</td>\n      <td>127145.0</td>\n      <td>331008.0</td>\n      <td>131455.0</td>\n      <td>899.0</td>\n      <td>112060.0</td>\n      <td>107750.0</td>\n      <td>112060.0</td>\n      <td>4310.0</td>\n    </tr>\n    <tr>\n      <th>22</th>\n      <td>5986659</td>\n      <td>8.0</td>\n      <td>6390.0</td>\n      <td>1</td>\n      <td>10</td>\n      <td>10</td>\n      <td>0.71</td>\n      <td>0</td>\n      <td>2.0</td>\n      <td>4324.7520</td>\n      <td>...</td>\n      <td>208.0</td>\n      <td>153360.0</td>\n      <td>146970.0</td>\n      <td>NaN</td>\n      <td>6390.0</td>\n      <td>516.0</td>\n      <td>134190.0</td>\n      <td>191700.0</td>\n      <td>161028.0</td>\n      <td>-57510.0</td>\n    </tr>\n    <tr>\n      <th>32</th>\n      <td>5989534</td>\n      <td>11.0</td>\n      <td>9830.0</td>\n      <td>2</td>\n      <td>40</td>\n      <td>30</td>\n      <td>0.92</td>\n      <td>0</td>\n      <td>1.0</td>\n      <td>208081.4400</td>\n      <td>...</td>\n      <td>NaN</td>\n      <td>442350.0</td>\n      <td>865040.0</td>\n      <td>867006.0</td>\n      <td>-422690.0</td>\n      <td>195.0</td>\n      <td>196600.0</td>\n      <td>186770.0</td>\n      <td>487568.0</td>\n      <td>9830.0</td>\n    </tr>\n    <tr>\n      <th>43</th>\n      <td>5986159</td>\n      <td>11.0</td>\n      <td>5450.0</td>\n      <td>6</td>\n      <td>10</td>\n      <td>30</td>\n      <td>0.75</td>\n      <td>0</td>\n      <td>0.0</td>\n      <td>4149.6300</td>\n      <td>...</td>\n      <td>729.0</td>\n      <td>147150.0</td>\n      <td>212550.0</td>\n      <td>66217.5</td>\n      <td>-65400.0</td>\n      <td>NaN</td>\n      <td>NaN</td>\n      <td>NaN</td>\n      <td>NaN</td>\n      <td>NaN</td>\n    </tr>\n    <tr>\n      <th>...</th>\n      <td>...</td>\n      <td>...</td>\n      <td>...</td>\n      <td>...</td>\n      <td>...</td>\n      <td>...</td>\n      <td>...</td>\n      <td>...</td>\n      <td>...</td>\n      <td>...</td>\n      <td>...</td>\n      <td>...</td>\n      <td>...</td>\n      <td>...</td>\n      <td>...</td>\n      <td>...</td>\n      <td>...</td>\n      <td>...</td>\n      <td>...</td>\n      <td>...</td>\n      <td>...</td>\n    </tr>\n    <tr>\n      <th>28205</th>\n      <td>3360683</td>\n      <td>14.0</td>\n      <td>3160.0</td>\n      <td>3</td>\n      <td>10</td>\n      <td>20</td>\n      <td>0.70</td>\n      <td>1</td>\n      <td>1.0</td>\n      <td>0.0000</td>\n      <td>...</td>\n      <td>363.0</td>\n      <td>151680.0</td>\n      <td>222780.0</td>\n      <td>182016.0</td>\n      <td>-71100.0</td>\n      <td>NaN</td>\n      <td>NaN</td>\n      <td>NaN</td>\n      <td>NaN</td>\n      <td>NaN</td>\n    </tr>\n    <tr>\n      <th>28211</th>\n      <td>2085902</td>\n      <td>15.0</td>\n      <td>6630.0</td>\n      <td>2</td>\n      <td>20</td>\n      <td>20</td>\n      <td>0.59</td>\n      <td>1</td>\n      <td>2.0</td>\n      <td>0.0000</td>\n      <td>...</td>\n      <td>763.0</td>\n      <td>172380.0</td>\n      <td>331500.0</td>\n      <td>320626.8</td>\n      <td>-159120.0</td>\n      <td>NaN</td>\n      <td>371280.0</td>\n      <td>729300.0</td>\n      <td>129948.0</td>\n      <td>-358020.0</td>\n    </tr>\n    <tr>\n      <th>28212</th>\n      <td>7706</td>\n      <td>10.0</td>\n      <td>580.0</td>\n      <td>4</td>\n      <td>30</td>\n      <td>10</td>\n      <td>0.93</td>\n      <td>1</td>\n      <td>0.0</td>\n      <td>988.8768</td>\n      <td>...</td>\n      <td>253.0</td>\n      <td>4640.0</td>\n      <td>4060.0</td>\n      <td>12017.6</td>\n      <td>580.0</td>\n      <td>NaN</td>\n      <td>5220.0</td>\n      <td>9280.0</td>\n      <td>16808.4</td>\n      <td>-4060.0</td>\n    </tr>\n    <tr>\n      <th>28213</th>\n      <td>1824305</td>\n      <td>11.0</td>\n      <td>9930.0</td>\n      <td>1</td>\n      <td>40</td>\n      <td>20</td>\n      <td>0.67</td>\n      <td>1</td>\n      <td>0.0</td>\n      <td>71038.4256</td>\n      <td>...</td>\n      <td>596.0</td>\n      <td>268110.0</td>\n      <td>258180.0</td>\n      <td>739983.6</td>\n      <td>9930.0</td>\n      <td>183.0</td>\n      <td>297900.0</td>\n      <td>431955.0</td>\n      <td>166824.0</td>\n      <td>NaN</td>\n    </tr>\n    <tr>\n      <th>28228</th>\n      <td>101731</td>\n      <td>13.0</td>\n      <td>5260.0</td>\n      <td>1</td>\n      <td>50</td>\n      <td>10</td>\n      <td>0.62</td>\n      <td>1</td>\n      <td>2.0</td>\n      <td>33327.3600</td>\n      <td>...</td>\n      <td>916.0</td>\n      <td>231440.0</td>\n      <td>226180.0</td>\n      <td>NaN</td>\n      <td>5260.0</td>\n      <td>66.0</td>\n      <td>63120.0</td>\n      <td>115720.0</td>\n      <td>176736.0</td>\n      <td>-52600.0</td>\n    </tr>\n  </tbody>\n</table>\n<p>3236 rows × 22 columns</p>\n</div>"
     },
     "execution_count": 893,
     "metadata": {},
     "output_type": "execute_result"
    }
   ],
   "source": [
    "base_train.loc[base_train.isna().any(1)]"
   ],
   "metadata": {
    "collapsed": false,
    "pycharm": {
     "name": "#%%\n"
    }
   }
  },
  {
   "cell_type": "code",
   "execution_count": 894,
   "outputs": [],
   "source": [
    "base_train = base_train.dropna(axis=0,how='any')"
   ],
   "metadata": {
    "collapsed": false,
    "pycharm": {
     "name": "#%%\n"
    }
   }
  },
  {
   "cell_type": "code",
   "execution_count": 895,
   "outputs": [
    {
     "data": {
      "text/plain": "        ID  注册时间    注册资本  行业  企业类型  控制人类型  控制人持股比例  flag  知识产权  融资情况_2015  \\\n0  5986361   3.0  7090.0   2    10     10     0.93     0   0.0  15595.164   \n2  5998154  15.0  9720.0   3    20     10     0.74     0   2.0      0.000   \n3  5984390  17.0  4800.0   4    30     30     0.90     0   0.0  20459.520   \n4  5980535  13.0  4530.0   1    40     10     0.95     0   2.0  13394.304   \n5  5987165   5.0  7340.0   5    40     10     0.67     0   0.0    620.964   \n\n   ...  从业人数_2015  资产总额_2015  负债总额_2015  主营业务收入_2015  所有者权益合计_2015  从业人数_2016  \\\n0  ...      861.0    21270.0     7090.0      33181.2       14180.0       98.0   \n2  ...      333.0   505440.0   495720.0     176904.0        9720.0      910.0   \n3  ...      540.0   288000.0   141600.0     532800.0      146400.0      820.0   \n4  ...      421.0    99660.0    47565.0      55809.6       52095.0      669.0   \n5  ...      144.0    66060.0    58720.0      79272.0        7340.0      951.0   \n\n   资产总额_2016  负债总额_2016  主营业务收入_2016  所有者权益合计_2016  \n0    70900.0    63810.0       4254.0        7090.0  \n2   136080.0    63180.0      43545.6       72900.0  \n3   307200.0   151200.0      76800.0      156000.0  \n4   217440.0   212910.0      54360.0        4530.0  \n5    58720.0    51380.0      31708.8        7340.0  \n\n[5 rows x 22 columns]",
      "text/html": "<div>\n<style scoped>\n    .dataframe tbody tr th:only-of-type {\n        vertical-align: middle;\n    }\n\n    .dataframe tbody tr th {\n        vertical-align: top;\n    }\n\n    .dataframe thead th {\n        text-align: right;\n    }\n</style>\n<table border=\"1\" class=\"dataframe\">\n  <thead>\n    <tr style=\"text-align: right;\">\n      <th></th>\n      <th>ID</th>\n      <th>注册时间</th>\n      <th>注册资本</th>\n      <th>行业</th>\n      <th>企业类型</th>\n      <th>控制人类型</th>\n      <th>控制人持股比例</th>\n      <th>flag</th>\n      <th>知识产权</th>\n      <th>融资情况_2015</th>\n      <th>...</th>\n      <th>从业人数_2015</th>\n      <th>资产总额_2015</th>\n      <th>负债总额_2015</th>\n      <th>主营业务收入_2015</th>\n      <th>所有者权益合计_2015</th>\n      <th>从业人数_2016</th>\n      <th>资产总额_2016</th>\n      <th>负债总额_2016</th>\n      <th>主营业务收入_2016</th>\n      <th>所有者权益合计_2016</th>\n    </tr>\n  </thead>\n  <tbody>\n    <tr>\n      <th>0</th>\n      <td>5986361</td>\n      <td>3.0</td>\n      <td>7090.0</td>\n      <td>2</td>\n      <td>10</td>\n      <td>10</td>\n      <td>0.93</td>\n      <td>0</td>\n      <td>0.0</td>\n      <td>15595.164</td>\n      <td>...</td>\n      <td>861.0</td>\n      <td>21270.0</td>\n      <td>7090.0</td>\n      <td>33181.2</td>\n      <td>14180.0</td>\n      <td>98.0</td>\n      <td>70900.0</td>\n      <td>63810.0</td>\n      <td>4254.0</td>\n      <td>7090.0</td>\n    </tr>\n    <tr>\n      <th>2</th>\n      <td>5998154</td>\n      <td>15.0</td>\n      <td>9720.0</td>\n      <td>3</td>\n      <td>20</td>\n      <td>10</td>\n      <td>0.74</td>\n      <td>0</td>\n      <td>2.0</td>\n      <td>0.000</td>\n      <td>...</td>\n      <td>333.0</td>\n      <td>505440.0</td>\n      <td>495720.0</td>\n      <td>176904.0</td>\n      <td>9720.0</td>\n      <td>910.0</td>\n      <td>136080.0</td>\n      <td>63180.0</td>\n      <td>43545.6</td>\n      <td>72900.0</td>\n    </tr>\n    <tr>\n      <th>3</th>\n      <td>5984390</td>\n      <td>17.0</td>\n      <td>4800.0</td>\n      <td>4</td>\n      <td>30</td>\n      <td>30</td>\n      <td>0.90</td>\n      <td>0</td>\n      <td>0.0</td>\n      <td>20459.520</td>\n      <td>...</td>\n      <td>540.0</td>\n      <td>288000.0</td>\n      <td>141600.0</td>\n      <td>532800.0</td>\n      <td>146400.0</td>\n      <td>820.0</td>\n      <td>307200.0</td>\n      <td>151200.0</td>\n      <td>76800.0</td>\n      <td>156000.0</td>\n    </tr>\n    <tr>\n      <th>4</th>\n      <td>5980535</td>\n      <td>13.0</td>\n      <td>4530.0</td>\n      <td>1</td>\n      <td>40</td>\n      <td>10</td>\n      <td>0.95</td>\n      <td>0</td>\n      <td>2.0</td>\n      <td>13394.304</td>\n      <td>...</td>\n      <td>421.0</td>\n      <td>99660.0</td>\n      <td>47565.0</td>\n      <td>55809.6</td>\n      <td>52095.0</td>\n      <td>669.0</td>\n      <td>217440.0</td>\n      <td>212910.0</td>\n      <td>54360.0</td>\n      <td>4530.0</td>\n    </tr>\n    <tr>\n      <th>5</th>\n      <td>5987165</td>\n      <td>5.0</td>\n      <td>7340.0</td>\n      <td>5</td>\n      <td>40</td>\n      <td>10</td>\n      <td>0.67</td>\n      <td>0</td>\n      <td>0.0</td>\n      <td>620.964</td>\n      <td>...</td>\n      <td>144.0</td>\n      <td>66060.0</td>\n      <td>58720.0</td>\n      <td>79272.0</td>\n      <td>7340.0</td>\n      <td>951.0</td>\n      <td>58720.0</td>\n      <td>51380.0</td>\n      <td>31708.8</td>\n      <td>7340.0</td>\n    </tr>\n  </tbody>\n</table>\n<p>5 rows × 22 columns</p>\n</div>"
     },
     "execution_count": 895,
     "metadata": {},
     "output_type": "execute_result"
    }
   ],
   "source": [
    "base_train.head()"
   ],
   "metadata": {
    "collapsed": false,
    "pycharm": {
     "name": "#%%\n"
    }
   }
  },
  {
   "cell_type": "code",
   "execution_count": 896,
   "outputs": [
    {
     "data": {
      "text/plain": "注册时间            False\n注册资本            False\n行业              False\n企业类型            False\n控制人类型           False\n控制人持股比例         False\nflag            False\n知识产权            False\n融资情况_2015       False\n融资情况_2016       False\n融资情况_2017       False\n从业人数_2015       False\n资产总额_2015       False\n负债总额_2015       False\n主营业务收入_2015     False\n所有者权益合计_2015    False\n从业人数_2016       False\n资产总额_2016       False\n负债总额_2016       False\n主营业务收入_2016     False\n所有者权益合计_2016    False\ndtype: bool"
     },
     "execution_count": 896,
     "metadata": {},
     "output_type": "execute_result"
    }
   ],
   "source": [
    "# 去除ID列，数值过大，影响训练\n",
    "X = base_train[base_train.columns[1:len(base_train)]]\n",
    "\n",
    "np.isnan(X).any()"
   ],
   "metadata": {
    "collapsed": false,
    "pycharm": {
     "name": "#%%\n"
    }
   }
  },
  {
   "cell_type": "code",
   "execution_count": 897,
   "outputs": [],
   "source": [
    "# 归一化\n",
    "X = X.apply(lambda x:(x-x.min())/(x.max()-x.min()))"
   ],
   "metadata": {
    "collapsed": false,
    "pycharm": {
     "name": "#%%\n"
    }
   }
  },
  {
   "cell_type": "code",
   "execution_count": 898,
   "outputs": [],
   "source": [
    "y_true = X['flag']"
   ],
   "metadata": {
    "collapsed": false,
    "pycharm": {
     "name": "#%%\n"
    }
   }
  },
  {
   "cell_type": "code",
   "execution_count": 899,
   "outputs": [
    {
     "name": "stderr",
     "output_type": "stream",
     "text": [
      "c:\\users\\rikoo\\dev\\env\\anaconda3\\envs\\py36\\lib\\site-packages\\seaborn\\distributions.py:2557: FutureWarning: `distplot` is a deprecated function and will be removed in a future version. Please adapt your code to use either `displot` (a figure-level function with similar flexibility) or `histplot` (an axes-level function for histograms).\n",
      "  warnings.warn(msg, FutureWarning)\n"
     ]
    },
    {
     "data": {
      "text/plain": "<AxesSubplot:xlabel='flag', ylabel='Density'>"
     },
     "execution_count": 899,
     "metadata": {},
     "output_type": "execute_result"
    },
    {
     "data": {
      "text/plain": "<Figure size 432x288 with 1 Axes>",
      "image/png": "[encoded data removed]"
     },
     "metadata": {
      "needs_background": "light"
     },
     "output_type": "display_data"
    }
   ],
   "source": [
    "sns.distplot(y_true,fit=st.norm)"
   ],
   "metadata": {
    "collapsed": false,
    "pycharm": {
     "name": "#%%\n"
    }
   }
  },
  {
   "cell_type": "code",
   "execution_count": 900,
   "outputs": [
    {
     "name": "stdout",
     "output_type": "stream",
     "text": [
      "<class 'pandas.core.frame.DataFrame'>\n",
      "Int64Index: 24994 entries, 0 to 28229\n",
      "Data columns (total 21 columns):\n",
      " #   Column        Non-Null Count  Dtype  \n",
      "---  ------        --------------  -----  \n",
      " 0   注册时间          24994 non-null  float64\n",
      " 1   注册资本          24994 non-null  float64\n",
      " 2   行业            24994 non-null  float64\n",
      " 3   企业类型          24994 non-null  float64\n",
      " 4   控制人类型         24994 non-null  float64\n",
      " 5   控制人持股比例       24994 non-null  float64\n",
      " 6   flag          24994 non-null  float64\n",
      " 7   知识产权          24994 non-null  float64\n",
      " 8   融资情况_2015     24994 non-null  float64\n",
      " 9   融资情况_2016     24994 non-null  float64\n",
      " 10  融资情况_2017     24994 non-null  float64\n",
      " 11  从业人数_2015     24994 non-null  float64\n",
      " 12  资产总额_2015     24994 non-null  float64\n",
      " 13  负债总额_2015     24994 non-null  float64\n",
      " 14  主营业务收入_2015   24994 non-null  float64\n",
      " 15  所有者权益合计_2015  24994 non-null  float64\n",
      " 16  从业人数_2016     24994 non-null  float64\n",
      " 17  资产总额_2016     24994 non-null  float64\n",
      " 18  负债总额_2016     24994 non-null  float64\n",
      " 19  主营业务收入_2016   24994 non-null  float64\n",
      " 20  所有者权益合计_2016  24994 non-null  float64\n",
      "dtypes: float64(21)\n",
      "memory usage: 4.2 MB\n"
     ]
    }
   ],
   "source": [
    "X.info()"
   ],
   "metadata": {
    "collapsed": false,
    "pycharm": {
     "name": "#%%\n"
    }
   }
  },
  {
   "cell_type": "code",
   "execution_count": 901,
   "outputs": [
    {
     "data": {
      "text/plain": "0.5313062612522504"
     },
     "execution_count": 901,
     "metadata": {},
     "output_type": "execute_result"
    }
   ],
   "source": [
    "X.drop(columns=['flag'],inplace=True)\n",
    "\n",
    "\n",
    "# 数据切分 查看训练集上的准确度\n",
    "from sklearn.model_selection import train_test_split\n",
    "X_train,X_test,y_train,y_test = train_test_split(X,y_true,test_size=0.4)\n",
    "\n",
    "\n",
    "#### 随机森林 决策树\n",
    "\n",
    "from sklearn.neighbors import KNeighborsClassifier\n",
    "from sklearn.metrics import accuracy_score\n",
    "\n",
    "knn_clf = KNeighborsClassifier(n_neighbors=3)\n",
    "# model = LogisticRegressionCV(normalize=True)\n",
    "knn_clf.fit(X_train,y_train)\n",
    "# clf.score(X_test,y_test)\n",
    "y_pred = knn_clf.predict(X_test)\n",
    "accuracy_score(y_test, y_pred)"
   ],
   "metadata": {
    "collapsed": false,
    "pycharm": {
     "name": "#%%\n"
    }
   }
  }
 ],
 "metadata": {
  "kernelspec": {
   "display_name": "Python 3",
   "language": "python",
   "name": "python3"
  },
  "language_info": {
   "codemirror_mode": {
    "name": "ipython",
    "version": 2
   },
   "file_extension": ".py",
   "mimetype": "text/x-python",
   "name": "python",
   "nbconvert_exporter": "python",
   "pygments_lexer": "ipython2",
   "version": "2.7.6"
  }
 },
 "nbformat": 4,
 "nbformat_minor": 0
}