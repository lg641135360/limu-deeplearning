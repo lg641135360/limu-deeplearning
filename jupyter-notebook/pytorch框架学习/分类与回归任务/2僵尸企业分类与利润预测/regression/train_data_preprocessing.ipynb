{
 "cells": [
  {
   "cell_type": "markdown",
   "source": [
    "#### 训练数据预处理\n",
    "1. 导入训练数据"
   ],
   "metadata": {
    "collapsed": false
   }
  },
  {
   "cell_type": "code",
   "execution_count": 3769,
   "outputs": [],
   "source": [
    "import pandas as pd\n",
    "import numpy as np\n",
    "import seaborn as sns\n",
    "import scipy.stats as st\n",
    "\n",
    "# 这里的编码类型可以用sublime打开查看左下角\n",
    "base_train = pd.read_csv('tables/base-train.csv',engine='python',encoding='utf8')\n",
    "knowledge_train = pd.read_csv('tables/knowledge-train.csv',engine='python',encoding='utf8')\n",
    "money_train = pd.read_csv('tables/money-train.csv',engine='python',encoding='utf8')\n",
    "year_train = pd.read_csv('tables/year-train.csv',engine='python',encoding='utf8')"
   ],
   "metadata": {
    "collapsed": false,
    "pycharm": {
     "name": "#%%\n"
    }
   }
  },
  {
   "cell_type": "markdown",
   "source": [
    "    1. base_train表数据处理"
   ],
   "metadata": {
    "collapsed": false
   }
  },
  {
   "cell_type": "code",
   "execution_count": 3770,
   "outputs": [
    {
     "data": {
      "text/plain": "        ID    注册时间    注册资本     行业  区域     企业类型 控制人类型  控制人持股比例\n0  5981446  2008.0  1190.0    服务业  湖南  农民专业合作社   自然人     0.91\n1  5993858  2008.0  6670.0    零售业  湖南  集体所有制企业  企业法人     0.91\n2  5990025  2008.0  9100.0   社区服务  湖北  农民专业合作社   NaN     0.51\n3  5982670  2002.0  5870.0  商业服务业  广东   股份有限公司  企业法人     0.63\n4  5990751  2005.0  9850.0     工业  江西  集体所有制企业  企业法人     0.58",
      "text/html": "<div>\n<style scoped>\n    .dataframe tbody tr th:only-of-type {\n        vertical-align: middle;\n    }\n\n    .dataframe tbody tr th {\n        vertical-align: top;\n    }\n\n    .dataframe thead th {\n        text-align: right;\n    }\n</style>\n<table border=\"1\" class=\"dataframe\">\n  <thead>\n    <tr style=\"text-align: right;\">\n      <th></th>\n      <th>ID</th>\n      <th>注册时间</th>\n      <th>注册资本</th>\n      <th>行业</th>\n      <th>区域</th>\n      <th>企业类型</th>\n      <th>控制人类型</th>\n      <th>控制人持股比例</th>\n    </tr>\n  </thead>\n  <tbody>\n    <tr>\n      <th>0</th>\n      <td>5981446</td>\n      <td>2008.0</td>\n      <td>1190.0</td>\n      <td>服务业</td>\n      <td>湖南</td>\n      <td>农民专业合作社</td>\n      <td>自然人</td>\n      <td>0.91</td>\n    </tr>\n    <tr>\n      <th>1</th>\n      <td>5993858</td>\n      <td>2008.0</td>\n      <td>6670.0</td>\n      <td>零售业</td>\n      <td>湖南</td>\n      <td>集体所有制企业</td>\n      <td>企业法人</td>\n      <td>0.91</td>\n    </tr>\n    <tr>\n      <th>2</th>\n      <td>5990025</td>\n      <td>2008.0</td>\n      <td>9100.0</td>\n      <td>社区服务</td>\n      <td>湖北</td>\n      <td>农民专业合作社</td>\n      <td>NaN</td>\n      <td>0.51</td>\n    </tr>\n    <tr>\n      <th>3</th>\n      <td>5982670</td>\n      <td>2002.0</td>\n      <td>5870.0</td>\n      <td>商业服务业</td>\n      <td>广东</td>\n      <td>股份有限公司</td>\n      <td>企业法人</td>\n      <td>0.63</td>\n    </tr>\n    <tr>\n      <th>4</th>\n      <td>5990751</td>\n      <td>2005.0</td>\n      <td>9850.0</td>\n      <td>工业</td>\n      <td>江西</td>\n      <td>集体所有制企业</td>\n      <td>企业法人</td>\n      <td>0.58</td>\n    </tr>\n  </tbody>\n</table>\n</div>"
     },
     "execution_count": 3770,
     "metadata": {},
     "output_type": "execute_result"
    }
   ],
   "source": [
    "# 1.1 查看具体数据与结构\n",
    "# 看一下具体数据\n",
    "base_train.head()"
   ],
   "metadata": {
    "collapsed": false,
    "pycharm": {
     "name": "#%%\n"
    }
   }
  },
  {
   "cell_type": "code",
   "execution_count": 3771,
   "outputs": [
    {
     "name": "stdout",
     "output_type": "stream",
     "text": [
      "<class 'pandas.core.frame.DataFrame'>\n",
      "RangeIndex: 17319 entries, 0 to 17318\n",
      "Data columns (total 8 columns):\n",
      " #   Column   Non-Null Count  Dtype  \n",
      "---  ------   --------------  -----  \n",
      " 0   ID       17319 non-null  int64  \n",
      " 1   注册时间     17131 non-null  float64\n",
      " 2   注册资本     17140 non-null  float64\n",
      " 3   行业       17157 non-null  object \n",
      " 4   区域       17156 non-null  object \n",
      " 5   企业类型     17141 non-null  object \n",
      " 6   控制人类型    17131 non-null  object \n",
      " 7   控制人持股比例  17135 non-null  float64\n",
      "dtypes: float64(3), int64(1), object(4)\n",
      "memory usage: 1.1+ MB\n"
     ]
    }
   ],
   "source": [
    "# 表的结构\n",
    "base_train.info()"
   ],
   "metadata": {
    "collapsed": false,
    "pycharm": {
     "name": "#%%\n"
    }
   }
  },
  {
   "cell_type": "markdown",
   "source": [
    "    1.2 分析数值特征，处理缺失数据\n",
    "        1.2.1 注册时间\n",
    "        1.2.2 注册资本\n",
    "        1.2.3 控制人持股比例\n",
    "        1.2.4 处理行业缺失值。区域、企业类型、控制人类型都可以同样处理，都替换为未知\n",
    "        1.2.5 删掉几个不重要的列"
   ],
   "metadata": {
    "collapsed": false
   }
  },
  {
   "cell_type": "code",
   "execution_count": 3772,
   "outputs": [
    {
     "data": {
      "text/plain": "            ID  注册时间    注册资本     行业  区域     企业类型 控制人类型  控制人持股比例\n109    5993383   NaN  4340.0  交通运输业  湖北  农民专业合作社   自然人     0.93\n213    5989086   NaN  6060.0     工业  广西  农民专业合作社   自然人     1.00\n217    5996523   NaN  8190.0     工业  湖南  集体所有制企业   自然人     0.93\n239    5999826   NaN  1820.0  商业服务业  广东     合伙企业  企业法人     0.67\n297    5993823   NaN  5780.0  交通运输业  湖北   股份有限公司  企业法人     0.87\n...        ...   ...     ...    ...  ..      ...   ...      ...\n16837  5978130   NaN  3490.0   社区服务  湖北  集体所有制企业  企业法人     0.95\n17019  5993982   NaN  6870.0  交通运输业  湖北  集体所有制企业   自然人     0.69\n17168  5999241   NaN  1110.0  交通运输业  福建   有限责任公司  企业法人      NaN\n17292  5996101   NaN   900.0     工业  广西   有限责任公司   自然人     0.58\n17304  5982488   NaN  5440.0  商业服务业  江西  集体所有制企业  企业法人     0.83\n\n[188 rows x 8 columns]",
      "text/html": "<div>\n<style scoped>\n    .dataframe tbody tr th:only-of-type {\n        vertical-align: middle;\n    }\n\n    .dataframe tbody tr th {\n        vertical-align: top;\n    }\n\n    .dataframe thead th {\n        text-align: right;\n    }\n</style>\n<table border=\"1\" class=\"dataframe\">\n  <thead>\n    <tr style=\"text-align: right;\">\n      <th></th>\n      <th>ID</th>\n      <th>注册时间</th>\n      <th>注册资本</th>\n      <th>行业</th>\n      <th>区域</th>\n      <th>企业类型</th>\n      <th>控制人类型</th>\n      <th>控制人持股比例</th>\n    </tr>\n  </thead>\n  <tbody>\n    <tr>\n      <th>109</th>\n      <td>5993383</td>\n      <td>NaN</td>\n      <td>4340.0</td>\n      <td>交通运输业</td>\n      <td>湖北</td>\n      <td>农民专业合作社</td>\n      <td>自然人</td>\n      <td>0.93</td>\n    </tr>\n    <tr>\n      <th>213</th>\n      <td>5989086</td>\n      <td>NaN</td>\n      <td>6060.0</td>\n      <td>工业</td>\n      <td>广西</td>\n      <td>农民专业合作社</td>\n      <td>自然人</td>\n      <td>1.00</td>\n    </tr>\n    <tr>\n      <th>217</th>\n      <td>5996523</td>\n      <td>NaN</td>\n      <td>8190.0</td>\n      <td>工业</td>\n      <td>湖南</td>\n      <td>集体所有制企业</td>\n      <td>自然人</td>\n      <td>0.93</td>\n    </tr>\n    <tr>\n      <th>239</th>\n      <td>5999826</td>\n      <td>NaN</td>\n      <td>1820.0</td>\n      <td>商业服务业</td>\n      <td>广东</td>\n      <td>合伙企业</td>\n      <td>企业法人</td>\n      <td>0.67</td>\n    </tr>\n    <tr>\n      <th>297</th>\n      <td>5993823</td>\n      <td>NaN</td>\n      <td>5780.0</td>\n      <td>交通运输业</td>\n      <td>湖北</td>\n      <td>股份有限公司</td>\n      <td>企业法人</td>\n      <td>0.87</td>\n    </tr>\n    <tr>\n      <th>...</th>\n      <td>...</td>\n      <td>...</td>\n      <td>...</td>\n      <td>...</td>\n      <td>...</td>\n      <td>...</td>\n      <td>...</td>\n      <td>...</td>\n    </tr>\n    <tr>\n      <th>16837</th>\n      <td>5978130</td>\n      <td>NaN</td>\n      <td>3490.0</td>\n      <td>社区服务</td>\n      <td>湖北</td>\n      <td>集体所有制企业</td>\n      <td>企业法人</td>\n      <td>0.95</td>\n    </tr>\n    <tr>\n      <th>17019</th>\n      <td>5993982</td>\n      <td>NaN</td>\n      <td>6870.0</td>\n      <td>交通运输业</td>\n      <td>湖北</td>\n      <td>集体所有制企业</td>\n      <td>自然人</td>\n      <td>0.69</td>\n    </tr>\n    <tr>\n      <th>17168</th>\n      <td>5999241</td>\n      <td>NaN</td>\n      <td>1110.0</td>\n      <td>交通运输业</td>\n      <td>福建</td>\n      <td>有限责任公司</td>\n      <td>企业法人</td>\n      <td>NaN</td>\n    </tr>\n    <tr>\n      <th>17292</th>\n      <td>5996101</td>\n      <td>NaN</td>\n      <td>900.0</td>\n      <td>工业</td>\n      <td>广西</td>\n      <td>有限责任公司</td>\n      <td>自然人</td>\n      <td>0.58</td>\n    </tr>\n    <tr>\n      <th>17304</th>\n      <td>5982488</td>\n      <td>NaN</td>\n      <td>5440.0</td>\n      <td>商业服务业</td>\n      <td>江西</td>\n      <td>集体所有制企业</td>\n      <td>企业法人</td>\n      <td>0.83</td>\n    </tr>\n  </tbody>\n</table>\n<p>188 rows × 8 columns</p>\n</div>"
     },
     "execution_count": 3772,
     "metadata": {},
     "output_type": "execute_result"
    }
   ],
   "source": [
    "# 1.2.1 注册时间\n",
    "# 注册时间有缺失，有188行缺失，占比比较小\n",
    "base_train.loc[base_train['注册时间'].isna()]"
   ],
   "metadata": {
    "collapsed": false,
    "pycharm": {
     "name": "#%%\n"
    }
   }
  },
  {
   "cell_type": "code",
   "execution_count": 3773,
   "outputs": [],
   "source": [
    "# 删除这些行即可\n",
    "base_train.dropna(subset=['注册时间'],inplace=True)"
   ],
   "metadata": {
    "collapsed": false,
    "pycharm": {
     "name": "#%%\n"
    }
   }
  },
  {
   "cell_type": "code",
   "execution_count": 3774,
   "outputs": [],
   "source": [
    "# 虽然有缺失，但是不能直接删除这个列，而是计算一下公司的营业年份，用2017减去。首先要删除注册时间有缺失的行\n",
    "注册时间 = base_train['注册时间'].apply(lambda x:2017-x)\n",
    "base_train['注册时间']=注册时间"
   ],
   "metadata": {
    "collapsed": false,
    "pycharm": {
     "name": "#%%\n"
    }
   }
  },
  {
   "cell_type": "code",
   "execution_count": 3775,
   "outputs": [
    {
     "data": {
      "text/plain": "            ID  注册时间  注册资本     行业  区域     企业类型 控制人类型  控制人持股比例\n37     5989642   8.0   NaN    服务业  湖南  农民专业合作社   自然人     0.73\n176    5997860   6.0   NaN    零售业  湖南     合伙企业   自然人     0.81\n208    5982495   9.0   NaN    服务业  山东     合伙企业   自然人     0.91\n289    5993575  11.0   NaN  交通运输业  福建   股份有限公司  企业法人     1.00\n487    5984532  11.0   NaN    零售业  湖南   有限责任公司  企业法人     0.54\n...        ...   ...   ...    ...  ..      ...   ...      ...\n16403  5982345   8.0   NaN    零售业  湖北  集体所有制企业   自然人     0.78\n16704  5992211  10.0   NaN    服务业  江西     合伙企业   自然人     0.69\n16832  5990603  17.0   NaN   社区服务  广东     合伙企业   自然人     0.60\n16857  5997241   5.0   NaN   社区服务  广西  农民专业合作社   自然人     0.81\n17170  5986269   3.0   NaN  交通运输业  广西  集体所有制企业  企业法人     0.97\n\n[177 rows x 8 columns]",
      "text/html": "<div>\n<style scoped>\n    .dataframe tbody tr th:only-of-type {\n        vertical-align: middle;\n    }\n\n    .dataframe tbody tr th {\n        vertical-align: top;\n    }\n\n    .dataframe thead th {\n        text-align: right;\n    }\n</style>\n<table border=\"1\" class=\"dataframe\">\n  <thead>\n    <tr style=\"text-align: right;\">\n      <th></th>\n      <th>ID</th>\n      <th>注册时间</th>\n      <th>注册资本</th>\n      <th>行业</th>\n      <th>区域</th>\n      <th>企业类型</th>\n      <th>控制人类型</th>\n      <th>控制人持股比例</th>\n    </tr>\n  </thead>\n  <tbody>\n    <tr>\n      <th>37</th>\n      <td>5989642</td>\n      <td>8.0</td>\n      <td>NaN</td>\n      <td>服务业</td>\n      <td>湖南</td>\n      <td>农民专业合作社</td>\n      <td>自然人</td>\n      <td>0.73</td>\n    </tr>\n    <tr>\n      <th>176</th>\n      <td>5997860</td>\n      <td>6.0</td>\n      <td>NaN</td>\n      <td>零售业</td>\n      <td>湖南</td>\n      <td>合伙企业</td>\n      <td>自然人</td>\n      <td>0.81</td>\n    </tr>\n    <tr>\n      <th>208</th>\n      <td>5982495</td>\n      <td>9.0</td>\n      <td>NaN</td>\n      <td>服务业</td>\n      <td>山东</td>\n      <td>合伙企业</td>\n      <td>自然人</td>\n      <td>0.91</td>\n    </tr>\n    <tr>\n      <th>289</th>\n      <td>5993575</td>\n      <td>11.0</td>\n      <td>NaN</td>\n      <td>交通运输业</td>\n      <td>福建</td>\n      <td>股份有限公司</td>\n      <td>企业法人</td>\n      <td>1.00</td>\n    </tr>\n    <tr>\n      <th>487</th>\n      <td>5984532</td>\n      <td>11.0</td>\n      <td>NaN</td>\n      <td>零售业</td>\n      <td>湖南</td>\n      <td>有限责任公司</td>\n      <td>企业法人</td>\n      <td>0.54</td>\n    </tr>\n    <tr>\n      <th>...</th>\n      <td>...</td>\n      <td>...</td>\n      <td>...</td>\n      <td>...</td>\n      <td>...</td>\n      <td>...</td>\n      <td>...</td>\n      <td>...</td>\n    </tr>\n    <tr>\n      <th>16403</th>\n      <td>5982345</td>\n      <td>8.0</td>\n      <td>NaN</td>\n      <td>零售业</td>\n      <td>湖北</td>\n      <td>集体所有制企业</td>\n      <td>自然人</td>\n      <td>0.78</td>\n    </tr>\n    <tr>\n      <th>16704</th>\n      <td>5992211</td>\n      <td>10.0</td>\n      <td>NaN</td>\n      <td>服务业</td>\n      <td>江西</td>\n      <td>合伙企业</td>\n      <td>自然人</td>\n      <td>0.69</td>\n    </tr>\n    <tr>\n      <th>16832</th>\n      <td>5990603</td>\n      <td>17.0</td>\n      <td>NaN</td>\n      <td>社区服务</td>\n      <td>广东</td>\n      <td>合伙企业</td>\n      <td>自然人</td>\n      <td>0.60</td>\n    </tr>\n    <tr>\n      <th>16857</th>\n      <td>5997241</td>\n      <td>5.0</td>\n      <td>NaN</td>\n      <td>社区服务</td>\n      <td>广西</td>\n      <td>农民专业合作社</td>\n      <td>自然人</td>\n      <td>0.81</td>\n    </tr>\n    <tr>\n      <th>17170</th>\n      <td>5986269</td>\n      <td>3.0</td>\n      <td>NaN</td>\n      <td>交通运输业</td>\n      <td>广西</td>\n      <td>集体所有制企业</td>\n      <td>企业法人</td>\n      <td>0.97</td>\n    </tr>\n  </tbody>\n</table>\n<p>177 rows × 8 columns</p>\n</div>"
     },
     "execution_count": 3775,
     "metadata": {},
     "output_type": "execute_result"
    }
   ],
   "source": [
    "# 1.2.2 注册资本\n",
    "\n",
    "base_train.loc[base_train['注册资本'].isna()]"
   ],
   "metadata": {
    "collapsed": false,
    "pycharm": {
     "name": "#%%\n"
    }
   }
  },
  {
   "cell_type": "code",
   "execution_count": 3776,
   "outputs": [
    {
     "name": "stderr",
     "output_type": "stream",
     "text": [
      "c:\\users\\rikoo\\dev\\env\\anaconda3\\envs\\py36\\lib\\site-packages\\seaborn\\distributions.py:2557: FutureWarning: `distplot` is a deprecated function and will be removed in a future version. Please adapt your code to use either `displot` (a figure-level function with similar flexibility) or `histplot` (an axes-level function for histograms).\n",
      "  warnings.warn(msg, FutureWarning)\n"
     ]
    },
    {
     "data": {
      "text/plain": "<AxesSubplot:xlabel='注册资本', ylabel='Density'>"
     },
     "execution_count": 3776,
     "metadata": {},
     "output_type": "execute_result"
    },
    {
     "name": "stderr",
     "output_type": "stream",
     "text": [
      "c:\\users\\rikoo\\dev\\env\\anaconda3\\envs\\py36\\lib\\site-packages\\matplotlib\\backends\\backend_agg.py:238: RuntimeWarning: Glyph 27880 missing from current font.\n",
      "  font.set_text(s, 0.0, flags=flags)\n",
      "c:\\users\\rikoo\\dev\\env\\anaconda3\\envs\\py36\\lib\\site-packages\\matplotlib\\backends\\backend_agg.py:238: RuntimeWarning: Glyph 20876 missing from current font.\n",
      "  font.set_text(s, 0.0, flags=flags)\n",
      "c:\\users\\rikoo\\dev\\env\\anaconda3\\envs\\py36\\lib\\site-packages\\matplotlib\\backends\\backend_agg.py:238: RuntimeWarning: Glyph 36164 missing from current font.\n",
      "  font.set_text(s, 0.0, flags=flags)\n",
      "c:\\users\\rikoo\\dev\\env\\anaconda3\\envs\\py36\\lib\\site-packages\\matplotlib\\backends\\backend_agg.py:238: RuntimeWarning: Glyph 26412 missing from current font.\n",
      "  font.set_text(s, 0.0, flags=flags)\n",
      "c:\\users\\rikoo\\dev\\env\\anaconda3\\envs\\py36\\lib\\site-packages\\matplotlib\\backends\\backend_agg.py:201: RuntimeWarning: Glyph 27880 missing from current font.\n",
      "  font.set_text(s, 0, flags=flags)\n",
      "c:\\users\\rikoo\\dev\\env\\anaconda3\\envs\\py36\\lib\\site-packages\\matplotlib\\backends\\backend_agg.py:201: RuntimeWarning: Glyph 20876 missing from current font.\n",
      "  font.set_text(s, 0, flags=flags)\n",
      "c:\\users\\rikoo\\dev\\env\\anaconda3\\envs\\py36\\lib\\site-packages\\matplotlib\\backends\\backend_agg.py:201: RuntimeWarning: Glyph 36164 missing from current font.\n",
      "  font.set_text(s, 0, flags=flags)\n",
      "c:\\users\\rikoo\\dev\\env\\anaconda3\\envs\\py36\\lib\\site-packages\\matplotlib\\backends\\backend_agg.py:201: RuntimeWarning: Glyph 26412 missing from current font.\n",
      "  font.set_text(s, 0, flags=flags)\n"
     ]
    },
    {
     "data": {
      "text/plain": "<Figure size 432x288 with 1 Axes>",
      "image/png": "[encoded data removed]"
     },
     "metadata": {
      "needs_background": "light"
     },
     "output_type": "display_data"
    }
   ],
   "source": [
    "# 注册资本的分布\n",
    "sns.distplot(base_train['注册资本'],fit=st.norm)"
   ],
   "metadata": {
    "collapsed": false,
    "pycharm": {
     "name": "#%%\n"
    }
   }
  },
  {
   "cell_type": "code",
   "execution_count": 3777,
   "outputs": [],
   "source": [
    "# 直接平均值填充\n",
    "mean = base_train['注册资本'].mean()\n",
    "base_train['注册资本'].fillna(mean,inplace=True)"
   ],
   "metadata": {
    "collapsed": false,
    "pycharm": {
     "name": "#%%\n"
    }
   }
  },
  {
   "cell_type": "code",
   "execution_count": 3778,
   "outputs": [
    {
     "data": {
      "text/plain": "            ID  注册时间    注册资本     行业  区域     企业类型 控制人类型  控制人持股比例\n83     5980200   5.0  3680.0     工业  湖北   股份有限公司  企业法人      NaN\n162    5995639  10.0  3200.0  商业服务业  江西   有限责任公司  企业法人      NaN\n222    5981602  14.0  6340.0  交通运输业  广东   股份有限公司   自然人      NaN\n313    5992751  10.0  8590.0    零售业  江西  集体所有制企业   自然人      NaN\n654    5986333   4.0  2740.0   社区服务  广东  农民专业合作社   自然人      NaN\n...        ...   ...     ...    ...  ..      ...   ...      ...\n17086  5999113  12.0  6750.0  交通运输业  江西     合伙企业   自然人      NaN\n17087  5985814   7.0  9550.0    服务业  福建     合伙企业  企业法人      NaN\n17121  5992406   7.0  4660.0   社区服务  广东  集体所有制企业  企业法人      NaN\n17176  5990086  11.0  1670.0  交通运输业  湖北  农民专业合作社  企业法人      NaN\n17287  5985509  10.0  9690.0   社区服务  广东  集体所有制企业   自然人      NaN\n\n[179 rows x 8 columns]",
      "text/html": "<div>\n<style scoped>\n    .dataframe tbody tr th:only-of-type {\n        vertical-align: middle;\n    }\n\n    .dataframe tbody tr th {\n        vertical-align: top;\n    }\n\n    .dataframe thead th {\n        text-align: right;\n    }\n</style>\n<table border=\"1\" class=\"dataframe\">\n  <thead>\n    <tr style=\"text-align: right;\">\n      <th></th>\n      <th>ID</th>\n      <th>注册时间</th>\n      <th>注册资本</th>\n      <th>行业</th>\n      <th>区域</th>\n      <th>企业类型</th>\n      <th>控制人类型</th>\n      <th>控制人持股比例</th>\n    </tr>\n  </thead>\n  <tbody>\n    <tr>\n      <th>83</th>\n      <td>5980200</td>\n      <td>5.0</td>\n      <td>3680.0</td>\n      <td>工业</td>\n      <td>湖北</td>\n      <td>股份有限公司</td>\n      <td>企业法人</td>\n      <td>NaN</td>\n    </tr>\n    <tr>\n      <th>162</th>\n      <td>5995639</td>\n      <td>10.0</td>\n      <td>3200.0</td>\n      <td>商业服务业</td>\n      <td>江西</td>\n      <td>有限责任公司</td>\n      <td>企业法人</td>\n      <td>NaN</td>\n    </tr>\n    <tr>\n      <th>222</th>\n      <td>5981602</td>\n      <td>14.0</td>\n      <td>6340.0</td>\n      <td>交通运输业</td>\n      <td>广东</td>\n      <td>股份有限公司</td>\n      <td>自然人</td>\n      <td>NaN</td>\n    </tr>\n    <tr>\n      <th>313</th>\n      <td>5992751</td>\n      <td>10.0</td>\n      <td>8590.0</td>\n      <td>零售业</td>\n      <td>江西</td>\n      <td>集体所有制企业</td>\n      <td>自然人</td>\n      <td>NaN</td>\n    </tr>\n    <tr>\n      <th>654</th>\n      <td>5986333</td>\n      <td>4.0</td>\n      <td>2740.0</td>\n      <td>社区服务</td>\n      <td>广东</td>\n      <td>农民专业合作社</td>\n      <td>自然人</td>\n      <td>NaN</td>\n    </tr>\n    <tr>\n      <th>...</th>\n      <td>...</td>\n      <td>...</td>\n      <td>...</td>\n      <td>...</td>\n      <td>...</td>\n      <td>...</td>\n      <td>...</td>\n      <td>...</td>\n    </tr>\n    <tr>\n      <th>17086</th>\n      <td>5999113</td>\n      <td>12.0</td>\n      <td>6750.0</td>\n      <td>交通运输业</td>\n      <td>江西</td>\n      <td>合伙企业</td>\n      <td>自然人</td>\n      <td>NaN</td>\n    </tr>\n    <tr>\n      <th>17087</th>\n      <td>5985814</td>\n      <td>7.0</td>\n      <td>9550.0</td>\n      <td>服务业</td>\n      <td>福建</td>\n      <td>合伙企业</td>\n      <td>企业法人</td>\n      <td>NaN</td>\n    </tr>\n    <tr>\n      <th>17121</th>\n      <td>5992406</td>\n      <td>7.0</td>\n      <td>4660.0</td>\n      <td>社区服务</td>\n      <td>广东</td>\n      <td>集体所有制企业</td>\n      <td>企业法人</td>\n      <td>NaN</td>\n    </tr>\n    <tr>\n      <th>17176</th>\n      <td>5990086</td>\n      <td>11.0</td>\n      <td>1670.0</td>\n      <td>交通运输业</td>\n      <td>湖北</td>\n      <td>农民专业合作社</td>\n      <td>企业法人</td>\n      <td>NaN</td>\n    </tr>\n    <tr>\n      <th>17287</th>\n      <td>5985509</td>\n      <td>10.0</td>\n      <td>9690.0</td>\n      <td>社区服务</td>\n      <td>广东</td>\n      <td>集体所有制企业</td>\n      <td>自然人</td>\n      <td>NaN</td>\n    </tr>\n  </tbody>\n</table>\n<p>179 rows × 8 columns</p>\n</div>"
     },
     "execution_count": 3778,
     "metadata": {},
     "output_type": "execute_result"
    }
   ],
   "source": [
    "# 1.2.3 控制人持股比例\n",
    "base_train.loc[base_train['控制人持股比例'].isna()]"
   ],
   "metadata": {
    "collapsed": false,
    "pycharm": {
     "name": "#%%\n"
    }
   }
  },
  {
   "cell_type": "code",
   "execution_count": 3779,
   "outputs": [
    {
     "name": "stderr",
     "output_type": "stream",
     "text": [
      "c:\\users\\rikoo\\dev\\env\\anaconda3\\envs\\py36\\lib\\site-packages\\seaborn\\distributions.py:2557: FutureWarning: `distplot` is a deprecated function and will be removed in a future version. Please adapt your code to use either `displot` (a figure-level function with similar flexibility) or `histplot` (an axes-level function for histograms).\n",
      "  warnings.warn(msg, FutureWarning)\n"
     ]
    },
    {
     "data": {
      "text/plain": "<AxesSubplot:xlabel='控制人持股比例', ylabel='Density'>"
     },
     "execution_count": 3779,
     "metadata": {},
     "output_type": "execute_result"
    },
    {
     "name": "stderr",
     "output_type": "stream",
     "text": [
      "c:\\users\\rikoo\\dev\\env\\anaconda3\\envs\\py36\\lib\\site-packages\\matplotlib\\backends\\backend_agg.py:238: RuntimeWarning: Glyph 25511 missing from current font.\n",
      "  font.set_text(s, 0.0, flags=flags)\n",
      "c:\\users\\rikoo\\dev\\env\\anaconda3\\envs\\py36\\lib\\site-packages\\matplotlib\\backends\\backend_agg.py:238: RuntimeWarning: Glyph 21046 missing from current font.\n",
      "  font.set_text(s, 0.0, flags=flags)\n",
      "c:\\users\\rikoo\\dev\\env\\anaconda3\\envs\\py36\\lib\\site-packages\\matplotlib\\backends\\backend_agg.py:238: RuntimeWarning: Glyph 20154 missing from current font.\n",
      "  font.set_text(s, 0.0, flags=flags)\n",
      "c:\\users\\rikoo\\dev\\env\\anaconda3\\envs\\py36\\lib\\site-packages\\matplotlib\\backends\\backend_agg.py:238: RuntimeWarning: Glyph 25345 missing from current font.\n",
      "  font.set_text(s, 0.0, flags=flags)\n",
      "c:\\users\\rikoo\\dev\\env\\anaconda3\\envs\\py36\\lib\\site-packages\\matplotlib\\backends\\backend_agg.py:238: RuntimeWarning: Glyph 32929 missing from current font.\n",
      "  font.set_text(s, 0.0, flags=flags)\n",
      "c:\\users\\rikoo\\dev\\env\\anaconda3\\envs\\py36\\lib\\site-packages\\matplotlib\\backends\\backend_agg.py:238: RuntimeWarning: Glyph 27604 missing from current font.\n",
      "  font.set_text(s, 0.0, flags=flags)\n",
      "c:\\users\\rikoo\\dev\\env\\anaconda3\\envs\\py36\\lib\\site-packages\\matplotlib\\backends\\backend_agg.py:238: RuntimeWarning: Glyph 20363 missing from current font.\n",
      "  font.set_text(s, 0.0, flags=flags)\n",
      "c:\\users\\rikoo\\dev\\env\\anaconda3\\envs\\py36\\lib\\site-packages\\matplotlib\\backends\\backend_agg.py:201: RuntimeWarning: Glyph 25511 missing from current font.\n",
      "  font.set_text(s, 0, flags=flags)\n",
      "c:\\users\\rikoo\\dev\\env\\anaconda3\\envs\\py36\\lib\\site-packages\\matplotlib\\backends\\backend_agg.py:201: RuntimeWarning: Glyph 21046 missing from current font.\n",
      "  font.set_text(s, 0, flags=flags)\n",
      "c:\\users\\rikoo\\dev\\env\\anaconda3\\envs\\py36\\lib\\site-packages\\matplotlib\\backends\\backend_agg.py:201: RuntimeWarning: Glyph 20154 missing from current font.\n",
      "  font.set_text(s, 0, flags=flags)\n",
      "c:\\users\\rikoo\\dev\\env\\anaconda3\\envs\\py36\\lib\\site-packages\\matplotlib\\backends\\backend_agg.py:201: RuntimeWarning: Glyph 25345 missing from current font.\n",
      "  font.set_text(s, 0, flags=flags)\n",
      "c:\\users\\rikoo\\dev\\env\\anaconda3\\envs\\py36\\lib\\site-packages\\matplotlib\\backends\\backend_agg.py:201: RuntimeWarning: Glyph 32929 missing from current font.\n",
      "  font.set_text(s, 0, flags=flags)\n",
      "c:\\users\\rikoo\\dev\\env\\anaconda3\\envs\\py36\\lib\\site-packages\\matplotlib\\backends\\backend_agg.py:201: RuntimeWarning: Glyph 27604 missing from current font.\n",
      "  font.set_text(s, 0, flags=flags)\n",
      "c:\\users\\rikoo\\dev\\env\\anaconda3\\envs\\py36\\lib\\site-packages\\matplotlib\\backends\\backend_agg.py:201: RuntimeWarning: Glyph 20363 missing from current font.\n",
      "  font.set_text(s, 0, flags=flags)\n"
     ]
    },
    {
     "data": {
      "text/plain": "<Figure size 432x288 with 1 Axes>",
      "image/png": "[encoded data removed]"
     },
     "metadata": {
      "needs_background": "light"
     },
     "output_type": "display_data"
    }
   ],
   "source": [
    "sns.distplot(base_train['控制人持股比例'])"
   ],
   "metadata": {
    "collapsed": false,
    "pycharm": {
     "name": "#%%\n"
    }
   }
  },
  {
   "cell_type": "code",
   "execution_count": 3780,
   "outputs": [],
   "source": [
    "# 将缺失值替换为平均值\n",
    "base_train['控制人持股比例'].fillna(base_train['控制人持股比例'].mean(),inplace=True)\n"
   ],
   "metadata": {
    "collapsed": false,
    "pycharm": {
     "name": "#%%\n"
    }
   }
  },
  {
   "cell_type": "code",
   "execution_count": 3781,
   "outputs": [
    {
     "data": {
      "text/plain": "            ID  注册时间    注册资本   行业  区域     企业类型 控制人类型  控制人持股比例\n64     5986805   9.0  3650.0  NaN  江西   有限责任公司  企业法人     0.97\n144    5979440   3.0  9100.0  NaN  广西  农民专业合作社   自然人     0.60\n178    5998009   7.0  3790.0  NaN  湖北   有限责任公司   自然人     0.99\n263    5992711  13.0  7850.0  NaN  广西     合伙企业   自然人     0.62\n276    5981449   8.0  4280.0  NaN  山东  集体所有制企业  企业法人     0.80\n...        ...   ...     ...  ...  ..      ...   ...      ...\n16618  5996410  10.0  3360.0  NaN  江西  农民专业合作社  企业法人     0.57\n16640  5982386  12.0  7390.0  NaN  湖南     合伙企业  企业法人     0.51\n17108  5985593  16.0  5250.0  NaN  山东     合伙企业   自然人     0.99\n17187  5980452   5.0  9610.0  NaN  福建  集体所有制企业  企业法人     0.52\n17194  5990703   8.0  1460.0  NaN  湖北   有限责任公司  企业法人     0.99\n\n[162 rows x 8 columns]",
      "text/html": "<div>\n<style scoped>\n    .dataframe tbody tr th:only-of-type {\n        vertical-align: middle;\n    }\n\n    .dataframe tbody tr th {\n        vertical-align: top;\n    }\n\n    .dataframe thead th {\n        text-align: right;\n    }\n</style>\n<table border=\"1\" class=\"dataframe\">\n  <thead>\n    <tr style=\"text-align: right;\">\n      <th></th>\n      <th>ID</th>\n      <th>注册时间</th>\n      <th>注册资本</th>\n      <th>行业</th>\n      <th>区域</th>\n      <th>企业类型</th>\n      <th>控制人类型</th>\n      <th>控制人持股比例</th>\n    </tr>\n  </thead>\n  <tbody>\n    <tr>\n      <th>64</th>\n      <td>5986805</td>\n      <td>9.0</td>\n      <td>3650.0</td>\n      <td>NaN</td>\n      <td>江西</td>\n      <td>有限责任公司</td>\n      <td>企业法人</td>\n      <td>0.97</td>\n    </tr>\n    <tr>\n      <th>144</th>\n      <td>5979440</td>\n      <td>3.0</td>\n      <td>9100.0</td>\n      <td>NaN</td>\n      <td>广西</td>\n      <td>农民专业合作社</td>\n      <td>自然人</td>\n      <td>0.60</td>\n    </tr>\n    <tr>\n      <th>178</th>\n      <td>5998009</td>\n      <td>7.0</td>\n      <td>3790.0</td>\n      <td>NaN</td>\n      <td>湖北</td>\n      <td>有限责任公司</td>\n      <td>自然人</td>\n      <td>0.99</td>\n    </tr>\n    <tr>\n      <th>263</th>\n      <td>5992711</td>\n      <td>13.0</td>\n      <td>7850.0</td>\n      <td>NaN</td>\n      <td>广西</td>\n      <td>合伙企业</td>\n      <td>自然人</td>\n      <td>0.62</td>\n    </tr>\n    <tr>\n      <th>276</th>\n      <td>5981449</td>\n      <td>8.0</td>\n      <td>4280.0</td>\n      <td>NaN</td>\n      <td>山东</td>\n      <td>集体所有制企业</td>\n      <td>企业法人</td>\n      <td>0.80</td>\n    </tr>\n    <tr>\n      <th>...</th>\n      <td>...</td>\n      <td>...</td>\n      <td>...</td>\n      <td>...</td>\n      <td>...</td>\n      <td>...</td>\n      <td>...</td>\n      <td>...</td>\n    </tr>\n    <tr>\n      <th>16618</th>\n      <td>5996410</td>\n      <td>10.0</td>\n      <td>3360.0</td>\n      <td>NaN</td>\n      <td>江西</td>\n      <td>农民专业合作社</td>\n      <td>企业法人</td>\n      <td>0.57</td>\n    </tr>\n    <tr>\n      <th>16640</th>\n      <td>5982386</td>\n      <td>12.0</td>\n      <td>7390.0</td>\n      <td>NaN</td>\n      <td>湖南</td>\n      <td>合伙企业</td>\n      <td>企业法人</td>\n      <td>0.51</td>\n    </tr>\n    <tr>\n      <th>17108</th>\n      <td>5985593</td>\n      <td>16.0</td>\n      <td>5250.0</td>\n      <td>NaN</td>\n      <td>山东</td>\n      <td>合伙企业</td>\n      <td>自然人</td>\n      <td>0.99</td>\n    </tr>\n    <tr>\n      <th>17187</th>\n      <td>5980452</td>\n      <td>5.0</td>\n      <td>9610.0</td>\n      <td>NaN</td>\n      <td>福建</td>\n      <td>集体所有制企业</td>\n      <td>企业法人</td>\n      <td>0.52</td>\n    </tr>\n    <tr>\n      <th>17194</th>\n      <td>5990703</td>\n      <td>8.0</td>\n      <td>1460.0</td>\n      <td>NaN</td>\n      <td>湖北</td>\n      <td>有限责任公司</td>\n      <td>企业法人</td>\n      <td>0.99</td>\n    </tr>\n  </tbody>\n</table>\n<p>162 rows × 8 columns</p>\n</div>"
     },
     "execution_count": 3781,
     "metadata": {},
     "output_type": "execute_result"
    }
   ],
   "source": [
    "# 1.2.4 处理行业缺失值。区域、企业类型、控制人类型都可以同样处理，都替换为未知\n",
    "base_train.loc[base_train['行业'].isna()]"
   ],
   "metadata": {
    "collapsed": false,
    "pycharm": {
     "name": "#%%\n"
    }
   }
  },
  {
   "cell_type": "code",
   "execution_count": 3782,
   "outputs": [],
   "source": [
    "base_train['行业'].fillna('未知',inplace=True)"
   ],
   "metadata": {
    "collapsed": false,
    "pycharm": {
     "name": "#%%\n"
    }
   }
  },
  {
   "cell_type": "code",
   "execution_count": 3783,
   "outputs": [],
   "source": [
    "# 其他缺失值也这样处理\n",
    "base_train['区域'].fillna('未知',inplace=True)"
   ],
   "metadata": {
    "collapsed": false,
    "pycharm": {
     "name": "#%%\n"
    }
   }
  },
  {
   "cell_type": "code",
   "execution_count": 3784,
   "outputs": [],
   "source": [
    "base_train['企业类型'].fillna('未知',inplace=True)"
   ],
   "metadata": {
    "collapsed": false,
    "pycharm": {
     "name": "#%%\n"
    }
   }
  },
  {
   "cell_type": "code",
   "execution_count": 3785,
   "outputs": [],
   "source": [
    "base_train['控制人类型'].fillna('未知',inplace=True)"
   ],
   "metadata": {
    "collapsed": false,
    "pycharm": {
     "name": "#%%\n"
    }
   }
  },
  {
   "cell_type": "code",
   "execution_count": 3786,
   "outputs": [
    {
     "name": "stdout",
     "output_type": "stream",
     "text": [
      "<class 'pandas.core.frame.DataFrame'>\n",
      "Int64Index: 17131 entries, 0 to 17318\n",
      "Data columns (total 8 columns):\n",
      " #   Column   Non-Null Count  Dtype  \n",
      "---  ------   --------------  -----  \n",
      " 0   ID       17131 non-null  int64  \n",
      " 1   注册时间     17131 non-null  float64\n",
      " 2   注册资本     17131 non-null  float64\n",
      " 3   行业       17131 non-null  object \n",
      " 4   区域       17131 non-null  object \n",
      " 5   企业类型     17131 non-null  object \n",
      " 6   控制人类型    17131 non-null  object \n",
      " 7   控制人持股比例  17131 non-null  float64\n",
      "dtypes: float64(3), int64(1), object(4)\n",
      "memory usage: 1.2+ MB\n"
     ]
    }
   ],
   "source": [
    "base_train.info()"
   ],
   "metadata": {
    "collapsed": false,
    "pycharm": {
     "name": "#%%\n"
    }
   }
  },
  {
   "cell_type": "code",
   "execution_count": 3787,
   "outputs": [],
   "source": [
    "# 1.2.5 删掉几个不重要的列\n",
    "\n",
    "base_train.rename({'注册时间':'营业时长'},inplace=True)"
   ],
   "metadata": {
    "collapsed": false,
    "pycharm": {
     "name": "#%%\n"
    }
   }
  },
  {
   "cell_type": "code",
   "execution_count": 3788,
   "outputs": [],
   "source": [
    "base_train.drop(columns=['行业','区域','企业类型','控制人类型'],inplace=True)"
   ],
   "metadata": {
    "collapsed": false,
    "pycharm": {
     "name": "#%%\n"
    }
   }
  },
  {
   "cell_type": "code",
   "execution_count": 3789,
   "outputs": [
    {
     "data": {
      "text/plain": "            ID  注册时间    注册资本  控制人持股比例\n0      5981446   9.0  1190.0     0.91\n1      5993858   9.0  6670.0     0.91\n2      5990025   9.0  9100.0     0.51\n3      5982670  15.0  5870.0     0.63\n4      5990751  12.0  9850.0     0.58\n...        ...   ...     ...      ...\n17314  5998408  17.0   490.0     0.51\n17315  5998088   5.0  1490.0     0.73\n17316  5985946   8.0  3550.0     0.58\n17317  5990954  10.0  6770.0     0.96\n17318  5978122  13.0  2990.0     0.74\n\n[17131 rows x 4 columns]",
      "text/html": "<div>\n<style scoped>\n    .dataframe tbody tr th:only-of-type {\n        vertical-align: middle;\n    }\n\n    .dataframe tbody tr th {\n        vertical-align: top;\n    }\n\n    .dataframe thead th {\n        text-align: right;\n    }\n</style>\n<table border=\"1\" class=\"dataframe\">\n  <thead>\n    <tr style=\"text-align: right;\">\n      <th></th>\n      <th>ID</th>\n      <th>注册时间</th>\n      <th>注册资本</th>\n      <th>控制人持股比例</th>\n    </tr>\n  </thead>\n  <tbody>\n    <tr>\n      <th>0</th>\n      <td>5981446</td>\n      <td>9.0</td>\n      <td>1190.0</td>\n      <td>0.91</td>\n    </tr>\n    <tr>\n      <th>1</th>\n      <td>5993858</td>\n      <td>9.0</td>\n      <td>6670.0</td>\n      <td>0.91</td>\n    </tr>\n    <tr>\n      <th>2</th>\n      <td>5990025</td>\n      <td>9.0</td>\n      <td>9100.0</td>\n      <td>0.51</td>\n    </tr>\n    <tr>\n      <th>3</th>\n      <td>5982670</td>\n      <td>15.0</td>\n      <td>5870.0</td>\n      <td>0.63</td>\n    </tr>\n    <tr>\n      <th>4</th>\n      <td>5990751</td>\n      <td>12.0</td>\n      <td>9850.0</td>\n      <td>0.58</td>\n    </tr>\n    <tr>\n      <th>...</th>\n      <td>...</td>\n      <td>...</td>\n      <td>...</td>\n      <td>...</td>\n    </tr>\n    <tr>\n      <th>17314</th>\n      <td>5998408</td>\n      <td>17.0</td>\n      <td>490.0</td>\n      <td>0.51</td>\n    </tr>\n    <tr>\n      <th>17315</th>\n      <td>5998088</td>\n      <td>5.0</td>\n      <td>1490.0</td>\n      <td>0.73</td>\n    </tr>\n    <tr>\n      <th>17316</th>\n      <td>5985946</td>\n      <td>8.0</td>\n      <td>3550.0</td>\n      <td>0.58</td>\n    </tr>\n    <tr>\n      <th>17317</th>\n      <td>5990954</td>\n      <td>10.0</td>\n      <td>6770.0</td>\n      <td>0.96</td>\n    </tr>\n    <tr>\n      <th>17318</th>\n      <td>5978122</td>\n      <td>13.0</td>\n      <td>2990.0</td>\n      <td>0.74</td>\n    </tr>\n  </tbody>\n</table>\n<p>17131 rows × 4 columns</p>\n</div>"
     },
     "execution_count": 3789,
     "metadata": {},
     "output_type": "execute_result"
    }
   ],
   "source": [
    "base_train"
   ],
   "metadata": {
    "collapsed": false,
    "pycharm": {
     "name": "#%%\n"
    }
   }
  },
  {
   "cell_type": "markdown",
   "source": [
    "2. knowledge_train表数据处理\n",
    "\n",
    "    2.1 三列都合并为知识产权统计一列，看作评价的权重\n",
    "    2.2 合并到base_train表中\n"
   ],
   "metadata": {
    "collapsed": false
   }
  },
  {
   "cell_type": "code",
   "execution_count": 3790,
   "outputs": [
    {
     "data": {
      "text/plain": "        ID   专利   商标  著作权\n0  5978034  0.0  1.0  1.0\n1  5978036  0.0  0.0  1.0\n2  5978037  1.0  1.0  1.0\n3  5978038  0.0  0.0  0.0\n4  5978039  0.0  0.0  0.0",
      "text/html": "<div>\n<style scoped>\n    .dataframe tbody tr th:only-of-type {\n        vertical-align: middle;\n    }\n\n    .dataframe tbody tr th {\n        vertical-align: top;\n    }\n\n    .dataframe thead th {\n        text-align: right;\n    }\n</style>\n<table border=\"1\" class=\"dataframe\">\n  <thead>\n    <tr style=\"text-align: right;\">\n      <th></th>\n      <th>ID</th>\n      <th>专利</th>\n      <th>商标</th>\n      <th>著作权</th>\n    </tr>\n  </thead>\n  <tbody>\n    <tr>\n      <th>0</th>\n      <td>5978034</td>\n      <td>0.0</td>\n      <td>1.0</td>\n      <td>1.0</td>\n    </tr>\n    <tr>\n      <th>1</th>\n      <td>5978036</td>\n      <td>0.0</td>\n      <td>0.0</td>\n      <td>1.0</td>\n    </tr>\n    <tr>\n      <th>2</th>\n      <td>5978037</td>\n      <td>1.0</td>\n      <td>1.0</td>\n      <td>1.0</td>\n    </tr>\n    <tr>\n      <th>3</th>\n      <td>5978038</td>\n      <td>0.0</td>\n      <td>0.0</td>\n      <td>0.0</td>\n    </tr>\n    <tr>\n      <th>4</th>\n      <td>5978039</td>\n      <td>0.0</td>\n      <td>0.0</td>\n      <td>0.0</td>\n    </tr>\n  </tbody>\n</table>\n</div>"
     },
     "execution_count": 3790,
     "metadata": {},
     "output_type": "execute_result"
    }
   ],
   "source": [
    "knowledge_train.head()"
   ],
   "metadata": {
    "collapsed": false,
    "pycharm": {
     "name": "#%%\n"
    }
   }
  },
  {
   "cell_type": "code",
   "execution_count": 3791,
   "outputs": [
    {
     "name": "stdout",
     "output_type": "stream",
     "text": [
      "<class 'pandas.core.frame.DataFrame'>\n",
      "RangeIndex: 17319 entries, 0 to 17318\n",
      "Data columns (total 4 columns):\n",
      " #   Column  Non-Null Count  Dtype  \n",
      "---  ------  --------------  -----  \n",
      " 0   ID      17319 non-null  int64  \n",
      " 1   专利      17142 non-null  float64\n",
      " 2   商标      17143 non-null  float64\n",
      " 3   著作权     17136 non-null  float64\n",
      "dtypes: float64(3), int64(1)\n",
      "memory usage: 541.3 KB\n"
     ]
    }
   ],
   "source": [
    "knowledge_train.info()"
   ],
   "metadata": {
    "collapsed": false,
    "pycharm": {
     "name": "#%%\n"
    }
   }
  },
  {
   "cell_type": "code",
   "execution_count": 3792,
   "outputs": [],
   "source": [
    "# 缺失值全用0填充\n",
    "knowledge_train.fillna(0,inplace=True)"
   ],
   "metadata": {
    "collapsed": false,
    "pycharm": {
     "name": "#%%\n"
    }
   }
  },
  {
   "cell_type": "code",
   "execution_count": 3793,
   "outputs": [],
   "source": [
    "知识产权 = knowledge_train[knowledge_train.columns[1:4]].sum(1)\n",
    "knowledge_train.drop(columns=['专利','商标', '著作权'],inplace=True)"
   ],
   "metadata": {
    "collapsed": false,
    "pycharm": {
     "name": "#%%\n"
    }
   }
  },
  {
   "cell_type": "code",
   "execution_count": 3794,
   "outputs": [],
   "source": [
    "knowledge_train = pd.concat([knowledge_train,知识产权],axis=1)"
   ],
   "metadata": {
    "collapsed": false,
    "pycharm": {
     "name": "#%%\n"
    }
   }
  },
  {
   "cell_type": "code",
   "execution_count": 3795,
   "outputs": [
    {
     "data": {
      "text/plain": "            ID    0\n0      5978034  2.0\n1      5978036  1.0\n2      5978037  3.0\n3      5978038  0.0\n4      5978039  0.0\n...        ...  ...\n17314  5999995  2.0\n17315  5999997  2.0\n17316  5999998  0.0\n17317  5999999  3.0\n17318  6000000  0.0\n\n[17319 rows x 2 columns]",
      "text/html": "<div>\n<style scoped>\n    .dataframe tbody tr th:only-of-type {\n        vertical-align: middle;\n    }\n\n    .dataframe tbody tr th {\n        vertical-align: top;\n    }\n\n    .dataframe thead th {\n        text-align: right;\n    }\n</style>\n<table border=\"1\" class=\"dataframe\">\n  <thead>\n    <tr style=\"text-align: right;\">\n      <th></th>\n      <th>ID</th>\n      <th>0</th>\n    </tr>\n  </thead>\n  <tbody>\n    <tr>\n      <th>0</th>\n      <td>5978034</td>\n      <td>2.0</td>\n    </tr>\n    <tr>\n      <th>1</th>\n      <td>5978036</td>\n      <td>1.0</td>\n    </tr>\n    <tr>\n      <th>2</th>\n      <td>5978037</td>\n      <td>3.0</td>\n    </tr>\n    <tr>\n      <th>3</th>\n      <td>5978038</td>\n      <td>0.0</td>\n    </tr>\n    <tr>\n      <th>4</th>\n      <td>5978039</td>\n      <td>0.0</td>\n    </tr>\n    <tr>\n      <th>...</th>\n      <td>...</td>\n      <td>...</td>\n    </tr>\n    <tr>\n      <th>17314</th>\n      <td>5999995</td>\n      <td>2.0</td>\n    </tr>\n    <tr>\n      <th>17315</th>\n      <td>5999997</td>\n      <td>2.0</td>\n    </tr>\n    <tr>\n      <th>17316</th>\n      <td>5999998</td>\n      <td>0.0</td>\n    </tr>\n    <tr>\n      <th>17317</th>\n      <td>5999999</td>\n      <td>3.0</td>\n    </tr>\n    <tr>\n      <th>17318</th>\n      <td>6000000</td>\n      <td>0.0</td>\n    </tr>\n  </tbody>\n</table>\n<p>17319 rows × 2 columns</p>\n</div>"
     },
     "execution_count": 3795,
     "metadata": {},
     "output_type": "execute_result"
    }
   ],
   "source": [
    "# 连接之后没有列名\n",
    "knowledge_train"
   ],
   "metadata": {
    "collapsed": false,
    "pycharm": {
     "name": "#%%\n"
    }
   }
  },
  {
   "cell_type": "code",
   "execution_count": 3796,
   "outputs": [
    {
     "data": {
      "text/plain": "            ID  知识产权\n0      5978034   2.0\n1      5978036   1.0\n2      5978037   3.0\n3      5978038   0.0\n4      5978039   0.0\n...        ...   ...\n17314  5999995   2.0\n17315  5999997   2.0\n17316  5999998   0.0\n17317  5999999   3.0\n17318  6000000   0.0\n\n[17319 rows x 2 columns]",
      "text/html": "<div>\n<style scoped>\n    .dataframe tbody tr th:only-of-type {\n        vertical-align: middle;\n    }\n\n    .dataframe tbody tr th {\n        vertical-align: top;\n    }\n\n    .dataframe thead th {\n        text-align: right;\n    }\n</style>\n<table border=\"1\" class=\"dataframe\">\n  <thead>\n    <tr style=\"text-align: right;\">\n      <th></th>\n      <th>ID</th>\n      <th>知识产权</th>\n    </tr>\n  </thead>\n  <tbody>\n    <tr>\n      <th>0</th>\n      <td>5978034</td>\n      <td>2.0</td>\n    </tr>\n    <tr>\n      <th>1</th>\n      <td>5978036</td>\n      <td>1.0</td>\n    </tr>\n    <tr>\n      <th>2</th>\n      <td>5978037</td>\n      <td>3.0</td>\n    </tr>\n    <tr>\n      <th>3</th>\n      <td>5978038</td>\n      <td>0.0</td>\n    </tr>\n    <tr>\n      <th>4</th>\n      <td>5978039</td>\n      <td>0.0</td>\n    </tr>\n    <tr>\n      <th>...</th>\n      <td>...</td>\n      <td>...</td>\n    </tr>\n    <tr>\n      <th>17314</th>\n      <td>5999995</td>\n      <td>2.0</td>\n    </tr>\n    <tr>\n      <th>17315</th>\n      <td>5999997</td>\n      <td>2.0</td>\n    </tr>\n    <tr>\n      <th>17316</th>\n      <td>5999998</td>\n      <td>0.0</td>\n    </tr>\n    <tr>\n      <th>17317</th>\n      <td>5999999</td>\n      <td>3.0</td>\n    </tr>\n    <tr>\n      <th>17318</th>\n      <td>6000000</td>\n      <td>0.0</td>\n    </tr>\n  </tbody>\n</table>\n<p>17319 rows × 2 columns</p>\n</div>"
     },
     "execution_count": 3796,
     "metadata": {},
     "output_type": "execute_result"
    }
   ],
   "source": [
    "knowledge_train.rename(columns={0:'知识产权'},inplace=True)\n",
    "knowledge_train"
   ],
   "metadata": {
    "collapsed": false,
    "pycharm": {
     "name": "#%%\n"
    }
   }
  },
  {
   "cell_type": "code",
   "execution_count": 3797,
   "outputs": [],
   "source": [
    "# 最后合并一下\n",
    "base_train = base_train.merge(knowledge_train,on='ID',how='left')"
   ],
   "metadata": {
    "collapsed": false,
    "pycharm": {
     "name": "#%%\n"
    }
   }
  },
  {
   "cell_type": "code",
   "execution_count": 3798,
   "outputs": [
    {
     "name": "stdout",
     "output_type": "stream",
     "text": [
      "<class 'pandas.core.frame.DataFrame'>\n",
      "Int64Index: 17131 entries, 0 to 17130\n",
      "Data columns (total 5 columns):\n",
      " #   Column   Non-Null Count  Dtype  \n",
      "---  ------   --------------  -----  \n",
      " 0   ID       17131 non-null  int64  \n",
      " 1   注册时间     17131 non-null  float64\n",
      " 2   注册资本     17131 non-null  float64\n",
      " 3   控制人持股比例  17131 non-null  float64\n",
      " 4   知识产权     17131 non-null  float64\n",
      "dtypes: float64(4), int64(1)\n",
      "memory usage: 803.0 KB\n"
     ]
    }
   ],
   "source": [
    "base_train.info()"
   ],
   "metadata": {
    "collapsed": false,
    "pycharm": {
     "name": "#%%\n"
    }
   }
  },
  {
   "cell_type": "markdown",
   "source": [
    "3. money_train表数据处理\n",
    "\n",
    "    3.1 查看数据与结构\n",
    "\n",
    "    3.2 缺失值处理（直接删除该行）\n",
    "\n",
    "    3.3 特征融合\n",
    "\n",
    "    3.4 处理3年财报信息\n",
    "\n",
    "    3.5 合并到base_train中"
   ],
   "metadata": {
    "collapsed": false
   }
  },
  {
   "cell_type": "code",
   "execution_count": 3799,
   "outputs": [
    {
     "data": {
      "text/plain": "        ID    year   债权融资额度  债权融资成本   股权融资额度    股权融资成本  内部融资和贸易融资额度  \\\n0  5978034  2015.0      0.0     0.0      0.0     0.000      54432.0   \n1  5978036  2015.0      0.0     0.0  14328.0   573.120          0.0   \n2  5978037  2015.0      0.0     0.0      0.0     0.000          0.0   \n3  5978038  2015.0  10170.0   813.6      0.0     0.000          0.0   \n4  5978039  2015.0      0.0     0.0  30844.8  1233.792          0.0   \n\n   内部融资和贸易融资成本  项目融资和政策融资额度  项目融资和政策融资成本  \n0      3265.92          0.0        0.000  \n1         0.00          0.0        0.000  \n2         0.00        790.8       47.448  \n3         0.00          0.0        0.000  \n4         0.00          0.0          NaN  ",
      "text/html": "<div>\n<style scoped>\n    .dataframe tbody tr th:only-of-type {\n        vertical-align: middle;\n    }\n\n    .dataframe tbody tr th {\n        vertical-align: top;\n    }\n\n    .dataframe thead th {\n        text-align: right;\n    }\n</style>\n<table border=\"1\" class=\"dataframe\">\n  <thead>\n    <tr style=\"text-align: right;\">\n      <th></th>\n      <th>ID</th>\n      <th>year</th>\n      <th>债权融资额度</th>\n      <th>债权融资成本</th>\n      <th>股权融资额度</th>\n      <th>股权融资成本</th>\n      <th>内部融资和贸易融资额度</th>\n      <th>内部融资和贸易融资成本</th>\n      <th>项目融资和政策融资额度</th>\n      <th>项目融资和政策融资成本</th>\n    </tr>\n  </thead>\n  <tbody>\n    <tr>\n      <th>0</th>\n      <td>5978034</td>\n      <td>2015.0</td>\n      <td>0.0</td>\n      <td>0.0</td>\n      <td>0.0</td>\n      <td>0.000</td>\n      <td>54432.0</td>\n      <td>3265.92</td>\n      <td>0.0</td>\n      <td>0.000</td>\n    </tr>\n    <tr>\n      <th>1</th>\n      <td>5978036</td>\n      <td>2015.0</td>\n      <td>0.0</td>\n      <td>0.0</td>\n      <td>14328.0</td>\n      <td>573.120</td>\n      <td>0.0</td>\n      <td>0.00</td>\n      <td>0.0</td>\n      <td>0.000</td>\n    </tr>\n    <tr>\n      <th>2</th>\n      <td>5978037</td>\n      <td>2015.0</td>\n      <td>0.0</td>\n      <td>0.0</td>\n      <td>0.0</td>\n      <td>0.000</td>\n      <td>0.0</td>\n      <td>0.00</td>\n      <td>790.8</td>\n      <td>47.448</td>\n    </tr>\n    <tr>\n      <th>3</th>\n      <td>5978038</td>\n      <td>2015.0</td>\n      <td>10170.0</td>\n      <td>813.6</td>\n      <td>0.0</td>\n      <td>0.000</td>\n      <td>0.0</td>\n      <td>0.00</td>\n      <td>0.0</td>\n      <td>0.000</td>\n    </tr>\n    <tr>\n      <th>4</th>\n      <td>5978039</td>\n      <td>2015.0</td>\n      <td>0.0</td>\n      <td>0.0</td>\n      <td>30844.8</td>\n      <td>1233.792</td>\n      <td>0.0</td>\n      <td>0.00</td>\n      <td>0.0</td>\n      <td>NaN</td>\n    </tr>\n  </tbody>\n</table>\n</div>"
     },
     "execution_count": 3799,
     "metadata": {},
     "output_type": "execute_result"
    }
   ],
   "source": [
    "# 3.1 查看数据与结构\n",
    "money_train.head()"
   ],
   "metadata": {
    "collapsed": false,
    "pycharm": {
     "name": "#%%\n"
    }
   }
  },
  {
   "cell_type": "code",
   "execution_count": 3800,
   "outputs": [
    {
     "name": "stdout",
     "output_type": "stream",
     "text": [
      "<class 'pandas.core.frame.DataFrame'>\n",
      "RangeIndex: 51954 entries, 0 to 51953\n",
      "Data columns (total 10 columns):\n",
      " #   Column       Non-Null Count  Dtype  \n",
      "---  ------       --------------  -----  \n",
      " 0   ID           51954 non-null  int64  \n",
      " 1   year         51429 non-null  float64\n",
      " 2   债权融资额度       51474 non-null  float64\n",
      " 3   债权融资成本       51433 non-null  float64\n",
      " 4   股权融资额度       51429 non-null  float64\n",
      " 5   股权融资成本       51424 non-null  float64\n",
      " 6   内部融资和贸易融资额度  51473 non-null  float64\n",
      " 7   内部融资和贸易融资成本  51452 non-null  float64\n",
      " 8   项目融资和政策融资额度  51415 non-null  float64\n",
      " 9   项目融资和政策融资成本  51428 non-null  float64\n",
      "dtypes: float64(9), int64(1)\n",
      "memory usage: 4.0 MB\n"
     ]
    }
   ],
   "source": [
    "money_train.info()"
   ],
   "metadata": {
    "collapsed": false,
    "pycharm": {
     "name": "#%%\n"
    }
   }
  },
  {
   "cell_type": "code",
   "execution_count": 3801,
   "outputs": [],
   "source": [
    "# 3.2 有缺失值的直接删除该行即可\n",
    "money_train.dropna(how='any',inplace=True)"
   ],
   "metadata": {
    "collapsed": false,
    "pycharm": {
     "name": "#%%\n"
    }
   }
  },
  {
   "cell_type": "code",
   "execution_count": 3802,
   "outputs": [
    {
     "data": {
      "text/plain": "            ID    year   债权融资额度   债权融资成本   股权融资额度  股权融资成本  内部融资和贸易融资额度  \\\n0      5978034  2015.0      0.0     0.00      0.0    0.00      54432.0   \n1      5978036  2015.0      0.0     0.00  14328.0  573.12          0.0   \n2      5978037  2015.0      0.0     0.00      0.0    0.00          0.0   \n3      5978038  2015.0  10170.0   813.60      0.0    0.00          0.0   \n5      5978040  2015.0      0.0     0.00   2292.0   91.68          0.0   \n...        ...     ...      ...      ...      ...     ...          ...   \n51948  5999993  2017.0      0.0     0.00      0.0    0.00          0.0   \n51950  5999995  2017.0  82025.0  6562.00      0.0    0.00          0.0   \n51951  5999997  2017.0  14448.0  1155.84      0.0    0.00          0.0   \n51952  5999998  2017.0      0.0     0.00      0.0    0.00      18265.5   \n51953  5999999  2017.0      0.0     0.00      0.0    0.00          0.0   \n\n       内部融资和贸易融资成本  项目融资和政策融资额度  项目融资和政策融资成本  \n0          3265.92          0.0        0.000  \n1             0.00          0.0        0.000  \n2             0.00        790.8       47.448  \n3             0.00          0.0        0.000  \n5             0.00          0.0        0.000  \n...            ...          ...          ...  \n51948         0.00       1806.0      108.360  \n51950         0.00          0.0        0.000  \n51951         0.00          0.0        0.000  \n51952      1095.93          0.0        0.000  \n51953         0.00        821.7       49.302  \n\n[47498 rows x 10 columns]",
      "text/html": "<div>\n<style scoped>\n    .dataframe tbody tr th:only-of-type {\n        vertical-align: middle;\n    }\n\n    .dataframe tbody tr th {\n        vertical-align: top;\n    }\n\n    .dataframe thead th {\n        text-align: right;\n    }\n</style>\n<table border=\"1\" class=\"dataframe\">\n  <thead>\n    <tr style=\"text-align: right;\">\n      <th></th>\n      <th>ID</th>\n      <th>year</th>\n      <th>债权融资额度</th>\n      <th>债权融资成本</th>\n      <th>股权融资额度</th>\n      <th>股权融资成本</th>\n      <th>内部融资和贸易融资额度</th>\n      <th>内部融资和贸易融资成本</th>\n      <th>项目融资和政策融资额度</th>\n      <th>项目融资和政策融资成本</th>\n    </tr>\n  </thead>\n  <tbody>\n    <tr>\n      <th>0</th>\n      <td>5978034</td>\n      <td>2015.0</td>\n      <td>0.0</td>\n      <td>0.00</td>\n      <td>0.0</td>\n      <td>0.00</td>\n      <td>54432.0</td>\n      <td>3265.92</td>\n      <td>0.0</td>\n      <td>0.000</td>\n    </tr>\n    <tr>\n      <th>1</th>\n      <td>5978036</td>\n      <td>2015.0</td>\n      <td>0.0</td>\n      <td>0.00</td>\n      <td>14328.0</td>\n      <td>573.12</td>\n      <td>0.0</td>\n      <td>0.00</td>\n      <td>0.0</td>\n      <td>0.000</td>\n    </tr>\n    <tr>\n      <th>2</th>\n      <td>5978037</td>\n      <td>2015.0</td>\n      <td>0.0</td>\n      <td>0.00</td>\n      <td>0.0</td>\n      <td>0.00</td>\n      <td>0.0</td>\n      <td>0.00</td>\n      <td>790.8</td>\n      <td>47.448</td>\n    </tr>\n    <tr>\n      <th>3</th>\n      <td>5978038</td>\n      <td>2015.0</td>\n      <td>10170.0</td>\n      <td>813.60</td>\n      <td>0.0</td>\n      <td>0.00</td>\n      <td>0.0</td>\n      <td>0.00</td>\n      <td>0.0</td>\n      <td>0.000</td>\n    </tr>\n    <tr>\n      <th>5</th>\n      <td>5978040</td>\n      <td>2015.0</td>\n      <td>0.0</td>\n      <td>0.00</td>\n      <td>2292.0</td>\n      <td>91.68</td>\n      <td>0.0</td>\n      <td>0.00</td>\n      <td>0.0</td>\n      <td>0.000</td>\n    </tr>\n    <tr>\n      <th>...</th>\n      <td>...</td>\n      <td>...</td>\n      <td>...</td>\n      <td>...</td>\n      <td>...</td>\n      <td>...</td>\n      <td>...</td>\n      <td>...</td>\n      <td>...</td>\n      <td>...</td>\n    </tr>\n    <tr>\n      <th>51948</th>\n      <td>5999993</td>\n      <td>2017.0</td>\n      <td>0.0</td>\n      <td>0.00</td>\n      <td>0.0</td>\n      <td>0.00</td>\n      <td>0.0</td>\n      <td>0.00</td>\n      <td>1806.0</td>\n      <td>108.360</td>\n    </tr>\n    <tr>\n      <th>51950</th>\n      <td>5999995</td>\n      <td>2017.0</td>\n      <td>82025.0</td>\n      <td>6562.00</td>\n      <td>0.0</td>\n      <td>0.00</td>\n      <td>0.0</td>\n      <td>0.00</td>\n      <td>0.0</td>\n      <td>0.000</td>\n    </tr>\n    <tr>\n      <th>51951</th>\n      <td>5999997</td>\n      <td>2017.0</td>\n      <td>14448.0</td>\n      <td>1155.84</td>\n      <td>0.0</td>\n      <td>0.00</td>\n      <td>0.0</td>\n      <td>0.00</td>\n      <td>0.0</td>\n      <td>0.000</td>\n    </tr>\n    <tr>\n      <th>51952</th>\n      <td>5999998</td>\n      <td>2017.0</td>\n      <td>0.0</td>\n      <td>0.00</td>\n      <td>0.0</td>\n      <td>0.00</td>\n      <td>18265.5</td>\n      <td>1095.93</td>\n      <td>0.0</td>\n      <td>0.000</td>\n    </tr>\n    <tr>\n      <th>51953</th>\n      <td>5999999</td>\n      <td>2017.0</td>\n      <td>0.0</td>\n      <td>0.00</td>\n      <td>0.0</td>\n      <td>0.00</td>\n      <td>0.0</td>\n      <td>0.00</td>\n      <td>821.7</td>\n      <td>49.302</td>\n    </tr>\n  </tbody>\n</table>\n<p>47498 rows × 10 columns</p>\n</div>"
     },
     "execution_count": 3802,
     "metadata": {},
     "output_type": "execute_result"
    }
   ],
   "source": [
    "money_train"
   ],
   "metadata": {
    "collapsed": false,
    "pycharm": {
     "name": "#%%\n"
    }
   }
  },
  {
   "cell_type": "code",
   "execution_count": 3803,
   "outputs": [],
   "source": [
    "# 3.3 特征融合\n",
    "融资额度 = money_train[['债权融资额度','股权融资额度','内部融资和贸易融资额度','项目融资和政策融资额度']].sum(1)\n",
    "融资成本 = money_train[['债权融资成本','股权融资成本','内部融资和贸易融资成本','项目融资和政策融资成本']].sum(1)"
   ],
   "metadata": {
    "collapsed": false,
    "pycharm": {
     "name": "#%%\n"
    }
   }
  },
  {
   "cell_type": "code",
   "execution_count": 3804,
   "outputs": [],
   "source": [
    "# 将融资情况汇总\n",
    "融资情况=融资额度-融资成本\n",
    "融资情况=pd.DataFrame({'融资情况':融资情况})\n",
    "money_train = pd.concat([money_train,融资情况],axis=1)"
   ],
   "metadata": {
    "collapsed": false,
    "pycharm": {
     "name": "#%%\n"
    }
   }
  },
  {
   "cell_type": "code",
   "execution_count": 3805,
   "outputs": [],
   "source": [
    "# 只需要保留融和后的信息即可\n",
    "money_train.drop(columns=['债权融资额度','股权融资额度','内部融资和贸易融资额度','项目融资和政策融资额度','债权融资成本','股权融资成本','内部融资和贸易融资成本','项目融资和政策融资成本'],\n",
    "                 inplace=True)"
   ],
   "metadata": {
    "collapsed": false,
    "pycharm": {
     "name": "#%%\n"
    }
   }
  },
  {
   "cell_type": "code",
   "execution_count": 3806,
   "outputs": [
    {
     "name": "stderr",
     "output_type": "stream",
     "text": [
      "c:\\users\\rikoo\\dev\\env\\anaconda3\\envs\\py36\\lib\\site-packages\\pandas\\core\\frame.py:4308: SettingWithCopyWarning: \n",
      "A value is trying to be set on a copy of a slice from a DataFrame\n",
      "\n",
      "See the caveats in the documentation: https://pandas.pydata.org/pandas-docs/stable/user_guide/indexing.html#returning-a-view-versus-a-copy\n",
      "  errors=errors,\n",
      "c:\\users\\rikoo\\dev\\env\\anaconda3\\envs\\py36\\lib\\site-packages\\pandas\\core\\frame.py:4174: SettingWithCopyWarning: \n",
      "A value is trying to be set on a copy of a slice from a DataFrame\n",
      "\n",
      "See the caveats in the documentation: https://pandas.pydata.org/pandas-docs/stable/user_guide/indexing.html#returning-a-view-versus-a-copy\n",
      "  errors=errors,\n",
      "c:\\users\\rikoo\\dev\\env\\anaconda3\\envs\\py36\\lib\\site-packages\\pandas\\core\\frame.py:4308: SettingWithCopyWarning: \n",
      "A value is trying to be set on a copy of a slice from a DataFrame\n",
      "\n",
      "See the caveats in the documentation: https://pandas.pydata.org/pandas-docs/stable/user_guide/indexing.html#returning-a-view-versus-a-copy\n",
      "  errors=errors,\n",
      "c:\\users\\rikoo\\dev\\env\\anaconda3\\envs\\py36\\lib\\site-packages\\pandas\\core\\frame.py:4174: SettingWithCopyWarning: \n",
      "A value is trying to be set on a copy of a slice from a DataFrame\n",
      "\n",
      "See the caveats in the documentation: https://pandas.pydata.org/pandas-docs/stable/user_guide/indexing.html#returning-a-view-versus-a-copy\n",
      "  errors=errors,\n"
     ]
    }
   ],
   "source": [
    "# 3.4 处理15年财报信息\n",
    "# 取出信息\n",
    "money_2015 = money_train.iloc[(money_train['year']==2015).values]\n",
    "# 改名\n",
    "money_2015.rename(columns={\n",
    "    '融资情况':'融资情况_2015'\n",
    "},inplace=True)\n",
    "# 年份列不再需要\n",
    "money_2015.drop(columns=['year'],inplace=True)\n",
    "money_2015.head()\n",
    "money_2016 = money_train.iloc[(money_train['year']==2016).values]\n",
    "money_2016.rename(columns={\n",
    "    '融资情况':'融资情况_2016'\n",
    "},inplace=True)\n",
    "money_2016.drop(columns=['year'],inplace=True)\n",
    "# money_2017 = money_train.iloc[(money_train['year']==2017).values]\n",
    "# money_2017.rename(columns={\n",
    "#     '融资情况':'融资情况_2017'\n",
    "# },inplace=True)\n",
    "# money_2017.drop(columns=['year'],inplace=True)"
   ],
   "metadata": {
    "collapsed": false,
    "pycharm": {
     "name": "#%%\n"
    }
   }
  },
  {
   "cell_type": "code",
   "execution_count": 3807,
   "outputs": [
    {
     "data": {
      "text/plain": "            ID  注册时间    注册资本  控制人持股比例  知识产权   融资情况_2015   融资情况_2016\n6      5986954  10.0  3320.0     0.86   2.0   1631.8464         NaN\n7      5989011  11.0  6680.0     0.65   0.0         NaN   30728.000\n8      5996878   3.0  9390.0     0.59   3.0         NaN    5949.504\n9      5984181  13.0  2290.0     0.96   1.0   8125.2864         NaN\n21     5991744   6.0  7640.0     0.75   0.0   8617.9200         NaN\n...        ...   ...     ...      ...   ...         ...         ...\n17096  5997687   8.0  7160.0     0.66   2.0         NaN   23055.200\n17106  5990027  13.0  4580.0     0.81   0.0  13904.8800         NaN\n17109  5982310   6.0  4220.0     0.98   2.0         NaN  109483.680\n17118  5992584   7.0  5160.0     0.73   0.0    727.5600         NaN\n17126  5998408  17.0   490.0     0.51   0.0    414.5400         NaN\n\n[2808 rows x 7 columns]",
      "text/html": "<div>\n<style scoped>\n    .dataframe tbody tr th:only-of-type {\n        vertical-align: middle;\n    }\n\n    .dataframe tbody tr th {\n        vertical-align: top;\n    }\n\n    .dataframe thead th {\n        text-align: right;\n    }\n</style>\n<table border=\"1\" class=\"dataframe\">\n  <thead>\n    <tr style=\"text-align: right;\">\n      <th></th>\n      <th>ID</th>\n      <th>注册时间</th>\n      <th>注册资本</th>\n      <th>控制人持股比例</th>\n      <th>知识产权</th>\n      <th>融资情况_2015</th>\n      <th>融资情况_2016</th>\n    </tr>\n  </thead>\n  <tbody>\n    <tr>\n      <th>6</th>\n      <td>5986954</td>\n      <td>10.0</td>\n      <td>3320.0</td>\n      <td>0.86</td>\n      <td>2.0</td>\n      <td>1631.8464</td>\n      <td>NaN</td>\n    </tr>\n    <tr>\n      <th>7</th>\n      <td>5989011</td>\n      <td>11.0</td>\n      <td>6680.0</td>\n      <td>0.65</td>\n      <td>0.0</td>\n      <td>NaN</td>\n      <td>30728.000</td>\n    </tr>\n    <tr>\n      <th>8</th>\n      <td>5996878</td>\n      <td>3.0</td>\n      <td>9390.0</td>\n      <td>0.59</td>\n      <td>3.0</td>\n      <td>NaN</td>\n      <td>5949.504</td>\n    </tr>\n    <tr>\n      <th>9</th>\n      <td>5984181</td>\n      <td>13.0</td>\n      <td>2290.0</td>\n      <td>0.96</td>\n      <td>1.0</td>\n      <td>8125.2864</td>\n      <td>NaN</td>\n    </tr>\n    <tr>\n      <th>21</th>\n      <td>5991744</td>\n      <td>6.0</td>\n      <td>7640.0</td>\n      <td>0.75</td>\n      <td>0.0</td>\n      <td>8617.9200</td>\n      <td>NaN</td>\n    </tr>\n    <tr>\n      <th>...</th>\n      <td>...</td>\n      <td>...</td>\n      <td>...</td>\n      <td>...</td>\n      <td>...</td>\n      <td>...</td>\n      <td>...</td>\n    </tr>\n    <tr>\n      <th>17096</th>\n      <td>5997687</td>\n      <td>8.0</td>\n      <td>7160.0</td>\n      <td>0.66</td>\n      <td>2.0</td>\n      <td>NaN</td>\n      <td>23055.200</td>\n    </tr>\n    <tr>\n      <th>17106</th>\n      <td>5990027</td>\n      <td>13.0</td>\n      <td>4580.0</td>\n      <td>0.81</td>\n      <td>0.0</td>\n      <td>13904.8800</td>\n      <td>NaN</td>\n    </tr>\n    <tr>\n      <th>17109</th>\n      <td>5982310</td>\n      <td>6.0</td>\n      <td>4220.0</td>\n      <td>0.98</td>\n      <td>2.0</td>\n      <td>NaN</td>\n      <td>109483.680</td>\n    </tr>\n    <tr>\n      <th>17118</th>\n      <td>5992584</td>\n      <td>7.0</td>\n      <td>5160.0</td>\n      <td>0.73</td>\n      <td>0.0</td>\n      <td>727.5600</td>\n      <td>NaN</td>\n    </tr>\n    <tr>\n      <th>17126</th>\n      <td>5998408</td>\n      <td>17.0</td>\n      <td>490.0</td>\n      <td>0.51</td>\n      <td>0.0</td>\n      <td>414.5400</td>\n      <td>NaN</td>\n    </tr>\n  </tbody>\n</table>\n<p>2808 rows × 7 columns</p>\n</div>"
     },
     "execution_count": 3807,
     "metadata": {},
     "output_type": "execute_result"
    }
   ],
   "source": [
    "# 3.5 合并到base_train表中\n",
    "base_train = base_train.merge(money_2015,on='ID',how='left')\n",
    "base_train = base_train.merge(money_2016,on='ID',how='left')\n",
    "# base_train = base_train.merge(money_2017,on='ID',how='left')\n",
    "# 居然有4033行都有缺失数据，也就是可能有些公司的某一年融资情况为空\n",
    "base_train.loc[base_train.isna().any(1)]"
   ],
   "metadata": {
    "collapsed": false,
    "pycharm": {
     "name": "#%%\n"
    }
   }
  },
  {
   "cell_type": "code",
   "execution_count": 3808,
   "outputs": [],
   "source": [
    "# 直接用0填充\n",
    "base_train.fillna(0,inplace=True)"
   ],
   "metadata": {
    "collapsed": false,
    "pycharm": {
     "name": "#%%\n"
    }
   }
  },
  {
   "cell_type": "code",
   "execution_count": 3809,
   "outputs": [
    {
     "data": {
      "text/plain": "Empty DataFrame\nColumns: [ID, 注册时间, 注册资本, 控制人持股比例, 知识产权, 融资情况_2015, 融资情况_2016]\nIndex: []",
      "text/html": "<div>\n<style scoped>\n    .dataframe tbody tr th:only-of-type {\n        vertical-align: middle;\n    }\n\n    .dataframe tbody tr th {\n        vertical-align: top;\n    }\n\n    .dataframe thead th {\n        text-align: right;\n    }\n</style>\n<table border=\"1\" class=\"dataframe\">\n  <thead>\n    <tr style=\"text-align: right;\">\n      <th></th>\n      <th>ID</th>\n      <th>注册时间</th>\n      <th>注册资本</th>\n      <th>控制人持股比例</th>\n      <th>知识产权</th>\n      <th>融资情况_2015</th>\n      <th>融资情况_2016</th>\n    </tr>\n  </thead>\n  <tbody>\n  </tbody>\n</table>\n</div>"
     },
     "execution_count": 3809,
     "metadata": {},
     "output_type": "execute_result"
    }
   ],
   "source": [
    "base_train.loc[base_train.isna().any(1)]"
   ],
   "metadata": {
    "collapsed": false,
    "pycharm": {
     "name": "#%%\n"
    }
   }
  },
  {
   "cell_type": "markdown",
   "source": [
    "4 year_train表数据处理"
   ],
   "metadata": {
    "collapsed": false
   }
  },
  {
   "cell_type": "code",
   "execution_count": 3810,
   "outputs": [
    {
     "data": {
      "text/plain": "        ID    year   从业人数      资产总额      负债总额     营业总收入    主营业务收入      利润总额  \\\n0  5978034  2015.0  868.0   67200.0   61600.0  181440.0  127008.0   18144.0   \n1  5978036  2015.0  556.0   71640.0  127360.0  358200.0  179100.0   71640.0   \n2  5978037  2015.0  426.0   19770.0   13180.0   39540.0   15816.0   19770.0   \n3  5978038  2015.0  815.0  101700.0   96050.0  203400.0   81360.0   20340.0   \n4  5978039  2015.0  450.0  107100.0  202300.0  385560.0  308448.0  154224.0   \n\n        净利润      纳税总额  所有者权益合计  \n0   72576.0   36288.0   5600.0  \n1  143280.0  143280.0 -55720.0  \n2    7908.0   23724.0   6590.0  \n3       0.0   40680.0   5650.0  \n4   38556.0  231336.0 -95200.0  ",
      "text/html": "<div>\n<style scoped>\n    .dataframe tbody tr th:only-of-type {\n        vertical-align: middle;\n    }\n\n    .dataframe tbody tr th {\n        vertical-align: top;\n    }\n\n    .dataframe thead th {\n        text-align: right;\n    }\n</style>\n<table border=\"1\" class=\"dataframe\">\n  <thead>\n    <tr style=\"text-align: right;\">\n      <th></th>\n      <th>ID</th>\n      <th>year</th>\n      <th>从业人数</th>\n      <th>资产总额</th>\n      <th>负债总额</th>\n      <th>营业总收入</th>\n      <th>主营业务收入</th>\n      <th>利润总额</th>\n      <th>净利润</th>\n      <th>纳税总额</th>\n      <th>所有者权益合计</th>\n    </tr>\n  </thead>\n  <tbody>\n    <tr>\n      <th>0</th>\n      <td>5978034</td>\n      <td>2015.0</td>\n      <td>868.0</td>\n      <td>67200.0</td>\n      <td>61600.0</td>\n      <td>181440.0</td>\n      <td>127008.0</td>\n      <td>18144.0</td>\n      <td>72576.0</td>\n      <td>36288.0</td>\n      <td>5600.0</td>\n    </tr>\n    <tr>\n      <th>1</th>\n      <td>5978036</td>\n      <td>2015.0</td>\n      <td>556.0</td>\n      <td>71640.0</td>\n      <td>127360.0</td>\n      <td>358200.0</td>\n      <td>179100.0</td>\n      <td>71640.0</td>\n      <td>143280.0</td>\n      <td>143280.0</td>\n      <td>-55720.0</td>\n    </tr>\n    <tr>\n      <th>2</th>\n      <td>5978037</td>\n      <td>2015.0</td>\n      <td>426.0</td>\n      <td>19770.0</td>\n      <td>13180.0</td>\n      <td>39540.0</td>\n      <td>15816.0</td>\n      <td>19770.0</td>\n      <td>7908.0</td>\n      <td>23724.0</td>\n      <td>6590.0</td>\n    </tr>\n    <tr>\n      <th>3</th>\n      <td>5978038</td>\n      <td>2015.0</td>\n      <td>815.0</td>\n      <td>101700.0</td>\n      <td>96050.0</td>\n      <td>203400.0</td>\n      <td>81360.0</td>\n      <td>20340.0</td>\n      <td>0.0</td>\n      <td>40680.0</td>\n      <td>5650.0</td>\n    </tr>\n    <tr>\n      <th>4</th>\n      <td>5978039</td>\n      <td>2015.0</td>\n      <td>450.0</td>\n      <td>107100.0</td>\n      <td>202300.0</td>\n      <td>385560.0</td>\n      <td>308448.0</td>\n      <td>154224.0</td>\n      <td>38556.0</td>\n      <td>231336.0</td>\n      <td>-95200.0</td>\n    </tr>\n  </tbody>\n</table>\n</div>"
     },
     "execution_count": 3810,
     "metadata": {},
     "output_type": "execute_result"
    }
   ],
   "source": [
    "year_train.head()"
   ],
   "metadata": {
    "collapsed": false,
    "pycharm": {
     "name": "#%%\n"
    }
   }
  },
  {
   "cell_type": "markdown",
   "source": [
    "2015年"
   ],
   "metadata": {
    "collapsed": false
   }
  },
  {
   "cell_type": "code",
   "execution_count": 3811,
   "outputs": [],
   "source": [
    "year_2015 = year_train.iloc[(year_train['year']==2015).values]"
   ],
   "metadata": {
    "collapsed": false,
    "pycharm": {
     "name": "#%%\n"
    }
   }
  },
  {
   "cell_type": "code",
   "execution_count": 3812,
   "outputs": [
    {
     "name": "stderr",
     "output_type": "stream",
     "text": [
      "c:\\users\\rikoo\\dev\\env\\anaconda3\\envs\\py36\\lib\\site-packages\\pandas\\core\\frame.py:4308: SettingWithCopyWarning: \n",
      "A value is trying to be set on a copy of a slice from a DataFrame\n",
      "\n",
      "See the caveats in the documentation: https://pandas.pydata.org/pandas-docs/stable/user_guide/indexing.html#returning-a-view-versus-a-copy\n",
      "  errors=errors,\n"
     ]
    }
   ],
   "source": [
    "year_2015.rename(columns={\n",
    "    '从业人数':'从业人数_2015',\n",
    "    '资产总额':'资产总额_2015',\n",
    "    '负债总额':'负债总额_2015',\n",
    "    '主营业务收入':'主营业务收入_2015',\n",
    "    '净利润':'净利润_2015',\n",
    "    '所有者权益合计':'所有者权益合计_2015'\n",
    "},inplace=True)"
   ],
   "metadata": {
    "collapsed": false,
    "pycharm": {
     "name": "#%%\n"
    }
   }
  },
  {
   "cell_type": "code",
   "execution_count": 3813,
   "outputs": [
    {
     "name": "stderr",
     "output_type": "stream",
     "text": [
      "c:\\users\\rikoo\\dev\\env\\anaconda3\\envs\\py36\\lib\\site-packages\\pandas\\core\\frame.py:4174: SettingWithCopyWarning: \n",
      "A value is trying to be set on a copy of a slice from a DataFrame\n",
      "\n",
      "See the caveats in the documentation: https://pandas.pydata.org/pandas-docs/stable/user_guide/indexing.html#returning-a-view-versus-a-copy\n",
      "  errors=errors,\n"
     ]
    }
   ],
   "source": [
    "year_2015.drop(columns=['year','纳税总额','利润总额','营业总收入'],inplace=True)"
   ],
   "metadata": {
    "collapsed": false,
    "pycharm": {
     "name": "#%%\n"
    }
   }
  },
  {
   "cell_type": "code",
   "execution_count": 3814,
   "outputs": [
    {
     "data": {
      "text/plain": "        ID  从业人数_2015  资产总额_2015  负债总额_2015  主营业务收入_2015  净利润_2015  \\\n0  5978034      868.0    67200.0    61600.0     127008.0   72576.0   \n1  5978036      556.0    71640.0   127360.0     179100.0  143280.0   \n2  5978037      426.0    19770.0    13180.0      15816.0    7908.0   \n3  5978038      815.0   101700.0    96050.0      81360.0       0.0   \n4  5978039      450.0   107100.0   202300.0     308448.0   38556.0   \n\n   所有者权益合计_2015  \n0        5600.0  \n1      -55720.0  \n2        6590.0  \n3        5650.0  \n4      -95200.0  ",
      "text/html": "<div>\n<style scoped>\n    .dataframe tbody tr th:only-of-type {\n        vertical-align: middle;\n    }\n\n    .dataframe tbody tr th {\n        vertical-align: top;\n    }\n\n    .dataframe thead th {\n        text-align: right;\n    }\n</style>\n<table border=\"1\" class=\"dataframe\">\n  <thead>\n    <tr style=\"text-align: right;\">\n      <th></th>\n      <th>ID</th>\n      <th>从业人数_2015</th>\n      <th>资产总额_2015</th>\n      <th>负债总额_2015</th>\n      <th>主营业务收入_2015</th>\n      <th>净利润_2015</th>\n      <th>所有者权益合计_2015</th>\n    </tr>\n  </thead>\n  <tbody>\n    <tr>\n      <th>0</th>\n      <td>5978034</td>\n      <td>868.0</td>\n      <td>67200.0</td>\n      <td>61600.0</td>\n      <td>127008.0</td>\n      <td>72576.0</td>\n      <td>5600.0</td>\n    </tr>\n    <tr>\n      <th>1</th>\n      <td>5978036</td>\n      <td>556.0</td>\n      <td>71640.0</td>\n      <td>127360.0</td>\n      <td>179100.0</td>\n      <td>143280.0</td>\n      <td>-55720.0</td>\n    </tr>\n    <tr>\n      <th>2</th>\n      <td>5978037</td>\n      <td>426.0</td>\n      <td>19770.0</td>\n      <td>13180.0</td>\n      <td>15816.0</td>\n      <td>7908.0</td>\n      <td>6590.0</td>\n    </tr>\n    <tr>\n      <th>3</th>\n      <td>5978038</td>\n      <td>815.0</td>\n      <td>101700.0</td>\n      <td>96050.0</td>\n      <td>81360.0</td>\n      <td>0.0</td>\n      <td>5650.0</td>\n    </tr>\n    <tr>\n      <th>4</th>\n      <td>5978039</td>\n      <td>450.0</td>\n      <td>107100.0</td>\n      <td>202300.0</td>\n      <td>308448.0</td>\n      <td>38556.0</td>\n      <td>-95200.0</td>\n    </tr>\n  </tbody>\n</table>\n</div>"
     },
     "execution_count": 3814,
     "metadata": {},
     "output_type": "execute_result"
    }
   ],
   "source": [
    "year_2015.head()"
   ],
   "metadata": {
    "collapsed": false,
    "pycharm": {
     "name": "#%%\n"
    }
   }
  },
  {
   "cell_type": "markdown",
   "source": [
    "2016年"
   ],
   "metadata": {
    "collapsed": false
   }
  },
  {
   "cell_type": "code",
   "execution_count": 3815,
   "outputs": [],
   "source": [
    "year_2016 = year_train.iloc[(year_train['year']==2016).values]"
   ],
   "metadata": {
    "collapsed": false,
    "pycharm": {
     "name": "#%%\n"
    }
   }
  },
  {
   "cell_type": "code",
   "execution_count": 3816,
   "outputs": [
    {
     "name": "stderr",
     "output_type": "stream",
     "text": [
      "c:\\users\\rikoo\\dev\\env\\anaconda3\\envs\\py36\\lib\\site-packages\\pandas\\core\\frame.py:4308: SettingWithCopyWarning: \n",
      "A value is trying to be set on a copy of a slice from a DataFrame\n",
      "\n",
      "See the caveats in the documentation: https://pandas.pydata.org/pandas-docs/stable/user_guide/indexing.html#returning-a-view-versus-a-copy\n",
      "  errors=errors,\n"
     ]
    }
   ],
   "source": [
    "year_2016.rename(columns={\n",
    "    '从业人数':'从业人数_2016',\n",
    "    '资产总额':'资产总额_2016',\n",
    "    '负债总额':'负债总额_2016',\n",
    "    '主营业务收入':'主营业务收入_2016',\n",
    "    '净利润':'净利润_2016',\n",
    "    '所有者权益合计':'所有者权益合计_2016'\n",
    "},inplace=True)"
   ],
   "metadata": {
    "collapsed": false,
    "pycharm": {
     "name": "#%%\n"
    }
   }
  },
  {
   "cell_type": "code",
   "execution_count": 3817,
   "outputs": [
    {
     "name": "stderr",
     "output_type": "stream",
     "text": [
      "c:\\users\\rikoo\\dev\\env\\anaconda3\\envs\\py36\\lib\\site-packages\\pandas\\core\\frame.py:4174: SettingWithCopyWarning: \n",
      "A value is trying to be set on a copy of a slice from a DataFrame\n",
      "\n",
      "See the caveats in the documentation: https://pandas.pydata.org/pandas-docs/stable/user_guide/indexing.html#returning-a-view-versus-a-copy\n",
      "  errors=errors,\n"
     ]
    }
   ],
   "source": [
    "year_2016.drop(columns=['year','纳税总额','利润总额','营业总收入'],inplace=True)"
   ],
   "metadata": {
    "collapsed": false,
    "pycharm": {
     "name": "#%%\n"
    }
   }
  },
  {
   "cell_type": "code",
   "execution_count": 3818,
   "outputs": [
    {
     "data": {
      "text/plain": "            ID  从业人数_2016  资产总额_2016  负债总额_2016  主营业务收入_2016  净利润_2016  \\\n17318  5978034      841.0    39200.0    50400.0      61152.0   15288.0   \n17319  5978036       65.0    31840.0    35820.0      25472.0       0.0   \n17320  5978037       84.0    79080.0   144980.0     142344.0   71172.0   \n17321  5978038      546.0    56500.0    25425.0     159330.0  106220.0   \n17322  5978039      960.0    41650.0    35700.0     109956.0       NaN   \n\n       所有者权益合计_2016  \n17318      -11200.0  \n17319           NaN  \n17320      -65900.0  \n17321       31075.0  \n17322        5950.0  ",
      "text/html": "<div>\n<style scoped>\n    .dataframe tbody tr th:only-of-type {\n        vertical-align: middle;\n    }\n\n    .dataframe tbody tr th {\n        vertical-align: top;\n    }\n\n    .dataframe thead th {\n        text-align: right;\n    }\n</style>\n<table border=\"1\" class=\"dataframe\">\n  <thead>\n    <tr style=\"text-align: right;\">\n      <th></th>\n      <th>ID</th>\n      <th>从业人数_2016</th>\n      <th>资产总额_2016</th>\n      <th>负债总额_2016</th>\n      <th>主营业务收入_2016</th>\n      <th>净利润_2016</th>\n      <th>所有者权益合计_2016</th>\n    </tr>\n  </thead>\n  <tbody>\n    <tr>\n      <th>17318</th>\n      <td>5978034</td>\n      <td>841.0</td>\n      <td>39200.0</td>\n      <td>50400.0</td>\n      <td>61152.0</td>\n      <td>15288.0</td>\n      <td>-11200.0</td>\n    </tr>\n    <tr>\n      <th>17319</th>\n      <td>5978036</td>\n      <td>65.0</td>\n      <td>31840.0</td>\n      <td>35820.0</td>\n      <td>25472.0</td>\n      <td>0.0</td>\n      <td>NaN</td>\n    </tr>\n    <tr>\n      <th>17320</th>\n      <td>5978037</td>\n      <td>84.0</td>\n      <td>79080.0</td>\n      <td>144980.0</td>\n      <td>142344.0</td>\n      <td>71172.0</td>\n      <td>-65900.0</td>\n    </tr>\n    <tr>\n      <th>17321</th>\n      <td>5978038</td>\n      <td>546.0</td>\n      <td>56500.0</td>\n      <td>25425.0</td>\n      <td>159330.0</td>\n      <td>106220.0</td>\n      <td>31075.0</td>\n    </tr>\n    <tr>\n      <th>17322</th>\n      <td>5978039</td>\n      <td>960.0</td>\n      <td>41650.0</td>\n      <td>35700.0</td>\n      <td>109956.0</td>\n      <td>NaN</td>\n      <td>5950.0</td>\n    </tr>\n  </tbody>\n</table>\n</div>"
     },
     "execution_count": 3818,
     "metadata": {},
     "output_type": "execute_result"
    }
   ],
   "source": [
    "year_2016.head()"
   ],
   "metadata": {
    "collapsed": false,
    "pycharm": {
     "name": "#%%\n"
    }
   }
  },
  {
   "cell_type": "markdown",
   "source": [
    "2017年"
   ],
   "metadata": {
    "collapsed": false
   }
  },
  {
   "cell_type": "code",
   "execution_count": 3819,
   "outputs": [],
   "source": [
    "# year_2017 = year_train.iloc[(year_train['year']==2017).values]"
   ],
   "metadata": {
    "collapsed": false,
    "pycharm": {
     "name": "#%%\n"
    }
   }
  },
  {
   "cell_type": "code",
   "execution_count": 3820,
   "outputs": [],
   "source": [
    "# year_2017.rename(columns={\n",
    "#     '从业人数':'从业人数_2017',\n",
    "#     '资产总额':'资产总额_2017',\n",
    "#     '负债总额':'负债总额_2017',\n",
    "#     '主营业务收入':'主营业务收入_2017',\n",
    "#     '净利润':'净利润_2017',\n",
    "#     '所有者权益合计':'所有者权益合计_2017'\n",
    "# },inplace=True)\n",
    "#"
   ],
   "metadata": {
    "collapsed": false,
    "pycharm": {
     "name": "#%%\n"
    }
   }
  },
  {
   "cell_type": "code",
   "execution_count": 3821,
   "outputs": [],
   "source": [
    "# year_2017.drop(columns=['year','纳税总额','利润总额','营业总收入'],inplace=True)\n",
    "#"
   ],
   "metadata": {
    "collapsed": false,
    "pycharm": {
     "name": "#%%\n"
    }
   }
  },
  {
   "cell_type": "code",
   "execution_count": 3822,
   "outputs": [],
   "source": [
    "# year_2017.head()"
   ],
   "metadata": {
    "collapsed": false,
    "pycharm": {
     "name": "#%%\n"
    }
   }
  },
  {
   "cell_type": "code",
   "execution_count": 3823,
   "outputs": [],
   "source": [
    "base_train = base_train.merge(year_2015,on='ID',how='left')"
   ],
   "metadata": {
    "collapsed": false,
    "pycharm": {
     "name": "#%%\n"
    }
   }
  },
  {
   "cell_type": "code",
   "execution_count": 3824,
   "outputs": [],
   "source": [
    "base_train = base_train.merge(year_2016,on='ID',how='left')"
   ],
   "metadata": {
    "collapsed": false,
    "pycharm": {
     "name": "#%%\n"
    }
   }
  },
  {
   "cell_type": "code",
   "execution_count": 3825,
   "outputs": [],
   "source": [
    "# base_train = base_train.merge(year_2017,on='ID',how='left')"
   ],
   "metadata": {
    "collapsed": false,
    "pycharm": {
     "name": "#%%\n"
    }
   }
  },
  {
   "cell_type": "code",
   "execution_count": 3826,
   "outputs": [
    {
     "data": {
      "text/plain": "            ID  注册时间    注册资本  控制人持股比例  知识产权   融资情况_2015   融资情况_2016  \\\n16     5983116   9.0  2200.0     1.00   3.0  81644.6400   12976.128   \n18     5995404  13.0  6710.0     0.60   1.0    566.8608    1513.776   \n21     5991744   6.0  7640.0     0.75   0.0   8617.9200       0.000   \n24     5994109  14.0  4340.0     0.73   1.0      0.0000   21665.280   \n27     5990416   9.0  2560.0     0.86   2.0  75801.6000    1884.160   \n...        ...   ...     ...      ...   ...         ...         ...   \n17109  5982310   6.0  4220.0     0.98   2.0      0.0000  109483.680   \n17110  5983295   3.0  2300.0     0.57   3.0    846.4000    3761.880   \n17125  5992487  15.0  5240.0     0.82   3.0   2561.3120     689.584   \n17126  5998408  17.0   490.0     0.51   0.0    414.5400       0.000   \n17129  5990954  10.0  6770.0     0.96   0.0   9965.4400   36082.746   \n\n       从业人数_2015  资产总额_2015  负债总额_2015  主营业务收入_2015  净利润_2015  所有者权益合计_2015  \\\n16         692.0    61600.0    59400.0          NaN  115808.0        2200.0   \n18         249.0    73810.0    67100.0       8857.2    4428.6           NaN   \n21         111.0   152800.0   145160.0      15280.0       NaN        7640.0   \n24         746.0    52080.0    23870.0      60412.8   45309.6       28210.0   \n27         233.0    53760.0   102400.0          NaN  -26880.0      -48640.0   \n...          ...        ...        ...          ...       ...           ...   \n17109      192.0    67520.0    63300.0      81024.0       0.0        4220.0   \n17110      621.0     9200.0    10350.0      25024.0   -3128.0       -1150.0   \n17125      288.0    68120.0   125760.0      38147.2   28610.4      -57640.0   \n17126        NaN    14700.0     7105.0        735.0       0.0        7595.0   \n17129      617.0   108320.0   101550.0     116985.6   87739.2        6770.0   \n\n       从业人数_2016  资产总额_2016  负债总额_2016  主营业务收入_2016  净利润_2016  所有者权益合计_2016  \n16         119.0    70400.0   102300.0     180224.0       0.0      -31900.0  \n18         269.0    80520.0    36905.0      56364.0  -11272.8       43615.0  \n21         266.0   191000.0   366720.0     267400.0  200550.0     -175720.0  \n24         669.0        NaN    26040.0      90272.0   90272.0       30380.0  \n27         776.0    20480.0    35840.0      31948.8   10649.6           NaN  \n...          ...        ...        ...          ...       ...           ...  \n17109        NaN        NaN        NaN          NaN       NaN           NaN  \n17110      718.0     4600.0        NaN       9338.0    2668.0        1150.0  \n17125      252.0    73360.0   136240.0     236219.2       NaN      -62880.0  \n17126      724.0    23520.0    46060.0      56448.0   33868.8      -22540.0  \n17129      767.0   182790.0        NaN      89567.1   12795.3        6770.0  \n\n[2237 rows x 19 columns]",
      "text/html": "<div>\n<style scoped>\n    .dataframe tbody tr th:only-of-type {\n        vertical-align: middle;\n    }\n\n    .dataframe tbody tr th {\n        vertical-align: top;\n    }\n\n    .dataframe thead th {\n        text-align: right;\n    }\n</style>\n<table border=\"1\" class=\"dataframe\">\n  <thead>\n    <tr style=\"text-align: right;\">\n      <th></th>\n      <th>ID</th>\n      <th>注册时间</th>\n      <th>注册资本</th>\n      <th>控制人持股比例</th>\n      <th>知识产权</th>\n      <th>融资情况_2015</th>\n      <th>融资情况_2016</th>\n      <th>从业人数_2015</th>\n      <th>资产总额_2015</th>\n      <th>负债总额_2015</th>\n      <th>主营业务收入_2015</th>\n      <th>净利润_2015</th>\n      <th>所有者权益合计_2015</th>\n      <th>从业人数_2016</th>\n      <th>资产总额_2016</th>\n      <th>负债总额_2016</th>\n      <th>主营业务收入_2016</th>\n      <th>净利润_2016</th>\n      <th>所有者权益合计_2016</th>\n    </tr>\n  </thead>\n  <tbody>\n    <tr>\n      <th>16</th>\n      <td>5983116</td>\n      <td>9.0</td>\n      <td>2200.0</td>\n      <td>1.00</td>\n      <td>3.0</td>\n      <td>81644.6400</td>\n      <td>12976.128</td>\n      <td>692.0</td>\n      <td>61600.0</td>\n      <td>59400.0</td>\n      <td>NaN</td>\n      <td>115808.0</td>\n      <td>2200.0</td>\n      <td>119.0</td>\n      <td>70400.0</td>\n      <td>102300.0</td>\n      <td>180224.0</td>\n      <td>0.0</td>\n      <td>-31900.0</td>\n    </tr>\n    <tr>\n      <th>18</th>\n      <td>5995404</td>\n      <td>13.0</td>\n      <td>6710.0</td>\n      <td>0.60</td>\n      <td>1.0</td>\n      <td>566.8608</td>\n      <td>1513.776</td>\n      <td>249.0</td>\n      <td>73810.0</td>\n      <td>67100.0</td>\n      <td>8857.2</td>\n      <td>4428.6</td>\n      <td>NaN</td>\n      <td>269.0</td>\n      <td>80520.0</td>\n      <td>36905.0</td>\n      <td>56364.0</td>\n      <td>-11272.8</td>\n      <td>43615.0</td>\n    </tr>\n    <tr>\n      <th>21</th>\n      <td>5991744</td>\n      <td>6.0</td>\n      <td>7640.0</td>\n      <td>0.75</td>\n      <td>0.0</td>\n      <td>8617.9200</td>\n      <td>0.000</td>\n      <td>111.0</td>\n      <td>152800.0</td>\n      <td>145160.0</td>\n      <td>15280.0</td>\n      <td>NaN</td>\n      <td>7640.0</td>\n      <td>266.0</td>\n      <td>191000.0</td>\n      <td>366720.0</td>\n      <td>267400.0</td>\n      <td>200550.0</td>\n      <td>-175720.0</td>\n    </tr>\n    <tr>\n      <th>24</th>\n      <td>5994109</td>\n      <td>14.0</td>\n      <td>4340.0</td>\n      <td>0.73</td>\n      <td>1.0</td>\n      <td>0.0000</td>\n      <td>21665.280</td>\n      <td>746.0</td>\n      <td>52080.0</td>\n      <td>23870.0</td>\n      <td>60412.8</td>\n      <td>45309.6</td>\n      <td>28210.0</td>\n      <td>669.0</td>\n      <td>NaN</td>\n      <td>26040.0</td>\n      <td>90272.0</td>\n      <td>90272.0</td>\n      <td>30380.0</td>\n    </tr>\n    <tr>\n      <th>27</th>\n      <td>5990416</td>\n      <td>9.0</td>\n      <td>2560.0</td>\n      <td>0.86</td>\n      <td>2.0</td>\n      <td>75801.6000</td>\n      <td>1884.160</td>\n      <td>233.0</td>\n      <td>53760.0</td>\n      <td>102400.0</td>\n      <td>NaN</td>\n      <td>-26880.0</td>\n      <td>-48640.0</td>\n      <td>776.0</td>\n      <td>20480.0</td>\n      <td>35840.0</td>\n      <td>31948.8</td>\n      <td>10649.6</td>\n      <td>NaN</td>\n    </tr>\n    <tr>\n      <th>...</th>\n      <td>...</td>\n      <td>...</td>\n      <td>...</td>\n      <td>...</td>\n      <td>...</td>\n      <td>...</td>\n      <td>...</td>\n      <td>...</td>\n      <td>...</td>\n      <td>...</td>\n      <td>...</td>\n      <td>...</td>\n      <td>...</td>\n      <td>...</td>\n      <td>...</td>\n      <td>...</td>\n      <td>...</td>\n      <td>...</td>\n      <td>...</td>\n    </tr>\n    <tr>\n      <th>17109</th>\n      <td>5982310</td>\n      <td>6.0</td>\n      <td>4220.0</td>\n      <td>0.98</td>\n      <td>2.0</td>\n      <td>0.0000</td>\n      <td>109483.680</td>\n      <td>192.0</td>\n      <td>67520.0</td>\n      <td>63300.0</td>\n      <td>81024.0</td>\n      <td>0.0</td>\n      <td>4220.0</td>\n      <td>NaN</td>\n      <td>NaN</td>\n      <td>NaN</td>\n      <td>NaN</td>\n      <td>NaN</td>\n      <td>NaN</td>\n    </tr>\n    <tr>\n      <th>17110</th>\n      <td>5983295</td>\n      <td>3.0</td>\n      <td>2300.0</td>\n      <td>0.57</td>\n      <td>3.0</td>\n      <td>846.4000</td>\n      <td>3761.880</td>\n      <td>621.0</td>\n      <td>9200.0</td>\n      <td>10350.0</td>\n      <td>25024.0</td>\n      <td>-3128.0</td>\n      <td>-1150.0</td>\n      <td>718.0</td>\n      <td>4600.0</td>\n      <td>NaN</td>\n      <td>9338.0</td>\n      <td>2668.0</td>\n      <td>1150.0</td>\n    </tr>\n    <tr>\n      <th>17125</th>\n      <td>5992487</td>\n      <td>15.0</td>\n      <td>5240.0</td>\n      <td>0.82</td>\n      <td>3.0</td>\n      <td>2561.3120</td>\n      <td>689.584</td>\n      <td>288.0</td>\n      <td>68120.0</td>\n      <td>125760.0</td>\n      <td>38147.2</td>\n      <td>28610.4</td>\n      <td>-57640.0</td>\n      <td>252.0</td>\n      <td>73360.0</td>\n      <td>136240.0</td>\n      <td>236219.2</td>\n      <td>NaN</td>\n      <td>-62880.0</td>\n    </tr>\n    <tr>\n      <th>17126</th>\n      <td>5998408</td>\n      <td>17.0</td>\n      <td>490.0</td>\n      <td>0.51</td>\n      <td>0.0</td>\n      <td>414.5400</td>\n      <td>0.000</td>\n      <td>NaN</td>\n      <td>14700.0</td>\n      <td>7105.0</td>\n      <td>735.0</td>\n      <td>0.0</td>\n      <td>7595.0</td>\n      <td>724.0</td>\n      <td>23520.0</td>\n      <td>46060.0</td>\n      <td>56448.0</td>\n      <td>33868.8</td>\n      <td>-22540.0</td>\n    </tr>\n    <tr>\n      <th>17129</th>\n      <td>5990954</td>\n      <td>10.0</td>\n      <td>6770.0</td>\n      <td>0.96</td>\n      <td>0.0</td>\n      <td>9965.4400</td>\n      <td>36082.746</td>\n      <td>617.0</td>\n      <td>108320.0</td>\n      <td>101550.0</td>\n      <td>116985.6</td>\n      <td>87739.2</td>\n      <td>6770.0</td>\n      <td>767.0</td>\n      <td>182790.0</td>\n      <td>NaN</td>\n      <td>89567.1</td>\n      <td>12795.3</td>\n      <td>6770.0</td>\n    </tr>\n  </tbody>\n</table>\n<p>2237 rows × 19 columns</p>\n</div>"
     },
     "execution_count": 3826,
     "metadata": {},
     "output_type": "execute_result"
    }
   ],
   "source": [
    "base_train.loc[base_train.isna().any(1)]"
   ],
   "metadata": {
    "collapsed": false,
    "pycharm": {
     "name": "#%%\n"
    }
   }
  },
  {
   "cell_type": "code",
   "execution_count": 3827,
   "outputs": [],
   "source": [
    "base_train = base_train.dropna(axis=0,how='any')"
   ],
   "metadata": {
    "collapsed": false,
    "pycharm": {
     "name": "#%%\n"
    }
   }
  },
  {
   "cell_type": "code",
   "execution_count": 3828,
   "outputs": [
    {
     "data": {
      "text/plain": "        ID  注册时间    注册资本  控制人持股比例  知识产权  融资情况_2015  融资情况_2016  从业人数_2015  \\\n0  5981446   9.0  1190.0     0.91   1.0   3065.440   4379.200       74.0   \n1  5993858   9.0  6670.0     0.91   0.0   1755.544  21066.528       21.0   \n2  5990025   9.0  9100.0     0.51   2.0   5987.800   5474.560      985.0   \n3  5982670  15.0  5870.0     0.63   2.0   3586.570  22089.984      808.0   \n4  5990751  12.0  9850.0     0.58   0.0   4629.500  12221.880      112.0   \n\n   资产总额_2015  负债总额_2015  主营业务收入_2015  净利润_2015  所有者权益合计_2015  从业人数_2016  \\\n0    33320.0    64260.0     102625.6  -14660.8      -30940.0      631.0   \n1   186760.0    90045.0     134467.2   16808.4       96715.0      353.0   \n2   127400.0   236600.0      50960.0   50960.0     -109200.0       84.0   \n3    76310.0   105660.0      86993.4   57995.6      -29350.0      965.0   \n4    98500.0   177300.0     124110.0   41370.0      -78800.0      213.0   \n\n   资产总额_2016  负债总额_2016  主营业务收入_2016  净利润_2016  所有者权益合计_2016  \n0    47600.0    69615.0      20944.0   -5236.0      -22015.0  \n1   106720.0   150075.0      37352.0   -7470.4      -43355.0  \n2   291200.0   282100.0      87360.0   43680.0        9100.0  \n3   410900.0   607545.0     920416.0  230104.0     -196645.0  \n4   325050.0   472800.0     682605.0  341302.5     -147750.0  ",
      "text/html": "<div>\n<style scoped>\n    .dataframe tbody tr th:only-of-type {\n        vertical-align: middle;\n    }\n\n    .dataframe tbody tr th {\n        vertical-align: top;\n    }\n\n    .dataframe thead th {\n        text-align: right;\n    }\n</style>\n<table border=\"1\" class=\"dataframe\">\n  <thead>\n    <tr style=\"text-align: right;\">\n      <th></th>\n      <th>ID</th>\n      <th>注册时间</th>\n      <th>注册资本</th>\n      <th>控制人持股比例</th>\n      <th>知识产权</th>\n      <th>融资情况_2015</th>\n      <th>融资情况_2016</th>\n      <th>从业人数_2015</th>\n      <th>资产总额_2015</th>\n      <th>负债总额_2015</th>\n      <th>主营业务收入_2015</th>\n      <th>净利润_2015</th>\n      <th>所有者权益合计_2015</th>\n      <th>从业人数_2016</th>\n      <th>资产总额_2016</th>\n      <th>负债总额_2016</th>\n      <th>主营业务收入_2016</th>\n      <th>净利润_2016</th>\n      <th>所有者权益合计_2016</th>\n    </tr>\n  </thead>\n  <tbody>\n    <tr>\n      <th>0</th>\n      <td>5981446</td>\n      <td>9.0</td>\n      <td>1190.0</td>\n      <td>0.91</td>\n      <td>1.0</td>\n      <td>3065.440</td>\n      <td>4379.200</td>\n      <td>74.0</td>\n      <td>33320.0</td>\n      <td>64260.0</td>\n      <td>102625.6</td>\n      <td>-14660.8</td>\n      <td>-30940.0</td>\n      <td>631.0</td>\n      <td>47600.0</td>\n      <td>69615.0</td>\n      <td>20944.0</td>\n      <td>-5236.0</td>\n      <td>-22015.0</td>\n    </tr>\n    <tr>\n      <th>1</th>\n      <td>5993858</td>\n      <td>9.0</td>\n      <td>6670.0</td>\n      <td>0.91</td>\n      <td>0.0</td>\n      <td>1755.544</td>\n      <td>21066.528</td>\n      <td>21.0</td>\n      <td>186760.0</td>\n      <td>90045.0</td>\n      <td>134467.2</td>\n      <td>16808.4</td>\n      <td>96715.0</td>\n      <td>353.0</td>\n      <td>106720.0</td>\n      <td>150075.0</td>\n      <td>37352.0</td>\n      <td>-7470.4</td>\n      <td>-43355.0</td>\n    </tr>\n    <tr>\n      <th>2</th>\n      <td>5990025</td>\n      <td>9.0</td>\n      <td>9100.0</td>\n      <td>0.51</td>\n      <td>2.0</td>\n      <td>5987.800</td>\n      <td>5474.560</td>\n      <td>985.0</td>\n      <td>127400.0</td>\n      <td>236600.0</td>\n      <td>50960.0</td>\n      <td>50960.0</td>\n      <td>-109200.0</td>\n      <td>84.0</td>\n      <td>291200.0</td>\n      <td>282100.0</td>\n      <td>87360.0</td>\n      <td>43680.0</td>\n      <td>9100.0</td>\n    </tr>\n    <tr>\n      <th>3</th>\n      <td>5982670</td>\n      <td>15.0</td>\n      <td>5870.0</td>\n      <td>0.63</td>\n      <td>2.0</td>\n      <td>3586.570</td>\n      <td>22089.984</td>\n      <td>808.0</td>\n      <td>76310.0</td>\n      <td>105660.0</td>\n      <td>86993.4</td>\n      <td>57995.6</td>\n      <td>-29350.0</td>\n      <td>965.0</td>\n      <td>410900.0</td>\n      <td>607545.0</td>\n      <td>920416.0</td>\n      <td>230104.0</td>\n      <td>-196645.0</td>\n    </tr>\n    <tr>\n      <th>4</th>\n      <td>5990751</td>\n      <td>12.0</td>\n      <td>9850.0</td>\n      <td>0.58</td>\n      <td>0.0</td>\n      <td>4629.500</td>\n      <td>12221.880</td>\n      <td>112.0</td>\n      <td>98500.0</td>\n      <td>177300.0</td>\n      <td>124110.0</td>\n      <td>41370.0</td>\n      <td>-78800.0</td>\n      <td>213.0</td>\n      <td>325050.0</td>\n      <td>472800.0</td>\n      <td>682605.0</td>\n      <td>341302.5</td>\n      <td>-147750.0</td>\n    </tr>\n  </tbody>\n</table>\n</div>"
     },
     "execution_count": 3828,
     "metadata": {},
     "output_type": "execute_result"
    }
   ],
   "source": [
    "base_train.head()"
   ],
   "metadata": {
    "collapsed": false,
    "pycharm": {
     "name": "#%%\n"
    }
   }
  },
  {
   "cell_type": "markdown",
   "source": [
    "设计训练数据\n",
    "将year_train中的17年净利润根据ID取出，与base_train表相连接"
   ],
   "metadata": {
    "collapsed": false
   }
  },
  {
   "cell_type": "code",
   "execution_count": 3829,
   "outputs": [
    {
     "name": "stdout",
     "output_type": "stream",
     "text": [
      "<class 'pandas.core.frame.DataFrame'>\n",
      "Int64Index: 17148 entries, 34636 to 51953\n",
      "Data columns (total 11 columns):\n",
      " #   Column   Non-Null Count  Dtype  \n",
      "---  ------   --------------  -----  \n",
      " 0   ID       17148 non-null  int64  \n",
      " 1   year     17148 non-null  float64\n",
      " 2   从业人数     16989 non-null  float64\n",
      " 3   资产总额     16985 non-null  float64\n",
      " 4   负债总额     16988 non-null  float64\n",
      " 5   营业总收入    16982 non-null  float64\n",
      " 6   主营业务收入   16970 non-null  float64\n",
      " 7   利润总额     16979 non-null  float64\n",
      " 8   净利润      16965 non-null  float64\n",
      " 9   纳税总额     16966 non-null  float64\n",
      " 10  所有者权益合计  16991 non-null  float64\n",
      "dtypes: float64(10), int64(1)\n",
      "memory usage: 1.6 MB\n"
     ]
    },
    {
     "name": "stderr",
     "output_type": "stream",
     "text": [
      "c:\\users\\rikoo\\dev\\env\\anaconda3\\envs\\py36\\lib\\site-packages\\pandas\\core\\frame.py:4308: SettingWithCopyWarning: \n",
      "A value is trying to be set on a copy of a slice from a DataFrame\n",
      "\n",
      "See the caveats in the documentation: https://pandas.pydata.org/pandas-docs/stable/user_guide/indexing.html#returning-a-view-versus-a-copy\n",
      "  errors=errors,\n",
      "c:\\users\\rikoo\\dev\\env\\anaconda3\\envs\\py36\\lib\\site-packages\\pandas\\core\\frame.py:4174: SettingWithCopyWarning: \n",
      "A value is trying to be set on a copy of a slice from a DataFrame\n",
      "\n",
      "See the caveats in the documentation: https://pandas.pydata.org/pandas-docs/stable/user_guide/indexing.html#returning-a-view-versus-a-copy\n",
      "  errors=errors,\n"
     ]
    }
   ],
   "source": [
    "year_2017 = year_train.iloc[(year_train['year']==2017).values]\n",
    "year_2017.info()\n",
    "year_2017.rename(columns={\n",
    "    '净利润':'净利润_2017'\n",
    "},inplace=True)\n",
    "year_2017.drop(columns=['year','从业人数','资产总额','负债总额','所有者权益合计','主营业务收入','纳税总额','利润总额','营业总收入'],inplace=True)"
   ],
   "metadata": {
    "collapsed": false,
    "pycharm": {
     "name": "#%%\n"
    }
   }
  },
  {
   "cell_type": "code",
   "execution_count": 3830,
   "outputs": [],
   "source": [
    "# 与base_train连接起来\n",
    "base_train = base_train.merge(year_2017,on='ID',how='left')"
   ],
   "metadata": {
    "collapsed": false,
    "pycharm": {
     "name": "#%%\n"
    }
   }
  },
  {
   "cell_type": "code",
   "execution_count": 3831,
   "outputs": [
    {
     "data": {
      "text/plain": "注册时间            False\n注册资本            False\n控制人持股比例         False\n知识产权            False\n融资情况_2015       False\n融资情况_2016       False\n从业人数_2015       False\n资产总额_2015       False\n负债总额_2015       False\n主营业务收入_2015     False\n净利润_2015        False\n所有者权益合计_2015    False\n从业人数_2016       False\n资产总额_2016       False\n负债总额_2016       False\n主营业务收入_2016     False\n净利润_2016        False\n所有者权益合计_2016    False\n净利润_2017         True\ndtype: bool"
     },
     "execution_count": 3831,
     "metadata": {},
     "output_type": "execute_result"
    }
   ],
   "source": [
    "# 去除ID列，数值过大，影响训练\n",
    "X = base_train[base_train.columns[1:len(base_train)]]\n",
    "\n",
    "np.isnan(X).any()\n",
    "\n"
   ],
   "metadata": {
    "collapsed": false,
    "pycharm": {
     "name": "#%%\n"
    }
   }
  },
  {
   "cell_type": "code",
   "execution_count": 3832,
   "outputs": [],
   "source": [
    "# 归一化\n",
    "X = X.apply(lambda x:(x-x.min())/(x.max()-x.min()))"
   ],
   "metadata": {
    "collapsed": false,
    "pycharm": {
     "name": "#%%\n"
    }
   }
  },
  {
   "cell_type": "code",
   "execution_count": 3833,
   "outputs": [],
   "source": [
    "y_true = X['净利润_2017']\n",
    "# 存在na值，用0填充\n",
    "y_true.fillna(0,inplace=True)"
   ],
   "metadata": {
    "collapsed": false,
    "pycharm": {
     "name": "#%%\n"
    }
   }
  },
  {
   "cell_type": "code",
   "execution_count": 3834,
   "outputs": [
    {
     "name": "stderr",
     "output_type": "stream",
     "text": [
      "c:\\users\\rikoo\\dev\\env\\anaconda3\\envs\\py36\\lib\\site-packages\\seaborn\\distributions.py:2557: FutureWarning: `distplot` is a deprecated function and will be removed in a future version. Please adapt your code to use either `displot` (a figure-level function with similar flexibility) or `histplot` (an axes-level function for histograms).\n",
      "  warnings.warn(msg, FutureWarning)\n"
     ]
    },
    {
     "data": {
      "text/plain": "<AxesSubplot:xlabel='净利润_2017', ylabel='Density'>"
     },
     "execution_count": 3834,
     "metadata": {},
     "output_type": "execute_result"
    },
    {
     "name": "stderr",
     "output_type": "stream",
     "text": [
      "c:\\users\\rikoo\\dev\\env\\anaconda3\\envs\\py36\\lib\\site-packages\\matplotlib\\backends\\backend_agg.py:238: RuntimeWarning: Glyph 20928 missing from current font.\n",
      "  font.set_text(s, 0.0, flags=flags)\n",
      "c:\\users\\rikoo\\dev\\env\\anaconda3\\envs\\py36\\lib\\site-packages\\matplotlib\\backends\\backend_agg.py:238: RuntimeWarning: Glyph 21033 missing from current font.\n",
      "  font.set_text(s, 0.0, flags=flags)\n",
      "c:\\users\\rikoo\\dev\\env\\anaconda3\\envs\\py36\\lib\\site-packages\\matplotlib\\backends\\backend_agg.py:238: RuntimeWarning: Glyph 28070 missing from current font.\n",
      "  font.set_text(s, 0.0, flags=flags)\n",
      "c:\\users\\rikoo\\dev\\env\\anaconda3\\envs\\py36\\lib\\site-packages\\matplotlib\\backends\\backend_agg.py:201: RuntimeWarning: Glyph 20928 missing from current font.\n",
      "  font.set_text(s, 0, flags=flags)\n",
      "c:\\users\\rikoo\\dev\\env\\anaconda3\\envs\\py36\\lib\\site-packages\\matplotlib\\backends\\backend_agg.py:201: RuntimeWarning: Glyph 21033 missing from current font.\n",
      "  font.set_text(s, 0, flags=flags)\n",
      "c:\\users\\rikoo\\dev\\env\\anaconda3\\envs\\py36\\lib\\site-packages\\matplotlib\\backends\\backend_agg.py:201: RuntimeWarning: Glyph 28070 missing from current font.\n",
      "  font.set_text(s, 0, flags=flags)\n"
     ]
    },
    {
     "data": {
      "text/plain": "<Figure size 432x288 with 1 Axes>",
      "image/png": "[encoded data removed]"
     },
     "metadata": {
      "needs_background": "light"
     },
     "output_type": "display_data"
    }
   ],
   "source": [
    "sns.distplot(y_true,fit=st.norm)"
   ],
   "metadata": {
    "collapsed": false,
    "pycharm": {
     "name": "#%%\n"
    }
   }
  },
  {
   "cell_type": "code",
   "execution_count": 3835,
   "outputs": [
    {
     "name": "stdout",
     "output_type": "stream",
     "text": [
      "<class 'pandas.core.frame.DataFrame'>\n",
      "Int64Index: 14894 entries, 0 to 14893\n",
      "Data columns (total 19 columns):\n",
      " #   Column        Non-Null Count  Dtype  \n",
      "---  ------        --------------  -----  \n",
      " 0   注册时间          14894 non-null  float64\n",
      " 1   注册资本          14894 non-null  float64\n",
      " 2   控制人持股比例       14894 non-null  float64\n",
      " 3   知识产权          14894 non-null  float64\n",
      " 4   融资情况_2015     14894 non-null  float64\n",
      " 5   融资情况_2016     14894 non-null  float64\n",
      " 6   从业人数_2015     14894 non-null  float64\n",
      " 7   资产总额_2015     14894 non-null  float64\n",
      " 8   负债总额_2015     14894 non-null  float64\n",
      " 9   主营业务收入_2015   14894 non-null  float64\n",
      " 10  净利润_2015      14894 non-null  float64\n",
      " 11  所有者权益合计_2015  14894 non-null  float64\n",
      " 12  从业人数_2016     14894 non-null  float64\n",
      " 13  资产总额_2016     14894 non-null  float64\n",
      " 14  负债总额_2016     14894 non-null  float64\n",
      " 15  主营业务收入_2016   14894 non-null  float64\n",
      " 16  净利润_2016      14894 non-null  float64\n",
      " 17  所有者权益合计_2016  14894 non-null  float64\n",
      " 18  净利润_2017      14894 non-null  float64\n",
      "dtypes: float64(19)\n",
      "memory usage: 2.3 MB\n"
     ]
    }
   ],
   "source": [
    "X.info()"
   ],
   "metadata": {
    "collapsed": false,
    "pycharm": {
     "name": "#%%\n"
    }
   }
  },
  {
   "cell_type": "code",
   "execution_count": 3836,
   "outputs": [],
   "source": [
    "X.drop(columns=['净利润_2017'],inplace=True)"
   ],
   "metadata": {
    "collapsed": false,
    "pycharm": {
     "name": "#%%\n"
    }
   }
  },
  {
   "cell_type": "code",
   "execution_count": 3836,
   "outputs": [],
   "source": [],
   "metadata": {
    "collapsed": false,
    "pycharm": {
     "name": "#%%\n"
    }
   }
  },
  {
   "cell_type": "code",
   "execution_count": 3837,
   "outputs": [
    {
     "data": {
      "text/plain": "0.005701238787880382"
     },
     "execution_count": 3837,
     "metadata": {},
     "output_type": "execute_result"
    }
   ],
   "source": [
    "# 数据切分 查看训练集上的准确度\n",
    "from sklearn.model_selection import train_test_split\n",
    "X_train,X_test,y_train,y_test = train_test_split(X,y_true,test_size=0.4)\n",
    "\n",
    "\n",
    "#### 随机森林 决策树\n",
    "from sklearn.linear_model import LinearRegression\n",
    "\n",
    "\n",
    "from sklearn.metrics import mean_squared_error\n",
    "\n",
    "# clf = tree.DecisionTreeRegressor(max_depth=3,min_samples_split=3,min_samples_leaf=1)\n",
    "model = LinearRegression(normalize=True)\n",
    "model.fit(X_train,y_train)\n",
    "# clf.score(X_test,y_test)\n",
    "y_pred = model.predict(X_test)\n",
    "mean_squared_error(y_test,y_pred)"
   ],
   "metadata": {
    "collapsed": false,
    "pycharm": {
     "name": "#%%\n"
    }
   }
  },
  {
   "cell_type": "code",
   "execution_count": 3838,
   "outputs": [],
   "source": [
    "# 最终的训练数据\n",
    "# train_data.to_csv('tables/train.csv')"
   ],
   "metadata": {
    "collapsed": false,
    "pycharm": {
     "name": "#%%\n"
    }
   }
  },
  {
   "cell_type": "markdown",
   "source": [
    "接下来对测试数据进行预测\n",
    "\n",
    "    1. 数据预处理\n",
    "\n",
    "    1.1 导入数据表\n",
    "\n",
    "    1.2 对数据表进行处理\n",
    "        1.2.1 base_test表处理\n",
    "        1.2.2 knowledge_test表处理\n",
    "        1.2.3 money_test表处理\n",
    "        1.2.4 year_test表处理\n",
    "    1.3 整理预测数据"
   ],
   "metadata": {
    "collapsed": false
   }
  },
  {
   "cell_type": "code",
   "execution_count": 3839,
   "outputs": [],
   "source": [
    "# 1.1 导入数据\n",
    "base_test = pd.read_csv('tables/base-test.csv',engine='python',encoding='utf8')\n",
    "knowledge_test = pd.read_csv('tables/knowledge-test.csv',engine='python',encoding='utf8')\n",
    "money_test = pd.read_csv('tables/money-test.csv',engine='python',encoding='gb2312')\n",
    "year_test = pd.read_csv('tables/year-test.csv',engine='python',encoding='gb2312')"
   ],
   "metadata": {
    "collapsed": false,
    "pycharm": {
     "name": "#%%\n"
    }
   }
  },
  {
   "cell_type": "code",
   "execution_count": 3840,
   "outputs": [
    {
     "data": {
      "text/plain": "           ID    注册时间    注册资本     行业  区域     企业类型 控制人类型  控制人持股比例\n0     5992473  2010.0  8670.0  交通运输业  广东   有限责任公司  企业法人     0.54\n1     5999375  2010.0  3400.0    服务业  广东  集体所有制企业  企业法人     0.90\n2     5981121  2014.0  3350.0  商业服务业  福建   有限责任公司  企业法人     0.51\n3     5978928  2012.0  7690.0     工业  广西   股份有限公司  企业法人     0.81\n4     5979981  2013.0  4850.0  交通运输业  广西   股份有限公司  企业法人     0.61\n...       ...     ...     ...    ...  ..      ...   ...      ...\n4063  5984213  2000.0  3740.0   社区服务  江西  农民专业合作社   自然人     0.73\n4064  5983087  2000.0  8550.0    服务业  广西  农民专业合作社   自然人     0.58\n4065  5991518  2013.0   100.0  商业服务业  江西   有限责任公司   自然人     0.87\n4066  5997731  2000.0  7320.0   社区服务  湖北   股份有限公司  企业法人     0.61\n4067  5988959  2013.0  7800.0  交通运输业  江西     合伙企业   自然人     0.88\n\n[4068 rows x 8 columns]",
      "text/html": "<div>\n<style scoped>\n    .dataframe tbody tr th:only-of-type {\n        vertical-align: middle;\n    }\n\n    .dataframe tbody tr th {\n        vertical-align: top;\n    }\n\n    .dataframe thead th {\n        text-align: right;\n    }\n</style>\n<table border=\"1\" class=\"dataframe\">\n  <thead>\n    <tr style=\"text-align: right;\">\n      <th></th>\n      <th>ID</th>\n      <th>注册时间</th>\n      <th>注册资本</th>\n      <th>行业</th>\n      <th>区域</th>\n      <th>企业类型</th>\n      <th>控制人类型</th>\n      <th>控制人持股比例</th>\n    </tr>\n  </thead>\n  <tbody>\n    <tr>\n      <th>0</th>\n      <td>5992473</td>\n      <td>2010.0</td>\n      <td>8670.0</td>\n      <td>交通运输业</td>\n      <td>广东</td>\n      <td>有限责任公司</td>\n      <td>企业法人</td>\n      <td>0.54</td>\n    </tr>\n    <tr>\n      <th>1</th>\n      <td>5999375</td>\n      <td>2010.0</td>\n      <td>3400.0</td>\n      <td>服务业</td>\n      <td>广东</td>\n      <td>集体所有制企业</td>\n      <td>企业法人</td>\n      <td>0.90</td>\n    </tr>\n    <tr>\n      <th>2</th>\n      <td>5981121</td>\n      <td>2014.0</td>\n      <td>3350.0</td>\n      <td>商业服务业</td>\n      <td>福建</td>\n      <td>有限责任公司</td>\n      <td>企业法人</td>\n      <td>0.51</td>\n    </tr>\n    <tr>\n      <th>3</th>\n      <td>5978928</td>\n      <td>2012.0</td>\n      <td>7690.0</td>\n      <td>工业</td>\n      <td>广西</td>\n      <td>股份有限公司</td>\n      <td>企业法人</td>\n      <td>0.81</td>\n    </tr>\n    <tr>\n      <th>4</th>\n      <td>5979981</td>\n      <td>2013.0</td>\n      <td>4850.0</td>\n      <td>交通运输业</td>\n      <td>广西</td>\n      <td>股份有限公司</td>\n      <td>企业法人</td>\n      <td>0.61</td>\n    </tr>\n    <tr>\n      <th>...</th>\n      <td>...</td>\n      <td>...</td>\n      <td>...</td>\n      <td>...</td>\n      <td>...</td>\n      <td>...</td>\n      <td>...</td>\n      <td>...</td>\n    </tr>\n    <tr>\n      <th>4063</th>\n      <td>5984213</td>\n      <td>2000.0</td>\n      <td>3740.0</td>\n      <td>社区服务</td>\n      <td>江西</td>\n      <td>农民专业合作社</td>\n      <td>自然人</td>\n      <td>0.73</td>\n    </tr>\n    <tr>\n      <th>4064</th>\n      <td>5983087</td>\n      <td>2000.0</td>\n      <td>8550.0</td>\n      <td>服务业</td>\n      <td>广西</td>\n      <td>农民专业合作社</td>\n      <td>自然人</td>\n      <td>0.58</td>\n    </tr>\n    <tr>\n      <th>4065</th>\n      <td>5991518</td>\n      <td>2013.0</td>\n      <td>100.0</td>\n      <td>商业服务业</td>\n      <td>江西</td>\n      <td>有限责任公司</td>\n      <td>自然人</td>\n      <td>0.87</td>\n    </tr>\n    <tr>\n      <th>4066</th>\n      <td>5997731</td>\n      <td>2000.0</td>\n      <td>7320.0</td>\n      <td>社区服务</td>\n      <td>湖北</td>\n      <td>股份有限公司</td>\n      <td>企业法人</td>\n      <td>0.61</td>\n    </tr>\n    <tr>\n      <th>4067</th>\n      <td>5988959</td>\n      <td>2013.0</td>\n      <td>7800.0</td>\n      <td>交通运输业</td>\n      <td>江西</td>\n      <td>合伙企业</td>\n      <td>自然人</td>\n      <td>0.88</td>\n    </tr>\n  </tbody>\n</table>\n<p>4068 rows × 8 columns</p>\n</div>"
     },
     "execution_count": 3840,
     "metadata": {},
     "output_type": "execute_result"
    }
   ],
   "source": [
    "# 1.2.1 对base_test表进行处理\n",
    "base_test"
   ],
   "metadata": {
    "collapsed": false,
    "pycharm": {
     "name": "#%%\n"
    }
   }
  },
  {
   "cell_type": "code",
   "execution_count": 3841,
   "outputs": [
    {
     "data": {
      "text/plain": "           ID  注册时间    注册资本     行业   区域     企业类型 控制人类型  控制人持股比例\n109   5979602   NaN  4020.0  交通运输业   江西  集体所有制企业  企业法人     0.80\n157   5987719   NaN   430.0    服务业   湖北     合伙企业  企业法人     0.79\n296   5998824   NaN  9900.0    零售业   湖南   股份有限公司  企业法人     0.65\n391   5982655   NaN  1500.0  交通运输业   江西   股份有限公司   自然人     0.76\n572   5992109   NaN  2890.0    服务业   湖北   有限责任公司  企业法人     0.80\n869   5989756   NaN  6850.0    零售业   广西     合伙企业  企业法人     0.92\n882   5988229   NaN  3430.0     工业   湖北   股份有限公司   自然人     0.64\n929   5998490   NaN  8700.0     工业   福建   有限责任公司  企业法人     0.63\n991   5979014   NaN  1090.0     工业   广东  农民专业合作社   自然人     0.60\n1002  5986767   NaN  4090.0   社区服务   广东  集体所有制企业  企业法人     0.92\n1004  5993350   NaN   600.0     工业   广东  集体所有制企业  企业法人     0.60\n1300  5997613   NaN  2660.0    服务业   江西  农民专业合作社  企业法人     0.93\n1312  5981989   NaN  3350.0     工业   福建   股份有限公司   自然人     0.94\n1356  5995872   NaN  3950.0     工业  NaN     合伙企业  企业法人     0.92\n1413  5991046   NaN   500.0  交通运输业   福建     合伙企业   自然人     0.95\n1451  5985170   NaN  3700.0    服务业   江西     合伙企业   自然人     0.73\n1626  5999342   NaN  9320.0  交通运输业  NaN     合伙企业  企业法人     0.96\n1637  5986724   NaN  4030.0    零售业   山东   股份有限公司   自然人     0.53\n1762  5998954   NaN  3060.0     工业   山东  集体所有制企业   自然人     0.58\n1787  5995175   NaN  2070.0   社区服务   广东     合伙企业   自然人     0.99\n2067  5978282   NaN  6870.0     工业   广东  集体所有制企业   自然人     0.57\n2181  5989441   NaN  9860.0   社区服务   湖北   股份有限公司   自然人     0.87\n2214  5990398   NaN   430.0     工业   广东  集体所有制企业  企业法人     0.88\n2638  5996259   NaN  5150.0    零售业   江西     合伙企业  企业法人     0.91\n2765  5988863   NaN  5670.0   社区服务   福建   有限责任公司  企业法人     0.52\n2817  5979864   NaN  6920.0  商业服务业   湖南  集体所有制企业   NaN     0.73\n2897  5997842   NaN  4430.0    服务业   山东  农民专业合作社  企业法人     0.61\n3044  5980724   NaN  8640.0    零售业   广东  农民专业合作社  企业法人     0.69\n3080  5982816   NaN   740.0    服务业   湖北   有限责任公司  企业法人     0.61\n3353  5984587   NaN  6140.0  商业服务业   湖南   股份有限公司  企业法人     0.90\n3364  5988090   NaN  4290.0  商业服务业   福建  集体所有制企业  企业法人     0.53\n3368  5989704   NaN  9700.0   社区服务   江西     合伙企业   自然人     0.60\n3526  5981328   NaN  7210.0    服务业   广东   有限责任公司   自然人     0.83\n3571  5996888   NaN  5870.0     工业   山东   股份有限公司   自然人     0.78\n3593  5989724   NaN   990.0  商业服务业   江西  农民专业合作社  企业法人     0.57\n3668  5980082   NaN  9840.0  商业服务业   广西  农民专业合作社  企业法人     0.63\n3699  5999978   NaN  7640.0   社区服务   广西   股份有限公司  企业法人     0.64\n3788  5990529   NaN  6010.0     工业   广西   有限责任公司   自然人     0.78\n3877  5997507   NaN  1820.0   社区服务   山东     合伙企业   自然人     0.75\n4034  5991618   NaN  9540.0    零售业   广东     合伙企业  企业法人     0.59",
      "text/html": "<div>\n<style scoped>\n    .dataframe tbody tr th:only-of-type {\n        vertical-align: middle;\n    }\n\n    .dataframe tbody tr th {\n        vertical-align: top;\n    }\n\n    .dataframe thead th {\n        text-align: right;\n    }\n</style>\n<table border=\"1\" class=\"dataframe\">\n  <thead>\n    <tr style=\"text-align: right;\">\n      <th></th>\n      <th>ID</th>\n      <th>注册时间</th>\n      <th>注册资本</th>\n      <th>行业</th>\n      <th>区域</th>\n      <th>企业类型</th>\n      <th>控制人类型</th>\n      <th>控制人持股比例</th>\n    </tr>\n  </thead>\n  <tbody>\n    <tr>\n      <th>109</th>\n      <td>5979602</td>\n      <td>NaN</td>\n      <td>4020.0</td>\n      <td>交通运输业</td>\n      <td>江西</td>\n      <td>集体所有制企业</td>\n      <td>企业法人</td>\n      <td>0.80</td>\n    </tr>\n    <tr>\n      <th>157</th>\n      <td>5987719</td>\n      <td>NaN</td>\n      <td>430.0</td>\n      <td>服务业</td>\n      <td>湖北</td>\n      <td>合伙企业</td>\n      <td>企业法人</td>\n      <td>0.79</td>\n    </tr>\n    <tr>\n      <th>296</th>\n      <td>5998824</td>\n      <td>NaN</td>\n      <td>9900.0</td>\n      <td>零售业</td>\n      <td>湖南</td>\n      <td>股份有限公司</td>\n      <td>企业法人</td>\n      <td>0.65</td>\n    </tr>\n    <tr>\n      <th>391</th>\n      <td>5982655</td>\n      <td>NaN</td>\n      <td>1500.0</td>\n      <td>交通运输业</td>\n      <td>江西</td>\n      <td>股份有限公司</td>\n      <td>自然人</td>\n      <td>0.76</td>\n    </tr>\n    <tr>\n      <th>572</th>\n      <td>5992109</td>\n      <td>NaN</td>\n      <td>2890.0</td>\n      <td>服务业</td>\n      <td>湖北</td>\n      <td>有限责任公司</td>\n      <td>企业法人</td>\n      <td>0.80</td>\n    </tr>\n    <tr>\n      <th>869</th>\n      <td>5989756</td>\n      <td>NaN</td>\n      <td>6850.0</td>\n      <td>零售业</td>\n      <td>广西</td>\n      <td>合伙企业</td>\n      <td>企业法人</td>\n      <td>0.92</td>\n    </tr>\n    <tr>\n      <th>882</th>\n      <td>5988229</td>\n      <td>NaN</td>\n      <td>3430.0</td>\n      <td>工业</td>\n      <td>湖北</td>\n      <td>股份有限公司</td>\n      <td>自然人</td>\n      <td>0.64</td>\n    </tr>\n    <tr>\n      <th>929</th>\n      <td>5998490</td>\n      <td>NaN</td>\n      <td>8700.0</td>\n      <td>工业</td>\n      <td>福建</td>\n      <td>有限责任公司</td>\n      <td>企业法人</td>\n      <td>0.63</td>\n    </tr>\n    <tr>\n      <th>991</th>\n      <td>5979014</td>\n      <td>NaN</td>\n      <td>1090.0</td>\n      <td>工业</td>\n      <td>广东</td>\n      <td>农民专业合作社</td>\n      <td>自然人</td>\n      <td>0.60</td>\n    </tr>\n    <tr>\n      <th>1002</th>\n      <td>5986767</td>\n      <td>NaN</td>\n      <td>4090.0</td>\n      <td>社区服务</td>\n      <td>广东</td>\n      <td>集体所有制企业</td>\n      <td>企业法人</td>\n      <td>0.92</td>\n    </tr>\n    <tr>\n      <th>1004</th>\n      <td>5993350</td>\n      <td>NaN</td>\n      <td>600.0</td>\n      <td>工业</td>\n      <td>广东</td>\n      <td>集体所有制企业</td>\n      <td>企业法人</td>\n      <td>0.60</td>\n    </tr>\n    <tr>\n      <th>1300</th>\n      <td>5997613</td>\n      <td>NaN</td>\n      <td>2660.0</td>\n      <td>服务业</td>\n      <td>江西</td>\n      <td>农民专业合作社</td>\n      <td>企业法人</td>\n      <td>0.93</td>\n    </tr>\n    <tr>\n      <th>1312</th>\n      <td>5981989</td>\n      <td>NaN</td>\n      <td>3350.0</td>\n      <td>工业</td>\n      <td>福建</td>\n      <td>股份有限公司</td>\n      <td>自然人</td>\n      <td>0.94</td>\n    </tr>\n    <tr>\n      <th>1356</th>\n      <td>5995872</td>\n      <td>NaN</td>\n      <td>3950.0</td>\n      <td>工业</td>\n      <td>NaN</td>\n      <td>合伙企业</td>\n      <td>企业法人</td>\n      <td>0.92</td>\n    </tr>\n    <tr>\n      <th>1413</th>\n      <td>5991046</td>\n      <td>NaN</td>\n      <td>500.0</td>\n      <td>交通运输业</td>\n      <td>福建</td>\n      <td>合伙企业</td>\n      <td>自然人</td>\n      <td>0.95</td>\n    </tr>\n    <tr>\n      <th>1451</th>\n      <td>5985170</td>\n      <td>NaN</td>\n      <td>3700.0</td>\n      <td>服务业</td>\n      <td>江西</td>\n      <td>合伙企业</td>\n      <td>自然人</td>\n      <td>0.73</td>\n    </tr>\n    <tr>\n      <th>1626</th>\n      <td>5999342</td>\n      <td>NaN</td>\n      <td>9320.0</td>\n      <td>交通运输业</td>\n      <td>NaN</td>\n      <td>合伙企业</td>\n      <td>企业法人</td>\n      <td>0.96</td>\n    </tr>\n    <tr>\n      <th>1637</th>\n      <td>5986724</td>\n      <td>NaN</td>\n      <td>4030.0</td>\n      <td>零售业</td>\n      <td>山东</td>\n      <td>股份有限公司</td>\n      <td>自然人</td>\n      <td>0.53</td>\n    </tr>\n    <tr>\n      <th>1762</th>\n      <td>5998954</td>\n      <td>NaN</td>\n      <td>3060.0</td>\n      <td>工业</td>\n      <td>山东</td>\n      <td>集体所有制企业</td>\n      <td>自然人</td>\n      <td>0.58</td>\n    </tr>\n    <tr>\n      <th>1787</th>\n      <td>5995175</td>\n      <td>NaN</td>\n      <td>2070.0</td>\n      <td>社区服务</td>\n      <td>广东</td>\n      <td>合伙企业</td>\n      <td>自然人</td>\n      <td>0.99</td>\n    </tr>\n    <tr>\n      <th>2067</th>\n      <td>5978282</td>\n      <td>NaN</td>\n      <td>6870.0</td>\n      <td>工业</td>\n      <td>广东</td>\n      <td>集体所有制企业</td>\n      <td>自然人</td>\n      <td>0.57</td>\n    </tr>\n    <tr>\n      <th>2181</th>\n      <td>5989441</td>\n      <td>NaN</td>\n      <td>9860.0</td>\n      <td>社区服务</td>\n      <td>湖北</td>\n      <td>股份有限公司</td>\n      <td>自然人</td>\n      <td>0.87</td>\n    </tr>\n    <tr>\n      <th>2214</th>\n      <td>5990398</td>\n      <td>NaN</td>\n      <td>430.0</td>\n      <td>工业</td>\n      <td>广东</td>\n      <td>集体所有制企业</td>\n      <td>企业法人</td>\n      <td>0.88</td>\n    </tr>\n    <tr>\n      <th>2638</th>\n      <td>5996259</td>\n      <td>NaN</td>\n      <td>5150.0</td>\n      <td>零售业</td>\n      <td>江西</td>\n      <td>合伙企业</td>\n      <td>企业法人</td>\n      <td>0.91</td>\n    </tr>\n    <tr>\n      <th>2765</th>\n      <td>5988863</td>\n      <td>NaN</td>\n      <td>5670.0</td>\n      <td>社区服务</td>\n      <td>福建</td>\n      <td>有限责任公司</td>\n      <td>企业法人</td>\n      <td>0.52</td>\n    </tr>\n    <tr>\n      <th>2817</th>\n      <td>5979864</td>\n      <td>NaN</td>\n      <td>6920.0</td>\n      <td>商业服务业</td>\n      <td>湖南</td>\n      <td>集体所有制企业</td>\n      <td>NaN</td>\n      <td>0.73</td>\n    </tr>\n    <tr>\n      <th>2897</th>\n      <td>5997842</td>\n      <td>NaN</td>\n      <td>4430.0</td>\n      <td>服务业</td>\n      <td>山东</td>\n      <td>农民专业合作社</td>\n      <td>企业法人</td>\n      <td>0.61</td>\n    </tr>\n    <tr>\n      <th>3044</th>\n      <td>5980724</td>\n      <td>NaN</td>\n      <td>8640.0</td>\n      <td>零售业</td>\n      <td>广东</td>\n      <td>农民专业合作社</td>\n      <td>企业法人</td>\n      <td>0.69</td>\n    </tr>\n    <tr>\n      <th>3080</th>\n      <td>5982816</td>\n      <td>NaN</td>\n      <td>740.0</td>\n      <td>服务业</td>\n      <td>湖北</td>\n      <td>有限责任公司</td>\n      <td>企业法人</td>\n      <td>0.61</td>\n    </tr>\n    <tr>\n      <th>3353</th>\n      <td>5984587</td>\n      <td>NaN</td>\n      <td>6140.0</td>\n      <td>商业服务业</td>\n      <td>湖南</td>\n      <td>股份有限公司</td>\n      <td>企业法人</td>\n      <td>0.90</td>\n    </tr>\n    <tr>\n      <th>3364</th>\n      <td>5988090</td>\n      <td>NaN</td>\n      <td>4290.0</td>\n      <td>商业服务业</td>\n      <td>福建</td>\n      <td>集体所有制企业</td>\n      <td>企业法人</td>\n      <td>0.53</td>\n    </tr>\n    <tr>\n      <th>3368</th>\n      <td>5989704</td>\n      <td>NaN</td>\n      <td>9700.0</td>\n      <td>社区服务</td>\n      <td>江西</td>\n      <td>合伙企业</td>\n      <td>自然人</td>\n      <td>0.60</td>\n    </tr>\n    <tr>\n      <th>3526</th>\n      <td>5981328</td>\n      <td>NaN</td>\n      <td>7210.0</td>\n      <td>服务业</td>\n      <td>广东</td>\n      <td>有限责任公司</td>\n      <td>自然人</td>\n      <td>0.83</td>\n    </tr>\n    <tr>\n      <th>3571</th>\n      <td>5996888</td>\n      <td>NaN</td>\n      <td>5870.0</td>\n      <td>工业</td>\n      <td>山东</td>\n      <td>股份有限公司</td>\n      <td>自然人</td>\n      <td>0.78</td>\n    </tr>\n    <tr>\n      <th>3593</th>\n      <td>5989724</td>\n      <td>NaN</td>\n      <td>990.0</td>\n      <td>商业服务业</td>\n      <td>江西</td>\n      <td>农民专业合作社</td>\n      <td>企业法人</td>\n      <td>0.57</td>\n    </tr>\n    <tr>\n      <th>3668</th>\n      <td>5980082</td>\n      <td>NaN</td>\n      <td>9840.0</td>\n      <td>商业服务业</td>\n      <td>广西</td>\n      <td>农民专业合作社</td>\n      <td>企业法人</td>\n      <td>0.63</td>\n    </tr>\n    <tr>\n      <th>3699</th>\n      <td>5999978</td>\n      <td>NaN</td>\n      <td>7640.0</td>\n      <td>社区服务</td>\n      <td>广西</td>\n      <td>股份有限公司</td>\n      <td>企业法人</td>\n      <td>0.64</td>\n    </tr>\n    <tr>\n      <th>3788</th>\n      <td>5990529</td>\n      <td>NaN</td>\n      <td>6010.0</td>\n      <td>工业</td>\n      <td>广西</td>\n      <td>有限责任公司</td>\n      <td>自然人</td>\n      <td>0.78</td>\n    </tr>\n    <tr>\n      <th>3877</th>\n      <td>5997507</td>\n      <td>NaN</td>\n      <td>1820.0</td>\n      <td>社区服务</td>\n      <td>山东</td>\n      <td>合伙企业</td>\n      <td>自然人</td>\n      <td>0.75</td>\n    </tr>\n    <tr>\n      <th>4034</th>\n      <td>5991618</td>\n      <td>NaN</td>\n      <td>9540.0</td>\n      <td>零售业</td>\n      <td>广东</td>\n      <td>合伙企业</td>\n      <td>企业法人</td>\n      <td>0.59</td>\n    </tr>\n  </tbody>\n</table>\n</div>"
     },
     "execution_count": 3841,
     "metadata": {},
     "output_type": "execute_result"
    }
   ],
   "source": [
    "# 1.2.1.1 注册时间\n",
    "# 注册时间有缺失，有188行缺失，占比比较小\n",
    "base_test.loc[base_test['注册时间'].isna()]"
   ],
   "metadata": {
    "collapsed": false,
    "pycharm": {
     "name": "#%%\n"
    }
   }
  },
  {
   "cell_type": "code",
   "execution_count": 3842,
   "outputs": [],
   "source": [
    "# 使用均值来填充\n",
    "base_test['注册时间'].fillna(base_test['注册时间'].mean(),inplace=True)"
   ],
   "metadata": {
    "collapsed": false,
    "pycharm": {
     "name": "#%%\n"
    }
   }
  },
  {
   "cell_type": "code",
   "execution_count": 3843,
   "outputs": [
    {
     "data": {
      "text/plain": "Empty DataFrame\nColumns: [ID, 注册时间, 注册资本, 行业, 区域, 企业类型, 控制人类型, 控制人持股比例]\nIndex: []",
      "text/html": "<div>\n<style scoped>\n    .dataframe tbody tr th:only-of-type {\n        vertical-align: middle;\n    }\n\n    .dataframe tbody tr th {\n        vertical-align: top;\n    }\n\n    .dataframe thead th {\n        text-align: right;\n    }\n</style>\n<table border=\"1\" class=\"dataframe\">\n  <thead>\n    <tr style=\"text-align: right;\">\n      <th></th>\n      <th>ID</th>\n      <th>注册时间</th>\n      <th>注册资本</th>\n      <th>行业</th>\n      <th>区域</th>\n      <th>企业类型</th>\n      <th>控制人类型</th>\n      <th>控制人持股比例</th>\n    </tr>\n  </thead>\n  <tbody>\n  </tbody>\n</table>\n</div>"
     },
     "execution_count": 3843,
     "metadata": {},
     "output_type": "execute_result"
    }
   ],
   "source": [
    "base_test.loc[base_test['注册时间'].isna()]"
   ],
   "metadata": {
    "collapsed": false,
    "pycharm": {
     "name": "#%%\n"
    }
   }
  },
  {
   "cell_type": "code",
   "execution_count": 3844,
   "outputs": [],
   "source": [
    "# 计算一下公司的营业年份，用2017减去。前提要先删除注册时间有缺失的行\n",
    "base_test['注册时间'] = base_test['注册时间'].apply(lambda x:2017-x)\n",
    "\n",
    "base_test.rename({'注册时间':'营业时长'},inplace=True)"
   ],
   "metadata": {
    "collapsed": false,
    "pycharm": {
     "name": "#%%\n"
    }
   }
  },
  {
   "cell_type": "code",
   "execution_count": 3845,
   "outputs": [
    {
     "data": {
      "text/plain": "           ID  注册时间  注册资本     行业  区域     企业类型 控制人类型  控制人持股比例\n60    5989707  16.0   NaN  商业服务业  广东   有限责任公司  企业法人     0.75\n275   5985277   6.0   NaN  商业服务业  湖南  集体所有制企业   自然人     0.60\n313   5996756   5.0   NaN    服务业  江西     合伙企业   自然人      NaN\n407   5984465  12.0   NaN     工业  江西   有限责任公司   自然人     0.97\n453   5996594  16.0   NaN  商业服务业  湖北  集体所有制企业   自然人     0.79\n559   5986197   7.0   NaN    零售业  广东  农民专业合作社   自然人     0.54\n598   5991421   7.0   NaN    零售业  山东  农民专业合作社   自然人     0.99\n615   5985299   4.0   NaN  交通运输业  广东  农民专业合作社  企业法人     0.92\n667   5980117  13.0   NaN  交通运输业  山东   股份有限公司   自然人     1.00\n699   5978344  15.0   NaN  交通运输业  广东     合伙企业   自然人     0.51\n828   5990592  10.0   NaN  交通运输业  湖南   股份有限公司   自然人     0.72\n834   5981781  10.0   NaN    零售业  湖南  农民专业合作社  企业法人     0.82\n1242  5991088  11.0   NaN    服务业  山东   股份有限公司   自然人     0.86\n1357  5994328   8.0   NaN  交通运输业  湖南     合伙企业   自然人     0.84\n1620  5988645  16.0   NaN  交通运输业  广西  农民专业合作社  企业法人     0.85\n1623  5985630   5.0   NaN     工业  江西   股份有限公司   自然人     0.82\n1718  5992785   5.0   NaN  商业服务业  福建  农民专业合作社  企业法人     0.68\n1724  5993713  15.0   NaN    零售业  福建   股份有限公司  企业法人     0.74\n1845  5983940  11.0   NaN     工业  广东  农民专业合作社  企业法人     0.76\n1915  5979042  13.0   NaN   社区服务  湖南   股份有限公司   自然人     0.80\n1962  5989384   3.0   NaN    零售业  湖北     合伙企业  企业法人     0.55\n1982  5985342  16.0   NaN  交通运输业  福建  集体所有制企业   NaN     0.80\n2248  5982295  16.0   NaN     工业  湖北   有限责任公司  企业法人     0.94\n2419  5982520   3.0   NaN  交通运输业  江西  集体所有制企业   自然人     0.56\n2667  5996622  14.0   NaN    零售业  山东   股份有限公司   自然人     0.62\n2668  5982388   5.0   NaN    零售业  广西  集体所有制企业  企业法人     0.87\n2773  5980895   5.0   NaN  商业服务业  山东     合伙企业  企业法人     0.88\n2879  5982303   4.0   NaN    零售业  湖北   股份有限公司  企业法人     0.96\n2942  5984990  10.0   NaN    服务业  江西   股份有限公司   自然人     0.57\n3239  5980529   7.0   NaN     工业  广西     合伙企业   自然人     0.52\n3404  5988852   3.0   NaN   社区服务  广东  农民专业合作社  企业法人     0.99\n3531  5998594   5.0   NaN   社区服务  湖北  农民专业合作社   NaN     0.96\n3570  5986205  12.0   NaN    零售业  福建   有限责任公司   自然人     0.60\n3789  5998708  11.0   NaN    零售业  广西  集体所有制企业   自然人     0.91\n3861  5980402  16.0   NaN    零售业  广西   有限责任公司  企业法人     0.82\n3993  5992361   6.0   NaN  商业服务业  广西  农民专业合作社  企业法人     0.58",
      "text/html": "<div>\n<style scoped>\n    .dataframe tbody tr th:only-of-type {\n        vertical-align: middle;\n    }\n\n    .dataframe tbody tr th {\n        vertical-align: top;\n    }\n\n    .dataframe thead th {\n        text-align: right;\n    }\n</style>\n<table border=\"1\" class=\"dataframe\">\n  <thead>\n    <tr style=\"text-align: right;\">\n      <th></th>\n      <th>ID</th>\n      <th>注册时间</th>\n      <th>注册资本</th>\n      <th>行业</th>\n      <th>区域</th>\n      <th>企业类型</th>\n      <th>控制人类型</th>\n      <th>控制人持股比例</th>\n    </tr>\n  </thead>\n  <tbody>\n    <tr>\n      <th>60</th>\n      <td>5989707</td>\n      <td>16.0</td>\n      <td>NaN</td>\n      <td>商业服务业</td>\n      <td>广东</td>\n      <td>有限责任公司</td>\n      <td>企业法人</td>\n      <td>0.75</td>\n    </tr>\n    <tr>\n      <th>275</th>\n      <td>5985277</td>\n      <td>6.0</td>\n      <td>NaN</td>\n      <td>商业服务业</td>\n      <td>湖南</td>\n      <td>集体所有制企业</td>\n      <td>自然人</td>\n      <td>0.60</td>\n    </tr>\n    <tr>\n      <th>313</th>\n      <td>5996756</td>\n      <td>5.0</td>\n      <td>NaN</td>\n      <td>服务业</td>\n      <td>江西</td>\n      <td>合伙企业</td>\n      <td>自然人</td>\n      <td>NaN</td>\n    </tr>\n    <tr>\n      <th>407</th>\n      <td>5984465</td>\n      <td>12.0</td>\n      <td>NaN</td>\n      <td>工业</td>\n      <td>江西</td>\n      <td>有限责任公司</td>\n      <td>自然人</td>\n      <td>0.97</td>\n    </tr>\n    <tr>\n      <th>453</th>\n      <td>5996594</td>\n      <td>16.0</td>\n      <td>NaN</td>\n      <td>商业服务业</td>\n      <td>湖北</td>\n      <td>集体所有制企业</td>\n      <td>自然人</td>\n      <td>0.79</td>\n    </tr>\n    <tr>\n      <th>559</th>\n      <td>5986197</td>\n      <td>7.0</td>\n      <td>NaN</td>\n      <td>零售业</td>\n      <td>广东</td>\n      <td>农民专业合作社</td>\n      <td>自然人</td>\n      <td>0.54</td>\n    </tr>\n    <tr>\n      <th>598</th>\n      <td>5991421</td>\n      <td>7.0</td>\n      <td>NaN</td>\n      <td>零售业</td>\n      <td>山东</td>\n      <td>农民专业合作社</td>\n      <td>自然人</td>\n      <td>0.99</td>\n    </tr>\n    <tr>\n      <th>615</th>\n      <td>5985299</td>\n      <td>4.0</td>\n      <td>NaN</td>\n      <td>交通运输业</td>\n      <td>广东</td>\n      <td>农民专业合作社</td>\n      <td>企业法人</td>\n      <td>0.92</td>\n    </tr>\n    <tr>\n      <th>667</th>\n      <td>5980117</td>\n      <td>13.0</td>\n      <td>NaN</td>\n      <td>交通运输业</td>\n      <td>山东</td>\n      <td>股份有限公司</td>\n      <td>自然人</td>\n      <td>1.00</td>\n    </tr>\n    <tr>\n      <th>699</th>\n      <td>5978344</td>\n      <td>15.0</td>\n      <td>NaN</td>\n      <td>交通运输业</td>\n      <td>广东</td>\n      <td>合伙企业</td>\n      <td>自然人</td>\n      <td>0.51</td>\n    </tr>\n    <tr>\n      <th>828</th>\n      <td>5990592</td>\n      <td>10.0</td>\n      <td>NaN</td>\n      <td>交通运输业</td>\n      <td>湖南</td>\n      <td>股份有限公司</td>\n      <td>自然人</td>\n      <td>0.72</td>\n    </tr>\n    <tr>\n      <th>834</th>\n      <td>5981781</td>\n      <td>10.0</td>\n      <td>NaN</td>\n      <td>零售业</td>\n      <td>湖南</td>\n      <td>农民专业合作社</td>\n      <td>企业法人</td>\n      <td>0.82</td>\n    </tr>\n    <tr>\n      <th>1242</th>\n      <td>5991088</td>\n      <td>11.0</td>\n      <td>NaN</td>\n      <td>服务业</td>\n      <td>山东</td>\n      <td>股份有限公司</td>\n      <td>自然人</td>\n      <td>0.86</td>\n    </tr>\n    <tr>\n      <th>1357</th>\n      <td>5994328</td>\n      <td>8.0</td>\n      <td>NaN</td>\n      <td>交通运输业</td>\n      <td>湖南</td>\n      <td>合伙企业</td>\n      <td>自然人</td>\n      <td>0.84</td>\n    </tr>\n    <tr>\n      <th>1620</th>\n      <td>5988645</td>\n      <td>16.0</td>\n      <td>NaN</td>\n      <td>交通运输业</td>\n      <td>广西</td>\n      <td>农民专业合作社</td>\n      <td>企业法人</td>\n      <td>0.85</td>\n    </tr>\n    <tr>\n      <th>1623</th>\n      <td>5985630</td>\n      <td>5.0</td>\n      <td>NaN</td>\n      <td>工业</td>\n      <td>江西</td>\n      <td>股份有限公司</td>\n      <td>自然人</td>\n      <td>0.82</td>\n    </tr>\n    <tr>\n      <th>1718</th>\n      <td>5992785</td>\n      <td>5.0</td>\n      <td>NaN</td>\n      <td>商业服务业</td>\n      <td>福建</td>\n      <td>农民专业合作社</td>\n      <td>企业法人</td>\n      <td>0.68</td>\n    </tr>\n    <tr>\n      <th>1724</th>\n      <td>5993713</td>\n      <td>15.0</td>\n      <td>NaN</td>\n      <td>零售业</td>\n      <td>福建</td>\n      <td>股份有限公司</td>\n      <td>企业法人</td>\n      <td>0.74</td>\n    </tr>\n    <tr>\n      <th>1845</th>\n      <td>5983940</td>\n      <td>11.0</td>\n      <td>NaN</td>\n      <td>工业</td>\n      <td>广东</td>\n      <td>农民专业合作社</td>\n      <td>企业法人</td>\n      <td>0.76</td>\n    </tr>\n    <tr>\n      <th>1915</th>\n      <td>5979042</td>\n      <td>13.0</td>\n      <td>NaN</td>\n      <td>社区服务</td>\n      <td>湖南</td>\n      <td>股份有限公司</td>\n      <td>自然人</td>\n      <td>0.80</td>\n    </tr>\n    <tr>\n      <th>1962</th>\n      <td>5989384</td>\n      <td>3.0</td>\n      <td>NaN</td>\n      <td>零售业</td>\n      <td>湖北</td>\n      <td>合伙企业</td>\n      <td>企业法人</td>\n      <td>0.55</td>\n    </tr>\n    <tr>\n      <th>1982</th>\n      <td>5985342</td>\n      <td>16.0</td>\n      <td>NaN</td>\n      <td>交通运输业</td>\n      <td>福建</td>\n      <td>集体所有制企业</td>\n      <td>NaN</td>\n      <td>0.80</td>\n    </tr>\n    <tr>\n      <th>2248</th>\n      <td>5982295</td>\n      <td>16.0</td>\n      <td>NaN</td>\n      <td>工业</td>\n      <td>湖北</td>\n      <td>有限责任公司</td>\n      <td>企业法人</td>\n      <td>0.94</td>\n    </tr>\n    <tr>\n      <th>2419</th>\n      <td>5982520</td>\n      <td>3.0</td>\n      <td>NaN</td>\n      <td>交通运输业</td>\n      <td>江西</td>\n      <td>集体所有制企业</td>\n      <td>自然人</td>\n      <td>0.56</td>\n    </tr>\n    <tr>\n      <th>2667</th>\n      <td>5996622</td>\n      <td>14.0</td>\n      <td>NaN</td>\n      <td>零售业</td>\n      <td>山东</td>\n      <td>股份有限公司</td>\n      <td>自然人</td>\n      <td>0.62</td>\n    </tr>\n    <tr>\n      <th>2668</th>\n      <td>5982388</td>\n      <td>5.0</td>\n      <td>NaN</td>\n      <td>零售业</td>\n      <td>广西</td>\n      <td>集体所有制企业</td>\n      <td>企业法人</td>\n      <td>0.87</td>\n    </tr>\n    <tr>\n      <th>2773</th>\n      <td>5980895</td>\n      <td>5.0</td>\n      <td>NaN</td>\n      <td>商业服务业</td>\n      <td>山东</td>\n      <td>合伙企业</td>\n      <td>企业法人</td>\n      <td>0.88</td>\n    </tr>\n    <tr>\n      <th>2879</th>\n      <td>5982303</td>\n      <td>4.0</td>\n      <td>NaN</td>\n      <td>零售业</td>\n      <td>湖北</td>\n      <td>股份有限公司</td>\n      <td>企业法人</td>\n      <td>0.96</td>\n    </tr>\n    <tr>\n      <th>2942</th>\n      <td>5984990</td>\n      <td>10.0</td>\n      <td>NaN</td>\n      <td>服务业</td>\n      <td>江西</td>\n      <td>股份有限公司</td>\n      <td>自然人</td>\n      <td>0.57</td>\n    </tr>\n    <tr>\n      <th>3239</th>\n      <td>5980529</td>\n      <td>7.0</td>\n      <td>NaN</td>\n      <td>工业</td>\n      <td>广西</td>\n      <td>合伙企业</td>\n      <td>自然人</td>\n      <td>0.52</td>\n    </tr>\n    <tr>\n      <th>3404</th>\n      <td>5988852</td>\n      <td>3.0</td>\n      <td>NaN</td>\n      <td>社区服务</td>\n      <td>广东</td>\n      <td>农民专业合作社</td>\n      <td>企业法人</td>\n      <td>0.99</td>\n    </tr>\n    <tr>\n      <th>3531</th>\n      <td>5998594</td>\n      <td>5.0</td>\n      <td>NaN</td>\n      <td>社区服务</td>\n      <td>湖北</td>\n      <td>农民专业合作社</td>\n      <td>NaN</td>\n      <td>0.96</td>\n    </tr>\n    <tr>\n      <th>3570</th>\n      <td>5986205</td>\n      <td>12.0</td>\n      <td>NaN</td>\n      <td>零售业</td>\n      <td>福建</td>\n      <td>有限责任公司</td>\n      <td>自然人</td>\n      <td>0.60</td>\n    </tr>\n    <tr>\n      <th>3789</th>\n      <td>5998708</td>\n      <td>11.0</td>\n      <td>NaN</td>\n      <td>零售业</td>\n      <td>广西</td>\n      <td>集体所有制企业</td>\n      <td>自然人</td>\n      <td>0.91</td>\n    </tr>\n    <tr>\n      <th>3861</th>\n      <td>5980402</td>\n      <td>16.0</td>\n      <td>NaN</td>\n      <td>零售业</td>\n      <td>广西</td>\n      <td>有限责任公司</td>\n      <td>企业法人</td>\n      <td>0.82</td>\n    </tr>\n    <tr>\n      <th>3993</th>\n      <td>5992361</td>\n      <td>6.0</td>\n      <td>NaN</td>\n      <td>商业服务业</td>\n      <td>广西</td>\n      <td>农民专业合作社</td>\n      <td>企业法人</td>\n      <td>0.58</td>\n    </tr>\n  </tbody>\n</table>\n</div>"
     },
     "execution_count": 3845,
     "metadata": {},
     "output_type": "execute_result"
    }
   ],
   "source": [
    "# 1.2.1.2 注册资本\n",
    "base_test.loc[base_test['注册资本'].isna()]"
   ],
   "metadata": {
    "collapsed": false,
    "pycharm": {
     "name": "#%%\n"
    }
   }
  },
  {
   "cell_type": "code",
   "execution_count": 3846,
   "outputs": [],
   "source": [
    "# 直接平均值填充\n",
    "mean = base_test['注册资本'].mean()\n",
    "base_test['注册资本'].fillna(mean,inplace=True)"
   ],
   "metadata": {
    "collapsed": false,
    "pycharm": {
     "name": "#%%\n"
    }
   }
  },
  {
   "cell_type": "code",
   "execution_count": 3847,
   "outputs": [
    {
     "data": {
      "text/plain": "           ID  注册时间         注册资本     行业   区域     企业类型 控制人类型  控制人持股比例\n37    5989962  16.0  5500.000000  交通运输业   山东   股份有限公司  企业法人      NaN\n153   5989810   6.0  3400.000000     工业   江西   股份有限公司  企业法人      NaN\n181   5992933  12.0  3860.000000    服务业   广东     合伙企业  企业法人      NaN\n207   5993113   4.0  5460.000000    零售业   湖南   有限责任公司  企业法人      NaN\n245   5983486   3.0  1540.000000    NaN   广东   有限责任公司   自然人      NaN\n313   5996756   5.0  5018.526786    服务业   江西     合伙企业   自然人      NaN\n354   5986110   8.0  3570.000000    服务业   广西   股份有限公司  企业法人      NaN\n674   5982521  13.0  7510.000000    服务业   福建  集体所有制企业   自然人      NaN\n677   5982575  10.0  9270.000000  交通运输业   湖南   有限责任公司   自然人      NaN\n679   5997220   8.0  4060.000000    服务业   广西  集体所有制企业  企业法人      NaN\n822   5989426  17.0  7350.000000   社区服务   广东   股份有限公司   自然人      NaN\n1095  5978200   3.0  5360.000000   社区服务  NaN  集体所有制企业   自然人      NaN\n1142  5994975   5.0  5680.000000   社区服务   江西   股份有限公司  企业法人      NaN\n1182  5995391  14.0  9040.000000  商业服务业   江西   股份有限公司   自然人      NaN\n1444  5998038  17.0   320.000000   社区服务   山东  农民专业合作社   自然人      NaN\n1452  5989925  12.0  4940.000000    零售业   湖南   有限责任公司  企业法人      NaN\n1467  5998464  10.0  3840.000000   社区服务   广西  农民专业合作社   自然人      NaN\n1522  5997232  15.0  3850.000000   社区服务   广西  农民专业合作社   自然人      NaN\n1628  5985796  12.0  5470.000000  交通运输业   福建   有限责任公司   自然人      NaN\n1654  5989220  12.0  2590.000000    服务业   广东     合伙企业   自然人      NaN\n1695  5978460  12.0  6120.000000  交通运输业   湖南  集体所有制企业  企业法人      NaN\n1796  5988592  16.0  8600.000000  商业服务业   福建   有限责任公司   自然人      NaN\n1968  5989240  15.0  4660.000000     工业   湖南  集体所有制企业  企业法人      NaN\n2000  5997735   8.0  3040.000000  交通运输业   山东   有限责任公司   自然人      NaN\n2138  5997501  10.0  4590.000000  商业服务业   广西   股份有限公司  企业法人      NaN\n2242  5995450   9.0  1850.000000    服务业   广西   有限责任公司  企业法人      NaN\n2332  5979103  16.0  1120.000000   社区服务   湖北   有限责任公司  企业法人      NaN\n2562  5998478  13.0  2390.000000  交通运输业  NaN     合伙企业  企业法人      NaN\n2805  5997364   7.0  6660.000000     工业   广西   有限责任公司  企业法人      NaN\n3163  5988929  17.0  1680.000000    零售业   山东  农民专业合作社   自然人      NaN\n3272  5997864  15.0   990.000000    零售业   山东     合伙企业   自然人      NaN\n3351  5983401   9.0  9600.000000  商业服务业   山东   有限责任公司  企业法人      NaN\n3371  5999440  10.0  9270.000000    服务业   广东  农民专业合作社   自然人      NaN\n3449  5994647  13.0  8600.000000     工业   福建     合伙企业   自然人      NaN\n3507  5989095   6.0   510.000000   社区服务   福建  农民专业合作社   自然人      NaN\n3854  5997771   5.0  4850.000000     工业   湖南  农民专业合作社  企业法人      NaN\n3891  5981754   6.0  7450.000000  交通运输业   湖南   股份有限公司  企业法人      NaN\n4023  5984884  17.0  8200.000000   社区服务   广东  集体所有制企业  企业法人      NaN",
      "text/html": "<div>\n<style scoped>\n    .dataframe tbody tr th:only-of-type {\n        vertical-align: middle;\n    }\n\n    .dataframe tbody tr th {\n        vertical-align: top;\n    }\n\n    .dataframe thead th {\n        text-align: right;\n    }\n</style>\n<table border=\"1\" class=\"dataframe\">\n  <thead>\n    <tr style=\"text-align: right;\">\n      <th></th>\n      <th>ID</th>\n      <th>注册时间</th>\n      <th>注册资本</th>\n      <th>行业</th>\n      <th>区域</th>\n      <th>企业类型</th>\n      <th>控制人类型</th>\n      <th>控制人持股比例</th>\n    </tr>\n  </thead>\n  <tbody>\n    <tr>\n      <th>37</th>\n      <td>5989962</td>\n      <td>16.0</td>\n      <td>5500.000000</td>\n      <td>交通运输业</td>\n      <td>山东</td>\n      <td>股份有限公司</td>\n      <td>企业法人</td>\n      <td>NaN</td>\n    </tr>\n    <tr>\n      <th>153</th>\n      <td>5989810</td>\n      <td>6.0</td>\n      <td>3400.000000</td>\n      <td>工业</td>\n      <td>江西</td>\n      <td>股份有限公司</td>\n      <td>企业法人</td>\n      <td>NaN</td>\n    </tr>\n    <tr>\n      <th>181</th>\n      <td>5992933</td>\n      <td>12.0</td>\n      <td>3860.000000</td>\n      <td>服务业</td>\n      <td>广东</td>\n      <td>合伙企业</td>\n      <td>企业法人</td>\n      <td>NaN</td>\n    </tr>\n    <tr>\n      <th>207</th>\n      <td>5993113</td>\n      <td>4.0</td>\n      <td>5460.000000</td>\n      <td>零售业</td>\n      <td>湖南</td>\n      <td>有限责任公司</td>\n      <td>企业法人</td>\n      <td>NaN</td>\n    </tr>\n    <tr>\n      <th>245</th>\n      <td>5983486</td>\n      <td>3.0</td>\n      <td>1540.000000</td>\n      <td>NaN</td>\n      <td>广东</td>\n      <td>有限责任公司</td>\n      <td>自然人</td>\n      <td>NaN</td>\n    </tr>\n    <tr>\n      <th>313</th>\n      <td>5996756</td>\n      <td>5.0</td>\n      <td>5018.526786</td>\n      <td>服务业</td>\n      <td>江西</td>\n      <td>合伙企业</td>\n      <td>自然人</td>\n      <td>NaN</td>\n    </tr>\n    <tr>\n      <th>354</th>\n      <td>5986110</td>\n      <td>8.0</td>\n      <td>3570.000000</td>\n      <td>服务业</td>\n      <td>广西</td>\n      <td>股份有限公司</td>\n      <td>企业法人</td>\n      <td>NaN</td>\n    </tr>\n    <tr>\n      <th>674</th>\n      <td>5982521</td>\n      <td>13.0</td>\n      <td>7510.000000</td>\n      <td>服务业</td>\n      <td>福建</td>\n      <td>集体所有制企业</td>\n      <td>自然人</td>\n      <td>NaN</td>\n    </tr>\n    <tr>\n      <th>677</th>\n      <td>5982575</td>\n      <td>10.0</td>\n      <td>9270.000000</td>\n      <td>交通运输业</td>\n      <td>湖南</td>\n      <td>有限责任公司</td>\n      <td>自然人</td>\n      <td>NaN</td>\n    </tr>\n    <tr>\n      <th>679</th>\n      <td>5997220</td>\n      <td>8.0</td>\n      <td>4060.000000</td>\n      <td>服务业</td>\n      <td>广西</td>\n      <td>集体所有制企业</td>\n      <td>企业法人</td>\n      <td>NaN</td>\n    </tr>\n    <tr>\n      <th>822</th>\n      <td>5989426</td>\n      <td>17.0</td>\n      <td>7350.000000</td>\n      <td>社区服务</td>\n      <td>广东</td>\n      <td>股份有限公司</td>\n      <td>自然人</td>\n      <td>NaN</td>\n    </tr>\n    <tr>\n      <th>1095</th>\n      <td>5978200</td>\n      <td>3.0</td>\n      <td>5360.000000</td>\n      <td>社区服务</td>\n      <td>NaN</td>\n      <td>集体所有制企业</td>\n      <td>自然人</td>\n      <td>NaN</td>\n    </tr>\n    <tr>\n      <th>1142</th>\n      <td>5994975</td>\n      <td>5.0</td>\n      <td>5680.000000</td>\n      <td>社区服务</td>\n      <td>江西</td>\n      <td>股份有限公司</td>\n      <td>企业法人</td>\n      <td>NaN</td>\n    </tr>\n    <tr>\n      <th>1182</th>\n      <td>5995391</td>\n      <td>14.0</td>\n      <td>9040.000000</td>\n      <td>商业服务业</td>\n      <td>江西</td>\n      <td>股份有限公司</td>\n      <td>自然人</td>\n      <td>NaN</td>\n    </tr>\n    <tr>\n      <th>1444</th>\n      <td>5998038</td>\n      <td>17.0</td>\n      <td>320.000000</td>\n      <td>社区服务</td>\n      <td>山东</td>\n      <td>农民专业合作社</td>\n      <td>自然人</td>\n      <td>NaN</td>\n    </tr>\n    <tr>\n      <th>1452</th>\n      <td>5989925</td>\n      <td>12.0</td>\n      <td>4940.000000</td>\n      <td>零售业</td>\n      <td>湖南</td>\n      <td>有限责任公司</td>\n      <td>企业法人</td>\n      <td>NaN</td>\n    </tr>\n    <tr>\n      <th>1467</th>\n      <td>5998464</td>\n      <td>10.0</td>\n      <td>3840.000000</td>\n      <td>社区服务</td>\n      <td>广西</td>\n      <td>农民专业合作社</td>\n      <td>自然人</td>\n      <td>NaN</td>\n    </tr>\n    <tr>\n      <th>1522</th>\n      <td>5997232</td>\n      <td>15.0</td>\n      <td>3850.000000</td>\n      <td>社区服务</td>\n      <td>广西</td>\n      <td>农民专业合作社</td>\n      <td>自然人</td>\n      <td>NaN</td>\n    </tr>\n    <tr>\n      <th>1628</th>\n      <td>5985796</td>\n      <td>12.0</td>\n      <td>5470.000000</td>\n      <td>交通运输业</td>\n      <td>福建</td>\n      <td>有限责任公司</td>\n      <td>自然人</td>\n      <td>NaN</td>\n    </tr>\n    <tr>\n      <th>1654</th>\n      <td>5989220</td>\n      <td>12.0</td>\n      <td>2590.000000</td>\n      <td>服务业</td>\n      <td>广东</td>\n      <td>合伙企业</td>\n      <td>自然人</td>\n      <td>NaN</td>\n    </tr>\n    <tr>\n      <th>1695</th>\n      <td>5978460</td>\n      <td>12.0</td>\n      <td>6120.000000</td>\n      <td>交通运输业</td>\n      <td>湖南</td>\n      <td>集体所有制企业</td>\n      <td>企业法人</td>\n      <td>NaN</td>\n    </tr>\n    <tr>\n      <th>1796</th>\n      <td>5988592</td>\n      <td>16.0</td>\n      <td>8600.000000</td>\n      <td>商业服务业</td>\n      <td>福建</td>\n      <td>有限责任公司</td>\n      <td>自然人</td>\n      <td>NaN</td>\n    </tr>\n    <tr>\n      <th>1968</th>\n      <td>5989240</td>\n      <td>15.0</td>\n      <td>4660.000000</td>\n      <td>工业</td>\n      <td>湖南</td>\n      <td>集体所有制企业</td>\n      <td>企业法人</td>\n      <td>NaN</td>\n    </tr>\n    <tr>\n      <th>2000</th>\n      <td>5997735</td>\n      <td>8.0</td>\n      <td>3040.000000</td>\n      <td>交通运输业</td>\n      <td>山东</td>\n      <td>有限责任公司</td>\n      <td>自然人</td>\n      <td>NaN</td>\n    </tr>\n    <tr>\n      <th>2138</th>\n      <td>5997501</td>\n      <td>10.0</td>\n      <td>4590.000000</td>\n      <td>商业服务业</td>\n      <td>广西</td>\n      <td>股份有限公司</td>\n      <td>企业法人</td>\n      <td>NaN</td>\n    </tr>\n    <tr>\n      <th>2242</th>\n      <td>5995450</td>\n      <td>9.0</td>\n      <td>1850.000000</td>\n      <td>服务业</td>\n      <td>广西</td>\n      <td>有限责任公司</td>\n      <td>企业法人</td>\n      <td>NaN</td>\n    </tr>\n    <tr>\n      <th>2332</th>\n      <td>5979103</td>\n      <td>16.0</td>\n      <td>1120.000000</td>\n      <td>社区服务</td>\n      <td>湖北</td>\n      <td>有限责任公司</td>\n      <td>企业法人</td>\n      <td>NaN</td>\n    </tr>\n    <tr>\n      <th>2562</th>\n      <td>5998478</td>\n      <td>13.0</td>\n      <td>2390.000000</td>\n      <td>交通运输业</td>\n      <td>NaN</td>\n      <td>合伙企业</td>\n      <td>企业法人</td>\n      <td>NaN</td>\n    </tr>\n    <tr>\n      <th>2805</th>\n      <td>5997364</td>\n      <td>7.0</td>\n      <td>6660.000000</td>\n      <td>工业</td>\n      <td>广西</td>\n      <td>有限责任公司</td>\n      <td>企业法人</td>\n      <td>NaN</td>\n    </tr>\n    <tr>\n      <th>3163</th>\n      <td>5988929</td>\n      <td>17.0</td>\n      <td>1680.000000</td>\n      <td>零售业</td>\n      <td>山东</td>\n      <td>农民专业合作社</td>\n      <td>自然人</td>\n      <td>NaN</td>\n    </tr>\n    <tr>\n      <th>3272</th>\n      <td>5997864</td>\n      <td>15.0</td>\n      <td>990.000000</td>\n      <td>零售业</td>\n      <td>山东</td>\n      <td>合伙企业</td>\n      <td>自然人</td>\n      <td>NaN</td>\n    </tr>\n    <tr>\n      <th>3351</th>\n      <td>5983401</td>\n      <td>9.0</td>\n      <td>9600.000000</td>\n      <td>商业服务业</td>\n      <td>山东</td>\n      <td>有限责任公司</td>\n      <td>企业法人</td>\n      <td>NaN</td>\n    </tr>\n    <tr>\n      <th>3371</th>\n      <td>5999440</td>\n      <td>10.0</td>\n      <td>9270.000000</td>\n      <td>服务业</td>\n      <td>广东</td>\n      <td>农民专业合作社</td>\n      <td>自然人</td>\n      <td>NaN</td>\n    </tr>\n    <tr>\n      <th>3449</th>\n      <td>5994647</td>\n      <td>13.0</td>\n      <td>8600.000000</td>\n      <td>工业</td>\n      <td>福建</td>\n      <td>合伙企业</td>\n      <td>自然人</td>\n      <td>NaN</td>\n    </tr>\n    <tr>\n      <th>3507</th>\n      <td>5989095</td>\n      <td>6.0</td>\n      <td>510.000000</td>\n      <td>社区服务</td>\n      <td>福建</td>\n      <td>农民专业合作社</td>\n      <td>自然人</td>\n      <td>NaN</td>\n    </tr>\n    <tr>\n      <th>3854</th>\n      <td>5997771</td>\n      <td>5.0</td>\n      <td>4850.000000</td>\n      <td>工业</td>\n      <td>湖南</td>\n      <td>农民专业合作社</td>\n      <td>企业法人</td>\n      <td>NaN</td>\n    </tr>\n    <tr>\n      <th>3891</th>\n      <td>5981754</td>\n      <td>6.0</td>\n      <td>7450.000000</td>\n      <td>交通运输业</td>\n      <td>湖南</td>\n      <td>股份有限公司</td>\n      <td>企业法人</td>\n      <td>NaN</td>\n    </tr>\n    <tr>\n      <th>4023</th>\n      <td>5984884</td>\n      <td>17.0</td>\n      <td>8200.000000</td>\n      <td>社区服务</td>\n      <td>广东</td>\n      <td>集体所有制企业</td>\n      <td>企业法人</td>\n      <td>NaN</td>\n    </tr>\n  </tbody>\n</table>\n</div>"
     },
     "execution_count": 3847,
     "metadata": {},
     "output_type": "execute_result"
    }
   ],
   "source": [
    "# 1.2.1.3 控制人持股比例\n",
    "base_test.loc[base_test['控制人持股比例'].isna()]"
   ],
   "metadata": {
    "collapsed": false,
    "pycharm": {
     "name": "#%%\n"
    }
   }
  },
  {
   "cell_type": "code",
   "execution_count": 3848,
   "outputs": [],
   "source": [
    "# 将缺失值替换为平均值\n",
    "base_test['控制人持股比例'].fillna(base_test['控制人持股比例'].mean(),inplace=True)"
   ],
   "metadata": {
    "collapsed": false,
    "pycharm": {
     "name": "#%%\n"
    }
   }
  },
  {
   "cell_type": "code",
   "execution_count": 3849,
   "outputs": [
    {
     "data": {
      "text/plain": "           ID  注册时间    注册资本   行业  区域     企业类型 控制人类型   控制人持股比例\n245   5983486   3.0  1540.0  NaN  广东   有限责任公司   自然人  0.756501\n247   5983297   9.0  4850.0  NaN  江西   股份有限公司  企业法人  0.730000\n553   5982111  16.0  2530.0  NaN  福建  农民专业合作社   自然人  0.900000\n756   5978297  10.0  9670.0  NaN  广东     合伙企业   自然人  0.780000\n760   5995041  15.0  4510.0  NaN  江西   有限责任公司   自然人  0.670000\n781   5998065   4.0  4450.0  NaN  山东     合伙企业   自然人  0.990000\n841   5984247   6.0  5950.0  NaN  湖北   股份有限公司   自然人  0.760000\n1020  5982251  13.0  1790.0  NaN  广东  农民专业合作社  企业法人  0.510000\n1207  5988817  12.0  2420.0  NaN  江西  农民专业合作社   自然人  0.920000\n1227  5979797   6.0  3400.0  NaN  山东  农民专业合作社   自然人  0.850000\n1777  5983099  10.0  4690.0  NaN  江西   股份有限公司  企业法人  0.890000\n1947  5996228  15.0   910.0  NaN  广东  农民专业合作社  企业法人  0.770000\n1949  5984828  14.0  4810.0  NaN  广西   股份有限公司  企业法人  0.700000\n1973  5993645  17.0  3820.0  NaN  山东  集体所有制企业   自然人  0.970000\n2076  5990132   9.0  8070.0  NaN  福建     合伙企业   自然人  0.660000\n2328  5999933   7.0  3190.0  NaN  江西     合伙企业  企业法人  0.660000\n2547  5982366   9.0  3380.0  NaN  江西     合伙企业  企业法人  0.950000\n2738  5986111   3.0  2220.0  NaN  山东  集体所有制企业   自然人  0.900000\n2753  5989663  14.0  3460.0  NaN  福建     合伙企业  企业法人  0.950000\n2900  5982500   5.0  4130.0  NaN  湖北  集体所有制企业   自然人  0.660000\n2973  5980507  13.0  6620.0  NaN  湖北     合伙企业   自然人  0.970000\n3326  5993507   4.0  6500.0  NaN  广东  集体所有制企业   自然人  0.540000\n3416  5988066  12.0  6310.0  NaN  湖南     合伙企业   自然人  0.920000\n3431  5982569  11.0  5590.0  NaN  广东   有限责任公司  企业法人  0.510000\n3513  5983406   7.0  1870.0  NaN  山东   有限责任公司  企业法人  0.700000\n3525  5986631   9.0   570.0  NaN  江西   有限责任公司   自然人  0.710000\n3529  5983607   6.0  4120.0  NaN  广东   有限责任公司   自然人  0.710000\n3588  5995461   3.0  6950.0  NaN  广西     合伙企业   自然人  0.950000\n3684  5996516   3.0  8800.0  NaN  山东   有限责任公司   自然人  0.970000\n3760  5988847   4.0  3010.0  NaN  福建   股份有限公司  企业法人  0.590000\n3884  5993327   7.0   730.0  NaN  湖南   股份有限公司   自然人  0.770000\n3960  5988739   7.0  4380.0  NaN  江西   股份有限公司   自然人  0.630000",
      "text/html": "<div>\n<style scoped>\n    .dataframe tbody tr th:only-of-type {\n        vertical-align: middle;\n    }\n\n    .dataframe tbody tr th {\n        vertical-align: top;\n    }\n\n    .dataframe thead th {\n        text-align: right;\n    }\n</style>\n<table border=\"1\" class=\"dataframe\">\n  <thead>\n    <tr style=\"text-align: right;\">\n      <th></th>\n      <th>ID</th>\n      <th>注册时间</th>\n      <th>注册资本</th>\n      <th>行业</th>\n      <th>区域</th>\n      <th>企业类型</th>\n      <th>控制人类型</th>\n      <th>控制人持股比例</th>\n    </tr>\n  </thead>\n  <tbody>\n    <tr>\n      <th>245</th>\n      <td>5983486</td>\n      <td>3.0</td>\n      <td>1540.0</td>\n      <td>NaN</td>\n      <td>广东</td>\n      <td>有限责任公司</td>\n      <td>自然人</td>\n      <td>0.756501</td>\n    </tr>\n    <tr>\n      <th>247</th>\n      <td>5983297</td>\n      <td>9.0</td>\n      <td>4850.0</td>\n      <td>NaN</td>\n      <td>江西</td>\n      <td>股份有限公司</td>\n      <td>企业法人</td>\n      <td>0.730000</td>\n    </tr>\n    <tr>\n      <th>553</th>\n      <td>5982111</td>\n      <td>16.0</td>\n      <td>2530.0</td>\n      <td>NaN</td>\n      <td>福建</td>\n      <td>农民专业合作社</td>\n      <td>自然人</td>\n      <td>0.900000</td>\n    </tr>\n    <tr>\n      <th>756</th>\n      <td>5978297</td>\n      <td>10.0</td>\n      <td>9670.0</td>\n      <td>NaN</td>\n      <td>广东</td>\n      <td>合伙企业</td>\n      <td>自然人</td>\n      <td>0.780000</td>\n    </tr>\n    <tr>\n      <th>760</th>\n      <td>5995041</td>\n      <td>15.0</td>\n      <td>4510.0</td>\n      <td>NaN</td>\n      <td>江西</td>\n      <td>有限责任公司</td>\n      <td>自然人</td>\n      <td>0.670000</td>\n    </tr>\n    <tr>\n      <th>781</th>\n      <td>5998065</td>\n      <td>4.0</td>\n      <td>4450.0</td>\n      <td>NaN</td>\n      <td>山东</td>\n      <td>合伙企业</td>\n      <td>自然人</td>\n      <td>0.990000</td>\n    </tr>\n    <tr>\n      <th>841</th>\n      <td>5984247</td>\n      <td>6.0</td>\n      <td>5950.0</td>\n      <td>NaN</td>\n      <td>湖北</td>\n      <td>股份有限公司</td>\n      <td>自然人</td>\n      <td>0.760000</td>\n    </tr>\n    <tr>\n      <th>1020</th>\n      <td>5982251</td>\n      <td>13.0</td>\n      <td>1790.0</td>\n      <td>NaN</td>\n      <td>广东</td>\n      <td>农民专业合作社</td>\n      <td>企业法人</td>\n      <td>0.510000</td>\n    </tr>\n    <tr>\n      <th>1207</th>\n      <td>5988817</td>\n      <td>12.0</td>\n      <td>2420.0</td>\n      <td>NaN</td>\n      <td>江西</td>\n      <td>农民专业合作社</td>\n      <td>自然人</td>\n      <td>0.920000</td>\n    </tr>\n    <tr>\n      <th>1227</th>\n      <td>5979797</td>\n      <td>6.0</td>\n      <td>3400.0</td>\n      <td>NaN</td>\n      <td>山东</td>\n      <td>农民专业合作社</td>\n      <td>自然人</td>\n      <td>0.850000</td>\n    </tr>\n    <tr>\n      <th>1777</th>\n      <td>5983099</td>\n      <td>10.0</td>\n      <td>4690.0</td>\n      <td>NaN</td>\n      <td>江西</td>\n      <td>股份有限公司</td>\n      <td>企业法人</td>\n      <td>0.890000</td>\n    </tr>\n    <tr>\n      <th>1947</th>\n      <td>5996228</td>\n      <td>15.0</td>\n      <td>910.0</td>\n      <td>NaN</td>\n      <td>广东</td>\n      <td>农民专业合作社</td>\n      <td>企业法人</td>\n      <td>0.770000</td>\n    </tr>\n    <tr>\n      <th>1949</th>\n      <td>5984828</td>\n      <td>14.0</td>\n      <td>4810.0</td>\n      <td>NaN</td>\n      <td>广西</td>\n      <td>股份有限公司</td>\n      <td>企业法人</td>\n      <td>0.700000</td>\n    </tr>\n    <tr>\n      <th>1973</th>\n      <td>5993645</td>\n      <td>17.0</td>\n      <td>3820.0</td>\n      <td>NaN</td>\n      <td>山东</td>\n      <td>集体所有制企业</td>\n      <td>自然人</td>\n      <td>0.970000</td>\n    </tr>\n    <tr>\n      <th>2076</th>\n      <td>5990132</td>\n      <td>9.0</td>\n      <td>8070.0</td>\n      <td>NaN</td>\n      <td>福建</td>\n      <td>合伙企业</td>\n      <td>自然人</td>\n      <td>0.660000</td>\n    </tr>\n    <tr>\n      <th>2328</th>\n      <td>5999933</td>\n      <td>7.0</td>\n      <td>3190.0</td>\n      <td>NaN</td>\n      <td>江西</td>\n      <td>合伙企业</td>\n      <td>企业法人</td>\n      <td>0.660000</td>\n    </tr>\n    <tr>\n      <th>2547</th>\n      <td>5982366</td>\n      <td>9.0</td>\n      <td>3380.0</td>\n      <td>NaN</td>\n      <td>江西</td>\n      <td>合伙企业</td>\n      <td>企业法人</td>\n      <td>0.950000</td>\n    </tr>\n    <tr>\n      <th>2738</th>\n      <td>5986111</td>\n      <td>3.0</td>\n      <td>2220.0</td>\n      <td>NaN</td>\n      <td>山东</td>\n      <td>集体所有制企业</td>\n      <td>自然人</td>\n      <td>0.900000</td>\n    </tr>\n    <tr>\n      <th>2753</th>\n      <td>5989663</td>\n      <td>14.0</td>\n      <td>3460.0</td>\n      <td>NaN</td>\n      <td>福建</td>\n      <td>合伙企业</td>\n      <td>企业法人</td>\n      <td>0.950000</td>\n    </tr>\n    <tr>\n      <th>2900</th>\n      <td>5982500</td>\n      <td>5.0</td>\n      <td>4130.0</td>\n      <td>NaN</td>\n      <td>湖北</td>\n      <td>集体所有制企业</td>\n      <td>自然人</td>\n      <td>0.660000</td>\n    </tr>\n    <tr>\n      <th>2973</th>\n      <td>5980507</td>\n      <td>13.0</td>\n      <td>6620.0</td>\n      <td>NaN</td>\n      <td>湖北</td>\n      <td>合伙企业</td>\n      <td>自然人</td>\n      <td>0.970000</td>\n    </tr>\n    <tr>\n      <th>3326</th>\n      <td>5993507</td>\n      <td>4.0</td>\n      <td>6500.0</td>\n      <td>NaN</td>\n      <td>广东</td>\n      <td>集体所有制企业</td>\n      <td>自然人</td>\n      <td>0.540000</td>\n    </tr>\n    <tr>\n      <th>3416</th>\n      <td>5988066</td>\n      <td>12.0</td>\n      <td>6310.0</td>\n      <td>NaN</td>\n      <td>湖南</td>\n      <td>合伙企业</td>\n      <td>自然人</td>\n      <td>0.920000</td>\n    </tr>\n    <tr>\n      <th>3431</th>\n      <td>5982569</td>\n      <td>11.0</td>\n      <td>5590.0</td>\n      <td>NaN</td>\n      <td>广东</td>\n      <td>有限责任公司</td>\n      <td>企业法人</td>\n      <td>0.510000</td>\n    </tr>\n    <tr>\n      <th>3513</th>\n      <td>5983406</td>\n      <td>7.0</td>\n      <td>1870.0</td>\n      <td>NaN</td>\n      <td>山东</td>\n      <td>有限责任公司</td>\n      <td>企业法人</td>\n      <td>0.700000</td>\n    </tr>\n    <tr>\n      <th>3525</th>\n      <td>5986631</td>\n      <td>9.0</td>\n      <td>570.0</td>\n      <td>NaN</td>\n      <td>江西</td>\n      <td>有限责任公司</td>\n      <td>自然人</td>\n      <td>0.710000</td>\n    </tr>\n    <tr>\n      <th>3529</th>\n      <td>5983607</td>\n      <td>6.0</td>\n      <td>4120.0</td>\n      <td>NaN</td>\n      <td>广东</td>\n      <td>有限责任公司</td>\n      <td>自然人</td>\n      <td>0.710000</td>\n    </tr>\n    <tr>\n      <th>3588</th>\n      <td>5995461</td>\n      <td>3.0</td>\n      <td>6950.0</td>\n      <td>NaN</td>\n      <td>广西</td>\n      <td>合伙企业</td>\n      <td>自然人</td>\n      <td>0.950000</td>\n    </tr>\n    <tr>\n      <th>3684</th>\n      <td>5996516</td>\n      <td>3.0</td>\n      <td>8800.0</td>\n      <td>NaN</td>\n      <td>山东</td>\n      <td>有限责任公司</td>\n      <td>自然人</td>\n      <td>0.970000</td>\n    </tr>\n    <tr>\n      <th>3760</th>\n      <td>5988847</td>\n      <td>4.0</td>\n      <td>3010.0</td>\n      <td>NaN</td>\n      <td>福建</td>\n      <td>股份有限公司</td>\n      <td>企业法人</td>\n      <td>0.590000</td>\n    </tr>\n    <tr>\n      <th>3884</th>\n      <td>5993327</td>\n      <td>7.0</td>\n      <td>730.0</td>\n      <td>NaN</td>\n      <td>湖南</td>\n      <td>股份有限公司</td>\n      <td>自然人</td>\n      <td>0.770000</td>\n    </tr>\n    <tr>\n      <th>3960</th>\n      <td>5988739</td>\n      <td>7.0</td>\n      <td>4380.0</td>\n      <td>NaN</td>\n      <td>江西</td>\n      <td>股份有限公司</td>\n      <td>自然人</td>\n      <td>0.630000</td>\n    </tr>\n  </tbody>\n</table>\n</div>"
     },
     "execution_count": 3849,
     "metadata": {},
     "output_type": "execute_result"
    }
   ],
   "source": [
    "# 1.2.1.4 处理行业缺失值。区域、企业类型、控制人类型都可以同样处理，都替换为未知\n",
    "base_test.loc[base_test['行业'].isna()]"
   ],
   "metadata": {
    "collapsed": false,
    "pycharm": {
     "name": "#%%\n"
    }
   }
  },
  {
   "cell_type": "code",
   "execution_count": 3850,
   "outputs": [],
   "source": [
    "base_test['行业'].fillna('未知',inplace=True)"
   ],
   "metadata": {
    "collapsed": false,
    "pycharm": {
     "name": "#%%\n"
    }
   }
  },
  {
   "cell_type": "code",
   "execution_count": 3851,
   "outputs": [],
   "source": [
    "# 其他缺失值也这样处理\n",
    "base_test['区域'].fillna('未知',inplace=True)"
   ],
   "metadata": {
    "collapsed": false,
    "pycharm": {
     "name": "#%%\n"
    }
   }
  },
  {
   "cell_type": "code",
   "execution_count": 3852,
   "outputs": [],
   "source": [
    "base_test['企业类型'].fillna('未知',inplace=True)"
   ],
   "metadata": {
    "collapsed": false,
    "pycharm": {
     "name": "#%%\n"
    }
   }
  },
  {
   "cell_type": "code",
   "execution_count": 3853,
   "outputs": [],
   "source": [
    "base_test['控制人类型'].fillna('未知',inplace=True)"
   ],
   "metadata": {
    "collapsed": false,
    "pycharm": {
     "name": "#%%\n"
    }
   }
  },
  {
   "cell_type": "code",
   "execution_count": 3854,
   "outputs": [],
   "source": [
    "# 1.2.1.5 删掉几个不重要的列\n",
    "\n",
    "base_test.drop(columns=['行业','区域','企业类型','控制人类型'],inplace=True)"
   ],
   "metadata": {
    "collapsed": false,
    "pycharm": {
     "name": "#%%\n"
    }
   }
  },
  {
   "cell_type": "code",
   "execution_count": 3855,
   "outputs": [
    {
     "data": {
      "text/plain": "           ID  注册时间    注册资本  控制人持股比例\n0     5992473   7.0  8670.0     0.54\n1     5999375   7.0  3400.0     0.90\n2     5981121   3.0  3350.0     0.51\n3     5978928   5.0  7690.0     0.81\n4     5979981   4.0  4850.0     0.61\n...       ...   ...     ...      ...\n4063  5984213  17.0  3740.0     0.73\n4064  5983087  17.0  8550.0     0.58\n4065  5991518   4.0   100.0     0.87\n4066  5997731  17.0  7320.0     0.61\n4067  5988959   4.0  7800.0     0.88\n\n[4068 rows x 4 columns]",
      "text/html": "<div>\n<style scoped>\n    .dataframe tbody tr th:only-of-type {\n        vertical-align: middle;\n    }\n\n    .dataframe tbody tr th {\n        vertical-align: top;\n    }\n\n    .dataframe thead th {\n        text-align: right;\n    }\n</style>\n<table border=\"1\" class=\"dataframe\">\n  <thead>\n    <tr style=\"text-align: right;\">\n      <th></th>\n      <th>ID</th>\n      <th>注册时间</th>\n      <th>注册资本</th>\n      <th>控制人持股比例</th>\n    </tr>\n  </thead>\n  <tbody>\n    <tr>\n      <th>0</th>\n      <td>5992473</td>\n      <td>7.0</td>\n      <td>8670.0</td>\n      <td>0.54</td>\n    </tr>\n    <tr>\n      <th>1</th>\n      <td>5999375</td>\n      <td>7.0</td>\n      <td>3400.0</td>\n      <td>0.90</td>\n    </tr>\n    <tr>\n      <th>2</th>\n      <td>5981121</td>\n      <td>3.0</td>\n      <td>3350.0</td>\n      <td>0.51</td>\n    </tr>\n    <tr>\n      <th>3</th>\n      <td>5978928</td>\n      <td>5.0</td>\n      <td>7690.0</td>\n      <td>0.81</td>\n    </tr>\n    <tr>\n      <th>4</th>\n      <td>5979981</td>\n      <td>4.0</td>\n      <td>4850.0</td>\n      <td>0.61</td>\n    </tr>\n    <tr>\n      <th>...</th>\n      <td>...</td>\n      <td>...</td>\n      <td>...</td>\n      <td>...</td>\n    </tr>\n    <tr>\n      <th>4063</th>\n      <td>5984213</td>\n      <td>17.0</td>\n      <td>3740.0</td>\n      <td>0.73</td>\n    </tr>\n    <tr>\n      <th>4064</th>\n      <td>5983087</td>\n      <td>17.0</td>\n      <td>8550.0</td>\n      <td>0.58</td>\n    </tr>\n    <tr>\n      <th>4065</th>\n      <td>5991518</td>\n      <td>4.0</td>\n      <td>100.0</td>\n      <td>0.87</td>\n    </tr>\n    <tr>\n      <th>4066</th>\n      <td>5997731</td>\n      <td>17.0</td>\n      <td>7320.0</td>\n      <td>0.61</td>\n    </tr>\n    <tr>\n      <th>4067</th>\n      <td>5988959</td>\n      <td>4.0</td>\n      <td>7800.0</td>\n      <td>0.88</td>\n    </tr>\n  </tbody>\n</table>\n<p>4068 rows × 4 columns</p>\n</div>"
     },
     "execution_count": 3855,
     "metadata": {},
     "output_type": "execute_result"
    }
   ],
   "source": [
    "base_test"
   ],
   "metadata": {
    "collapsed": false,
    "pycharm": {
     "name": "#%%\n"
    }
   }
  },
  {
   "cell_type": "markdown",
   "source": [
    "2. knowledge_train表数据处理\n",
    "\n",
    "    2.1 三列都合并为知识产权统计一列，看作评价的权重\n",
    "    2.2 合并到base_train表中"
   ],
   "metadata": {
    "collapsed": false
   }
  },
  {
   "cell_type": "code",
   "execution_count": 3856,
   "outputs": [
    {
     "name": "stdout",
     "output_type": "stream",
     "text": [
      "<class 'pandas.core.frame.DataFrame'>\n",
      "RangeIndex: 4068 entries, 0 to 4067\n",
      "Data columns (total 4 columns):\n",
      " #   Column  Non-Null Count  Dtype  \n",
      "---  ------  --------------  -----  \n",
      " 0   ID      4068 non-null   int64  \n",
      " 1   专利      4031 non-null   float64\n",
      " 2   商标      4024 non-null   float64\n",
      " 3   著作权     4033 non-null   float64\n",
      "dtypes: float64(3), int64(1)\n",
      "memory usage: 127.2 KB\n"
     ]
    }
   ],
   "source": [
    "knowledge_test.info()"
   ],
   "metadata": {
    "collapsed": false,
    "pycharm": {
     "name": "#%%\n"
    }
   }
  },
  {
   "cell_type": "code",
   "execution_count": 3857,
   "outputs": [],
   "source": [
    "# 缺失值全用0填充\n",
    "knowledge_test.fillna(0,inplace=True)"
   ],
   "metadata": {
    "collapsed": false,
    "pycharm": {
     "name": "#%%\n"
    }
   }
  },
  {
   "cell_type": "code",
   "execution_count": 3858,
   "outputs": [],
   "source": [
    "知识产权 = knowledge_test[knowledge_test.columns[1:4]].sum(1)\n",
    "knowledge_test.drop(columns=['专利','商标', '著作权'],inplace=True)"
   ],
   "metadata": {
    "collapsed": false,
    "pycharm": {
     "name": "#%%\n"
    }
   }
  },
  {
   "cell_type": "code",
   "execution_count": 3859,
   "outputs": [],
   "source": [
    "knowledge_test = pd.concat([knowledge_test,知识产权],axis=1)"
   ],
   "metadata": {
    "collapsed": false,
    "pycharm": {
     "name": "#%%\n"
    }
   }
  },
  {
   "cell_type": "code",
   "execution_count": 3860,
   "outputs": [],
   "source": [
    "knowledge_test.rename(columns={0:'知识产权'},inplace=True)"
   ],
   "metadata": {
    "collapsed": false,
    "pycharm": {
     "name": "#%%\n"
    }
   }
  },
  {
   "cell_type": "code",
   "execution_count": 3861,
   "outputs": [],
   "source": [
    "# 最后合并一下\n",
    "base_test = base_test.merge(knowledge_test,on='ID',how='left')"
   ],
   "metadata": {
    "collapsed": false,
    "pycharm": {
     "name": "#%%\n"
    }
   }
  },
  {
   "cell_type": "code",
   "execution_count": 3862,
   "outputs": [
    {
     "data": {
      "text/plain": "           ID  注册时间    注册资本  控制人持股比例  知识产权\n0     5992473   7.0  8670.0     0.54   3.0\n1     5999375   7.0  3400.0     0.90   2.0\n2     5981121   3.0  3350.0     0.51   2.0\n3     5978928   5.0  7690.0     0.81   0.0\n4     5979981   4.0  4850.0     0.61   2.0\n...       ...   ...     ...      ...   ...\n4063  5984213  17.0  3740.0     0.73   0.0\n4064  5983087  17.0  8550.0     0.58   2.0\n4065  5991518   4.0   100.0     0.87   0.0\n4066  5997731  17.0  7320.0     0.61   2.0\n4067  5988959   4.0  7800.0     0.88   3.0\n\n[4068 rows x 5 columns]",
      "text/html": "<div>\n<style scoped>\n    .dataframe tbody tr th:only-of-type {\n        vertical-align: middle;\n    }\n\n    .dataframe tbody tr th {\n        vertical-align: top;\n    }\n\n    .dataframe thead th {\n        text-align: right;\n    }\n</style>\n<table border=\"1\" class=\"dataframe\">\n  <thead>\n    <tr style=\"text-align: right;\">\n      <th></th>\n      <th>ID</th>\n      <th>注册时间</th>\n      <th>注册资本</th>\n      <th>控制人持股比例</th>\n      <th>知识产权</th>\n    </tr>\n  </thead>\n  <tbody>\n    <tr>\n      <th>0</th>\n      <td>5992473</td>\n      <td>7.0</td>\n      <td>8670.0</td>\n      <td>0.54</td>\n      <td>3.0</td>\n    </tr>\n    <tr>\n      <th>1</th>\n      <td>5999375</td>\n      <td>7.0</td>\n      <td>3400.0</td>\n      <td>0.90</td>\n      <td>2.0</td>\n    </tr>\n    <tr>\n      <th>2</th>\n      <td>5981121</td>\n      <td>3.0</td>\n      <td>3350.0</td>\n      <td>0.51</td>\n      <td>2.0</td>\n    </tr>\n    <tr>\n      <th>3</th>\n      <td>5978928</td>\n      <td>5.0</td>\n      <td>7690.0</td>\n      <td>0.81</td>\n      <td>0.0</td>\n    </tr>\n    <tr>\n      <th>4</th>\n      <td>5979981</td>\n      <td>4.0</td>\n      <td>4850.0</td>\n      <td>0.61</td>\n      <td>2.0</td>\n    </tr>\n    <tr>\n      <th>...</th>\n      <td>...</td>\n      <td>...</td>\n      <td>...</td>\n      <td>...</td>\n      <td>...</td>\n    </tr>\n    <tr>\n      <th>4063</th>\n      <td>5984213</td>\n      <td>17.0</td>\n      <td>3740.0</td>\n      <td>0.73</td>\n      <td>0.0</td>\n    </tr>\n    <tr>\n      <th>4064</th>\n      <td>5983087</td>\n      <td>17.0</td>\n      <td>8550.0</td>\n      <td>0.58</td>\n      <td>2.0</td>\n    </tr>\n    <tr>\n      <th>4065</th>\n      <td>5991518</td>\n      <td>4.0</td>\n      <td>100.0</td>\n      <td>0.87</td>\n      <td>0.0</td>\n    </tr>\n    <tr>\n      <th>4066</th>\n      <td>5997731</td>\n      <td>17.0</td>\n      <td>7320.0</td>\n      <td>0.61</td>\n      <td>2.0</td>\n    </tr>\n    <tr>\n      <th>4067</th>\n      <td>5988959</td>\n      <td>4.0</td>\n      <td>7800.0</td>\n      <td>0.88</td>\n      <td>3.0</td>\n    </tr>\n  </tbody>\n</table>\n<p>4068 rows × 5 columns</p>\n</div>"
     },
     "execution_count": 3862,
     "metadata": {},
     "output_type": "execute_result"
    }
   ],
   "source": [
    "base_test\n"
   ],
   "metadata": {
    "collapsed": false,
    "pycharm": {
     "name": "#%%\n"
    }
   }
  },
  {
   "cell_type": "code",
   "execution_count": 3863,
   "outputs": [],
   "source": [
    "# 3.2 有缺失值的直接删除该行即可\n",
    "money_test.dropna(how='any',inplace=True)"
   ],
   "metadata": {
    "collapsed": false,
    "pycharm": {
     "name": "#%%\n"
    }
   }
  },
  {
   "cell_type": "code",
   "execution_count": 3864,
   "outputs": [],
   "source": [
    "# 3.3 特征融合\n",
    "融资额度2 = money_test[['债权融资额度','股权融资额度','内部融资和贸易融资额度','项目融资和政策融资额度']].sum(1)\n",
    "融资成本2 = money_test[['债权融资成本','股权融资成本','内部融资和贸易融资成本','项目融资和政策融资成本']].sum(1)"
   ],
   "metadata": {
    "collapsed": false,
    "pycharm": {
     "name": "#%%\n"
    }
   }
  },
  {
   "cell_type": "code",
   "execution_count": 3865,
   "outputs": [],
   "source": [
    "# 将融资情况汇总\n",
    "融资情况2=融资额度2-融资成本2\n",
    "融资情况2=pd.DataFrame({'融资情况':融资情况2})\n",
    "money_test = pd.concat([money_test,融资情况2],axis=1)"
   ],
   "metadata": {
    "collapsed": false,
    "pycharm": {
     "name": "#%%\n"
    }
   }
  },
  {
   "cell_type": "code",
   "execution_count": 3866,
   "outputs": [],
   "source": [
    "# 只需要保留融和后的信息即可\n",
    "money_test.drop(columns=['债权融资额度','股权融资额度','内部融资和贸易融资额度','项目融资和政策融资额度','债权融资成本','股权融资成本','内部融资和贸易融资成本','项目融资和政策融资成本'],\n",
    "                 inplace=True)"
   ],
   "metadata": {
    "collapsed": false,
    "pycharm": {
     "name": "#%%\n"
    }
   }
  },
  {
   "cell_type": "code",
   "execution_count": 3867,
   "outputs": [
    {
     "name": "stderr",
     "output_type": "stream",
     "text": [
      "c:\\users\\rikoo\\dev\\env\\anaconda3\\envs\\py36\\lib\\site-packages\\pandas\\core\\frame.py:4308: SettingWithCopyWarning: \n",
      "A value is trying to be set on a copy of a slice from a DataFrame\n",
      "\n",
      "See the caveats in the documentation: https://pandas.pydata.org/pandas-docs/stable/user_guide/indexing.html#returning-a-view-versus-a-copy\n",
      "  errors=errors,\n",
      "c:\\users\\rikoo\\dev\\env\\anaconda3\\envs\\py36\\lib\\site-packages\\pandas\\core\\frame.py:4174: SettingWithCopyWarning: \n",
      "A value is trying to be set on a copy of a slice from a DataFrame\n",
      "\n",
      "See the caveats in the documentation: https://pandas.pydata.org/pandas-docs/stable/user_guide/indexing.html#returning-a-view-versus-a-copy\n",
      "  errors=errors,\n",
      "c:\\users\\rikoo\\dev\\env\\anaconda3\\envs\\py36\\lib\\site-packages\\pandas\\core\\frame.py:4308: SettingWithCopyWarning: \n",
      "A value is trying to be set on a copy of a slice from a DataFrame\n",
      "\n",
      "See the caveats in the documentation: https://pandas.pydata.org/pandas-docs/stable/user_guide/indexing.html#returning-a-view-versus-a-copy\n",
      "  errors=errors,\n",
      "c:\\users\\rikoo\\dev\\env\\anaconda3\\envs\\py36\\lib\\site-packages\\pandas\\core\\frame.py:4174: SettingWithCopyWarning: \n",
      "A value is trying to be set on a copy of a slice from a DataFrame\n",
      "\n",
      "See the caveats in the documentation: https://pandas.pydata.org/pandas-docs/stable/user_guide/indexing.html#returning-a-view-versus-a-copy\n",
      "  errors=errors,\n"
     ]
    }
   ],
   "source": [
    "# 3.4 处理1516年财报信息\n",
    "# 取出信息\n",
    "money_test_2015 = money_test.iloc[(money_test['year']==2015).values]\n",
    "# 改名\n",
    "money_test_2015.rename(columns={\n",
    "    '融资情况':'融资情况_2015'\n",
    "},inplace=True)\n",
    "# 年份列不再需要\n",
    "money_test_2015.drop(columns=['year'],inplace=True)\n",
    "money_test_2015.head()\n",
    "money_test_2016 = money_test.iloc[(money_test['year']==2016).values]\n",
    "money_test_2016.rename(columns={\n",
    "    '融资情况':'融资情况_2016'\n",
    "},inplace=True)\n",
    "money_test_2016.drop(columns=['year'],inplace=True)\n",
    "# 无17年数据"
   ],
   "metadata": {
    "collapsed": false,
    "pycharm": {
     "name": "#%%\n"
    }
   }
  },
  {
   "cell_type": "code",
   "execution_count": 3868,
   "outputs": [],
   "source": [
    "# 3.5 合并到base_test表中\n",
    "base_test = base_test.merge(money_test_2015,on='ID',how='left')"
   ],
   "metadata": {
    "collapsed": false,
    "pycharm": {
     "name": "#%%\n"
    }
   }
  },
  {
   "cell_type": "code",
   "execution_count": 3869,
   "outputs": [
    {
     "data": {
      "text/plain": "           ID  注册时间    注册资本  控制人持股比例  知识产权  融资情况_2015   融资情况_2016\n5     5981638  13.0  3570.0     0.66   2.0    738.276         NaN\n6     5990438  17.0  5930.0     0.66   0.0        NaN   13378.080\n11    5996642   4.0  5790.0     0.96   0.0        NaN     326.556\n18    5984241   4.0  2720.0     0.98   0.0     51.136         NaN\n23    5978484  13.0   470.0     0.89   1.0    951.280         NaN\n...       ...   ...     ...      ...   ...        ...         ...\n4049  5998909  13.0  8800.0     0.69   0.0        NaN  113160.960\n4053  5999122   4.0  4120.0     0.88   2.0        NaN    2274.240\n4054  5996801   6.0   710.0     0.71   2.0        NaN     381.696\n4057  5986008   6.0  4650.0     0.96   3.0        NaN    3278.250\n4063  5984213  17.0  3740.0     0.73   0.0        NaN  182248.704\n\n[614 rows x 7 columns]",
      "text/html": "<div>\n<style scoped>\n    .dataframe tbody tr th:only-of-type {\n        vertical-align: middle;\n    }\n\n    .dataframe tbody tr th {\n        vertical-align: top;\n    }\n\n    .dataframe thead th {\n        text-align: right;\n    }\n</style>\n<table border=\"1\" class=\"dataframe\">\n  <thead>\n    <tr style=\"text-align: right;\">\n      <th></th>\n      <th>ID</th>\n      <th>注册时间</th>\n      <th>注册资本</th>\n      <th>控制人持股比例</th>\n      <th>知识产权</th>\n      <th>融资情况_2015</th>\n      <th>融资情况_2016</th>\n    </tr>\n  </thead>\n  <tbody>\n    <tr>\n      <th>5</th>\n      <td>5981638</td>\n      <td>13.0</td>\n      <td>3570.0</td>\n      <td>0.66</td>\n      <td>2.0</td>\n      <td>738.276</td>\n      <td>NaN</td>\n    </tr>\n    <tr>\n      <th>6</th>\n      <td>5990438</td>\n      <td>17.0</td>\n      <td>5930.0</td>\n      <td>0.66</td>\n      <td>0.0</td>\n      <td>NaN</td>\n      <td>13378.080</td>\n    </tr>\n    <tr>\n      <th>11</th>\n      <td>5996642</td>\n      <td>4.0</td>\n      <td>5790.0</td>\n      <td>0.96</td>\n      <td>0.0</td>\n      <td>NaN</td>\n      <td>326.556</td>\n    </tr>\n    <tr>\n      <th>18</th>\n      <td>5984241</td>\n      <td>4.0</td>\n      <td>2720.0</td>\n      <td>0.98</td>\n      <td>0.0</td>\n      <td>51.136</td>\n      <td>NaN</td>\n    </tr>\n    <tr>\n      <th>23</th>\n      <td>5978484</td>\n      <td>13.0</td>\n      <td>470.0</td>\n      <td>0.89</td>\n      <td>1.0</td>\n      <td>951.280</td>\n      <td>NaN</td>\n    </tr>\n    <tr>\n      <th>...</th>\n      <td>...</td>\n      <td>...</td>\n      <td>...</td>\n      <td>...</td>\n      <td>...</td>\n      <td>...</td>\n      <td>...</td>\n    </tr>\n    <tr>\n      <th>4049</th>\n      <td>5998909</td>\n      <td>13.0</td>\n      <td>8800.0</td>\n      <td>0.69</td>\n      <td>0.0</td>\n      <td>NaN</td>\n      <td>113160.960</td>\n    </tr>\n    <tr>\n      <th>4053</th>\n      <td>5999122</td>\n      <td>4.0</td>\n      <td>4120.0</td>\n      <td>0.88</td>\n      <td>2.0</td>\n      <td>NaN</td>\n      <td>2274.240</td>\n    </tr>\n    <tr>\n      <th>4054</th>\n      <td>5996801</td>\n      <td>6.0</td>\n      <td>710.0</td>\n      <td>0.71</td>\n      <td>2.0</td>\n      <td>NaN</td>\n      <td>381.696</td>\n    </tr>\n    <tr>\n      <th>4057</th>\n      <td>5986008</td>\n      <td>6.0</td>\n      <td>4650.0</td>\n      <td>0.96</td>\n      <td>3.0</td>\n      <td>NaN</td>\n      <td>3278.250</td>\n    </tr>\n    <tr>\n      <th>4063</th>\n      <td>5984213</td>\n      <td>17.0</td>\n      <td>3740.0</td>\n      <td>0.73</td>\n      <td>0.0</td>\n      <td>NaN</td>\n      <td>182248.704</td>\n    </tr>\n  </tbody>\n</table>\n<p>614 rows × 7 columns</p>\n</div>"
     },
     "execution_count": 3869,
     "metadata": {},
     "output_type": "execute_result"
    }
   ],
   "source": [
    "base_test = base_test.merge(money_test_2016,on='ID',how='left')\n",
    "# base_train = base_train.merge(money_2017,on='ID',how='left')\n",
    "# 居然有4033行都有缺失数据，也就是可能有些公司的某一年融资情况为空\n",
    "base_test.loc[base_test.isna().any(1)]"
   ],
   "metadata": {
    "collapsed": false,
    "pycharm": {
     "name": "#%%\n"
    }
   }
  },
  {
   "cell_type": "code",
   "execution_count": 3870,
   "outputs": [],
   "source": [
    "# 直接用0填充\n",
    "base_test.fillna(0,inplace=True)"
   ],
   "metadata": {
    "collapsed": false,
    "pycharm": {
     "name": "#%%\n"
    }
   }
  },
  {
   "cell_type": "code",
   "execution_count": 3871,
   "outputs": [
    {
     "data": {
      "text/plain": "Empty DataFrame\nColumns: [ID, 注册时间, 注册资本, 控制人持股比例, 知识产权, 融资情况_2015, 融资情况_2016]\nIndex: []",
      "text/html": "<div>\n<style scoped>\n    .dataframe tbody tr th:only-of-type {\n        vertical-align: middle;\n    }\n\n    .dataframe tbody tr th {\n        vertical-align: top;\n    }\n\n    .dataframe thead th {\n        text-align: right;\n    }\n</style>\n<table border=\"1\" class=\"dataframe\">\n  <thead>\n    <tr style=\"text-align: right;\">\n      <th></th>\n      <th>ID</th>\n      <th>注册时间</th>\n      <th>注册资本</th>\n      <th>控制人持股比例</th>\n      <th>知识产权</th>\n      <th>融资情况_2015</th>\n      <th>融资情况_2016</th>\n    </tr>\n  </thead>\n  <tbody>\n  </tbody>\n</table>\n</div>"
     },
     "execution_count": 3871,
     "metadata": {},
     "output_type": "execute_result"
    }
   ],
   "source": [
    "base_test.loc[base_test.isna().any(1)]"
   ],
   "metadata": {
    "collapsed": false,
    "pycharm": {
     "name": "#%%\n"
    }
   }
  },
  {
   "cell_type": "markdown",
   "source": [
    "4 year_test表数据处理"
   ],
   "metadata": {
    "collapsed": false
   }
  },
  {
   "cell_type": "code",
   "execution_count": 3872,
   "outputs": [],
   "source": [
    "year_test_2015 = year_test.iloc[(year_test['year']==2015).values]"
   ],
   "metadata": {
    "collapsed": false,
    "pycharm": {
     "name": "#%%\n"
    }
   }
  },
  {
   "cell_type": "code",
   "execution_count": 3873,
   "outputs": [
    {
     "name": "stderr",
     "output_type": "stream",
     "text": [
      "c:\\users\\rikoo\\dev\\env\\anaconda3\\envs\\py36\\lib\\site-packages\\pandas\\core\\frame.py:4308: SettingWithCopyWarning: \n",
      "A value is trying to be set on a copy of a slice from a DataFrame\n",
      "\n",
      "See the caveats in the documentation: https://pandas.pydata.org/pandas-docs/stable/user_guide/indexing.html#returning-a-view-versus-a-copy\n",
      "  errors=errors,\n"
     ]
    }
   ],
   "source": [
    "year_test_2015.rename(columns={\n",
    "    '从业人数':'从业人数_2015',\n",
    "    '资产总额':'资产总额_2015',\n",
    "    '负债总额':'负债总额_2015',\n",
    "    '主营业务收入':'主营业务收入_2015',\n",
    "    '净利润':'净利润_2015',\n",
    "    '所有者权益合计':'所有者权益合计_2015'\n",
    "},inplace=True)"
   ],
   "metadata": {
    "collapsed": false,
    "pycharm": {
     "name": "#%%\n"
    }
   }
  },
  {
   "cell_type": "code",
   "execution_count": 3874,
   "outputs": [
    {
     "name": "stderr",
     "output_type": "stream",
     "text": [
      "c:\\users\\rikoo\\dev\\env\\anaconda3\\envs\\py36\\lib\\site-packages\\pandas\\core\\frame.py:4174: SettingWithCopyWarning: \n",
      "A value is trying to be set on a copy of a slice from a DataFrame\n",
      "\n",
      "See the caveats in the documentation: https://pandas.pydata.org/pandas-docs/stable/user_guide/indexing.html#returning-a-view-versus-a-copy\n",
      "  errors=errors,\n",
      "c:\\users\\rikoo\\dev\\env\\anaconda3\\envs\\py36\\lib\\site-packages\\pandas\\core\\frame.py:4327: SettingWithCopyWarning: \n",
      "A value is trying to be set on a copy of a slice from a DataFrame\n",
      "\n",
      "See the caveats in the documentation: https://pandas.pydata.org/pandas-docs/stable/user_guide/indexing.html#returning-a-view-versus-a-copy\n",
      "  downcast=downcast,\n"
     ]
    }
   ],
   "source": [
    "year_test_2015.drop(columns=['year','纳税总额','利润总额','营业总收入'],inplace=True)\n",
    "# year_test_2015.loc[year_test_2015.isna().any(1)]\n",
    "year_test_2015.fillna(0,inplace=True)"
   ],
   "metadata": {
    "collapsed": false,
    "pycharm": {
     "name": "#%%\n"
    }
   }
  },
  {
   "cell_type": "code",
   "execution_count": 3875,
   "outputs": [],
   "source": [
    "year_test_2016 = year_test.iloc[(year_test['year']==2016).values]"
   ],
   "metadata": {
    "collapsed": false,
    "pycharm": {
     "name": "#%%\n"
    }
   }
  },
  {
   "cell_type": "code",
   "execution_count": 3876,
   "outputs": [
    {
     "name": "stderr",
     "output_type": "stream",
     "text": [
      "c:\\users\\rikoo\\dev\\env\\anaconda3\\envs\\py36\\lib\\site-packages\\pandas\\core\\frame.py:4308: SettingWithCopyWarning: \n",
      "A value is trying to be set on a copy of a slice from a DataFrame\n",
      "\n",
      "See the caveats in the documentation: https://pandas.pydata.org/pandas-docs/stable/user_guide/indexing.html#returning-a-view-versus-a-copy\n",
      "  errors=errors,\n"
     ]
    }
   ],
   "source": [
    "year_test_2016.rename(columns={\n",
    "    '从业人数':'从业人数_2016',\n",
    "    '资产总额':'资产总额_2016',\n",
    "    '负债总额':'负债总额_2016',\n",
    "    '主营业务收入':'主营业务收入_2016',\n",
    "    '净利润':'净利润_2016',\n",
    "    '所有者权益合计':'所有者权益合计_2016'\n",
    "},inplace=True)"
   ],
   "metadata": {
    "collapsed": false,
    "pycharm": {
     "name": "#%%\n"
    }
   }
  },
  {
   "cell_type": "code",
   "execution_count": 3877,
   "outputs": [
    {
     "name": "stderr",
     "output_type": "stream",
     "text": [
      "c:\\users\\rikoo\\dev\\env\\anaconda3\\envs\\py36\\lib\\site-packages\\pandas\\core\\frame.py:4174: SettingWithCopyWarning: \n",
      "A value is trying to be set on a copy of a slice from a DataFrame\n",
      "\n",
      "See the caveats in the documentation: https://pandas.pydata.org/pandas-docs/stable/user_guide/indexing.html#returning-a-view-versus-a-copy\n",
      "  errors=errors,\n",
      "c:\\users\\rikoo\\dev\\env\\anaconda3\\envs\\py36\\lib\\site-packages\\pandas\\core\\frame.py:4327: SettingWithCopyWarning: \n",
      "A value is trying to be set on a copy of a slice from a DataFrame\n",
      "\n",
      "See the caveats in the documentation: https://pandas.pydata.org/pandas-docs/stable/user_guide/indexing.html#returning-a-view-versus-a-copy\n",
      "  downcast=downcast,\n"
     ]
    }
   ],
   "source": [
    "year_test_2016.drop(columns=['year','纳税总额','利润总额','营业总收入'],inplace=True)\n",
    "# mean\n",
    "year_test_2016.fillna(0,inplace=True)"
   ],
   "metadata": {
    "collapsed": false,
    "pycharm": {
     "name": "#%%\n"
    }
   }
  },
  {
   "cell_type": "code",
   "execution_count": 3878,
   "outputs": [
    {
     "data": {
      "text/plain": "Empty DataFrame\nColumns: [ID, 注册时间, 注册资本, 控制人持股比例, 知识产权, 融资情况_2015, 融资情况_2016, 从业人数_2015, 资产总额_2015, 负债总额_2015, 主营业务收入_2015, 净利润_2015, 所有者权益合计_2015]\nIndex: []",
      "text/html": "<div>\n<style scoped>\n    .dataframe tbody tr th:only-of-type {\n        vertical-align: middle;\n    }\n\n    .dataframe tbody tr th {\n        vertical-align: top;\n    }\n\n    .dataframe thead th {\n        text-align: right;\n    }\n</style>\n<table border=\"1\" class=\"dataframe\">\n  <thead>\n    <tr style=\"text-align: right;\">\n      <th></th>\n      <th>ID</th>\n      <th>注册时间</th>\n      <th>注册资本</th>\n      <th>控制人持股比例</th>\n      <th>知识产权</th>\n      <th>融资情况_2015</th>\n      <th>融资情况_2016</th>\n      <th>从业人数_2015</th>\n      <th>资产总额_2015</th>\n      <th>负债总额_2015</th>\n      <th>主营业务收入_2015</th>\n      <th>净利润_2015</th>\n      <th>所有者权益合计_2015</th>\n    </tr>\n  </thead>\n  <tbody>\n  </tbody>\n</table>\n</div>"
     },
     "execution_count": 3878,
     "metadata": {},
     "output_type": "execute_result"
    }
   ],
   "source": [
    "base_test = base_test.merge(year_test_2015,on='ID',how='left')\n",
    "base_test.loc[base_test.isna().any(1)]"
   ],
   "metadata": {
    "collapsed": false,
    "pycharm": {
     "name": "#%%\n"
    }
   }
  },
  {
   "cell_type": "code",
   "execution_count": 3879,
   "outputs": [],
   "source": [
    "base_test = base_test.merge(year_test_2016,on='ID',how='left')"
   ],
   "metadata": {
    "collapsed": false,
    "pycharm": {
     "name": "#%%\n"
    }
   }
  },
  {
   "cell_type": "code",
   "execution_count": 3880,
   "outputs": [
    {
     "data": {
      "text/plain": "Empty DataFrame\nColumns: [ID, 注册时间, 注册资本, 控制人持股比例, 知识产权, 融资情况_2015, 融资情况_2016, 从业人数_2015, 资产总额_2015, 负债总额_2015, 主营业务收入_2015, 净利润_2015, 所有者权益合计_2015, 从业人数_2016, 资产总额_2016, 负债总额_2016, 主营业务收入_2016, 净利润_2016, 所有者权益合计_2016]\nIndex: []",
      "text/html": "<div>\n<style scoped>\n    .dataframe tbody tr th:only-of-type {\n        vertical-align: middle;\n    }\n\n    .dataframe tbody tr th {\n        vertical-align: top;\n    }\n\n    .dataframe thead th {\n        text-align: right;\n    }\n</style>\n<table border=\"1\" class=\"dataframe\">\n  <thead>\n    <tr style=\"text-align: right;\">\n      <th></th>\n      <th>ID</th>\n      <th>注册时间</th>\n      <th>注册资本</th>\n      <th>控制人持股比例</th>\n      <th>知识产权</th>\n      <th>融资情况_2015</th>\n      <th>融资情况_2016</th>\n      <th>从业人数_2015</th>\n      <th>资产总额_2015</th>\n      <th>负债总额_2015</th>\n      <th>主营业务收入_2015</th>\n      <th>净利润_2015</th>\n      <th>所有者权益合计_2015</th>\n      <th>从业人数_2016</th>\n      <th>资产总额_2016</th>\n      <th>负债总额_2016</th>\n      <th>主营业务收入_2016</th>\n      <th>净利润_2016</th>\n      <th>所有者权益合计_2016</th>\n    </tr>\n  </thead>\n  <tbody>\n  </tbody>\n</table>\n</div>"
     },
     "execution_count": 3880,
     "metadata": {},
     "output_type": "execute_result"
    }
   ],
   "source": [
    "base_test.loc[base_test.isna().any(1)]"
   ],
   "metadata": {
    "collapsed": false,
    "pycharm": {
     "name": "#%%\n"
    }
   }
  },
  {
   "cell_type": "code",
   "execution_count": 3881,
   "outputs": [
    {
     "data": {
      "text/plain": "ID              False\n注册时间            False\n注册资本            False\n控制人持股比例         False\n知识产权            False\n融资情况_2015       False\n融资情况_2016       False\n从业人数_2015       False\n资产总额_2015       False\n负债总额_2015       False\n主营业务收入_2015     False\n净利润_2015        False\n所有者权益合计_2015    False\n从业人数_2016       False\n资产总额_2016       False\n负债总额_2016       False\n主营业务收入_2016     False\n净利润_2016        False\n所有者权益合计_2016    False\ndtype: bool"
     },
     "execution_count": 3881,
     "metadata": {},
     "output_type": "execute_result"
    }
   ],
   "source": [
    "np.isnan(base_test).any()"
   ],
   "metadata": {
    "collapsed": false,
    "pycharm": {
     "name": "#%%\n"
    }
   }
  },
  {
   "cell_type": "code",
   "execution_count": 3882,
   "outputs": [
    {
     "data": {
      "text/plain": "           ID  注册时间    注册资本  控制人持股比例  知识产权  融资情况_2015    融资情况_2016  从业人数_2015  \\\n0     5992473   7.0  8670.0     0.54   3.0   36674.10    1198.5408      505.0   \n1     5999375   7.0  3400.0     0.90   2.0    3128.00   13806.7200      307.0   \n2     5981121   3.0  3350.0     0.51   2.0    1541.00    3082.0000      920.0   \n3     5978928   5.0  7690.0     0.81   0.0    5421.45   17717.7600       42.0   \n4     5979981   4.0  4850.0     0.61   2.0    4462.00   14526.7200      291.0   \n...       ...   ...     ...      ...   ...        ...          ...        ...   \n4063  5984213  17.0  3740.0     0.73   0.0       0.00  182248.7040      412.0   \n4064  5983087  17.0  8550.0     0.58   2.0   36166.50   25718.4000      487.0   \n4065  5991518   4.0   100.0     0.87   0.0     360.96       8.4600      516.0   \n4066  5997731  17.0  7320.0     0.61   2.0   86698.08   21550.0800       94.0   \n4067  5988959   4.0  7800.0     0.88   3.0   10558.08   60708.9600      321.0   \n\n      资产总额_2015  负债总额_2015  主营业务收入_2015  净利润_2015  所有者权益合计_2015  从业人数_2016  \\\n0       43350.0    52020.0      52020.0   13005.0       -8670.0      223.0   \n1       34000.0    15300.0      47600.0   35700.0       18700.0      518.0   \n2       16750.0     6700.0      25125.0   16750.0       10050.0      931.0   \n3      115350.0   161490.0     132652.5  106122.0      -46140.0      749.0   \n4       48500.0    43650.0      60140.0   60140.0        4850.0      135.0   \n...         ...        ...          ...       ...           ...        ...   \n4063   224400.0   110330.0     143616.0       0.0      114070.0      154.0   \n4064   256500.0   123975.0      64125.0  -12825.0      132525.0      950.0   \n4065      800.0      700.0        640.0     128.0         100.0      199.0   \n4066   109800.0   153720.0     245952.0   61488.0      -43920.0      500.0   \n4067    46800.0    78000.0      29952.0   11232.0      -31200.0      201.0   \n\n      资产总额_2016  负债总额_2016  主营业务收入_2016  净利润_2016  所有者权益合计_2016  \n0       52020.0    86700.0      12484.8    2080.8      -34680.0  \n1       61200.0    86700.0      39168.0   -4896.0      -25500.0  \n2       33500.0    60300.0      74370.0   12395.0      -26800.0  \n3       61520.0   107660.0     153800.0  -30760.0      -46140.0  \n4       72750.0    33950.0     113490.0   75660.0       38800.0  \n...         ...        ...          ...       ...           ...  \n4063   179520.0   351560.0     258508.8       0.0     -172040.0  \n4064   684000.0   337725.0    1607400.0  964440.0      346275.0  \n4065      300.0      200.0        756.0       0.0         100.0  \n4066   234240.0   113460.0     426316.8  243609.6      120780.0  \n4067    93600.0   128700.0     129168.0       0.0      -35100.0  \n\n[4068 rows x 19 columns]",
      "text/html": "<div>\n<style scoped>\n    .dataframe tbody tr th:only-of-type {\n        vertical-align: middle;\n    }\n\n    .dataframe tbody tr th {\n        vertical-align: top;\n    }\n\n    .dataframe thead th {\n        text-align: right;\n    }\n</style>\n<table border=\"1\" class=\"dataframe\">\n  <thead>\n    <tr style=\"text-align: right;\">\n      <th></th>\n      <th>ID</th>\n      <th>注册时间</th>\n      <th>注册资本</th>\n      <th>控制人持股比例</th>\n      <th>知识产权</th>\n      <th>融资情况_2015</th>\n      <th>融资情况_2016</th>\n      <th>从业人数_2015</th>\n      <th>资产总额_2015</th>\n      <th>负债总额_2015</th>\n      <th>主营业务收入_2015</th>\n      <th>净利润_2015</th>\n      <th>所有者权益合计_2015</th>\n      <th>从业人数_2016</th>\n      <th>资产总额_2016</th>\n      <th>负债总额_2016</th>\n      <th>主营业务收入_2016</th>\n      <th>净利润_2016</th>\n      <th>所有者权益合计_2016</th>\n    </tr>\n  </thead>\n  <tbody>\n    <tr>\n      <th>0</th>\n      <td>5992473</td>\n      <td>7.0</td>\n      <td>8670.0</td>\n      <td>0.54</td>\n      <td>3.0</td>\n      <td>36674.10</td>\n      <td>1198.5408</td>\n      <td>505.0</td>\n      <td>43350.0</td>\n      <td>52020.0</td>\n      <td>52020.0</td>\n      <td>13005.0</td>\n      <td>-8670.0</td>\n      <td>223.0</td>\n      <td>52020.0</td>\n      <td>86700.0</td>\n      <td>12484.8</td>\n      <td>2080.8</td>\n      <td>-34680.0</td>\n    </tr>\n    <tr>\n      <th>1</th>\n      <td>5999375</td>\n      <td>7.0</td>\n      <td>3400.0</td>\n      <td>0.90</td>\n      <td>2.0</td>\n      <td>3128.00</td>\n      <td>13806.7200</td>\n      <td>307.0</td>\n      <td>34000.0</td>\n      <td>15300.0</td>\n      <td>47600.0</td>\n      <td>35700.0</td>\n      <td>18700.0</td>\n      <td>518.0</td>\n      <td>61200.0</td>\n      <td>86700.0</td>\n      <td>39168.0</td>\n      <td>-4896.0</td>\n      <td>-25500.0</td>\n    </tr>\n    <tr>\n      <th>2</th>\n      <td>5981121</td>\n      <td>3.0</td>\n      <td>3350.0</td>\n      <td>0.51</td>\n      <td>2.0</td>\n      <td>1541.00</td>\n      <td>3082.0000</td>\n      <td>920.0</td>\n      <td>16750.0</td>\n      <td>6700.0</td>\n      <td>25125.0</td>\n      <td>16750.0</td>\n      <td>10050.0</td>\n      <td>931.0</td>\n      <td>33500.0</td>\n      <td>60300.0</td>\n      <td>74370.0</td>\n      <td>12395.0</td>\n      <td>-26800.0</td>\n    </tr>\n    <tr>\n      <th>3</th>\n      <td>5978928</td>\n      <td>5.0</td>\n      <td>7690.0</td>\n      <td>0.81</td>\n      <td>0.0</td>\n      <td>5421.45</td>\n      <td>17717.7600</td>\n      <td>42.0</td>\n      <td>115350.0</td>\n      <td>161490.0</td>\n      <td>132652.5</td>\n      <td>106122.0</td>\n      <td>-46140.0</td>\n      <td>749.0</td>\n      <td>61520.0</td>\n      <td>107660.0</td>\n      <td>153800.0</td>\n      <td>-30760.0</td>\n      <td>-46140.0</td>\n    </tr>\n    <tr>\n      <th>4</th>\n      <td>5979981</td>\n      <td>4.0</td>\n      <td>4850.0</td>\n      <td>0.61</td>\n      <td>2.0</td>\n      <td>4462.00</td>\n      <td>14526.7200</td>\n      <td>291.0</td>\n      <td>48500.0</td>\n      <td>43650.0</td>\n      <td>60140.0</td>\n      <td>60140.0</td>\n      <td>4850.0</td>\n      <td>135.0</td>\n      <td>72750.0</td>\n      <td>33950.0</td>\n      <td>113490.0</td>\n      <td>75660.0</td>\n      <td>38800.0</td>\n    </tr>\n    <tr>\n      <th>...</th>\n      <td>...</td>\n      <td>...</td>\n      <td>...</td>\n      <td>...</td>\n      <td>...</td>\n      <td>...</td>\n      <td>...</td>\n      <td>...</td>\n      <td>...</td>\n      <td>...</td>\n      <td>...</td>\n      <td>...</td>\n      <td>...</td>\n      <td>...</td>\n      <td>...</td>\n      <td>...</td>\n      <td>...</td>\n      <td>...</td>\n      <td>...</td>\n    </tr>\n    <tr>\n      <th>4063</th>\n      <td>5984213</td>\n      <td>17.0</td>\n      <td>3740.0</td>\n      <td>0.73</td>\n      <td>0.0</td>\n      <td>0.00</td>\n      <td>182248.7040</td>\n      <td>412.0</td>\n      <td>224400.0</td>\n      <td>110330.0</td>\n      <td>143616.0</td>\n      <td>0.0</td>\n      <td>114070.0</td>\n      <td>154.0</td>\n      <td>179520.0</td>\n      <td>351560.0</td>\n      <td>258508.8</td>\n      <td>0.0</td>\n      <td>-172040.0</td>\n    </tr>\n    <tr>\n      <th>4064</th>\n      <td>5983087</td>\n      <td>17.0</td>\n      <td>8550.0</td>\n      <td>0.58</td>\n      <td>2.0</td>\n      <td>36166.50</td>\n      <td>25718.4000</td>\n      <td>487.0</td>\n      <td>256500.0</td>\n      <td>123975.0</td>\n      <td>64125.0</td>\n      <td>-12825.0</td>\n      <td>132525.0</td>\n      <td>950.0</td>\n      <td>684000.0</td>\n      <td>337725.0</td>\n      <td>1607400.0</td>\n      <td>964440.0</td>\n      <td>346275.0</td>\n    </tr>\n    <tr>\n      <th>4065</th>\n      <td>5991518</td>\n      <td>4.0</td>\n      <td>100.0</td>\n      <td>0.87</td>\n      <td>0.0</td>\n      <td>360.96</td>\n      <td>8.4600</td>\n      <td>516.0</td>\n      <td>800.0</td>\n      <td>700.0</td>\n      <td>640.0</td>\n      <td>128.0</td>\n      <td>100.0</td>\n      <td>199.0</td>\n      <td>300.0</td>\n      <td>200.0</td>\n      <td>756.0</td>\n      <td>0.0</td>\n      <td>100.0</td>\n    </tr>\n    <tr>\n      <th>4066</th>\n      <td>5997731</td>\n      <td>17.0</td>\n      <td>7320.0</td>\n      <td>0.61</td>\n      <td>2.0</td>\n      <td>86698.08</td>\n      <td>21550.0800</td>\n      <td>94.0</td>\n      <td>109800.0</td>\n      <td>153720.0</td>\n      <td>245952.0</td>\n      <td>61488.0</td>\n      <td>-43920.0</td>\n      <td>500.0</td>\n      <td>234240.0</td>\n      <td>113460.0</td>\n      <td>426316.8</td>\n      <td>243609.6</td>\n      <td>120780.0</td>\n    </tr>\n    <tr>\n      <th>4067</th>\n      <td>5988959</td>\n      <td>4.0</td>\n      <td>7800.0</td>\n      <td>0.88</td>\n      <td>3.0</td>\n      <td>10558.08</td>\n      <td>60708.9600</td>\n      <td>321.0</td>\n      <td>46800.0</td>\n      <td>78000.0</td>\n      <td>29952.0</td>\n      <td>11232.0</td>\n      <td>-31200.0</td>\n      <td>201.0</td>\n      <td>93600.0</td>\n      <td>128700.0</td>\n      <td>129168.0</td>\n      <td>0.0</td>\n      <td>-35100.0</td>\n    </tr>\n  </tbody>\n</table>\n<p>4068 rows × 19 columns</p>\n</div>"
     },
     "execution_count": 3882,
     "metadata": {},
     "output_type": "execute_result"
    }
   ],
   "source": [
    "base_test"
   ],
   "metadata": {
    "collapsed": false,
    "pycharm": {
     "name": "#%%\n"
    }
   }
  },
  {
   "cell_type": "code",
   "execution_count": 3883,
   "outputs": [],
   "source": [
    "# base_test = base_test.dropna(axis=0,how='any')\n"
   ],
   "metadata": {
    "collapsed": false,
    "pycharm": {
     "name": "#%%\n"
    }
   }
  },
  {
   "cell_type": "markdown",
   "source": [
    "1.3 整理预测数据"
   ],
   "metadata": {
    "collapsed": false,
    "pycharm": {
     "name": "#%% md\n"
    }
   }
  },
  {
   "cell_type": "code",
   "execution_count": 3884,
   "outputs": [],
   "source": [
    "# 去除ID列，数值过大，影响训练\n",
    "ID = base_test['ID']\n",
    "X_test_ = base_test[base_test.columns[1:len(base_test)]]\n"
   ],
   "metadata": {
    "collapsed": false,
    "pycharm": {
     "name": "#%%\n"
    }
   }
  },
  {
   "cell_type": "code",
   "execution_count": 3885,
   "outputs": [],
   "source": [
    "# 归一化\n",
    "X_test_ = X_test_.apply(lambda x:(x-x.min())/(x.max()-x.min()))\n",
    "\n",
    "y_test_pred = model.predict(X_test_)\n",
    "\n",
    "dataframe = pd.DataFrame({'ID':ID,'17年净利润':y_test_pred})\n",
    "dataframe.to_csv('result.txt',index=False,sep=',')"
   ],
   "metadata": {
    "collapsed": false,
    "pycharm": {
     "name": "#%%\n"
    }
   }
  }
 ],
 "metadata": {
  "kernelspec": {
   "display_name": "Python 3",
   "language": "python",
   "name": "python3"
  },
  "language_info": {
   "codemirror_mode": {
    "name": "ipython",
    "version": 2
   },
   "file_extension": ".py",
   "mimetype": "text/x-python",
   "name": "python",
   "nbconvert_exporter": "python",
   "pygments_lexer": "ipython2",
   "version": "2.7.6"
  }
 },
 "nbformat": 4,
 "nbformat_minor": 0
}