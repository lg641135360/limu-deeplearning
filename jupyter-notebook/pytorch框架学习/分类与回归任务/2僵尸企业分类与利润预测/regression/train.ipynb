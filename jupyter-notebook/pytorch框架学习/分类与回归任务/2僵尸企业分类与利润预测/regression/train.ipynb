{
 "cells": [
  {
   "cell_type": "markdown",
   "metadata": {
    "collapsed": true,
    "pycharm": {
     "name": "#%% md\n"
    }
   },
   "source": [
    "#### 训练与预测过程\n",
    "使用支持向量机回归SVR算法进行预测"
   ]
  },
  {
   "cell_type": "code",
   "execution_count": 4,
   "metadata": {
    "pycharm": {
     "name": "#%%\n"
    }
   },
   "outputs": [
    {
     "name": "stdout",
     "output_type": "stream",
     "text": [
      "(16321, 45) (4068, 45)\n"
     ]
    },
    {
     "data": {
      "text/plain": "-0.1269470909980812"
     },
     "execution_count": 4,
     "metadata": {},
     "output_type": "execute_result"
    }
   ],
   "source": [
    "import pandas as pd\n",
    "import numpy as np\n",
    "\n",
    "# 1. 数据导入\n",
    "train = pd.read_csv('tables/train.csv',engine='python',encoding='utf8')\n",
    "test = pd.read_csv('tables/test.csv',engine='python',encoding='utf8')\n",
    "\n",
    "# 2. 获取训练数据和标签\n",
    "X_train_data = train.drop(columns=['债权融资额度_17','债权融资成本_17','股权融资额度_17','股权融资成本_17',\n",
    "                                   '内部融资和贸易融资额度_17','内部融资和贸易融资成本_17','项目融资和政策融资额度_17',\n",
    "                                   '项目融资和政策融资成本_17','从业人数_17','资产总额_17','负债总额_17','营业总收入_17',\n",
    "                                   '主营业务收入_17','利润总额_17','净利润_17','纳税总额_17','所有者权益合计_17'])\n",
    "y_train_data = train['净利润_17']\n",
    "\n",
    "print(X_train_data.shape,test.shape)\n",
    "\n",
    "# 数据切分 查看训练集上的准确度\n",
    "from sklearn.model_selection import train_test_split\n",
    "X_train,X_test,y_train,y_test = train_test_split(X_train_data,y_train_data,test_size=0.4)\n",
    "\n",
    "\n",
    "# 数据标准化\n",
    "# from sklearn.preprocessing import StandardScaler\n",
    "# sc = StandardScaler()\n",
    "# ## 估算训练数据中的mu和sigma\n",
    "# sc.fit(X_train_data)\n",
    "# ## 使用训练数据中的mu和sigma对数据进行标准化\n",
    "# X_train_std = sc.transform(X_train_data)\n",
    "# X_test_std = sc.transform(test)\n",
    "\n",
    "#### 使用支持向量机回归SVR算法进行预测  随机森林 决策树\n",
    "from sklearn.svm import SVR\n",
    "import matplotlib.pyplot as plt\n",
    "# svr_rbf = SVR(kernel='rbf',C=1)\n",
    "# svr_lin = SVR(kernel='linear',C=1)\n",
    "svr_poly = SVR(kernel='poly',C=1,degree=2)\n",
    "# y_rbf = svr_rbf.fit(X_train_data,y_train_data).predict(test)\n",
    "# y_lin = svr_lin.fit(X_train_data,y_train_data).predict(test)\n",
    "# y_ploy = svr_poly.fit(X_train,y_train).predict(X_test)\n",
    "svr_poly.fit(X_train,y_train)\n",
    "ID = test['ID']\n",
    "svr_poly.score(X_test,y_test)\n",
    "\n",
    "# dataframe = pd.DataFrame({'ID':ID,'17年净利润':y_ploy})\n",
    "# dataframe.to_csv('result.txt',index=False,sep=',')\n",
    "\n",
    "\n"
   ]
  }
 ],
 "metadata": {
  "kernelspec": {
   "display_name": "Python 3",
   "language": "python",
   "name": "python3"
  },
  "language_info": {
   "codemirror_mode": {
    "name": "ipython",
    "version": 3
   },
   "file_extension": ".py",
   "mimetype": "text/x-python",
   "name": "python",
   "nbconvert_exporter": "python",
   "pygments_lexer": "ipython3",
   "version": "3.6.13"
  }
 },
 "nbformat": 4,
 "nbformat_minor": 1
}