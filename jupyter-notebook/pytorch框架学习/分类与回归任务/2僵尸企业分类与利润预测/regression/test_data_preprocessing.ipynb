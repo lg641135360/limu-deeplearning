{
 "cells": [
  {
   "cell_type": "markdown",
   "source": [
    "#### 训练数据预处理\n",
    "1. 导入训练数据"
   ],
   "metadata": {
    "collapsed": false
   }
  },
  {
   "cell_type": "code",
   "execution_count": 15,
   "outputs": [],
   "source": [
    "import pandas as pd\n",
    "import numpy as np\n",
    "\n",
    "# 这里的编码类型可以用sublime打开查看左下角\n",
    "base_test = pd.read_csv('tables/base-test.csv',engine='python',encoding='utf8')\n",
    "knowledge_test = pd.read_csv('tables/knowledge-test.csv',engine='python',encoding='utf8')\n",
    "money_test = pd.read_csv('tables/money-test.csv',engine='python',encoding='gb2312')\n",
    "year_test = pd.read_csv('tables/year-test.csv',engine='python',encoding='gb2312')"
   ],
   "metadata": {
    "collapsed": false,
    "pycharm": {
     "name": "#%%\n"
    }
   }
  },
  {
   "cell_type": "markdown",
   "source": [
    "2. 处理base_test数据\n",
    "\n",
    "    2.1 讲中文属性编码\n",
    "\n",
    "    2.2 去除无关信息\n",
    "\n",
    "    2.3 缺失值处理（均值）"
   ],
   "metadata": {
    "collapsed": false
   }
  },
  {
   "cell_type": "code",
   "execution_count": 16,
   "outputs": [],
   "source": [
    "# 定义map字典\n",
    "map_industry = {'零售业':1,'服务业':2,'工业':3,'商业服务业':4,'社区服务':5,'交通运输业':6}\n",
    "map_type_enterprise = {'有限责任公司':10,'合伙企业':20,'股份有限公司':30,'农民专业合作社':40,'集体所有制企业':50}\n",
    "map_type_controller = {'自然人':10,'企业法人':20}\n",
    "# 2.1 给中文属性编码\n",
    "base_test['行业'] = base_test['行业'].map(map_industry)\n",
    "base_test['企业类型'] = base_test['企业类型'].map(map_type_enterprise)\n",
    "base_test['控制人类型'] = base_test['控制人类型'].map(map_type_controller)\n",
    "# 2.2 去除无关信息\n",
    "base_test_data = base_test.drop(columns=['区域'])\n",
    "# 2.3 缺失值补全（平均值）\n",
    "for column in list(base_test_data.columns[base_test_data.isnull().sum() > 0]):\n",
    "    a = base_test_data[column].mean()\n",
    "    base_test_data[column].fillna(a,inplace=True)"
   ],
   "metadata": {
    "collapsed": false,
    "pycharm": {
     "name": "#%%\n"
    }
   }
  },
  {
   "cell_type": "markdown",
   "source": [
    "3. 处理knowledge_test数据\n",
    "\n",
    "    3.1 缺失值处理(01数据类型，直接round四舍五入即可)\n"
   ],
   "metadata": {
    "collapsed": false
   }
  },
  {
   "cell_type": "code",
   "execution_count": 17,
   "outputs": [],
   "source": [
    "# 3.1 缺失值处理\n",
    "for column in list(knowledge_test.columns[knowledge_test.isnull().sum() > 0]):\n",
    "    a = round(knowledge_test[column].mean())\n",
    "    knowledge_test[column].fillna(a,inplace=True)\n"
   ],
   "metadata": {
    "collapsed": false,
    "pycharm": {
     "name": "#%%\n"
    }
   }
  },
  {
   "cell_type": "markdown",
   "source": [
    "4. 处理money_test和year_test数据\n",
    "\n",
    "    4.1 根据ID和year两个属性合并两个数据集\n",
    "\n",
    "    4.2 提取15、16和17年的数据\n",
    "\n",
    "    4.3 将15、16和17的数据合并成一张表"
   ],
   "metadata": {
    "collapsed": false
   }
  },
  {
   "cell_type": "code",
   "execution_count": 18,
   "outputs": [],
   "source": [
    "# 4.1 根据ID和year两个属性合并两个数据集\n",
    "money_year_test = pd.merge(money_test,year_test,on=['ID','year'])\n",
    "# 4.2 提取15、16和17年的数据\n",
    "money_year_test_15 = money_year_test.loc[money_year_test['year']==2015].add_suffix('_15')\n",
    "money_year_test_15.rename(columns={'ID_15':'ID','year_15':'year'},inplace=True)\n",
    "money_year_test_16 = money_year_test.loc[money_year_test['year']==2016].add_suffix('_16')\n",
    "money_year_test_16.rename(columns={'ID_16':'ID','year_16':'year'},inplace=True)\n",
    "# 4.3 合并三年的数据\n",
    "money_year_test_1516=pd.merge(money_year_test_15,money_year_test_16,on='ID')"
   ],
   "metadata": {
    "collapsed": false,
    "pycharm": {
     "name": "#%%\n"
    }
   }
  },
  {
   "cell_type": "markdown",
   "source": [
    "5. 整合所有的表\n",
    "\n",
    "    5.1 将base和knowledge表连接起来(采用内连接)\n",
    "\n",
    "    5.2 将所有表连接\n",
    "\n",
    "    5.3 去除多余的属性（year_x,year_y,year）\n",
    "\n",
    "    5.4 填充缺失值（平均值）"
   ],
   "metadata": {
    "collapsed": false
   }
  },
  {
   "cell_type": "code",
   "execution_count": 19,
   "outputs": [],
   "source": [
    "# 5.1 将base和knowledge表连接起来(采用内连接)\n",
    "base_knowledge_test = pd.merge(base_test_data,knowledge_test,on='ID',how='inner')\n",
    "# 5.2 将所有表连接\n",
    "test_data = pd.merge(money_year_test_1516,base_knowledge_test,on='ID')\n",
    "# 5.3 去除多余的属性（year_x,year_y,year）\n",
    "test_data = test_data.drop(columns=['year_x','year_y'])\n",
    "# 5.4 填充缺失值（平均值）\n",
    "for column in list(test_data.columns[test_data.isnull().sum() > 0]):\n",
    "    a = int(test_data[column].mean())\n",
    "    test_data[column].fillna(a,inplace=True)\n",
    "# 最终的训练数据\n",
    "test_data.to_csv('tables/test.csv')"
   ],
   "metadata": {
    "collapsed": false,
    "pycharm": {
     "name": "#%%\n"
    }
   }
  }
 ],
 "metadata": {
  "kernelspec": {
   "display_name": "Python 3",
   "language": "python",
   "name": "python3"
  },
  "language_info": {
   "codemirror_mode": {
    "name": "ipython",
    "version": 2
   },
   "file_extension": ".py",
   "mimetype": "text/x-python",
   "name": "python",
   "nbconvert_exporter": "python",
   "pygments_lexer": "ipython2",
   "version": "2.7.6"
  }
 },
 "nbformat": 4,
 "nbformat_minor": 0
}