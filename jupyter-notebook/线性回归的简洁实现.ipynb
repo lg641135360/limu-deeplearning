{
 "cells": [
  {
   "cell_type": "markdown",
   "id": "7646c7e9",
   "metadata": {},
   "source": [
    "#### 通过使用深度学习框架来简洁实现  线性回归模型  生成数据集"
   ]
  },
  {
   "cell_type": "code",
   "execution_count": 1,
   "id": "04dff261",
   "metadata": {},
   "outputs": [],
   "source": [
    "import numpy as np\n",
    "import torch\n",
    "from torch.utils import data\n",
    "from d2l import torch as d2l\n",
    "\n",
    "true_w=torch.tensor([2,-3.4])\n",
    "true_b=4.2\n",
    "features,labels=d2l.synthetic_data(true_w,true_b,1000)"
   ]
  },
  {
   "cell_type": "markdown",
   "id": "a70c4da1",
   "metadata": {},
   "source": [
    "\n",
    "#### 调用框架中现有的API来读取数据"
   ]
  },
  {
   "cell_type": "code",
   "execution_count": 2,
   "id": "34c6097d",
   "metadata": {},
   "outputs": [
    {
     "data": {
      "text/plain": [
       "[tensor([[-0.4939, -0.8643],\n",
       "         [-1.3224,  2.4071],\n",
       "         [ 0.9919,  0.1928],\n",
       "         [ 0.8697,  0.9612],\n",
       "         [ 0.8681,  0.0336],\n",
       "         [-0.1123, -0.1200],\n",
       "         [-0.1311, -0.1418],\n",
       "         [ 2.0302, -1.3842],\n",
       "         [ 0.4837,  0.1921],\n",
       "         [-0.0527,  1.3166]]),\n",
       " tensor([[ 6.1482],\n",
       "         [-6.6195],\n",
       "         [ 5.5190],\n",
       "         [ 2.6510],\n",
       "         [ 5.8363],\n",
       "         [ 4.3633],\n",
       "         [ 4.3978],\n",
       "         [12.9664],\n",
       "         [ 4.5064],\n",
       "         [-0.3834]])]"
      ]
     },
     "execution_count": 2,
     "metadata": {},
     "output_type": "execute_result"
    }
   ],
   "source": [
    "def load_array(data_arrays, batch_size, is_train=True):  \n",
    "    \"\"\"构造一个PyTorch数据迭代器。\"\"\"\n",
    "    # 将特征和标签作为一个list传入tensor的dataset中\n",
    "    dataset = data.TensorDataset(*data_arrays)\n",
    "    # 调用dataloader函数，每次随机挑选b个样本出来\n",
    "    return data.DataLoader(dataset, batch_size, shuffle=is_train)\n",
    "\n",
    "batch_size = 10\n",
    "data_iter = load_array((features, labels), batch_size)\n",
    "\n",
    "# 得到X和y\n",
    "next(iter(data_iter))"
   ]
  },
  {
   "cell_type": "markdown",
   "id": "0ff603fe",
   "metadata": {},
   "source": [
    "#### 使用框架预先定义好的层"
   ]
  },
  {
   "cell_type": "code",
   "execution_count": 3,
   "id": "c5590cef",
   "metadata": {},
   "outputs": [],
   "source": [
    "from torch import nn\n",
    "# list of layers = Sequentials按顺序排列好的层\n",
    "net = nn.Sequential(nn.Linear(2, 1)) # 输入维度2，输出维度1"
   ]
  },
  {
   "cell_type": "markdown",
   "id": "f24dded2",
   "metadata": {},
   "source": [
    "#### 初始化模型参数"
   ]
  },
  {
   "cell_type": "code",
   "execution_count": 5,
   "id": "97a5b081",
   "metadata": {},
   "outputs": [
    {
     "data": {
      "text/plain": [
       "tensor([0.])"
      ]
     },
     "execution_count": 5,
     "metadata": {},
     "output_type": "execute_result"
    }
   ],
   "source": [
    "# net可以通过下标0访问到第一层（线性回归层）\n",
    "net[0].weight.data.normal_(0,0.01) # 使用正态分布来替换weight的值\n",
    "net[0].bias.data.fill_(0)"
   ]
  },
  {
   "cell_type": "markdown",
   "id": "01c7d423",
   "metadata": {},
   "source": [
    "#### 计算均方误差使用的是MSELoss类，平方 $L_2$ 范数"
   ]
  },
  {
   "cell_type": "code",
   "execution_count": 6,
   "id": "52409c04",
   "metadata": {},
   "outputs": [],
   "source": [
    "loss=nn.MSELoss()"
   ]
  },
  {
   "cell_type": "markdown",
   "id": "0c702c78",
   "metadata": {},
   "source": [
    "#### 实例化SGD实例"
   ]
  },
  {
   "cell_type": "code",
   "execution_count": 7,
   "id": "d7deafaf",
   "metadata": {},
   "outputs": [],
   "source": [
    "trainer=torch.optim.SGD(net.parameters(),lr=0.03)"
   ]
  },
  {
   "cell_type": "markdown",
   "id": "b5b8479d",
   "metadata": {},
   "source": [
    "#### 训练代码与之前类似"
   ]
  },
  {
   "cell_type": "code",
   "execution_count": 20,
   "id": "ba7b3e70",
   "metadata": {},
   "outputs": [
    {
     "name": "stdout",
     "output_type": "stream",
     "text": [
      "epoch1,loss0.000109\n",
      "epoch2,loss0.000109\n",
      "epoch3,loss0.000109\n"
     ]
    }
   ],
   "source": [
    "num_epochs=3\n",
    "for epoch in range(num_epochs):\n",
    "    for X,y in data_iter:\n",
    "        # 拿出层里面的数据计算loss\n",
    "        l = loss(net(X),y)\n",
    "        # 梯度清零\n",
    "        trainer.zero_grad()\n",
    "        # 计算梯度，自动求sum，不需要自己去sum\n",
    "        l.backward()\n",
    "        # 模型更新\n",
    "        trainer.step()\n",
    "    # 扫完一遍数据之后，将所有features放到net中，跟所有的labels做一次loss并且打印比较结果\n",
    "    l = loss(net(features),labels)\n",
    "    print(f'epoch{epoch+1},loss{l:f}')"
   ]
  }
 ],
 "metadata": {
  "kernelspec": {
   "display_name": "Python 3",
   "language": "python",
   "name": "python3"
  },
  "language_info": {
   "codemirror_mode": {
    "name": "ipython",
    "version": 3
   },
   "file_extension": ".py",
   "mimetype": "text/x-python",
   "name": "python",
   "nbconvert_exporter": "python",
   "pygments_lexer": "ipython3",
   "version": "3.8.8"
  }
 },
 "nbformat": 4,
 "nbformat_minor": 5
}
